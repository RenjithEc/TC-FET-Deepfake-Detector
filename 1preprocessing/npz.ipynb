{
 "cells": [
  {
   "cell_type": "code",
   "execution_count": 6,
   "metadata": {},
   "outputs": [
    {
     "name": "stdout",
     "output_type": "stream",
     "text": [
      "File list saved to file_list.txt\n"
     ]
    }
   ],
   "source": [
    "import os\n",
    "\n",
    "def list_files(directory, output_file):\n",
    "    with open(output_file, \"w\", encoding=\"utf-8\") as f:\n",
    "        for root, _, files in os.walk(directory):\n",
    "            for file in files:\n",
    "                file_path = os.path.join(root, file)\n",
    "                f.write(file_path + \"\\n\")\n",
    "\n",
    "# Example usage\n",
    "directory_path = \"E:/dataset/happy/\"\n",
    "output_file = \"file_list.txt\"\n",
    "list_files(directory_path, output_file)\n",
    "\n",
    "print(f\"File list saved to {output_file}\")\n"
   ]
  },
  {
   "cell_type": "code",
   "execution_count": 7,
   "metadata": {},
   "outputs": [
    {
     "name": "stdout",
     "output_type": "stream",
     "text": [
      "✅ Face images: 955\n",
      "✅ Optical Flow images: 954\n",
      "✅ Edge images: 954\n"
     ]
    }
   ],
   "source": [
    "import os\n",
    "\n",
    "# Define your dataset paths\n",
    "output_real_faces = \"E:/dataset/happy/real\"\n",
    "output_optical_flow = \"E:/dataset/happy/optical_flow\"\n",
    "output_edges = \"E:/dataset/happy/edges\"\n",
    "\n",
    "# Check number of files in each folder\n",
    "face_files = len([f for f in os.listdir(output_real_faces) if f.endswith(\".jpg\")])\n",
    "flow_files = len([f for f in os.listdir(output_optical_flow) if f.endswith(\".jpg\")])\n",
    "edge_files = len([f for f in os.listdir(output_edges) if f.endswith(\".jpg\")])\n",
    "\n",
    "print(f\"✅ Face images: {face_files}\")\n",
    "print(f\"✅ Optical Flow images: {flow_files}\")\n",
    "print(f\"✅ Edge images: {edge_files}\")\n"
   ]
  },
  {
   "cell_type": "code",
   "execution_count": 8,
   "metadata": {},
   "outputs": [
    {
     "name": "stdout",
     "output_type": "stream",
     "text": [
      "❌ Missing Optical Flow for: {'camera_leftfront_M004_light_up_happy_camera_leftfront.mp4_frame57_face0'}\n",
      "❌ Missing Edge Map for: {'camera_leftfront_M004_light_up_happy_camera_leftfront.mp4_frame57_face0'}\n"
     ]
    }
   ],
   "source": [
    "import os\n",
    "\n",
    "# Paths\n",
    "output_real_faces = \"E:/dataset/happy/real\"\n",
    "output_optical_flow = \"E:/dataset/happy/optical_flow\"\n",
    "output_edges = \"E:/dataset/happy/edges\"\n",
    "\n",
    "# Get file lists without extensions\n",
    "face_files = {f.replace(\".jpg\", \"\") for f in os.listdir(output_real_faces) if f.endswith(\".jpg\")}\n",
    "flow_files = {f.replace(\"_flow.jpg\", \"\") for f in os.listdir(output_optical_flow) if f.endswith(\".jpg\")}\n",
    "edge_files = {f.replace(\"_edges.jpg\", \"\") for f in os.listdir(output_edges) if f.endswith(\".jpg\")}\n",
    "\n",
    "# Find missing files\n",
    "missing_flow = face_files - flow_files\n",
    "missing_edge = face_files - edge_files\n",
    "\n",
    "print(f\"❌ Missing Optical Flow for: {missing_flow}\")\n",
    "print(f\"❌ Missing Edge Map for: {missing_edge}\")\n"
   ]
  },
  {
   "cell_type": "code",
   "execution_count": 4,
   "metadata": {},
   "outputs": [
    {
     "name": "stdout",
     "output_type": "stream",
     "text": [
      "🔄 Starting to load precomputed datasets...\n",
      "\n",
      "\n",
      "🔄 Loading data from: E:/dataset/happy/real (Label: 0) - Filtering for ''\n"
     ]
    },
    {
     "name": "stderr",
     "output_type": "stream",
     "text": [
      "Processing E:/dataset/happy/real [0/239]: 100%|██████████| 239/239 [00:00<00:00, 2861.69img/s]"
     ]
    },
    {
     "name": "stdout",
     "output_type": "stream",
     "text": [
      "❌ Missing Optical Flow, Edge Map for camera_front_M004_light_up_happy_camera_front.mp4_frame165_face0.jpg\n",
      "❌ Missing Optical Flow, Edge Map for camera_front_M004_light_up_happy_camera_front.mp4_frame45_face0.jpg\n",
      "❌ Missing Optical Flow, Edge Map for camera_front_M004_light_up_happy_camera_front.mp4_frame207_face0.jpg\n",
      "❌ Missing Optical Flow, Edge Map for camera_front_M004_light_up_happy_camera_front.mp4_frame127_face0.jpg\n",
      "❌ Missing Optical Flow, Edge Map for camera_front_M004_light_up_happy_camera_front.mp4_frame159_face0.jpg\n",
      "❌ Missing Optical Flow, Edge Map for camera_right_M004_light_up_happy_camera_right.mp4_frame42_face0.jpg\n",
      "❌ Missing Optical Flow, Edge Map for camera_front_M004_light_up_happy_camera_front.mp4_frame120_face0.jpg\n",
      "❌ Missing Optical Flow, Edge Map for camera_right_M004_light_up_happy_camera_right.mp4_frame14_face0.jpg\n",
      "❌ Missing Optical Flow, Edge Map for camera_front_M004_light_up_happy_camera_front.mp4_frame68_face0.jpg\n",
      "❌ Missing Optical Flow, Edge Map for camera_front_M004_light_up_happy_camera_front.mp4_frame129_face0.jpg\n",
      "❌ Missing Optical Flow, Edge Map for camera_front_M004_light_up_happy_camera_front.mp4_frame154_face0.jpg\n",
      "❌ Missing Optical Flow, Edge Map for camera_front_M004_light_up_happy_camera_front.mp4_frame208_face0.jpg\n",
      "❌ Missing Optical Flow, Edge Map for camera_front_M004_light_up_happy_camera_front.mp4_frame83_face0.jpg\n",
      "❌ Missing Optical Flow, Edge Map for camera_front_M004_light_up_happy_camera_front.mp4_frame90_face0.jpg\n",
      "❌ Missing Optical Flow, Edge Map for camera_front_M004_light_up_happy_camera_front.mp4_frame85_face0.jpg\n",
      "❌ Missing Optical Flow, Edge Map for camera_front_M004_light_up_happy_camera_front.mp4_frame42_face0.jpg\n",
      "❌ Missing Optical Flow, Edge Map for camera_front_M004_light_up_happy_camera_front.mp4_frame49_face0.jpg\n",
      "❌ Missing Optical Flow, Edge Map for camera_front_M004_light_up_happy_camera_front.mp4_frame3_face0.jpg\n",
      "❌ Missing Optical Flow, Edge Map for camera_front_M004_light_up_happy_camera_front.mp4_frame231_face0.jpg\n",
      "❌ Missing Optical Flow, Edge Map for camera_right_M004_light_up_happy_camera_right.mp4_frame11_face0.jpg\n",
      "❌ Missing Optical Flow, Edge Map for camera_front_M004_light_up_happy_camera_front.mp4_frame131_face0.jpg\n",
      "❌ Missing Optical Flow, Edge Map for camera_right_M004_light_up_happy_camera_right.mp4_frame4_face0.jpg\n",
      "❌ Missing Optical Flow, Edge Map for camera_front_M004_light_up_happy_camera_front.mp4_frame220_face0.jpg\n",
      "❌ Missing Optical Flow, Edge Map for camera_front_M004_light_up_happy_camera_front.mp4_frame84_face0.jpg\n",
      "❌ Missing Optical Flow, Edge Map for camera_front_M004_light_up_happy_camera_front.mp4_frame148_face0.jpg\n",
      "❌ Missing Optical Flow, Edge Map for camera_front_M004_light_up_happy_camera_front.mp4_frame107_face0.jpg\n",
      "❌ Missing Optical Flow, Edge Map for camera_right_M004_light_up_happy_camera_right.mp4_frame16_face0.jpg\n",
      "❌ Missing Optical Flow, Edge Map for camera_front_M004_light_up_happy_camera_front.mp4_frame112_face0.jpg\n",
      "❌ Missing Optical Flow, Edge Map for camera_front_M004_light_up_happy_camera_front.mp4_frame5_face0.jpg\n",
      "❌ Missing Optical Flow, Edge Map for camera_front_M004_light_up_happy_camera_front.mp4_frame133_face0.jpg\n",
      "❌ Missing Optical Flow, Edge Map for camera_front_M004_light_up_happy_camera_front.mp4_frame125_face0.jpg\n",
      "❌ Missing Optical Flow, Edge Map for camera_front_M004_light_up_happy_camera_front.mp4_frame219_face0.jpg\n",
      "❌ Missing Optical Flow, Edge Map for camera_front_M004_light_up_happy_camera_front.mp4_frame176_face0.jpg\n",
      "❌ Missing Optical Flow, Edge Map for camera_front_M004_light_up_happy_camera_front.mp4_frame56_face0.jpg\n",
      "❌ Missing Optical Flow, Edge Map for camera_front_M004_light_up_happy_camera_front.mp4_frame23_face0.jpg\n",
      "❌ Missing Optical Flow, Edge Map for camera_right_M004_light_up_happy_camera_right.mp4_frame17_face0.jpg\n",
      "❌ Missing Optical Flow, Edge Map for camera_front_M004_light_up_happy_camera_front.mp4_frame188_face0.jpg\n",
      "❌ Missing Optical Flow, Edge Map for camera_front_M004_light_up_happy_camera_front.mp4_frame118_face0.jpg\n",
      "❌ Missing Optical Flow, Edge Map for camera_front_M004_light_up_happy_camera_front.mp4_frame64_face0.jpg\n",
      "❌ Missing Optical Flow, Edge Map for camera_front_M004_light_up_happy_camera_front.mp4_frame55_face0.jpg\n",
      "❌ Missing Optical Flow, Edge Map for camera_front_M004_light_up_happy_camera_front.mp4_frame149_face0.jpg\n",
      "❌ Missing Optical Flow, Edge Map for camera_front_M004_light_up_happy_camera_front.mp4_frame184_face0.jpg\n",
      "❌ Missing Optical Flow, Edge Map for camera_front_M004_light_up_happy_camera_front.mp4_frame222_face0.jpg\n",
      "❌ Missing Optical Flow, Edge Map for camera_front_M004_light_up_happy_camera_front.mp4_frame92_face0.jpg\n",
      "❌ Missing Optical Flow, Edge Map for camera_front_M004_light_up_happy_camera_front.mp4_frame173_face0.jpg\n",
      "❌ Missing Optical Flow, Edge Map for camera_front_M004_light_up_happy_camera_front.mp4_frame102_face0.jpg\n",
      "❌ Missing Optical Flow, Edge Map for camera_front_M004_light_up_happy_camera_front.mp4_frame19_face0.jpg\n",
      "❌ Missing Optical Flow, Edge Map for camera_front_M004_light_up_happy_camera_front.mp4_frame33_face0.jpg\n",
      "❌ Missing Optical Flow, Edge Map for camera_front_M004_light_up_happy_camera_front.mp4_frame194_face0.jpg\n",
      "❌ Missing Optical Flow, Edge Map for camera_right_M004_light_up_happy_camera_right.mp4_frame19_face0.jpg\n",
      "❌ Missing Optical Flow, Edge Map for camera_front_M004_light_up_happy_camera_front.mp4_frame183_face0.jpg\n",
      "❌ Missing Optical Flow, Edge Map for camera_front_M004_light_up_happy_camera_front.mp4_frame186_face0.jpg\n",
      "❌ Missing Optical Flow, Edge Map for camera_right_M004_light_up_happy_camera_right.mp4_frame36_face0.jpg\n",
      "❌ Missing Optical Flow, Edge Map for camera_front_M004_light_up_happy_camera_front.mp4_frame67_face0.jpg\n",
      "❌ Missing Optical Flow, Edge Map for camera_front_M004_light_up_happy_camera_front.mp4_frame191_face0.jpg\n",
      "❌ Missing Optical Flow, Edge Map for camera_front_M004_light_up_happy_camera_front.mp4_frame215_face0.jpg\n",
      "❌ Missing Optical Flow, Edge Map for camera_front_M004_light_up_happy_camera_front.mp4_frame151_face0.jpg\n",
      "❌ Missing Optical Flow, Edge Map for camera_front_M004_light_up_happy_camera_front.mp4_frame22_face0.jpg\n",
      "❌ Missing Optical Flow, Edge Map for camera_front_M004_light_up_happy_camera_front.mp4_frame145_face0.jpg\n",
      "❌ Missing Optical Flow, Edge Map for camera_front_M004_light_up_happy_camera_front.mp4_frame137_face0.jpg\n",
      "❌ Missing Optical Flow, Edge Map for camera_right_M004_light_up_happy_camera_right.mp4_frame0_face0.jpg\n",
      "❌ Missing Optical Flow, Edge Map for camera_front_M004_light_up_happy_camera_front.mp4_frame179_face0.jpg\n",
      "❌ Missing Optical Flow, Edge Map for camera_front_M004_light_up_happy_camera_front.mp4_frame126_face0.jpg\n",
      "❌ Missing Optical Flow, Edge Map for camera_front_M004_light_up_happy_camera_front.mp4_frame224_face0.jpg\n",
      "❌ Missing Optical Flow, Edge Map for camera_front_M004_light_up_happy_camera_front.mp4_frame28_face0.jpg\n",
      "❌ Missing Optical Flow, Edge Map for camera_front_M004_light_up_happy_camera_front.mp4_frame158_face0.jpg\n",
      "❌ Missing Optical Flow, Edge Map for camera_front_M004_light_up_happy_camera_front.mp4_frame157_face0.jpg\n",
      "❌ Missing Optical Flow, Edge Map for camera_front_M004_light_up_happy_camera_front.mp4_frame197_face0.jpg\n",
      "❌ Missing Optical Flow, Edge Map for camera_front_M004_light_up_happy_camera_front.mp4_frame77_face0.jpg\n",
      "❌ Missing Optical Flow, Edge Map for camera_front_M004_light_up_happy_camera_front.mp4_frame168_face0.jpg\n",
      "❌ Missing Optical Flow, Edge Map for camera_front_M004_light_up_happy_camera_front.mp4_frame115_face0.jpg\n",
      "❌ Missing Optical Flow, Edge Map for camera_front_M004_light_up_happy_camera_front.mp4_frame79_face0.jpg\n",
      "❌ Missing Optical Flow, Edge Map for camera_front_M004_light_up_happy_camera_front.mp4_frame29_face0.jpg\n",
      "❌ Missing Optical Flow, Edge Map for camera_front_M004_light_up_happy_camera_front.mp4_frame66_face0.jpg\n",
      "❌ Missing Optical Flow, Edge Map for camera_front_M004_light_up_happy_camera_front.mp4_frame166_face0.jpg\n",
      "❌ Missing Optical Flow, Edge Map for camera_front_M004_light_up_happy_camera_front.mp4_frame89_face0.jpg\n",
      "❌ Missing Optical Flow, Edge Map for camera_front_M004_light_up_happy_camera_front.mp4_frame182_face0.jpg\n",
      "❌ Missing Optical Flow, Edge Map for camera_right_M004_light_up_happy_camera_right.mp4_frame7_face0.jpg\n",
      "❌ Missing Optical Flow, Edge Map for camera_front_M004_light_up_happy_camera_front.mp4_frame218_face0.jpg\n",
      "❌ Missing Optical Flow, Edge Map for camera_front_M004_light_up_happy_camera_front.mp4_frame50_face0.jpg\n",
      "❌ Missing Optical Flow, Edge Map for camera_front_M004_light_up_happy_camera_front.mp4_frame204_face0.jpg\n",
      "❌ Missing Optical Flow, Edge Map for camera_front_M004_light_up_happy_camera_front.mp4_frame150_face0.jpg\n",
      "❌ Missing Optical Flow, Edge Map for camera_front_M004_light_up_happy_camera_front.mp4_frame160_face0.jpg\n",
      "❌ Missing Optical Flow, Edge Map for camera_right_M004_light_up_happy_camera_right.mp4_frame26_face0.jpg\n",
      "❌ Missing Optical Flow, Edge Map for camera_right_M004_light_up_happy_camera_right.mp4_frame33_face0.jpg\n",
      "❌ Missing Optical Flow, Edge Map for camera_front_M004_light_up_happy_camera_front.mp4_frame236_face0.jpg\n",
      "❌ Missing Optical Flow, Edge Map for camera_front_M004_light_up_happy_camera_front.mp4_frame108_face0.jpg\n",
      "❌ Missing Optical Flow, Edge Map for camera_front_M004_light_up_happy_camera_front.mp4_frame63_face0.jpg\n",
      "❌ Missing Optical Flow, Edge Map for camera_front_M004_light_up_happy_camera_front.mp4_frame81_face0.jpg\n",
      "❌ Missing Optical Flow, Edge Map for camera_front_M004_light_up_happy_camera_front.mp4_frame86_face0.jpg\n",
      "❌ Missing Optical Flow, Edge Map for camera_right_M004_light_up_happy_camera_right.mp4_frame13_face0.jpg\n",
      "❌ Missing Optical Flow, Edge Map for camera_front_M004_light_up_happy_camera_front.mp4_frame43_face0.jpg\n",
      "❌ Missing Optical Flow, Edge Map for camera_right_M004_light_up_happy_camera_right.mp4_frame22_face0.jpg\n",
      "❌ Missing Optical Flow, Edge Map for camera_front_M004_light_up_happy_camera_front.mp4_frame124_face0.jpg\n",
      "❌ Missing Optical Flow, Edge Map for camera_front_M004_light_up_happy_camera_front.mp4_frame223_face0.jpg\n",
      "❌ Missing Optical Flow, Edge Map for camera_right_M004_light_up_happy_camera_right.mp4_frame35_face0.jpg\n",
      "❌ Missing Optical Flow, Edge Map for camera_front_M004_light_up_happy_camera_front.mp4_frame105_face0.jpg\n",
      "❌ Missing Optical Flow, Edge Map for camera_front_M004_light_up_happy_camera_front.mp4_frame80_face0.jpg\n",
      "❌ Missing Optical Flow, Edge Map for camera_front_M004_light_up_happy_camera_front.mp4_frame230_face0.jpg\n",
      "❌ Missing Optical Flow, Edge Map for camera_front_M004_light_up_happy_camera_front.mp4_frame87_face0.jpg\n",
      "❌ Missing Optical Flow, Edge Map for camera_front_M004_light_up_happy_camera_front.mp4_frame190_face0.jpg\n",
      "❌ Missing Optical Flow, Edge Map for camera_front_M004_light_up_happy_camera_front.mp4_frame38_face0.jpg\n",
      "❌ Missing Optical Flow, Edge Map for camera_right_M004_light_up_happy_camera_right.mp4_frame23_face0.jpg\n",
      "❌ Missing Optical Flow, Edge Map for camera_right_M004_light_up_happy_camera_right.mp4_frame44_face0.jpg\n",
      "❌ Missing Optical Flow, Edge Map for camera_front_M004_light_up_happy_camera_front.mp4_frame216_face0.jpg\n",
      "❌ Missing Optical Flow, Edge Map for camera_front_M004_light_up_happy_camera_front.mp4_frame95_face0.jpg\n",
      "❌ Missing Optical Flow, Edge Map for camera_front_M004_light_up_happy_camera_front.mp4_frame17_face0.jpg\n",
      "❌ Missing Optical Flow, Edge Map for camera_front_M004_light_up_happy_camera_front.mp4_frame139_face0.jpg\n",
      "❌ Missing Optical Flow, Edge Map for camera_right_M004_light_up_happy_camera_right.mp4_frame5_face0.jpg\n",
      "❌ Missing Optical Flow, Edge Map for camera_front_M004_light_up_happy_camera_front.mp4_frame203_face0.jpg\n",
      "❌ Missing Optical Flow, Edge Map for camera_right_M004_light_up_happy_camera_right.mp4_frame30_face0.jpg\n",
      "❌ Missing Optical Flow, Edge Map for camera_front_M004_light_up_happy_camera_front.mp4_frame76_face0.jpg\n",
      "❌ Missing Optical Flow, Edge Map for camera_front_M004_light_up_happy_camera_front.mp4_frame185_face0.jpg\n",
      "❌ Missing Optical Flow, Edge Map for camera_front_M004_light_up_happy_camera_front.mp4_frame117_face0.jpg\n",
      "❌ Missing Optical Flow, Edge Map for camera_front_M004_light_up_happy_camera_front.mp4_frame180_face0.jpg\n",
      "❌ Missing Optical Flow, Edge Map for camera_front_M004_light_up_happy_camera_front.mp4_frame136_face0.jpg\n",
      "❌ Missing Optical Flow, Edge Map for camera_right_M004_light_up_happy_camera_right.mp4_frame1_face0.jpg\n",
      "❌ Missing Optical Flow, Edge Map for camera_front_M004_light_up_happy_camera_front.mp4_frame225_face0.jpg\n",
      "❌ Missing Optical Flow, Edge Map for camera_front_M004_light_up_happy_camera_front.mp4_frame94_face0.jpg\n",
      "❌ Missing Optical Flow, Edge Map for camera_front_M004_light_up_happy_camera_front.mp4_frame170_face0.jpg\n",
      "❌ Missing Optical Flow, Edge Map for camera_front_M004_light_up_happy_camera_front.mp4_frame106_face0.jpg\n",
      "❌ Missing Optical Flow, Edge Map for camera_front_M004_light_up_happy_camera_front.mp4_frame20_face0.jpg\n",
      "❌ Missing Optical Flow, Edge Map for camera_front_M004_light_up_happy_camera_front.mp4_frame71_face0.jpg\n",
      "❌ Missing Optical Flow, Edge Map for camera_right_M004_light_up_happy_camera_right.mp4_frame3_face0.jpg\n",
      "❌ Missing Optical Flow, Edge Map for camera_front_M004_light_up_happy_camera_front.mp4_frame238_face0.jpg\n",
      "❌ Missing Optical Flow, Edge Map for camera_front_M004_light_up_happy_camera_front.mp4_frame6_face0.jpg\n",
      "❌ Missing Optical Flow, Edge Map for camera_right_M004_light_up_happy_camera_right.mp4_frame31_face0.jpg\n",
      "❌ Missing Optical Flow, Edge Map for camera_front_M004_light_up_happy_camera_front.mp4_frame140_face0.jpg\n",
      "❌ Missing Optical Flow, Edge Map for camera_front_M004_light_up_happy_camera_front.mp4_frame104_face0.jpg\n",
      "❌ Missing Optical Flow, Edge Map for camera_front_M004_light_up_happy_camera_front.mp4_frame44_face0.jpg\n",
      "❌ Missing Optical Flow, Edge Map for camera_right_M004_light_up_happy_camera_right.mp4_frame29_face0.jpg\n",
      "❌ Missing Optical Flow, Edge Map for camera_right_M004_light_up_happy_camera_right.mp4_frame2_face0.jpg\n",
      "❌ Missing Optical Flow, Edge Map for camera_right_M004_light_up_happy_camera_right.mp4_frame25_face0.jpg\n",
      "❌ Missing Optical Flow, Edge Map for camera_front_M004_light_up_happy_camera_front.mp4_frame174_face0.jpg\n",
      "❌ Missing Optical Flow, Edge Map for camera_front_M004_light_up_happy_camera_front.mp4_frame199_face0.jpg\n",
      "❌ Missing Optical Flow, Edge Map for camera_front_M004_light_up_happy_camera_front.mp4_frame48_face0.jpg\n",
      "❌ Missing Optical Flow, Edge Map for camera_front_M004_light_up_happy_camera_front.mp4_frame138_face0.jpg\n",
      "❌ Missing Optical Flow, Edge Map for camera_front_M004_light_up_happy_camera_front.mp4_frame51_face0.jpg\n",
      "❌ Missing Optical Flow, Edge Map for camera_front_M004_light_up_happy_camera_front.mp4_frame91_face0.jpg\n",
      "❌ Missing Optical Flow, Edge Map for camera_front_M004_light_up_happy_camera_front.mp4_frame153_face0.jpg\n",
      "❌ Missing Optical Flow, Edge Map for camera_front_M004_light_up_happy_camera_front.mp4_frame99_face0.jpg\n",
      "❌ Missing Optical Flow, Edge Map for camera_front_M004_light_up_happy_camera_front.mp4_frame36_face0.jpg\n",
      "❌ Missing Optical Flow, Edge Map for camera_front_M004_light_up_happy_camera_front.mp4_frame212_face0.jpg\n",
      "❌ Missing Optical Flow, Edge Map for camera_front_M004_light_up_happy_camera_front.mp4_frame152_face0.jpg\n",
      "❌ Missing Optical Flow, Edge Map for camera_front_M004_light_up_happy_camera_front.mp4_frame206_face0.jpg\n",
      "❌ Missing Optical Flow, Edge Map for camera_front_M004_light_up_happy_camera_front.mp4_frame130_face0.jpg\n",
      "❌ Missing Optical Flow, Edge Map for camera_front_M004_light_up_happy_camera_front.mp4_frame82_face0.jpg\n",
      "❌ Missing Optical Flow, Edge Map for camera_front_M004_light_up_happy_camera_front.mp4_frame40_face0.jpg\n",
      "❌ Missing Optical Flow, Edge Map for camera_front_M004_light_up_happy_camera_front.mp4_frame27_face0.jpg\n",
      "❌ Missing Optical Flow, Edge Map for camera_front_M004_light_up_happy_camera_front.mp4_frame193_face0.jpg\n",
      "❌ Missing Optical Flow, Edge Map for camera_front_M004_light_up_happy_camera_front.mp4_frame189_face0.jpg\n",
      "❌ Missing Optical Flow, Edge Map for camera_front_M004_light_up_happy_camera_front.mp4_frame169_face0.jpg\n",
      "❌ Missing Optical Flow, Edge Map for camera_front_M004_light_up_happy_camera_front.mp4_frame100_face0.jpg\n",
      "❌ Missing Optical Flow, Edge Map for camera_front_M004_light_up_happy_camera_front.mp4_frame74_face0.jpg\n",
      "❌ Missing Optical Flow, Edge Map for camera_front_M004_light_up_happy_camera_front.mp4_frame132_face0.jpg\n",
      "❌ Missing Optical Flow, Edge Map for camera_front_M004_light_up_happy_camera_front.mp4_frame34_face0.jpg\n",
      "❌ Missing Optical Flow, Edge Map for camera_front_M004_light_up_happy_camera_front.mp4_frame59_face0.jpg\n",
      "❌ Missing Optical Flow, Edge Map for camera_right_M004_light_up_happy_camera_right.mp4_frame15_face0.jpg\n",
      "❌ Missing Optical Flow, Edge Map for camera_front_M004_light_up_happy_camera_front.mp4_frame141_face0.jpg\n",
      "❌ Missing Optical Flow, Edge Map for camera_front_M004_light_up_happy_camera_front.mp4_frame235_face0.jpg\n",
      "❌ Missing Optical Flow, Edge Map for camera_front_M004_light_up_happy_camera_front.mp4_frame210_face0.jpg\n",
      "❌ Missing Optical Flow, Edge Map for camera_front_M004_light_up_happy_camera_front.mp4_frame70_face0.jpg\n",
      "❌ Missing Optical Flow, Edge Map for camera_front_M004_light_up_happy_camera_front.mp4_frame31_face0.jpg\n",
      "❌ Missing Optical Flow, Edge Map for camera_front_M004_light_up_happy_camera_front.mp4_frame39_face0.jpg\n",
      "❌ Missing Optical Flow, Edge Map for camera_front_M004_light_up_happy_camera_front.mp4_frame122_face0.jpg\n",
      "❌ Missing Optical Flow, Edge Map for camera_right_M004_light_up_happy_camera_right.mp4_frame9_face0.jpg\n",
      "❌ Missing Optical Flow, Edge Map for camera_front_M004_light_up_happy_camera_front.mp4_frame164_face0.jpg\n",
      "❌ Missing Optical Flow, Edge Map for camera_front_M004_light_up_happy_camera_front.mp4_frame196_face0.jpg\n",
      "❌ Missing Optical Flow, Edge Map for camera_front_M004_light_up_happy_camera_front.mp4_frame171_face0.jpg\n",
      "❌ Missing Optical Flow, Edge Map for camera_front_M004_light_up_happy_camera_front.mp4_frame200_face0.jpg\n",
      "❌ Missing Optical Flow, Edge Map for camera_front_M004_light_up_happy_camera_front.mp4_frame25_face0.jpg\n",
      "❌ Missing Optical Flow, Edge Map for camera_front_M004_light_up_happy_camera_front.mp4_frame1_face0.jpg\n",
      "❌ Missing Optical Flow, Edge Map for camera_right_M004_light_up_happy_camera_right.mp4_frame21_face0.jpg\n",
      "❌ Missing Optical Flow, Edge Map for camera_front_M004_light_up_happy_camera_front.mp4_frame187_face0.jpg\n",
      "❌ Missing Optical Flow, Edge Map for camera_front_M004_light_up_happy_camera_front.mp4_frame60_face0.jpg\n",
      "❌ Missing Optical Flow, Edge Map for camera_front_M004_light_up_happy_camera_front.mp4_frame75_face0.jpg\n",
      "❌ Missing Optical Flow, Edge Map for camera_front_M004_light_up_happy_camera_front.mp4_frame181_face0.jpg\n",
      "❌ Missing Optical Flow, Edge Map for camera_front_M004_light_up_happy_camera_front.mp4_frame143_face0.jpg\n",
      "❌ Missing Optical Flow, Edge Map for camera_front_M004_light_up_happy_camera_front.mp4_frame9_face0.jpg\n",
      "❌ Missing Optical Flow, Edge Map for camera_front_M004_light_up_happy_camera_front.mp4_frame114_face0.jpg\n",
      "❌ Missing Optical Flow, Edge Map for camera_front_M004_light_up_happy_camera_front.mp4_frame113_face0.jpg\n",
      "❌ Missing Optical Flow, Edge Map for camera_front_M004_light_up_happy_camera_front.mp4_frame18_face0.jpg\n",
      "❌ Missing Optical Flow, Edge Map for camera_front_M004_light_up_happy_camera_front.mp4_frame52_face0.jpg\n",
      "❌ Missing Optical Flow, Edge Map for camera_front_M004_light_up_happy_camera_front.mp4_frame221_face0.jpg\n",
      "❌ Missing Optical Flow, Edge Map for camera_right_M004_light_up_happy_camera_right.mp4_frame8_face0.jpg\n",
      "❌ Missing Optical Flow, Edge Map for camera_front_M004_light_up_happy_camera_front.mp4_frame121_face0.jpg\n",
      "❌ Missing Optical Flow, Edge Map for camera_front_M004_light_up_happy_camera_front.mp4_frame93_face0.jpg\n",
      "❌ Missing Optical Flow, Edge Map for camera_front_M004_light_up_happy_camera_front.mp4_frame233_face0.jpg\n",
      "❌ Missing Optical Flow, Edge Map for camera_front_M004_light_up_happy_camera_front.mp4_frame226_face0.jpg\n",
      "❌ Missing Optical Flow, Edge Map for camera_front_M004_light_up_happy_camera_front.mp4_frame73_face0.jpg\n",
      "❌ Missing Optical Flow, Edge Map for camera_front_M004_light_up_happy_camera_front.mp4_frame228_face0.jpg\n",
      "❌ Missing Optical Flow, Edge Map for camera_front_M004_light_up_happy_camera_front.mp4_frame167_face0.jpg\n",
      "❌ Missing Optical Flow, Edge Map for camera_front_M004_light_up_happy_camera_front.mp4_frame161_face0.jpg\n",
      "❌ Missing Optical Flow, Edge Map for camera_front_M004_light_up_happy_camera_front.mp4_frame195_face0.jpg\n",
      "❌ Missing Optical Flow, Edge Map for camera_front_M004_light_up_happy_camera_front.mp4_frame178_face0.jpg\n",
      "❌ Missing Optical Flow, Edge Map for camera_front_M004_light_up_happy_camera_front.mp4_frame198_face0.jpg\n",
      "❌ Missing Optical Flow, Edge Map for camera_front_M004_light_up_happy_camera_front.mp4_frame177_face0.jpg\n",
      "❌ Missing Optical Flow, Edge Map for camera_front_M004_light_up_happy_camera_front.mp4_frame53_face0.jpg\n",
      "❌ Missing Optical Flow, Edge Map for camera_front_M004_light_up_happy_camera_front.mp4_frame111_face0.jpg\n",
      "❌ Missing Optical Flow, Edge Map for camera_front_M004_light_up_happy_camera_front.mp4_frame217_face0.jpg\n",
      "❌ Missing Optical Flow, Edge Map for camera_front_M004_light_up_happy_camera_front.mp4_frame14_face0.jpg\n",
      "❌ Missing Optical Flow, Edge Map for camera_front_M004_light_up_happy_camera_front.mp4_frame144_face0.jpg\n",
      "❌ Missing Optical Flow, Edge Map for camera_front_M004_light_up_happy_camera_front.mp4_frame24_face0.jpg\n",
      "❌ Missing Optical Flow, Edge Map for camera_front_M004_light_up_happy_camera_front.mp4_frame232_face0.jpg\n",
      "❌ Missing Optical Flow, Edge Map for camera_right_M004_light_up_happy_camera_right.mp4_frame37_face0.jpg\n",
      "❌ Missing Optical Flow, Edge Map for camera_front_M004_light_up_happy_camera_front.mp4_frame142_face0.jpg\n",
      "❌ Missing Optical Flow, Edge Map for camera_front_M004_light_up_happy_camera_front.mp4_frame15_face0.jpg\n",
      "❌ Missing Optical Flow, Edge Map for camera_front_M004_light_up_happy_camera_front.mp4_frame172_face0.jpg\n",
      "❌ Missing Optical Flow, Edge Map for camera_front_M004_light_up_happy_camera_front.mp4_frame213_face0.jpg\n",
      "❌ Missing Optical Flow, Edge Map for camera_front_M004_light_up_happy_camera_front.mp4_frame78_face0.jpg\n",
      "❌ Missing Optical Flow, Edge Map for camera_front_M004_light_up_happy_camera_front.mp4_frame211_face0.jpg\n",
      "❌ Missing Optical Flow, Edge Map for camera_front_M004_light_up_happy_camera_front.mp4_frame237_face0.jpg\n",
      "❌ Missing Optical Flow, Edge Map for camera_right_M004_light_up_happy_camera_right.mp4_frame28_face0.jpg\n",
      "❌ Missing Optical Flow, Edge Map for camera_front_M004_light_up_happy_camera_front.mp4_frame30_face0.jpg\n",
      "❌ Missing Optical Flow, Edge Map for camera_front_M004_light_up_happy_camera_front.mp4_frame0_face0.jpg\n",
      "❌ Missing Optical Flow, Edge Map for camera_front_M004_light_up_happy_camera_front.mp4_frame46_face0.jpg\n",
      "❌ Missing Optical Flow, Edge Map for camera_front_M004_light_up_happy_camera_front.mp4_frame8_face0.jpg\n",
      "❌ Missing Optical Flow, Edge Map for camera_right_M004_light_up_happy_camera_right.mp4_frame41_face0.jpg\n",
      "❌ Missing Optical Flow, Edge Map for camera_right_M004_light_up_happy_camera_right.mp4_frame12_face0.jpg\n",
      "❌ Missing Optical Flow, Edge Map for camera_right_M004_light_up_happy_camera_right.mp4_frame24_face0.jpg\n",
      "❌ Missing Optical Flow, Edge Map for camera_front_M004_light_up_happy_camera_front.mp4_frame4_face0.jpg\n",
      "❌ Missing Optical Flow, Edge Map for camera_front_M004_light_up_happy_camera_front.mp4_frame96_face0.jpg\n",
      "❌ Missing Optical Flow, Edge Map for camera_front_M004_light_up_happy_camera_front.mp4_frame62_face0.jpg\n",
      "❌ Missing Optical Flow, Edge Map for camera_front_M004_light_up_happy_camera_front.mp4_frame134_face0.jpg\n",
      "❌ Missing Optical Flow, Edge Map for camera_front_M004_light_up_happy_camera_front.mp4_frame7_face0.jpg\n",
      "❌ Missing Optical Flow, Edge Map for camera_front_M004_light_up_happy_camera_front.mp4_frame119_face0.jpg\n",
      "❌ Missing Optical Flow, Edge Map for camera_front_M004_light_up_happy_camera_front.mp4_frame227_face0.jpg\n",
      "❌ Missing Optical Flow, Edge Map for camera_front_M004_light_up_happy_camera_front.mp4_frame101_face0.jpg\n",
      "❌ Missing Optical Flow, Edge Map for camera_front_M004_light_up_happy_camera_front.mp4_frame10_face0.jpg\n",
      "❌ Missing Optical Flow, Edge Map for camera_front_M004_light_up_happy_camera_front.mp4_frame123_face0.jpg\n",
      "❌ Missing Optical Flow, Edge Map for camera_front_M004_light_up_happy_camera_front.mp4_frame110_face0.jpg\n",
      "❌ Missing Optical Flow, Edge Map for camera_right_M004_light_up_happy_camera_right.mp4_frame6_face0.jpg\n",
      "❌ Missing Optical Flow, Edge Map for camera_front_M004_light_up_happy_camera_front.mp4_frame97_face0.jpg\n",
      "❌ Missing Optical Flow, Edge Map for camera_front_M004_light_up_happy_camera_front.mp4_frame202_face0.jpg\n",
      "❌ Missing Optical Flow, Edge Map for camera_front_M004_light_up_happy_camera_front.mp4_frame234_face0.jpg\n",
      "❌ Missing Optical Flow, Edge Map for camera_front_M004_light_up_happy_camera_front.mp4_frame65_face0.jpg\n",
      "❌ Missing Optical Flow, Edge Map for camera_right_M004_light_up_happy_camera_right.mp4_frame34_face0.jpg\n",
      "❌ Missing Optical Flow, Edge Map for camera_front_M004_light_up_happy_camera_front.mp4_frame209_face0.jpg\n",
      "❌ Missing Optical Flow, Edge Map for camera_front_M004_light_up_happy_camera_front.mp4_frame16_face0.jpg\n",
      "⚠️ No valid samples found in E:/dataset/happy/real. Please check file names and paths!\n",
      "\n",
      "✅ Finished loading 0 images from E:/dataset/happy/real.\n",
      "\n",
      "\n",
      "🔄 Loading data from: E:/dataset/fake (Label: 1) - Filtering for ''\n"
     ]
    },
    {
     "name": "stderr",
     "output_type": "stream",
     "text": [
      "\n",
      "Processing E:/dataset/fake [0/239]:   0%|          | 1/239 [00:00<03:21,  1.18img/s]"
     ]
    },
    {
     "name": "stdout",
     "output_type": "stream",
     "text": [
      "❌ Missing Optical Flow, Edge Map for end_to_end_506_W134.mp4_frame92_face0.jpg\n"
     ]
    },
    {
     "name": "stderr",
     "output_type": "stream",
     "text": [
      "Processing E:/dataset/fake [0/239]:   1%|          | 2/239 [00:01<03:23,  1.16img/s]"
     ]
    },
    {
     "name": "stdout",
     "output_type": "stream",
     "text": [
      "❌ Missing Optical Flow, Edge Map for end_to_end_525_M101.mp4_frame75_face0.jpg\n"
     ]
    },
    {
     "name": "stderr",
     "output_type": "stream",
     "text": [
      "Processing E:/dataset/fake [0/239]:   1%|▏         | 3/239 [00:02<03:19,  1.18img/s]"
     ]
    },
    {
     "name": "stdout",
     "output_type": "stream",
     "text": [
      "❌ Missing Optical Flow, Edge Map for end_to_end_159_M005.mp4_frame284_face0.jpg\n"
     ]
    },
    {
     "name": "stderr",
     "output_type": "stream",
     "text": [
      "Processing E:/dataset/fake [0/239]:   2%|▏         | 4/239 [00:03<03:13,  1.22img/s]"
     ]
    },
    {
     "name": "stdout",
     "output_type": "stream",
     "text": [
      "❌ Missing Optical Flow, Edge Map for end_to_end_555_W040.mp4_frame82_face0.jpg\n"
     ]
    },
    {
     "name": "stderr",
     "output_type": "stream",
     "text": [
      "Processing E:/dataset/fake [0/239]:   2%|▏         | 5/239 [00:04<03:12,  1.21img/s]"
     ]
    },
    {
     "name": "stdout",
     "output_type": "stream",
     "text": [
      "❌ Missing Optical Flow, Edge Map for end_to_end_819_W135.mp4_frame766_face0.jpg\n"
     ]
    },
    {
     "name": "stderr",
     "output_type": "stream",
     "text": [
      "Processing E:/dataset/fake [0/239]:   3%|▎         | 6/239 [00:04<03:10,  1.22img/s]"
     ]
    },
    {
     "name": "stdout",
     "output_type": "stream",
     "text": [
      "❌ Missing Optical Flow, Edge Map for end_to_end_589_W112.mp4_frame174_face0.jpg\n"
     ]
    },
    {
     "name": "stderr",
     "output_type": "stream",
     "text": [
      "Processing E:/dataset/fake [0/239]:   3%|▎         | 7/239 [00:05<03:08,  1.23img/s]"
     ]
    },
    {
     "name": "stdout",
     "output_type": "stream",
     "text": [
      "❌ Missing Optical Flow, Edge Map for end_to_end_128_M124.mp4_frame487_face0.jpg\n"
     ]
    },
    {
     "name": "stderr",
     "output_type": "stream",
     "text": [
      "Processing E:/dataset/fake [0/239]:   3%|▎         | 8/239 [00:06<03:09,  1.22img/s]"
     ]
    },
    {
     "name": "stdout",
     "output_type": "stream",
     "text": [
      "❌ Missing Optical Flow, Edge Map for end_to_end_349_W131.mp4_frame344_face0.jpg\n"
     ]
    },
    {
     "name": "stderr",
     "output_type": "stream",
     "text": [
      "Processing E:/dataset/fake [0/239]:   4%|▍         | 9/239 [00:07<03:08,  1.22img/s]"
     ]
    },
    {
     "name": "stdout",
     "output_type": "stream",
     "text": [
      "❌ Missing Optical Flow, Edge Map for end_to_end_133_M132.mp4_frame545_face0.jpg\n"
     ]
    },
    {
     "name": "stderr",
     "output_type": "stream",
     "text": [
      "Processing E:/dataset/fake [0/239]:   4%|▍         | 10/239 [00:08<03:06,  1.23img/s]"
     ]
    },
    {
     "name": "stdout",
     "output_type": "stream",
     "text": [
      "❌ Missing Optical Flow, Edge Map for end_to_end_181_M007.mp4_frame184_face0.jpg\n"
     ]
    },
    {
     "name": "stderr",
     "output_type": "stream",
     "text": [
      "Processing E:/dataset/fake [0/239]:   5%|▍         | 11/239 [00:09<03:08,  1.21img/s]"
     ]
    },
    {
     "name": "stdout",
     "output_type": "stream",
     "text": [
      "❌ Missing Optical Flow, Edge Map for end_to_end_472_W028.mp4_frame389_face0.jpg\n"
     ]
    },
    {
     "name": "stderr",
     "output_type": "stream",
     "text": [
      "Processing E:/dataset/fake [0/239]:   5%|▌         | 12/239 [00:09<03:09,  1.20img/s]"
     ]
    },
    {
     "name": "stdout",
     "output_type": "stream",
     "text": [
      "❌ Missing Optical Flow, Edge Map for end_to_end_903_M029.mp4_frame221_face0.jpg\n"
     ]
    },
    {
     "name": "stderr",
     "output_type": "stream",
     "text": [
      "Processing E:/dataset/fake [0/239]:   5%|▌         | 13/239 [00:10<03:02,  1.24img/s]"
     ]
    },
    {
     "name": "stdout",
     "output_type": "stream",
     "text": [
      "✅ Successfully created sample: end_to_end_569_M115.mp4_frame1_face0.jpg\n"
     ]
    },
    {
     "name": "stderr",
     "output_type": "stream",
     "text": [
      "Processing E:/dataset/fake [0/239]:   6%|▌         | 14/239 [00:11<03:02,  1.23img/s]"
     ]
    },
    {
     "name": "stdout",
     "output_type": "stream",
     "text": [
      "❌ Missing Optical Flow, Edge Map for end_to_end_773_W028.mp4_frame527_face0.jpg\n"
     ]
    },
    {
     "name": "stderr",
     "output_type": "stream",
     "text": [
      "Processing E:/dataset/fake [0/239]:   6%|▋         | 15/239 [00:12<03:04,  1.22img/s]"
     ]
    },
    {
     "name": "stdout",
     "output_type": "stream",
     "text": [
      "❌ Missing Optical Flow, Edge Map for end_to_end_547_M109.mp4_frame79_face0.jpg\n"
     ]
    },
    {
     "name": "stderr",
     "output_type": "stream",
     "text": [
      "Processing E:/dataset/fake [0/239]:   7%|▋         | 16/239 [00:13<03:01,  1.23img/s]"
     ]
    },
    {
     "name": "stdout",
     "output_type": "stream",
     "text": [
      "❌ Missing Optical Flow, Edge Map for end_to_end_437_W023.mp4_frame368_face0.jpg\n"
     ]
    },
    {
     "name": "stderr",
     "output_type": "stream",
     "text": [
      "Processing E:/dataset/fake [0/239]:   7%|▋         | 17/239 [00:13<02:58,  1.24img/s]"
     ]
    },
    {
     "name": "stdout",
     "output_type": "stream",
     "text": [
      "❌ Missing Optical Flow, Edge Map for end_to_end_003_M101.mp4_frame120_face0.jpg\n"
     ]
    },
    {
     "name": "stderr",
     "output_type": "stream",
     "text": [
      "Processing E:/dataset/fake [0/239]:   8%|▊         | 18/239 [00:14<02:56,  1.25img/s]"
     ]
    },
    {
     "name": "stdout",
     "output_type": "stream",
     "text": [
      "❌ Missing Optical Flow, Edge Map for end_to_end_038_W009.mp4_frame151_face0.jpg\n"
     ]
    },
    {
     "name": "stderr",
     "output_type": "stream",
     "text": [
      "Processing E:/dataset/fake [0/239]:   8%|▊         | 19/239 [00:15<02:55,  1.25img/s]"
     ]
    },
    {
     "name": "stdout",
     "output_type": "stream",
     "text": [
      "❌ Missing Optical Flow, Edge Map for end_to_end_992_W012.mp4_frame412_face0.jpg\n"
     ]
    },
    {
     "name": "stderr",
     "output_type": "stream",
     "text": [
      "Processing E:/dataset/fake [0/239]:   8%|▊         | 20/239 [00:16<02:55,  1.24img/s]"
     ]
    },
    {
     "name": "stdout",
     "output_type": "stream",
     "text": [
      "❌ Missing Optical Flow, Edge Map for end_to_end_118_W132.mp4_frame302_face0.jpg\n"
     ]
    },
    {
     "name": "stderr",
     "output_type": "stream",
     "text": [
      "Processing E:/dataset/fake [0/239]:   9%|▉         | 21/239 [00:17<02:58,  1.22img/s]"
     ]
    },
    {
     "name": "stdout",
     "output_type": "stream",
     "text": [
      "❌ Missing Optical Flow, Edge Map for end_to_end_823_M018.mp4_frame659_face0.jpg\n"
     ]
    },
    {
     "name": "stderr",
     "output_type": "stream",
     "text": [
      "Processing E:/dataset/fake [0/239]:   9%|▉         | 22/239 [00:17<02:57,  1.22img/s]"
     ]
    },
    {
     "name": "stdout",
     "output_type": "stream",
     "text": [
      "❌ Missing Optical Flow, Edge Map for end_to_end_786_W133.mp4_frame117_face0.jpg\n"
     ]
    },
    {
     "name": "stderr",
     "output_type": "stream",
     "text": [
      "Processing E:/dataset/fake [0/239]:  10%|▉         | 23/239 [00:18<02:43,  1.32img/s]"
     ]
    },
    {
     "name": "stdout",
     "output_type": "stream",
     "text": [
      "✅ Successfully created sample: end_to_end_739_W022.mp4_frame29_face0.jpg\n"
     ]
    },
    {
     "name": "stderr",
     "output_type": "stream",
     "text": [
      "Processing E:/dataset/fake [0/239]:  10%|█         | 24/239 [00:19<02:45,  1.30img/s]"
     ]
    },
    {
     "name": "stdout",
     "output_type": "stream",
     "text": [
      "❌ Missing Optical Flow, Edge Map for end_to_end_686_W015.mp4_frame236_face0.jpg\n"
     ]
    },
    {
     "name": "stderr",
     "output_type": "stream",
     "text": [
      "Processing E:/dataset/fake [0/239]:  10%|█         | 25/239 [00:20<02:46,  1.28img/s]"
     ]
    },
    {
     "name": "stdout",
     "output_type": "stream",
     "text": [
      "❌ Missing Optical Flow, Edge Map for end_to_end_869_W040.mp4_frame138_face7.jpg\n"
     ]
    },
    {
     "name": "stderr",
     "output_type": "stream",
     "text": [
      "Processing E:/dataset/fake [0/239]:  11%|█         | 26/239 [00:21<02:51,  1.24img/s]"
     ]
    },
    {
     "name": "stdout",
     "output_type": "stream",
     "text": [
      "❌ Missing Optical Flow, Edge Map for end_to_end_832_W036.mp4_frame239_face0.jpg\n"
     ]
    },
    {
     "name": "stderr",
     "output_type": "stream",
     "text": [
      "Processing E:/dataset/fake [0/239]:  11%|█▏        | 27/239 [00:21<02:54,  1.22img/s]"
     ]
    },
    {
     "name": "stdout",
     "output_type": "stream",
     "text": [
      "❌ Missing Optical Flow, Edge Map for end_to_end_780_W029.mp4_frame151_face0.jpg\n"
     ]
    },
    {
     "name": "stderr",
     "output_type": "stream",
     "text": [
      "Processing E:/dataset/fake [0/239]:  12%|█▏        | 28/239 [00:22<02:51,  1.23img/s]"
     ]
    },
    {
     "name": "stdout",
     "output_type": "stream",
     "text": [
      "❌ Missing Optical Flow, Edge Map for end_to_end_184_W031.mp4_frame428_face0.jpg\n"
     ]
    },
    {
     "name": "stderr",
     "output_type": "stream",
     "text": [
      "Processing E:/dataset/fake [0/239]:  12%|█▏        | 29/239 [00:23<02:49,  1.24img/s]"
     ]
    },
    {
     "name": "stdout",
     "output_type": "stream",
     "text": [
      "❌ Missing Optical Flow, Edge Map for end_to_end_844_M134.mp4_frame395_face0.jpg\n"
     ]
    },
    {
     "name": "stderr",
     "output_type": "stream",
     "text": [
      "Processing E:/dataset/fake [0/239]:  13%|█▎        | 30/239 [00:24<02:49,  1.24img/s]"
     ]
    },
    {
     "name": "stdout",
     "output_type": "stream",
     "text": [
      "❌ Missing Optical Flow, Edge Map for end_to_end_121_W021.mp4_frame408_face0.jpg\n"
     ]
    },
    {
     "name": "stderr",
     "output_type": "stream",
     "text": [
      "Processing E:/dataset/fake [0/239]:  13%|█▎        | 31/239 [00:25<02:48,  1.24img/s]"
     ]
    },
    {
     "name": "stdout",
     "output_type": "stream",
     "text": [
      "❌ Missing Optical Flow, Edge Map for end_to_end_810_W134.mp4_frame844_face0.jpg\n"
     ]
    },
    {
     "name": "stderr",
     "output_type": "stream",
     "text": [
      "Processing E:/dataset/fake [0/239]:  13%|█▎        | 32/239 [00:26<02:48,  1.23img/s]"
     ]
    },
    {
     "name": "stdout",
     "output_type": "stream",
     "text": [
      "❌ Missing Optical Flow, Edge Map for end_to_end_871_W041.mp4_frame86_face0.jpg\n"
     ]
    },
    {
     "name": "stderr",
     "output_type": "stream",
     "text": [
      "\n"
     ]
    },
    {
     "ename": "KeyboardInterrupt",
     "evalue": "",
     "output_type": "error",
     "traceback": [
      "\u001b[1;31m---------------------------------------------------------------------------\u001b[0m",
      "\u001b[1;31mKeyboardInterrupt\u001b[0m                         Traceback (most recent call last)",
      "Cell \u001b[1;32mIn[4], line 86\u001b[0m\n\u001b[0;32m     84\u001b[0m \u001b[38;5;28mprint\u001b[39m(\u001b[38;5;124m\"\u001b[39m\u001b[38;5;124m🔄 Starting to load precomputed datasets...\u001b[39m\u001b[38;5;130;01m\\n\u001b[39;00m\u001b[38;5;124m\"\u001b[39m)\n\u001b[0;32m     85\u001b[0m real_x, real_y \u001b[38;5;241m=\u001b[39m load_precomputed_data(\u001b[38;5;124m\"\u001b[39m\u001b[38;5;124mE:/dataset/happy/real\u001b[39m\u001b[38;5;124m\"\u001b[39m, \u001b[38;5;124m\"\u001b[39m\u001b[38;5;124mE:/dataset/happy/optical_flow\u001b[39m\u001b[38;5;124m\"\u001b[39m, \u001b[38;5;124m\"\u001b[39m\u001b[38;5;124mE:/dataset/happy/edges\u001b[39m\u001b[38;5;124m\"\u001b[39m, label\u001b[38;5;241m=\u001b[39m\u001b[38;5;241m0\u001b[39m, condition_string\u001b[38;5;241m=\u001b[39m\u001b[38;5;124m\"\u001b[39m\u001b[38;5;124m\"\u001b[39m, max_samples\u001b[38;5;241m=\u001b[39m\u001b[38;5;241m239\u001b[39m)\n\u001b[1;32m---> 86\u001b[0m fake_x, fake_y \u001b[38;5;241m=\u001b[39m \u001b[43mload_precomputed_data\u001b[49m\u001b[43m(\u001b[49m\u001b[38;5;124;43m\"\u001b[39;49m\u001b[38;5;124;43mE:/dataset/fake\u001b[39;49m\u001b[38;5;124;43m\"\u001b[39;49m\u001b[43m,\u001b[49m\u001b[43m \u001b[49m\u001b[38;5;124;43m\"\u001b[39;49m\u001b[38;5;124;43mE:/dataset/optical_flow\u001b[39;49m\u001b[38;5;124;43m\"\u001b[39;49m\u001b[43m,\u001b[49m\u001b[43m \u001b[49m\u001b[38;5;124;43m\"\u001b[39;49m\u001b[38;5;124;43mE:/dataset/edges\u001b[39;49m\u001b[38;5;124;43m\"\u001b[39;49m\u001b[43m,\u001b[49m\u001b[43m \u001b[49m\u001b[43mlabel\u001b[49m\u001b[38;5;241;43m=\u001b[39;49m\u001b[38;5;241;43m1\u001b[39;49m\u001b[43m,\u001b[49m\u001b[43m \u001b[49m\u001b[43mcondition_string\u001b[49m\u001b[38;5;241;43m=\u001b[39;49m\u001b[38;5;124;43m\"\u001b[39;49m\u001b[38;5;124;43m\"\u001b[39;49m\u001b[43m,\u001b[49m\u001b[43m \u001b[49m\u001b[43mmax_samples\u001b[49m\u001b[38;5;241;43m=\u001b[39;49m\u001b[38;5;241;43m239\u001b[39;49m\u001b[43m)\u001b[49m\n\u001b[0;32m     88\u001b[0m \u001b[38;5;66;03m# Ensure we loaded data\u001b[39;00m\n\u001b[0;32m     89\u001b[0m \u001b[38;5;28;01mif\u001b[39;00m real_x\u001b[38;5;241m.\u001b[39msize \u001b[38;5;241m==\u001b[39m \u001b[38;5;241m0\u001b[39m \u001b[38;5;129;01mor\u001b[39;00m fake_x\u001b[38;5;241m.\u001b[39msize \u001b[38;5;241m==\u001b[39m \u001b[38;5;241m0\u001b[39m:\n",
      "Cell \u001b[1;32mIn[4], line 40\u001b[0m, in \u001b[0;36mload_precomputed_data\u001b[1;34m(face_dir, flow_dir, edge_dir, label, condition_string, max_samples)\u001b[0m\n\u001b[0;32m     38\u001b[0m \u001b[38;5;66;03m# Check if all required files exist\u001b[39;00m\n\u001b[0;32m     39\u001b[0m missing_files \u001b[38;5;241m=\u001b[39m []\n\u001b[1;32m---> 40\u001b[0m \u001b[38;5;28;01mif\u001b[39;00m \u001b[38;5;129;01mnot\u001b[39;00m \u001b[43mos\u001b[49m\u001b[38;5;241;43m.\u001b[39;49m\u001b[43mpath\u001b[49m\u001b[38;5;241;43m.\u001b[39;49m\u001b[43mexists\u001b[49m\u001b[43m(\u001b[49m\u001b[43mface_path\u001b[49m\u001b[43m)\u001b[49m:\n\u001b[0;32m     41\u001b[0m     missing_files\u001b[38;5;241m.\u001b[39mappend(\u001b[38;5;124m\"\u001b[39m\u001b[38;5;124mFace\u001b[39m\u001b[38;5;124m\"\u001b[39m)\n\u001b[0;32m     42\u001b[0m \u001b[38;5;28;01mif\u001b[39;00m \u001b[38;5;129;01mnot\u001b[39;00m os\u001b[38;5;241m.\u001b[39mpath\u001b[38;5;241m.\u001b[39mexists(flow_path):\n",
      "File \u001b[1;32mc:\\Users\\G713QM-\\anaconda3\\envs\\py310\\lib\\genericpath.py:19\u001b[0m, in \u001b[0;36mexists\u001b[1;34m(path)\u001b[0m\n\u001b[0;32m     17\u001b[0m \u001b[38;5;250m\u001b[39m\u001b[38;5;124;03m\"\"\"Test whether a path exists.  Returns False for broken symbolic links\"\"\"\u001b[39;00m\n\u001b[0;32m     18\u001b[0m \u001b[38;5;28;01mtry\u001b[39;00m:\n\u001b[1;32m---> 19\u001b[0m     \u001b[43mos\u001b[49m\u001b[38;5;241;43m.\u001b[39;49m\u001b[43mstat\u001b[49m\u001b[43m(\u001b[49m\u001b[43mpath\u001b[49m\u001b[43m)\u001b[49m\n\u001b[0;32m     20\u001b[0m \u001b[38;5;28;01mexcept\u001b[39;00m (\u001b[38;5;167;01mOSError\u001b[39;00m, \u001b[38;5;167;01mValueError\u001b[39;00m):\n\u001b[0;32m     21\u001b[0m     \u001b[38;5;28;01mreturn\u001b[39;00m \u001b[38;5;28;01mFalse\u001b[39;00m\n",
      "\u001b[1;31mKeyboardInterrupt\u001b[0m: "
     ]
    }
   ],
   "source": [
    "import os\n",
    "import cv2\n",
    "import numpy as np\n",
    "import random\n",
    "from tqdm import tqdm\n",
    "\n",
    "def load_precomputed_data(face_dir, flow_dir, edge_dir, label, condition_string, max_samples=15000):\n",
    "    \"\"\"Loads images in smaller batches to avoid memory overload, with debug prints.\"\"\"\n",
    "    x_data = []\n",
    "    y_data = []\n",
    "    count = 0\n",
    "\n",
    "    print(f\"\\n🔄 Loading data from: {face_dir} (Label: {label}) - Filtering for '{condition_string}'\")\n",
    "    \n",
    "    # Get list of relevant files\n",
    "    face_files = [f for f in os.listdir(face_dir) if condition_string in f and f.endswith(\".jpg\")]\n",
    "\n",
    "    if not face_files:\n",
    "        print(f\"⚠️ No '{condition_string}' images found in {face_dir}! Check filenames.\")\n",
    "        return np.array([]), np.array([])\n",
    "\n",
    "    # Shuffle and limit to max_samples\n",
    "    random.shuffle(face_files)\n",
    "    face_files = face_files[:max_samples]\n",
    "\n",
    "    batch_size = 1000  # Process in smaller batches\n",
    "    for i in range(0, len(face_files), batch_size):\n",
    "        batch_files = face_files[i:i+batch_size]\n",
    "\n",
    "        batch_x = []\n",
    "        for face_file in tqdm(batch_files, desc=f\"Processing {face_dir} [{i}/{len(face_files)}]\", unit=\"img\"):\n",
    "            base_name = os.path.splitext(face_file)[0].replace(\"_face\", \"\")\n",
    "\n",
    "            face_path = os.path.join(face_dir, face_file)\n",
    "            flow_path = os.path.join(flow_dir, base_name + \"_flow.jpg\")\n",
    "            edge_path = os.path.join(edge_dir, base_name + \"_edges.jpg\")\n",
    "\n",
    "            # Check if all required files exist\n",
    "            missing_files = []\n",
    "            if not os.path.exists(face_path):\n",
    "                missing_files.append(\"Face\")\n",
    "            if not os.path.exists(flow_path):\n",
    "                missing_files.append(\"Optical Flow\")\n",
    "            if not os.path.exists(edge_path):\n",
    "                missing_files.append(\"Edge Map\")\n",
    "\n",
    "            if missing_files:\n",
    "                print(f\"❌ Missing {', '.join(missing_files)} for {face_file}\")\n",
    "                continue  # Skip this file if any modality is missing\n",
    "\n",
    "            try:\n",
    "                # Load images and resize\n",
    "                face_img = cv2.resize(cv2.imread(face_path), (299, 299))\n",
    "                flow_img = cv2.resize(cv2.imread(flow_path), (299, 299))\n",
    "                edge_img = cv2.resize(cv2.imread(edge_path), (299, 299))\n",
    "\n",
    "                # Normalize and convert to float32 to save memory\n",
    "                face_img = face_img.astype(np.float32) / 255.0\n",
    "                flow_img = flow_img.astype(np.float32) / 255.0\n",
    "                edge_img = edge_img.astype(np.float32) / 255.0\n",
    "\n",
    "                # Concatenate into a 9-channel image\n",
    "                combined_input = np.concatenate((face_img, flow_img, edge_img), axis=-1)\n",
    "\n",
    "                batch_x.append(combined_input)\n",
    "                y_data.append(label)\n",
    "                count += 1  # Increment count only if the sample was successfully created\n",
    "\n",
    "                print(f\"✅ Successfully created sample: {face_file}\")\n",
    "\n",
    "            except Exception as e:\n",
    "                print(f\"⚠️ Error processing {face_file}: {e}\")\n",
    "\n",
    "        if batch_x:\n",
    "            x_data.extend(batch_x)\n",
    "\n",
    "    if count == 0:\n",
    "        print(f\"⚠️ No valid samples found in {face_dir}. Please check file names and paths!\\n\")\n",
    "\n",
    "    print(f\"✅ Finished loading {count} images from {face_dir}.\\n\")\n",
    "    return np.array(x_data, dtype=np.float32), np.array(y_data, dtype=np.int8)  # Convert to smaller dtype\n",
    "\n",
    "# Load in smaller batches\n",
    "print(\"🔄 Starting to load precomputed datasets...\\n\")\n",
    "real_x, real_y = load_precomputed_data(\"E:/dataset/happy/real\", \"E:/dataset/happy/optical_flow\", \"E:/dataset/happy/edges\", label=0, condition_string=\"\", max_samples=239)\n",
    "fake_x, fake_y = load_precomputed_data(\"E:/dataset/fake\", \"E:/dataset/optical_flow\", \"E:/dataset/edges\", label=1, condition_string=\"\", max_samples=239)\n",
    "\n",
    "# Ensure we loaded data\n",
    "if real_x.size == 0 or fake_x.size == 0:\n",
    "    print(\"❌ ERROR: No valid images loaded! Fix errors before continuing.\")\n",
    "    exit()\n",
    "\n",
    "# **Use np.memmap to write data in chunks to avoid RAM overuse**\n",
    "save_path = \"E:/dataset/happy/preprocessed_data_happy.npz\"\n",
    "print(\"💾 Saving preprocessed data in chunks to avoid memory issues...\")\n",
    "\n",
    "# Define shapes\n",
    "total_samples = real_x.shape[0] + fake_x.shape[0]\n",
    "image_shape = (299, 299, 9)\n",
    "\n",
    "# Create a memory-mapped file\n",
    "x_data_memmap = np.memmap(save_path.replace(\".npz\", \"_x.dat\"), dtype=np.float32, mode=\"w+\", shape=(total_samples, *image_shape))\n",
    "y_data_memmap = np.memmap(save_path.replace(\".npz\", \"_y.dat\"), dtype=np.int8, mode=\"w+\", shape=(total_samples,))\n",
    "\n",
    "# Write in chunks\n",
    "x_data_memmap[:real_x.shape[0]] = real_x\n",
    "x_data_memmap[real_x.shape[0]:] = fake_x\n",
    "y_data_memmap[:real_y.shape[0]] = real_y\n",
    "y_data_memmap[real_y.shape[0]:] = fake_y\n",
    "\n",
    "# Flush to disk\n",
    "del x_data_memmap, y_data_memmap  # Ensure it's saved before creating NPZ file\n",
    "\n",
    "# Save final NPZ file with memory-efficient data\n",
    "np.savez_compressed(save_path, x=np.memmap(save_path.replace(\".npz\", \"_x.dat\"), dtype=np.float32, mode=\"r\", shape=(total_samples, *image_shape)), \n",
    "                                  y=np.memmap(save_path.replace(\".npz\", \"_y.dat\"), dtype=np.int8, mode=\"r\", shape=(total_samples,)))\n",
    "\n",
    "print(\"✅ Data saved successfully!\")\n"
   ]
  }
 ],
 "metadata": {
  "kernelspec": {
   "display_name": "py310",
   "language": "python",
   "name": "python3"
  },
  "language_info": {
   "codemirror_mode": {
    "name": "ipython",
    "version": 3
   },
   "file_extension": ".py",
   "mimetype": "text/x-python",
   "name": "python",
   "nbconvert_exporter": "python",
   "pygments_lexer": "ipython3",
   "version": "3.10.16"
  }
 },
 "nbformat": 4,
 "nbformat_minor": 2
}
