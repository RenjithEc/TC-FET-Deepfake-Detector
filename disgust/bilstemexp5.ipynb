{
 "cells": [
  {
   "cell_type": "code",
   "execution_count": 3,
   "metadata": {},
   "outputs": [],
   "source": [
    "import os\n",
    "import cv2\n",
    "import numpy as np\n",
    "import tensorflow as tf\n",
    "import matplotlib.pyplot as plt\n",
    "from sklearn.metrics import confusion_matrix, roc_curve, auc, precision_recall_curve, classification_report\n",
    "from tensorflow.keras.applications import Xception\n",
    "from tensorflow.keras.layers import Input, LSTM, Dense, Dropout, Bidirectional, Flatten, TimeDistributed, GlobalAveragePooling2D, BatchNormalization\n",
    "from tensorflow.keras.models import Model\n",
    "from tensorflow.keras.optimizers import Adam\n",
    "from glob import glob\n",
    "from sklearn.metrics import accuracy_score, recall_score, precision_score, f1_score, auc\n",
    "import seaborn as sns\n",
    "from sklearn.model_selection import train_test_split\n",
    "from tqdm import tqdm\n",
    "from tensorflow.keras.callbacks import EarlyStopping, ReduceLROnPlateau, ModelCheckpoint\n",
    "from tensorflow.keras.regularizers import l2\n",
    "from tensorflow.keras.layers import Lambda\n",
    "from tensorflow.keras.layers import Activation, Multiply\n",
    "from tensorflow.keras import backend as K\n",
    "from sklearn.model_selection import StratifiedShuffleSplit\n",
    "from tensorflow.keras.utils import Sequence"
   ]
  },
  {
   "cell_type": "code",
   "execution_count": 4,
   "metadata": {},
   "outputs": [
    {
     "data": {
      "text/plain": [
       "False"
      ]
     },
     "execution_count": 4,
     "metadata": {},
     "output_type": "execute_result"
    }
   ],
   "source": [
    "from tensorflow.keras import mixed_precision\n",
    "mixed_precision.set_global_policy('mixed_float16')\n",
    "\n",
    "gpus = tf.config.experimental.list_physical_devices('GPU')\n",
    "for gpu in gpus:\n",
    "    tf.config.experimental.set_memory_growth(gpu, True)\n",
    "tf.test.is_gpu_available()"
   ]
  },
  {
   "cell_type": "code",
   "execution_count": 5,
   "metadata": {},
   "outputs": [],
   "source": [
    "from tensorflow.keras.layers import Layer, Dense, Activation, Multiply, Lambda\n",
    "import tensorflow.keras.backend as K\n",
    "\n",
    "class AttentionLayer(Layer):\n",
    "    def __init__(self, **kwargs):\n",
    "        super(AttentionLayer, self).__init__(**kwargs)\n",
    "\n",
    "    def build(self, input_shape):\n",
    "        # input_shape: (batch_size, timesteps, features)\n",
    "        self.W = self.add_weight(name='att_weight', \n",
    "                                 shape=(input_shape[-1], input_shape[-1]),\n",
    "                                 initializer='glorot_uniform',\n",
    "                                 trainable=True)\n",
    "        self.b = self.add_weight(name='att_bias', \n",
    "                                 shape=(input_shape[-1],),\n",
    "                                 initializer='zeros',\n",
    "                                 trainable=True)\n",
    "        self.V = self.add_weight(name='att_var', \n",
    "                                 shape=(input_shape[-1], 1),\n",
    "                                 initializer='glorot_uniform',\n",
    "                                 trainable=True)\n",
    "        super(AttentionLayer, self).build(input_shape)\n",
    "\n",
    "    def call(self, inputs):\n",
    "        # inputs: (batch_size, timesteps, features)\n",
    "        # Score calculation for each time step\n",
    "        score = K.tanh(K.dot(inputs, self.W) + self.b)  # (batch_size, timesteps, features)\n",
    "        score = K.dot(score, self.V)  # (batch_size, timesteps, 1)\n",
    "        attention_weights = K.softmax(score, axis=1)  # (batch_size, timesteps, 1)\n",
    "        \n",
    "        # Multiply each time step by its attention weight\n",
    "        context_vector = inputs * attention_weights  # (batch_size, timesteps, features)\n",
    "        context_vector = K.sum(context_vector, axis=1)   # (batch_size, features)\n",
    "        return context_vector\n",
    "\n",
    "# Convenience function to use the layer\n",
    "def attention_layer(inputs):\n",
    "    return AttentionLayer()(inputs)\n"
   ]
  },
  {
   "cell_type": "code",
   "execution_count": 6,
   "metadata": {},
   "outputs": [],
   "source": [
    "def build_model(input_shape=(299, 299, 9)):\n",
    "    \"\"\"\n",
    "    Builds an improved Xception-based spatial feature extractor and a Bidirectional LSTM\n",
    "    for temporal analysis with pooling layers and batch normalization.\n",
    "    \"\"\"\n",
    "    print(\"Building improved model...\")\n",
    "\n",
    "    # Spatial Feature Extractor\n",
    "    base_model = Xception(include_top=False, weights=None, input_shape=input_shape)\n",
    "\n",
    "    # Use GlobalAveragePooling2D to aggregate the spatial features.\n",
    "    x = base_model.output\n",
    "    x = GlobalAveragePooling2D()(x)\n",
    "    x = Dense(1024, activation='relu', kernel_regularizer=l2(0.0001))(x)\n",
    "    x = BatchNormalization()(x)\n",
    "    x = Dropout(0.4)(x)\n",
    "    x = Dense(512, activation='relu', kernel_regularizer=l2(0.0001))(x)\n",
    "    x = BatchNormalization()(x)\n",
    "    spatial_model = Model(inputs=base_model.input, outputs=x, name=\"spatial_model\")\n",
    "\n",
    "    # Temporal Analysis with LSTM (Improved)\n",
    "    lstm_input = Input(shape=(None, 512), name=\"lstm_input\")\n",
    "\n",
    "    # First LSTM remains the same:\n",
    "    lstm_out = Bidirectional(LSTM(256, return_sequences=True, dropout=0.4, recurrent_dropout=0.2))(lstm_input)\n",
    "    # Change the second LSTM to output sequences (i.e., 3D tensor)\n",
    "    lstm_out = Bidirectional(LSTM(128, return_sequences=True, dropout=0.4))(lstm_out)\n",
    "\n",
    "    # Now attention_layer receives a 3D tensor as expected\n",
    "    attn_out = attention_layer(lstm_out)\n",
    "    attn_out = BatchNormalization()(attn_out)\n",
    "\n",
    "    output = Dense(1, activation='sigmoid')(attn_out)\n",
    "    temporal_model = Model(inputs=lstm_input, outputs=output, name=\"temporal_model\")\n",
    "\n",
    "    print(\"Improved model built successfully.\")\n",
    "    return spatial_model, temporal_model\n",
    "\n",
    "\n",
    "def train_model(spatial_model, temporal_model, x_train, y_train, x_test, y_test, epochs=100, batch_size=32):\n",
    "    \"\"\"Trains the model with improved training strategy.\"\"\"\n",
    "    print(\"Extracting features from Xception (Spatial Model)...\")\n",
    "\n",
    "    # Extract features from Xception\n",
    "    x_train_features = spatial_model.predict(x_train)\n",
    "    x_test_features = spatial_model.predict(x_test)\n",
    "\n",
    "    # Reshape for LSTM\n",
    "    x_train_features = np.expand_dims(x_train_features, axis=1)\n",
    "    x_test_features = np.expand_dims(x_test_features, axis=1)\n",
    "\n",
    "    # Compile the LSTM (Temporal Model)\n",
    "    temporal_model.compile(optimizer=Adam(learning_rate=0.0001), loss='binary_crossentropy', metrics=['accuracy'])\n",
    "\n",
    "    print(\"Training Improved Temporal Model (LSTM)...\")\n",
    "\n",
    "    # Callbacks\n",
    "    model_checkpoint = ModelCheckpoint(\n",
    "        filepath=\"best_model.h5\",\n",
    "        monitor=\"val_accuracy\",\n",
    "        save_best_only=True,\n",
    "        save_weights_only=False,\n",
    "        mode=\"max\",\n",
    "        verbose=1\n",
    "    )\n",
    "\n",
    "    early_stopping = EarlyStopping(monitor='val_loss', patience=7, restore_best_weights=True, verbose=1)\n",
    "\n",
    "    lr_reducer = ReduceLROnPlateau(monitor='val_loss', factor=0.5, patience=4, verbose=1)\n",
    "\n",
    "    # Train the LSTM Model\n",
    "    history = temporal_model.fit(\n",
    "        x_train_features, y_train,\n",
    "        epochs=epochs,\n",
    "        batch_size=batch_size,\n",
    "        validation_data=(x_test_features, y_test),\n",
    "        callbacks=[model_checkpoint, early_stopping, lr_reducer]\n",
    "    )\n",
    "\n",
    "    print(\"Training completed.\")\n",
    "\n",
    "    # Predict on test set\n",
    "    y_pred = temporal_model.predict(x_test_features)\n",
    "\n",
    "    # Evaluate model\n",
    "    plot_metrics(history, y_test, y_pred)\n",
    "\n",
    "\n",
    "def plot_metrics(history, y_test, y_pred):\n",
    "    \"\"\"Plots training metrics, evaluation metrics, ROC curve, and precision-recall curve.\"\"\"\n",
    "    # Training Loss and Accuracy\n",
    "    plt.figure()\n",
    "    plt.plot(history.history['accuracy'], label='Train Accuracy')\n",
    "    plt.plot(history.history['val_accuracy'], label='Validation Accuracy')\n",
    "    plt.legend()\n",
    "    plt.title('Training vs Validation Accuracy')\n",
    "    plt.show()\n",
    "    \n",
    "    plt.figure()\n",
    "    plt.plot(history.history['loss'], label='Train Loss')\n",
    "    plt.plot(history.history['val_loss'], label='Validation Loss')\n",
    "    plt.legend()\n",
    "    plt.title('Training vs Validation Loss')\n",
    "    plt.show()\n",
    "    \n",
    "    # Confusion Matrix\n",
    "    cm = confusion_matrix(y_test, (y_pred > 0.5).astype(int))\n",
    "    plt.figure(figsize=(6,5))\n",
    "    sns.heatmap(cm, annot=True, fmt='d', cmap='Blues', \n",
    "                xticklabels=['Real', 'Fake'], yticklabels=['Real', 'Fake'])\n",
    "    plt.xlabel('Predicted label')\n",
    "    plt.ylabel('True label')\n",
    "    plt.title('Confusion Matrix')\n",
    "    plt.show()\n",
    "\n",
    "    # Compute ROC Curve and AUC\n",
    "    fpr, tpr, _ = roc_curve(y_test, y_pred)\n",
    "    roc_auc = auc(fpr, tpr)\n",
    "    \n",
    "    # Plot ROC Curve\n",
    "    plt.figure()\n",
    "    plt.plot(fpr, tpr, label=f'ROC curve (AUC = {roc_auc:.4f})')\n",
    "    plt.plot([0, 1], [0, 1], linestyle='--', color='gray')\n",
    "    plt.xlabel('False Positive Rate')\n",
    "    plt.ylabel('True Positive Rate')\n",
    "    plt.title('Receiver Operating Characteristic (ROC) Curve')\n",
    "    plt.legend(loc=\"lower right\")\n",
    "    plt.show()\n",
    "    \n",
    "    # Compute Precision-Recall Curve and AUC\n",
    "    precision, recall, _ = precision_recall_curve(y_test, y_pred)\n",
    "    pr_auc = auc(recall, precision)\n",
    "    \n",
    "    # Plot Precision-Recall Curve\n",
    "    plt.figure()\n",
    "    plt.plot(recall, precision, label=f'PR curve (AUC = {pr_auc:.4f})')\n",
    "    plt.xlabel('Recall')\n",
    "    plt.ylabel('Precision')\n",
    "    plt.title('Precision-Recall Curve')\n",
    "    plt.legend(loc=\"lower left\")\n",
    "    plt.show()\n",
    "    \n",
    "    # Print evaluation metrics\n",
    "    y_pred_binary = (y_pred > 0.5).astype(int)\n",
    "    print(f'Accuracy Score: {accuracy_score(y_test, y_pred_binary):.4f}')\n",
    "    print(f'ROC AUC Score: {roc_auc:.4f}')\n",
    "    print(f'Recall Score: {recall_score(y_test, y_pred_binary):.4f}')\n",
    "    print(f'Precision Score: {precision_score(y_test, y_pred_binary):.4f}')\n",
    "    print(f'F1 Score: {f1_score(y_test, y_pred_binary):.4f}')\n",
    "    print(f'PR AUC Score: {pr_auc:.4f}')\n",
    "    \n",
    "    print(\"Classification Report:\")\n",
    "    print(classification_report(y_test, y_pred_binary))"
   ]
  },
  {
   "cell_type": "code",
   "execution_count": 7,
   "metadata": {},
   "outputs": [],
   "source": [
    "# # Load precomputed dataset\n",
    "# save_path = \"E:/dataset_1/preprocessed_happy.npz\"\n",
    "# print(f\"📂 Loading precomputed dataset from {save_path}...\")\n",
    "# data = np.load(save_path)\n",
    "\n",
    "# # Extract x_data and y_data\n",
    "# x_data, y_data = data[\"x\"], data[\"y\"]\n",
    "# print(f\"✅ Loaded dataset: {x_data.shape[0]} samples.\")\n",
    "\n",
    "# # Train-test split\n",
    "# x_train, x_test, y_train, y_test = train_test_split(x_data, y_data, test_size=0.2, random_state=42, stratify=y_data)\n",
    "\n",
    "# # Verify shapes\n",
    "# print(f\"📊 Train/Test Split:\")\n",
    "# print(f\"  x_train: {x_train.shape}, y_train: {y_train.shape}\")\n",
    "# print(f\"  x_test: {x_test.shape}, y_test: {y_test.shape}\")"
   ]
  },
  {
   "cell_type": "code",
   "execution_count": 8,
   "metadata": {},
   "outputs": [
    {
     "name": "stdout",
     "output_type": "stream",
     "text": [
      "📂 Loading precomputed dataset from E:/dataset_1/preprocessed_disgust.npz...\n",
      "✅ Loaded dataset: 20000 samples.\n",
      "📊 Train/Test Split:\n",
      "  x_train_seq: 500 batches (batch_size=32), y_train: (16000,)\n",
      "  x_test_seq: 125 batches (batch_size=32), y_test: (4000,)\n"
     ]
    }
   ],
   "source": [
    "\n",
    "\n",
    "\n",
    "# Create a Sequence wrapper to load batches from the memmap on demand.\n",
    "class MemmapSequence(Sequence):\n",
    "    def __init__(self, memmap_array, indices, batch_size=32):\n",
    "        self.memmap_array = memmap_array\n",
    "        self.indices = indices\n",
    "        self.batch_size = batch_size\n",
    "        \n",
    "    def __len__(self):\n",
    "        return int(np.ceil(len(self.indices) / self.batch_size))\n",
    "    \n",
    "    def __getitem__(self, idx):\n",
    "        batch_idx = self.indices[idx * self.batch_size:(idx + 1) * self.batch_size]\n",
    "        # When using fancy indexing on a memmap, a copy is made only for this batch.\n",
    "        return self.memmap_array[batch_idx]\n",
    "\n",
    "# --- Data Loading Without Loading Entire Dataset Into RAM ---\n",
    "\n",
    "# Load the dataset with memory mapping so that the full array isn’t loaded into RAM immediately.\n",
    "save_path = \"E:/dataset_1/preprocessed_disgust.npz\"\n",
    "print(f\"📂 Loading precomputed dataset from {save_path}...\")\n",
    "data = np.load(save_path, mmap_mode='r')  # memmap; data remains on disk until accessed\n",
    "x_data, y_data = data[\"x\"], data[\"y\"]\n",
    "print(f\"✅ Loaded dataset: {x_data.shape[0]} samples.\")\n",
    "\n",
    "# Use StratifiedShuffleSplit to get train/test indices without forcing a full copy.\n",
    "sss = StratifiedShuffleSplit(n_splits=1, test_size=0.2, random_state=42)\n",
    "train_idx, test_idx = next(sss.split(x_data, y_data))\n",
    "\n",
    "# Sorting indices can help get more contiguous slices.\n",
    "train_idx = np.sort(train_idx)\n",
    "test_idx = np.sort(test_idx)\n",
    "\n",
    "# Instead of slicing x_data (which would copy a 12GB block into memory),\n",
    "# create Sequences that load data in batches.\n",
    "batch_size = 32\n",
    "x_train_seq = MemmapSequence(x_data, train_idx, batch_size=batch_size)\n",
    "x_test_seq = MemmapSequence(x_data, test_idx, batch_size=batch_size)\n",
    "\n",
    "# y_data is small so we load it normally.\n",
    "y_train = y_data[train_idx]\n",
    "y_test = y_data[test_idx]\n",
    "\n",
    "print(\"📊 Train/Test Split:\")\n",
    "print(f\"  x_train_seq: {len(x_train_seq)} batches (batch_size={batch_size}), y_train: {y_train.shape}\")\n",
    "print(f\"  x_test_seq: {len(x_test_seq)} batches (batch_size={batch_size}), y_test: {y_test.shape}\")\n",
    "\n",
    "# --- Training the Model ---\n",
    "# Now call your train_model function as before—but pass the Sequence objects instead of full numpy arrays.\n",
    "# For example:\n",
    "#\n",
    "# spatial_model, temporal_model = build_model(input_shape=(299, 299, 9))\n",
    "# train_model(spatial_model, temporal_model, x_train_seq, y_train, x_test_seq, y_test)\n",
    "#\n",
    "# Keras model.predict (and model.fit, if needed) supports Sequence objects, so your existing\n",
    "# build_model() and train_model() functions remain unchanged.\n"
   ]
  },
  {
   "cell_type": "code",
   "execution_count": 9,
   "metadata": {},
   "outputs": [
    {
     "name": "stdout",
     "output_type": "stream",
     "text": [
      "Building improved model...\n"
     ]
    },
    {
     "name": "stderr",
     "output_type": "stream",
     "text": [
      "c:\\Users\\G713QM-\\anaconda3\\Lib\\site-packages\\keras\\src\\applications\\xception.py:111: UserWarning: This model usually expects 1 or 3 input channels. However, it was passed an input_shape with 9 input channels.\n",
      "  input_shape = imagenet_utils.obtain_input_shape(\n"
     ]
    },
    {
     "name": "stdout",
     "output_type": "stream",
     "text": [
      "WARNING:tensorflow:From c:\\Users\\G713QM-\\anaconda3\\Lib\\site-packages\\keras\\src\\backend\\tensorflow\\core.py:216: The name tf.placeholder is deprecated. Please use tf.compat.v1.placeholder instead.\n",
      "\n",
      "Improved model built successfully.\n"
     ]
    },
    {
     "data": {
      "text/html": [
       "<pre style=\"white-space:pre;overflow-x:auto;line-height:normal;font-family:Menlo,'DejaVu Sans Mono',consolas,'Courier New',monospace\"><span style=\"font-weight: bold\">Model: \"temporal_model\"</span>\n",
       "</pre>\n"
      ],
      "text/plain": [
       "\u001b[1mModel: \"temporal_model\"\u001b[0m\n"
      ]
     },
     "metadata": {},
     "output_type": "display_data"
    },
    {
     "data": {
      "text/html": [
       "<pre style=\"white-space:pre;overflow-x:auto;line-height:normal;font-family:Menlo,'DejaVu Sans Mono',consolas,'Courier New',monospace\">┏━━━━━━━━━━━━━━━━━━━━━━━━━━━━━━━━━┳━━━━━━━━━━━━━━━━━━━━━━━━┳━━━━━━━━━━━━━━━┓\n",
       "┃<span style=\"font-weight: bold\"> Layer (type)                    </span>┃<span style=\"font-weight: bold\"> Output Shape           </span>┃<span style=\"font-weight: bold\">       Param # </span>┃\n",
       "┡━━━━━━━━━━━━━━━━━━━━━━━━━━━━━━━━━╇━━━━━━━━━━━━━━━━━━━━━━━━╇━━━━━━━━━━━━━━━┩\n",
       "│ lstm_input (<span style=\"color: #0087ff; text-decoration-color: #0087ff\">InputLayer</span>)         │ (<span style=\"color: #00d7ff; text-decoration-color: #00d7ff\">None</span>, <span style=\"color: #00d7ff; text-decoration-color: #00d7ff\">None</span>, <span style=\"color: #00af00; text-decoration-color: #00af00\">512</span>)      │             <span style=\"color: #00af00; text-decoration-color: #00af00\">0</span> │\n",
       "├─────────────────────────────────┼────────────────────────┼───────────────┤\n",
       "│ cast_1 (<span style=\"color: #0087ff; text-decoration-color: #0087ff\">Cast</span>)                   │ (<span style=\"color: #00d7ff; text-decoration-color: #00d7ff\">None</span>, <span style=\"color: #00d7ff; text-decoration-color: #00d7ff\">None</span>, <span style=\"color: #00af00; text-decoration-color: #00af00\">512</span>)      │             <span style=\"color: #00af00; text-decoration-color: #00af00\">0</span> │\n",
       "├─────────────────────────────────┼────────────────────────┼───────────────┤\n",
       "│ bidirectional (<span style=\"color: #0087ff; text-decoration-color: #0087ff\">Bidirectional</span>)   │ (<span style=\"color: #00d7ff; text-decoration-color: #00d7ff\">None</span>, <span style=\"color: #00d7ff; text-decoration-color: #00d7ff\">None</span>, <span style=\"color: #00af00; text-decoration-color: #00af00\">512</span>)      │     <span style=\"color: #00af00; text-decoration-color: #00af00\">1,574,912</span> │\n",
       "├─────────────────────────────────┼────────────────────────┼───────────────┤\n",
       "│ bidirectional_1 (<span style=\"color: #0087ff; text-decoration-color: #0087ff\">Bidirectional</span>) │ (<span style=\"color: #00d7ff; text-decoration-color: #00d7ff\">None</span>, <span style=\"color: #00d7ff; text-decoration-color: #00d7ff\">None</span>, <span style=\"color: #00af00; text-decoration-color: #00af00\">256</span>)      │       <span style=\"color: #00af00; text-decoration-color: #00af00\">656,384</span> │\n",
       "├─────────────────────────────────┼────────────────────────┼───────────────┤\n",
       "│ attention_layer                 │ (<span style=\"color: #00d7ff; text-decoration-color: #00d7ff\">None</span>, <span style=\"color: #00af00; text-decoration-color: #00af00\">256</span>)            │        <span style=\"color: #00af00; text-decoration-color: #00af00\">66,048</span> │\n",
       "│ (<span style=\"color: #0087ff; text-decoration-color: #0087ff\">AttentionLayer</span>)                │                        │               │\n",
       "├─────────────────────────────────┼────────────────────────┼───────────────┤\n",
       "│ batch_normalization_6           │ (<span style=\"color: #00d7ff; text-decoration-color: #00d7ff\">None</span>, <span style=\"color: #00af00; text-decoration-color: #00af00\">256</span>)            │         <span style=\"color: #00af00; text-decoration-color: #00af00\">1,024</span> │\n",
       "│ (<span style=\"color: #0087ff; text-decoration-color: #0087ff\">BatchNormalization</span>)            │                        │               │\n",
       "├─────────────────────────────────┼────────────────────────┼───────────────┤\n",
       "│ dense_2 (<span style=\"color: #0087ff; text-decoration-color: #0087ff\">Dense</span>)                 │ (<span style=\"color: #00d7ff; text-decoration-color: #00d7ff\">None</span>, <span style=\"color: #00af00; text-decoration-color: #00af00\">1</span>)              │           <span style=\"color: #00af00; text-decoration-color: #00af00\">257</span> │\n",
       "└─────────────────────────────────┴────────────────────────┴───────────────┘\n",
       "</pre>\n"
      ],
      "text/plain": [
       "┏━━━━━━━━━━━━━━━━━━━━━━━━━━━━━━━━━┳━━━━━━━━━━━━━━━━━━━━━━━━┳━━━━━━━━━━━━━━━┓\n",
       "┃\u001b[1m \u001b[0m\u001b[1mLayer (type)                   \u001b[0m\u001b[1m \u001b[0m┃\u001b[1m \u001b[0m\u001b[1mOutput Shape          \u001b[0m\u001b[1m \u001b[0m┃\u001b[1m \u001b[0m\u001b[1m      Param #\u001b[0m\u001b[1m \u001b[0m┃\n",
       "┡━━━━━━━━━━━━━━━━━━━━━━━━━━━━━━━━━╇━━━━━━━━━━━━━━━━━━━━━━━━╇━━━━━━━━━━━━━━━┩\n",
       "│ lstm_input (\u001b[38;5;33mInputLayer\u001b[0m)         │ (\u001b[38;5;45mNone\u001b[0m, \u001b[38;5;45mNone\u001b[0m, \u001b[38;5;34m512\u001b[0m)      │             \u001b[38;5;34m0\u001b[0m │\n",
       "├─────────────────────────────────┼────────────────────────┼───────────────┤\n",
       "│ cast_1 (\u001b[38;5;33mCast\u001b[0m)                   │ (\u001b[38;5;45mNone\u001b[0m, \u001b[38;5;45mNone\u001b[0m, \u001b[38;5;34m512\u001b[0m)      │             \u001b[38;5;34m0\u001b[0m │\n",
       "├─────────────────────────────────┼────────────────────────┼───────────────┤\n",
       "│ bidirectional (\u001b[38;5;33mBidirectional\u001b[0m)   │ (\u001b[38;5;45mNone\u001b[0m, \u001b[38;5;45mNone\u001b[0m, \u001b[38;5;34m512\u001b[0m)      │     \u001b[38;5;34m1,574,912\u001b[0m │\n",
       "├─────────────────────────────────┼────────────────────────┼───────────────┤\n",
       "│ bidirectional_1 (\u001b[38;5;33mBidirectional\u001b[0m) │ (\u001b[38;5;45mNone\u001b[0m, \u001b[38;5;45mNone\u001b[0m, \u001b[38;5;34m256\u001b[0m)      │       \u001b[38;5;34m656,384\u001b[0m │\n",
       "├─────────────────────────────────┼────────────────────────┼───────────────┤\n",
       "│ attention_layer                 │ (\u001b[38;5;45mNone\u001b[0m, \u001b[38;5;34m256\u001b[0m)            │        \u001b[38;5;34m66,048\u001b[0m │\n",
       "│ (\u001b[38;5;33mAttentionLayer\u001b[0m)                │                        │               │\n",
       "├─────────────────────────────────┼────────────────────────┼───────────────┤\n",
       "│ batch_normalization_6           │ (\u001b[38;5;45mNone\u001b[0m, \u001b[38;5;34m256\u001b[0m)            │         \u001b[38;5;34m1,024\u001b[0m │\n",
       "│ (\u001b[38;5;33mBatchNormalization\u001b[0m)            │                        │               │\n",
       "├─────────────────────────────────┼────────────────────────┼───────────────┤\n",
       "│ dense_2 (\u001b[38;5;33mDense\u001b[0m)                 │ (\u001b[38;5;45mNone\u001b[0m, \u001b[38;5;34m1\u001b[0m)              │           \u001b[38;5;34m257\u001b[0m │\n",
       "└─────────────────────────────────┴────────────────────────┴───────────────┘\n"
      ]
     },
     "metadata": {},
     "output_type": "display_data"
    },
    {
     "data": {
      "text/html": [
       "<pre style=\"white-space:pre;overflow-x:auto;line-height:normal;font-family:Menlo,'DejaVu Sans Mono',consolas,'Courier New',monospace\"><span style=\"font-weight: bold\"> Total params: </span><span style=\"color: #00af00; text-decoration-color: #00af00\">2,298,625</span> (8.77 MB)\n",
       "</pre>\n"
      ],
      "text/plain": [
       "\u001b[1m Total params: \u001b[0m\u001b[38;5;34m2,298,625\u001b[0m (8.77 MB)\n"
      ]
     },
     "metadata": {},
     "output_type": "display_data"
    },
    {
     "data": {
      "text/html": [
       "<pre style=\"white-space:pre;overflow-x:auto;line-height:normal;font-family:Menlo,'DejaVu Sans Mono',consolas,'Courier New',monospace\"><span style=\"font-weight: bold\"> Trainable params: </span><span style=\"color: #00af00; text-decoration-color: #00af00\">2,298,113</span> (8.77 MB)\n",
       "</pre>\n"
      ],
      "text/plain": [
       "\u001b[1m Trainable params: \u001b[0m\u001b[38;5;34m2,298,113\u001b[0m (8.77 MB)\n"
      ]
     },
     "metadata": {},
     "output_type": "display_data"
    },
    {
     "data": {
      "text/html": [
       "<pre style=\"white-space:pre;overflow-x:auto;line-height:normal;font-family:Menlo,'DejaVu Sans Mono',consolas,'Courier New',monospace\"><span style=\"font-weight: bold\"> Non-trainable params: </span><span style=\"color: #00af00; text-decoration-color: #00af00\">512</span> (2.00 KB)\n",
       "</pre>\n"
      ],
      "text/plain": [
       "\u001b[1m Non-trainable params: \u001b[0m\u001b[38;5;34m512\u001b[0m (2.00 KB)\n"
      ]
     },
     "metadata": {},
     "output_type": "display_data"
    }
   ],
   "source": [
    "# if __name__ == \"__main__\":\n",
    "#     real_faces = \"E:/Research/real/Cropped_Faces\"\n",
    "#     fake_faces = \"E:/Research/fake/Cropped_Faces\"\n",
    "    # real_data, fake_data = prepare_data(real_faces, \"\", fake_faces, \"\")\n",
    "    \n",
    "    # Build the Spatial and Temporal Models\n",
    "spatial_model, temporal_model = build_model(input_shape=(299, 299, 9))\n",
    "\n",
    "# x_train = x_train.astype('float32')\n",
    "# x_test = x_test.astype('float32')\n",
    "# y_test = y_test.astype('float32')\n",
    "# y_test = y_test.astype('float32')\n",
    "\n",
    "# spatial_model.summary()\n",
    "temporal_model.summary()\n"
   ]
  },
  {
   "cell_type": "code",
   "execution_count": 10,
   "metadata": {},
   "outputs": [
    {
     "name": "stdout",
     "output_type": "stream",
     "text": [
      "Extracting features from Xception (Spatial Model)...\n"
     ]
    },
    {
     "name": "stderr",
     "output_type": "stream",
     "text": [
      "c:\\Users\\G713QM-\\anaconda3\\Lib\\site-packages\\keras\\src\\trainers\\data_adapters\\py_dataset_adapter.py:121: UserWarning: Your `PyDataset` class should call `super().__init__(**kwargs)` in its constructor. `**kwargs` can include `workers`, `use_multiprocessing`, `max_queue_size`. Do not pass these arguments to `fit()`, as they will be ignored.\n",
      "  self._warn_if_super_not_called()\n"
     ]
    },
    {
     "name": "stdout",
     "output_type": "stream",
     "text": [
      "\u001b[1m500/500\u001b[0m \u001b[32m━━━━━━━━━━━━━━━━━━━━\u001b[0m\u001b[37m\u001b[0m \u001b[1m1865s\u001b[0m 4s/step\n",
      "\u001b[1m125/125\u001b[0m \u001b[32m━━━━━━━━━━━━━━━━━━━━\u001b[0m\u001b[37m\u001b[0m \u001b[1m478s\u001b[0m 4s/step\n",
      "Training Improved Temporal Model (LSTM)...\n",
      "Epoch 1/100\n",
      "\u001b[1m500/500\u001b[0m \u001b[32m━━━━━━━━━━━━━━━━━━━━\u001b[0m\u001b[37m\u001b[0m \u001b[1m0s\u001b[0m 19ms/step - accuracy: 0.5086 - loss: 0.6931\n",
      "Epoch 1: val_accuracy improved from -inf to 0.50000, saving model to best_model.h5\n"
     ]
    },
    {
     "name": "stderr",
     "output_type": "stream",
     "text": [
      "WARNING:absl:You are saving your model as an HDF5 file via `model.save()` or `keras.saving.save_model(model)`. This file format is considered legacy. We recommend using instead the native Keras format, e.g. `model.save('my_model.keras')` or `keras.saving.save_model(model, 'my_model.keras')`. \n"
     ]
    },
    {
     "name": "stdout",
     "output_type": "stream",
     "text": [
      "\u001b[1m500/500\u001b[0m \u001b[32m━━━━━━━━━━━━━━━━━━━━\u001b[0m\u001b[37m\u001b[0m \u001b[1m19s\u001b[0m 22ms/step - accuracy: 0.5086 - loss: 0.6931 - val_accuracy: 0.5000 - val_loss: 0.6931 - learning_rate: 1.0000e-04\n",
      "Epoch 2/100\n",
      "\u001b[1m498/500\u001b[0m \u001b[32m━━━━━━━━━━━━━━━━━━━\u001b[0m\u001b[37m━\u001b[0m \u001b[1m0s\u001b[0m 20ms/step - accuracy: 0.5661 - loss: 0.6916\n",
      "Epoch 2: val_accuracy improved from 0.50000 to 0.64500, saving model to best_model.h5\n"
     ]
    },
    {
     "name": "stderr",
     "output_type": "stream",
     "text": [
      "WARNING:absl:You are saving your model as an HDF5 file via `model.save()` or `keras.saving.save_model(model)`. This file format is considered legacy. We recommend using instead the native Keras format, e.g. `model.save('my_model.keras')` or `keras.saving.save_model(model, 'my_model.keras')`. \n"
     ]
    },
    {
     "name": "stdout",
     "output_type": "stream",
     "text": [
      "\u001b[1m500/500\u001b[0m \u001b[32m━━━━━━━━━━━━━━━━━━━━\u001b[0m\u001b[37m\u001b[0m \u001b[1m11s\u001b[0m 21ms/step - accuracy: 0.5662 - loss: 0.6916 - val_accuracy: 0.6450 - val_loss: 0.6864 - learning_rate: 1.0000e-04\n",
      "Epoch 3/100\n",
      "\u001b[1m499/500\u001b[0m \u001b[32m━━━━━━━━━━━━━━━━━━━\u001b[0m\u001b[37m━\u001b[0m \u001b[1m0s\u001b[0m 20ms/step - accuracy: 0.6551 - loss: 0.6817\n",
      "Epoch 3: val_accuracy improved from 0.64500 to 0.88725, saving model to best_model.h5\n"
     ]
    },
    {
     "name": "stderr",
     "output_type": "stream",
     "text": [
      "WARNING:absl:You are saving your model as an HDF5 file via `model.save()` or `keras.saving.save_model(model)`. This file format is considered legacy. We recommend using instead the native Keras format, e.g. `model.save('my_model.keras')` or `keras.saving.save_model(model, 'my_model.keras')`. \n"
     ]
    },
    {
     "name": "stdout",
     "output_type": "stream",
     "text": [
      "\u001b[1m500/500\u001b[0m \u001b[32m━━━━━━━━━━━━━━━━━━━━\u001b[0m\u001b[37m\u001b[0m \u001b[1m11s\u001b[0m 21ms/step - accuracy: 0.6552 - loss: 0.6817 - val_accuracy: 0.8873 - val_loss: 0.6479 - learning_rate: 1.0000e-04\n",
      "Epoch 4/100\n",
      "\u001b[1m499/500\u001b[0m \u001b[32m━━━━━━━━━━━━━━━━━━━\u001b[0m\u001b[37m━\u001b[0m \u001b[1m0s\u001b[0m 20ms/step - accuracy: 0.7460 - loss: 0.6283\n",
      "Epoch 4: val_accuracy did not improve from 0.88725\n",
      "\u001b[1m500/500\u001b[0m \u001b[32m━━━━━━━━━━━━━━━━━━━━\u001b[0m\u001b[37m\u001b[0m \u001b[1m11s\u001b[0m 21ms/step - accuracy: 0.7461 - loss: 0.6282 - val_accuracy: 0.8353 - val_loss: 0.5104 - learning_rate: 1.0000e-04\n",
      "Epoch 5/100\n",
      "\u001b[1m500/500\u001b[0m \u001b[32m━━━━━━━━━━━━━━━━━━━━\u001b[0m\u001b[37m\u001b[0m \u001b[1m0s\u001b[0m 19ms/step - accuracy: 0.8293 - loss: 0.4831\n",
      "Epoch 5: val_accuracy did not improve from 0.88725\n",
      "\u001b[1m500/500\u001b[0m \u001b[32m━━━━━━━━━━━━━━━━━━━━\u001b[0m\u001b[37m\u001b[0m \u001b[1m10s\u001b[0m 20ms/step - accuracy: 0.8293 - loss: 0.4830 - val_accuracy: 0.8808 - val_loss: 0.3641 - learning_rate: 1.0000e-04\n",
      "Epoch 6/100\n",
      "\u001b[1m499/500\u001b[0m \u001b[32m━━━━━━━━━━━━━━━━━━━\u001b[0m\u001b[37m━\u001b[0m \u001b[1m0s\u001b[0m 19ms/step - accuracy: 0.8675 - loss: 0.3626\n",
      "Epoch 6: val_accuracy improved from 0.88725 to 0.88750, saving model to best_model.h5\n"
     ]
    },
    {
     "name": "stderr",
     "output_type": "stream",
     "text": [
      "WARNING:absl:You are saving your model as an HDF5 file via `model.save()` or `keras.saving.save_model(model)`. This file format is considered legacy. We recommend using instead the native Keras format, e.g. `model.save('my_model.keras')` or `keras.saving.save_model(model, 'my_model.keras')`. \n"
     ]
    },
    {
     "name": "stdout",
     "output_type": "stream",
     "text": [
      "\u001b[1m500/500\u001b[0m \u001b[32m━━━━━━━━━━━━━━━━━━━━\u001b[0m\u001b[37m\u001b[0m \u001b[1m10s\u001b[0m 20ms/step - accuracy: 0.8675 - loss: 0.3626 - val_accuracy: 0.8875 - val_loss: 0.3176 - learning_rate: 1.0000e-04\n",
      "Epoch 7/100\n",
      "\u001b[1m498/500\u001b[0m \u001b[32m━━━━━━━━━━━━━━━━━━━\u001b[0m\u001b[37m━\u001b[0m \u001b[1m0s\u001b[0m 20ms/step - accuracy: 0.8669 - loss: 0.3454\n",
      "Epoch 7: val_accuracy improved from 0.88750 to 0.89475, saving model to best_model.h5\n"
     ]
    },
    {
     "name": "stderr",
     "output_type": "stream",
     "text": [
      "WARNING:absl:You are saving your model as an HDF5 file via `model.save()` or `keras.saving.save_model(model)`. This file format is considered legacy. We recommend using instead the native Keras format, e.g. `model.save('my_model.keras')` or `keras.saving.save_model(model, 'my_model.keras')`. \n"
     ]
    },
    {
     "name": "stdout",
     "output_type": "stream",
     "text": [
      "\u001b[1m500/500\u001b[0m \u001b[32m━━━━━━━━━━━━━━━━━━━━\u001b[0m\u001b[37m\u001b[0m \u001b[1m10s\u001b[0m 21ms/step - accuracy: 0.8669 - loss: 0.3453 - val_accuracy: 0.8947 - val_loss: 0.2967 - learning_rate: 1.0000e-04\n",
      "Epoch 8/100\n",
      "\u001b[1m498/500\u001b[0m \u001b[32m━━━━━━━━━━━━━━━━━━━\u001b[0m\u001b[37m━\u001b[0m \u001b[1m0s\u001b[0m 19ms/step - accuracy: 0.8645 - loss: 0.3451\n",
      "Epoch 8: val_accuracy did not improve from 0.89475\n",
      "\u001b[1m500/500\u001b[0m \u001b[32m━━━━━━━━━━━━━━━━━━━━\u001b[0m\u001b[37m\u001b[0m \u001b[1m10s\u001b[0m 21ms/step - accuracy: 0.8645 - loss: 0.3450 - val_accuracy: 0.8917 - val_loss: 0.2950 - learning_rate: 1.0000e-04\n",
      "Epoch 9/100\n",
      "\u001b[1m498/500\u001b[0m \u001b[32m━━━━━━━━━━━━━━━━━━━\u001b[0m\u001b[37m━\u001b[0m \u001b[1m0s\u001b[0m 19ms/step - accuracy: 0.8686 - loss: 0.3400\n",
      "Epoch 9: val_accuracy did not improve from 0.89475\n",
      "\u001b[1m500/500\u001b[0m \u001b[32m━━━━━━━━━━━━━━━━━━━━\u001b[0m\u001b[37m\u001b[0m \u001b[1m10s\u001b[0m 20ms/step - accuracy: 0.8686 - loss: 0.3399 - val_accuracy: 0.8928 - val_loss: 0.2937 - learning_rate: 1.0000e-04\n",
      "Epoch 10/100\n",
      "\u001b[1m498/500\u001b[0m \u001b[32m━━━━━━━━━━━━━━━━━━━\u001b[0m\u001b[37m━\u001b[0m \u001b[1m0s\u001b[0m 19ms/step - accuracy: 0.8713 - loss: 0.3205\n",
      "Epoch 10: val_accuracy improved from 0.89475 to 0.90275, saving model to best_model.h5\n"
     ]
    },
    {
     "name": "stderr",
     "output_type": "stream",
     "text": [
      "WARNING:absl:You are saving your model as an HDF5 file via `model.save()` or `keras.saving.save_model(model)`. This file format is considered legacy. We recommend using instead the native Keras format, e.g. `model.save('my_model.keras')` or `keras.saving.save_model(model, 'my_model.keras')`. \n"
     ]
    },
    {
     "name": "stdout",
     "output_type": "stream",
     "text": [
      "\u001b[1m500/500\u001b[0m \u001b[32m━━━━━━━━━━━━━━━━━━━━\u001b[0m\u001b[37m\u001b[0m \u001b[1m10s\u001b[0m 20ms/step - accuracy: 0.8713 - loss: 0.3205 - val_accuracy: 0.9028 - val_loss: 0.2742 - learning_rate: 1.0000e-04\n",
      "Epoch 11/100\n",
      "\u001b[1m498/500\u001b[0m \u001b[32m━━━━━━━━━━━━━━━━━━━\u001b[0m\u001b[37m━\u001b[0m \u001b[1m0s\u001b[0m 20ms/step - accuracy: 0.8710 - loss: 0.3235\n",
      "Epoch 11: val_accuracy improved from 0.90275 to 0.90525, saving model to best_model.h5\n"
     ]
    },
    {
     "name": "stderr",
     "output_type": "stream",
     "text": [
      "WARNING:absl:You are saving your model as an HDF5 file via `model.save()` or `keras.saving.save_model(model)`. This file format is considered legacy. We recommend using instead the native Keras format, e.g. `model.save('my_model.keras')` or `keras.saving.save_model(model, 'my_model.keras')`. \n"
     ]
    },
    {
     "name": "stdout",
     "output_type": "stream",
     "text": [
      "\u001b[1m500/500\u001b[0m \u001b[32m━━━━━━━━━━━━━━━━━━━━\u001b[0m\u001b[37m\u001b[0m \u001b[1m10s\u001b[0m 21ms/step - accuracy: 0.8710 - loss: 0.3235 - val_accuracy: 0.9053 - val_loss: 0.2709 - learning_rate: 1.0000e-04\n",
      "Epoch 12/100\n",
      "\u001b[1m498/500\u001b[0m \u001b[32m━━━━━━━━━━━━━━━━━━━\u001b[0m\u001b[37m━\u001b[0m \u001b[1m0s\u001b[0m 20ms/step - accuracy: 0.8777 - loss: 0.3148\n",
      "Epoch 12: val_accuracy did not improve from 0.90525\n",
      "\u001b[1m500/500\u001b[0m \u001b[32m━━━━━━━━━━━━━━━━━━━━\u001b[0m\u001b[37m\u001b[0m \u001b[1m10s\u001b[0m 21ms/step - accuracy: 0.8777 - loss: 0.3148 - val_accuracy: 0.8985 - val_loss: 0.2735 - learning_rate: 1.0000e-04\n",
      "Epoch 13/100\n",
      "\u001b[1m499/500\u001b[0m \u001b[32m━━━━━━━━━━━━━━━━━━━\u001b[0m\u001b[37m━\u001b[0m \u001b[1m0s\u001b[0m 19ms/step - accuracy: 0.8757 - loss: 0.3147\n",
      "Epoch 13: val_accuracy improved from 0.90525 to 0.90775, saving model to best_model.h5\n"
     ]
    },
    {
     "name": "stderr",
     "output_type": "stream",
     "text": [
      "WARNING:absl:You are saving your model as an HDF5 file via `model.save()` or `keras.saving.save_model(model)`. This file format is considered legacy. We recommend using instead the native Keras format, e.g. `model.save('my_model.keras')` or `keras.saving.save_model(model, 'my_model.keras')`. \n"
     ]
    },
    {
     "name": "stdout",
     "output_type": "stream",
     "text": [
      "\u001b[1m500/500\u001b[0m \u001b[32m━━━━━━━━━━━━━━━━━━━━\u001b[0m\u001b[37m\u001b[0m \u001b[1m10s\u001b[0m 20ms/step - accuracy: 0.8757 - loss: 0.3148 - val_accuracy: 0.9078 - val_loss: 0.2675 - learning_rate: 1.0000e-04\n",
      "Epoch 14/100\n",
      "\u001b[1m498/500\u001b[0m \u001b[32m━━━━━━━━━━━━━━━━━━━\u001b[0m\u001b[37m━\u001b[0m \u001b[1m0s\u001b[0m 20ms/step - accuracy: 0.8767 - loss: 0.3118\n",
      "Epoch 14: val_accuracy did not improve from 0.90775\n",
      "\u001b[1m500/500\u001b[0m \u001b[32m━━━━━━━━━━━━━━━━━━━━\u001b[0m\u001b[37m\u001b[0m \u001b[1m10s\u001b[0m 21ms/step - accuracy: 0.8768 - loss: 0.3118 - val_accuracy: 0.8972 - val_loss: 0.2712 - learning_rate: 1.0000e-04\n",
      "Epoch 15/100\n",
      "\u001b[1m500/500\u001b[0m \u001b[32m━━━━━━━━━━━━━━━━━━━━\u001b[0m\u001b[37m\u001b[0m \u001b[1m0s\u001b[0m 19ms/step - accuracy: 0.8800 - loss: 0.3058\n",
      "Epoch 15: val_accuracy improved from 0.90775 to 0.91000, saving model to best_model.h5\n"
     ]
    },
    {
     "name": "stderr",
     "output_type": "stream",
     "text": [
      "WARNING:absl:You are saving your model as an HDF5 file via `model.save()` or `keras.saving.save_model(model)`. This file format is considered legacy. We recommend using instead the native Keras format, e.g. `model.save('my_model.keras')` or `keras.saving.save_model(model, 'my_model.keras')`. \n"
     ]
    },
    {
     "name": "stdout",
     "output_type": "stream",
     "text": [
      "\u001b[1m500/500\u001b[0m \u001b[32m━━━━━━━━━━━━━━━━━━━━\u001b[0m\u001b[37m\u001b[0m \u001b[1m10s\u001b[0m 20ms/step - accuracy: 0.8800 - loss: 0.3058 - val_accuracy: 0.9100 - val_loss: 0.2621 - learning_rate: 1.0000e-04\n",
      "Epoch 16/100\n",
      "\u001b[1m500/500\u001b[0m \u001b[32m━━━━━━━━━━━━━━━━━━━━\u001b[0m\u001b[37m\u001b[0m \u001b[1m0s\u001b[0m 20ms/step - accuracy: 0.8819 - loss: 0.3093\n",
      "Epoch 16: val_accuracy did not improve from 0.91000\n",
      "\u001b[1m500/500\u001b[0m \u001b[32m━━━━━━━━━━━━━━━━━━━━\u001b[0m\u001b[37m\u001b[0m \u001b[1m10s\u001b[0m 21ms/step - accuracy: 0.8819 - loss: 0.3093 - val_accuracy: 0.8950 - val_loss: 0.2725 - learning_rate: 1.0000e-04\n",
      "Epoch 17/100\n",
      "\u001b[1m500/500\u001b[0m \u001b[32m━━━━━━━━━━━━━━━━━━━━\u001b[0m\u001b[37m\u001b[0m \u001b[1m0s\u001b[0m 19ms/step - accuracy: 0.8855 - loss: 0.3022\n",
      "Epoch 17: val_accuracy did not improve from 0.91000\n",
      "\u001b[1m500/500\u001b[0m \u001b[32m━━━━━━━━━━━━━━━━━━━━\u001b[0m\u001b[37m\u001b[0m \u001b[1m10s\u001b[0m 20ms/step - accuracy: 0.8855 - loss: 0.3022 - val_accuracy: 0.9062 - val_loss: 0.2616 - learning_rate: 1.0000e-04\n",
      "Epoch 18/100\n",
      "\u001b[1m498/500\u001b[0m \u001b[32m━━━━━━━━━━━━━━━━━━━\u001b[0m\u001b[37m━\u001b[0m \u001b[1m0s\u001b[0m 19ms/step - accuracy: 0.8842 - loss: 0.3016\n",
      "Epoch 18: val_accuracy improved from 0.91000 to 0.91300, saving model to best_model.h5\n"
     ]
    },
    {
     "name": "stderr",
     "output_type": "stream",
     "text": [
      "WARNING:absl:You are saving your model as an HDF5 file via `model.save()` or `keras.saving.save_model(model)`. This file format is considered legacy. We recommend using instead the native Keras format, e.g. `model.save('my_model.keras')` or `keras.saving.save_model(model, 'my_model.keras')`. \n"
     ]
    },
    {
     "name": "stdout",
     "output_type": "stream",
     "text": [
      "\u001b[1m500/500\u001b[0m \u001b[32m━━━━━━━━━━━━━━━━━━━━\u001b[0m\u001b[37m\u001b[0m \u001b[1m10s\u001b[0m 20ms/step - accuracy: 0.8842 - loss: 0.3016 - val_accuracy: 0.9130 - val_loss: 0.2549 - learning_rate: 1.0000e-04\n",
      "Epoch 19/100\n",
      "\u001b[1m500/500\u001b[0m \u001b[32m━━━━━━━━━━━━━━━━━━━━\u001b[0m\u001b[37m\u001b[0m \u001b[1m0s\u001b[0m 19ms/step - accuracy: 0.8837 - loss: 0.2949\n",
      "Epoch 19: val_accuracy improved from 0.91300 to 0.91900, saving model to best_model.h5\n"
     ]
    },
    {
     "name": "stderr",
     "output_type": "stream",
     "text": [
      "WARNING:absl:You are saving your model as an HDF5 file via `model.save()` or `keras.saving.save_model(model)`. This file format is considered legacy. We recommend using instead the native Keras format, e.g. `model.save('my_model.keras')` or `keras.saving.save_model(model, 'my_model.keras')`. \n"
     ]
    },
    {
     "name": "stdout",
     "output_type": "stream",
     "text": [
      "\u001b[1m500/500\u001b[0m \u001b[32m━━━━━━━━━━━━━━━━━━━━\u001b[0m\u001b[37m\u001b[0m \u001b[1m10s\u001b[0m 21ms/step - accuracy: 0.8837 - loss: 0.2949 - val_accuracy: 0.9190 - val_loss: 0.2505 - learning_rate: 1.0000e-04\n",
      "Epoch 20/100\n",
      "\u001b[1m498/500\u001b[0m \u001b[32m━━━━━━━━━━━━━━━━━━━\u001b[0m\u001b[37m━\u001b[0m \u001b[1m0s\u001b[0m 20ms/step - accuracy: 0.8823 - loss: 0.3102\n",
      "Epoch 20: val_accuracy improved from 0.91900 to 0.91950, saving model to best_model.h5\n"
     ]
    },
    {
     "name": "stderr",
     "output_type": "stream",
     "text": [
      "WARNING:absl:You are saving your model as an HDF5 file via `model.save()` or `keras.saving.save_model(model)`. This file format is considered legacy. We recommend using instead the native Keras format, e.g. `model.save('my_model.keras')` or `keras.saving.save_model(model, 'my_model.keras')`. \n"
     ]
    },
    {
     "name": "stdout",
     "output_type": "stream",
     "text": [
      "\u001b[1m500/500\u001b[0m \u001b[32m━━━━━━━━━━━━━━━━━━━━\u001b[0m\u001b[37m\u001b[0m \u001b[1m10s\u001b[0m 21ms/step - accuracy: 0.8823 - loss: 0.3102 - val_accuracy: 0.9195 - val_loss: 0.2484 - learning_rate: 1.0000e-04\n",
      "Epoch 21/100\n",
      "\u001b[1m500/500\u001b[0m \u001b[32m━━━━━━━━━━━━━━━━━━━━\u001b[0m\u001b[37m\u001b[0m \u001b[1m0s\u001b[0m 20ms/step - accuracy: 0.8919 - loss: 0.2912\n",
      "Epoch 21: val_accuracy did not improve from 0.91950\n",
      "\u001b[1m500/500\u001b[0m \u001b[32m━━━━━━━━━━━━━━━━━━━━\u001b[0m\u001b[37m\u001b[0m \u001b[1m11s\u001b[0m 21ms/step - accuracy: 0.8919 - loss: 0.2912 - val_accuracy: 0.9180 - val_loss: 0.2489 - learning_rate: 1.0000e-04\n",
      "Epoch 22/100\n",
      "\u001b[1m499/500\u001b[0m \u001b[32m━━━━━━━━━━━━━━━━━━━\u001b[0m\u001b[37m━\u001b[0m \u001b[1m0s\u001b[0m 19ms/step - accuracy: 0.8893 - loss: 0.2916\n",
      "Epoch 22: val_accuracy improved from 0.91950 to 0.92400, saving model to best_model.h5\n"
     ]
    },
    {
     "name": "stderr",
     "output_type": "stream",
     "text": [
      "WARNING:absl:You are saving your model as an HDF5 file via `model.save()` or `keras.saving.save_model(model)`. This file format is considered legacy. We recommend using instead the native Keras format, e.g. `model.save('my_model.keras')` or `keras.saving.save_model(model, 'my_model.keras')`. \n"
     ]
    },
    {
     "name": "stdout",
     "output_type": "stream",
     "text": [
      "\u001b[1m500/500\u001b[0m \u001b[32m━━━━━━━━━━━━━━━━━━━━\u001b[0m\u001b[37m\u001b[0m \u001b[1m10s\u001b[0m 20ms/step - accuracy: 0.8893 - loss: 0.2916 - val_accuracy: 0.9240 - val_loss: 0.2430 - learning_rate: 1.0000e-04\n",
      "Epoch 23/100\n",
      "\u001b[1m500/500\u001b[0m \u001b[32m━━━━━━━━━━━━━━━━━━━━\u001b[0m\u001b[37m\u001b[0m \u001b[1m0s\u001b[0m 19ms/step - accuracy: 0.8930 - loss: 0.2935\n",
      "Epoch 23: val_accuracy did not improve from 0.92400\n",
      "\u001b[1m500/500\u001b[0m \u001b[32m━━━━━━━━━━━━━━━━━━━━\u001b[0m\u001b[37m\u001b[0m \u001b[1m10s\u001b[0m 21ms/step - accuracy: 0.8930 - loss: 0.2934 - val_accuracy: 0.9080 - val_loss: 0.2592 - learning_rate: 1.0000e-04\n",
      "Epoch 24/100\n",
      "\u001b[1m498/500\u001b[0m \u001b[32m━━━━━━━━━━━━━━━━━━━\u001b[0m\u001b[37m━\u001b[0m \u001b[1m0s\u001b[0m 19ms/step - accuracy: 0.8937 - loss: 0.2845\n",
      "Epoch 24: val_accuracy did not improve from 0.92400\n",
      "\u001b[1m500/500\u001b[0m \u001b[32m━━━━━━━━━━━━━━━━━━━━\u001b[0m\u001b[37m\u001b[0m \u001b[1m10s\u001b[0m 20ms/step - accuracy: 0.8937 - loss: 0.2846 - val_accuracy: 0.9155 - val_loss: 0.2456 - learning_rate: 1.0000e-04\n",
      "Epoch 25/100\n",
      "\u001b[1m499/500\u001b[0m \u001b[32m━━━━━━━━━━━━━━━━━━━\u001b[0m\u001b[37m━\u001b[0m \u001b[1m0s\u001b[0m 19ms/step - accuracy: 0.8926 - loss: 0.2866\n",
      "Epoch 25: val_accuracy did not improve from 0.92400\n",
      "\u001b[1m500/500\u001b[0m \u001b[32m━━━━━━━━━━━━━━━━━━━━\u001b[0m\u001b[37m\u001b[0m \u001b[1m10s\u001b[0m 20ms/step - accuracy: 0.8926 - loss: 0.2866 - val_accuracy: 0.9060 - val_loss: 0.2620 - learning_rate: 1.0000e-04\n",
      "Epoch 26/100\n",
      "\u001b[1m499/500\u001b[0m \u001b[32m━━━━━━━━━━━━━━━━━━━\u001b[0m\u001b[37m━\u001b[0m \u001b[1m0s\u001b[0m 19ms/step - accuracy: 0.8929 - loss: 0.2817\n",
      "Epoch 26: val_accuracy did not improve from 0.92400\n",
      "\u001b[1m500/500\u001b[0m \u001b[32m━━━━━━━━━━━━━━━━━━━━\u001b[0m\u001b[37m\u001b[0m \u001b[1m10s\u001b[0m 20ms/step - accuracy: 0.8929 - loss: 0.2817 - val_accuracy: 0.9240 - val_loss: 0.2371 - learning_rate: 1.0000e-04\n",
      "Epoch 27/100\n",
      "\u001b[1m497/500\u001b[0m \u001b[32m━━━━━━━━━━━━━━━━━━━\u001b[0m\u001b[37m━\u001b[0m \u001b[1m0s\u001b[0m 19ms/step - accuracy: 0.8921 - loss: 0.2758\n",
      "Epoch 27: val_accuracy improved from 0.92400 to 0.93200, saving model to best_model.h5\n"
     ]
    },
    {
     "name": "stderr",
     "output_type": "stream",
     "text": [
      "WARNING:absl:You are saving your model as an HDF5 file via `model.save()` or `keras.saving.save_model(model)`. This file format is considered legacy. We recommend using instead the native Keras format, e.g. `model.save('my_model.keras')` or `keras.saving.save_model(model, 'my_model.keras')`. \n"
     ]
    },
    {
     "name": "stdout",
     "output_type": "stream",
     "text": [
      "\u001b[1m500/500\u001b[0m \u001b[32m━━━━━━━━━━━━━━━━━━━━\u001b[0m\u001b[37m\u001b[0m \u001b[1m10s\u001b[0m 21ms/step - accuracy: 0.8921 - loss: 0.2759 - val_accuracy: 0.9320 - val_loss: 0.2309 - learning_rate: 1.0000e-04\n",
      "Epoch 28/100\n",
      "\u001b[1m498/500\u001b[0m \u001b[32m━━━━━━━━━━━━━━━━━━━\u001b[0m\u001b[37m━\u001b[0m \u001b[1m0s\u001b[0m 20ms/step - accuracy: 0.8984 - loss: 0.2836\n",
      "Epoch 28: val_accuracy did not improve from 0.93200\n",
      "\u001b[1m500/500\u001b[0m \u001b[32m━━━━━━━━━━━━━━━━━━━━\u001b[0m\u001b[37m\u001b[0m \u001b[1m11s\u001b[0m 21ms/step - accuracy: 0.8984 - loss: 0.2835 - val_accuracy: 0.9265 - val_loss: 0.2338 - learning_rate: 1.0000e-04\n",
      "Epoch 29/100\n",
      "\u001b[1m499/500\u001b[0m \u001b[32m━━━━━━━━━━━━━━━━━━━\u001b[0m\u001b[37m━\u001b[0m \u001b[1m0s\u001b[0m 19ms/step - accuracy: 0.9025 - loss: 0.2744\n",
      "Epoch 29: val_accuracy did not improve from 0.93200\n",
      "\u001b[1m500/500\u001b[0m \u001b[32m━━━━━━━━━━━━━━━━━━━━\u001b[0m\u001b[37m\u001b[0m \u001b[1m10s\u001b[0m 20ms/step - accuracy: 0.9025 - loss: 0.2745 - val_accuracy: 0.9280 - val_loss: 0.2313 - learning_rate: 1.0000e-04\n",
      "Epoch 30/100\n",
      "\u001b[1m500/500\u001b[0m \u001b[32m━━━━━━━━━━━━━━━━━━━━\u001b[0m\u001b[37m\u001b[0m \u001b[1m0s\u001b[0m 19ms/step - accuracy: 0.8977 - loss: 0.2774\n",
      "Epoch 30: val_accuracy did not improve from 0.93200\n",
      "\u001b[1m500/500\u001b[0m \u001b[32m━━━━━━━━━━━━━━━━━━━━\u001b[0m\u001b[37m\u001b[0m \u001b[1m10s\u001b[0m 20ms/step - accuracy: 0.8977 - loss: 0.2774 - val_accuracy: 0.9310 - val_loss: 0.2257 - learning_rate: 1.0000e-04\n",
      "Epoch 31/100\n",
      "\u001b[1m499/500\u001b[0m \u001b[32m━━━━━━━━━━━━━━━━━━━\u001b[0m\u001b[37m━\u001b[0m \u001b[1m0s\u001b[0m 19ms/step - accuracy: 0.8976 - loss: 0.2716\n",
      "Epoch 31: val_accuracy did not improve from 0.93200\n",
      "\u001b[1m500/500\u001b[0m \u001b[32m━━━━━━━━━━━━━━━━━━━━\u001b[0m\u001b[37m\u001b[0m \u001b[1m10s\u001b[0m 20ms/step - accuracy: 0.8976 - loss: 0.2716 - val_accuracy: 0.9105 - val_loss: 0.2439 - learning_rate: 1.0000e-04\n",
      "Epoch 32/100\n",
      "\u001b[1m498/500\u001b[0m \u001b[32m━━━━━━━━━━━━━━━━━━━\u001b[0m\u001b[37m━\u001b[0m \u001b[1m0s\u001b[0m 19ms/step - accuracy: 0.9011 - loss: 0.2705\n",
      "Epoch 32: val_accuracy improved from 0.93200 to 0.93725, saving model to best_model.h5\n"
     ]
    },
    {
     "name": "stderr",
     "output_type": "stream",
     "text": [
      "WARNING:absl:You are saving your model as an HDF5 file via `model.save()` or `keras.saving.save_model(model)`. This file format is considered legacy. We recommend using instead the native Keras format, e.g. `model.save('my_model.keras')` or `keras.saving.save_model(model, 'my_model.keras')`. \n"
     ]
    },
    {
     "name": "stdout",
     "output_type": "stream",
     "text": [
      "\u001b[1m500/500\u001b[0m \u001b[32m━━━━━━━━━━━━━━━━━━━━\u001b[0m\u001b[37m\u001b[0m \u001b[1m10s\u001b[0m 20ms/step - accuracy: 0.9011 - loss: 0.2705 - val_accuracy: 0.9373 - val_loss: 0.2193 - learning_rate: 1.0000e-04\n",
      "Epoch 33/100\n",
      "\u001b[1m500/500\u001b[0m \u001b[32m━━━━━━━━━━━━━━━━━━━━\u001b[0m\u001b[37m\u001b[0m \u001b[1m0s\u001b[0m 20ms/step - accuracy: 0.8967 - loss: 0.2797\n",
      "Epoch 33: val_accuracy improved from 0.93725 to 0.93825, saving model to best_model.h5\n"
     ]
    },
    {
     "name": "stderr",
     "output_type": "stream",
     "text": [
      "WARNING:absl:You are saving your model as an HDF5 file via `model.save()` or `keras.saving.save_model(model)`. This file format is considered legacy. We recommend using instead the native Keras format, e.g. `model.save('my_model.keras')` or `keras.saving.save_model(model, 'my_model.keras')`. \n"
     ]
    },
    {
     "name": "stdout",
     "output_type": "stream",
     "text": [
      "\u001b[1m500/500\u001b[0m \u001b[32m━━━━━━━━━━━━━━━━━━━━\u001b[0m\u001b[37m\u001b[0m \u001b[1m11s\u001b[0m 21ms/step - accuracy: 0.8967 - loss: 0.2797 - val_accuracy: 0.9383 - val_loss: 0.2169 - learning_rate: 1.0000e-04\n",
      "Epoch 34/100\n",
      "\u001b[1m499/500\u001b[0m \u001b[32m━━━━━━━━━━━━━━━━━━━\u001b[0m\u001b[37m━\u001b[0m \u001b[1m0s\u001b[0m 20ms/step - accuracy: 0.8996 - loss: 0.2649\n",
      "Epoch 34: val_accuracy did not improve from 0.93825\n",
      "\u001b[1m500/500\u001b[0m \u001b[32m━━━━━━━━━━━━━━━━━━━━\u001b[0m\u001b[37m\u001b[0m \u001b[1m10s\u001b[0m 21ms/step - accuracy: 0.8996 - loss: 0.2649 - val_accuracy: 0.9348 - val_loss: 0.2162 - learning_rate: 1.0000e-04\n",
      "Epoch 35/100\n",
      "\u001b[1m499/500\u001b[0m \u001b[32m━━━━━━━━━━━━━━━━━━━\u001b[0m\u001b[37m━\u001b[0m \u001b[1m0s\u001b[0m 19ms/step - accuracy: 0.9037 - loss: 0.2657\n",
      "Epoch 35: val_accuracy improved from 0.93825 to 0.94075, saving model to best_model.h5\n"
     ]
    },
    {
     "name": "stderr",
     "output_type": "stream",
     "text": [
      "WARNING:absl:You are saving your model as an HDF5 file via `model.save()` or `keras.saving.save_model(model)`. This file format is considered legacy. We recommend using instead the native Keras format, e.g. `model.save('my_model.keras')` or `keras.saving.save_model(model, 'my_model.keras')`. \n"
     ]
    },
    {
     "name": "stdout",
     "output_type": "stream",
     "text": [
      "\u001b[1m500/500\u001b[0m \u001b[32m━━━━━━━━━━━━━━━━━━━━\u001b[0m\u001b[37m\u001b[0m \u001b[1m10s\u001b[0m 20ms/step - accuracy: 0.9037 - loss: 0.2658 - val_accuracy: 0.9408 - val_loss: 0.2117 - learning_rate: 1.0000e-04\n",
      "Epoch 36/100\n",
      "\u001b[1m500/500\u001b[0m \u001b[32m━━━━━━━━━━━━━━━━━━━━\u001b[0m\u001b[37m\u001b[0m \u001b[1m0s\u001b[0m 19ms/step - accuracy: 0.9073 - loss: 0.2507\n",
      "Epoch 36: val_accuracy improved from 0.94075 to 0.94250, saving model to best_model.h5\n"
     ]
    },
    {
     "name": "stderr",
     "output_type": "stream",
     "text": [
      "WARNING:absl:You are saving your model as an HDF5 file via `model.save()` or `keras.saving.save_model(model)`. This file format is considered legacy. We recommend using instead the native Keras format, e.g. `model.save('my_model.keras')` or `keras.saving.save_model(model, 'my_model.keras')`. \n"
     ]
    },
    {
     "name": "stdout",
     "output_type": "stream",
     "text": [
      "\u001b[1m500/500\u001b[0m \u001b[32m━━━━━━━━━━━━━━━━━━━━\u001b[0m\u001b[37m\u001b[0m \u001b[1m10s\u001b[0m 21ms/step - accuracy: 0.9073 - loss: 0.2507 - val_accuracy: 0.9425 - val_loss: 0.2092 - learning_rate: 1.0000e-04\n",
      "Epoch 37/100\n",
      "\u001b[1m500/500\u001b[0m \u001b[32m━━━━━━━━━━━━━━━━━━━━\u001b[0m\u001b[37m\u001b[0m \u001b[1m0s\u001b[0m 20ms/step - accuracy: 0.9082 - loss: 0.2582\n",
      "Epoch 37: val_accuracy did not improve from 0.94250\n",
      "\u001b[1m500/500\u001b[0m \u001b[32m━━━━━━━━━━━━━━━━━━━━\u001b[0m\u001b[37m\u001b[0m \u001b[1m10s\u001b[0m 21ms/step - accuracy: 0.9082 - loss: 0.2582 - val_accuracy: 0.9425 - val_loss: 0.2077 - learning_rate: 1.0000e-04\n",
      "Epoch 38/100\n",
      "\u001b[1m499/500\u001b[0m \u001b[32m━━━━━━━━━━━━━━━━━━━\u001b[0m\u001b[37m━\u001b[0m \u001b[1m0s\u001b[0m 19ms/step - accuracy: 0.9070 - loss: 0.2630\n",
      "Epoch 38: val_accuracy did not improve from 0.94250\n",
      "\u001b[1m500/500\u001b[0m \u001b[32m━━━━━━━━━━━━━━━━━━━━\u001b[0m\u001b[37m\u001b[0m \u001b[1m10s\u001b[0m 20ms/step - accuracy: 0.9070 - loss: 0.2629 - val_accuracy: 0.9370 - val_loss: 0.2115 - learning_rate: 1.0000e-04\n",
      "Epoch 39/100\n",
      "\u001b[1m499/500\u001b[0m \u001b[32m━━━━━━━━━━━━━━━━━━━\u001b[0m\u001b[37m━\u001b[0m \u001b[1m0s\u001b[0m 19ms/step - accuracy: 0.9087 - loss: 0.2649\n",
      "Epoch 39: val_accuracy did not improve from 0.94250\n",
      "\u001b[1m500/500\u001b[0m \u001b[32m━━━━━━━━━━━━━━━━━━━━\u001b[0m\u001b[37m\u001b[0m \u001b[1m10s\u001b[0m 20ms/step - accuracy: 0.9087 - loss: 0.2649 - val_accuracy: 0.9383 - val_loss: 0.2106 - learning_rate: 1.0000e-04\n",
      "Epoch 40/100\n",
      "\u001b[1m499/500\u001b[0m \u001b[32m━━━━━━━━━━━━━━━━━━━\u001b[0m\u001b[37m━\u001b[0m \u001b[1m0s\u001b[0m 19ms/step - accuracy: 0.9073 - loss: 0.2505\n",
      "Epoch 40: val_accuracy did not improve from 0.94250\n",
      "\u001b[1m500/500\u001b[0m \u001b[32m━━━━━━━━━━━━━━━━━━━━\u001b[0m\u001b[37m\u001b[0m \u001b[1m10s\u001b[0m 20ms/step - accuracy: 0.9073 - loss: 0.2505 - val_accuracy: 0.9380 - val_loss: 0.2057 - learning_rate: 1.0000e-04\n",
      "Epoch 41/100\n",
      "\u001b[1m500/500\u001b[0m \u001b[32m━━━━━━━━━━━━━━━━━━━━\u001b[0m\u001b[37m\u001b[0m \u001b[1m0s\u001b[0m 19ms/step - accuracy: 0.9071 - loss: 0.2532\n",
      "Epoch 41: val_accuracy improved from 0.94250 to 0.94600, saving model to best_model.h5\n"
     ]
    },
    {
     "name": "stderr",
     "output_type": "stream",
     "text": [
      "WARNING:absl:You are saving your model as an HDF5 file via `model.save()` or `keras.saving.save_model(model)`. This file format is considered legacy. We recommend using instead the native Keras format, e.g. `model.save('my_model.keras')` or `keras.saving.save_model(model, 'my_model.keras')`. \n"
     ]
    },
    {
     "name": "stdout",
     "output_type": "stream",
     "text": [
      "\u001b[1m500/500\u001b[0m \u001b[32m━━━━━━━━━━━━━━━━━━━━\u001b[0m\u001b[37m\u001b[0m \u001b[1m10s\u001b[0m 20ms/step - accuracy: 0.9071 - loss: 0.2532 - val_accuracy: 0.9460 - val_loss: 0.1977 - learning_rate: 1.0000e-04\n",
      "Epoch 42/100\n",
      "\u001b[1m499/500\u001b[0m \u001b[32m━━━━━━━━━━━━━━━━━━━\u001b[0m\u001b[37m━\u001b[0m \u001b[1m0s\u001b[0m 20ms/step - accuracy: 0.9132 - loss: 0.2456\n",
      "Epoch 42: val_accuracy did not improve from 0.94600\n",
      "\u001b[1m500/500\u001b[0m \u001b[32m━━━━━━━━━━━━━━━━━━━━\u001b[0m\u001b[37m\u001b[0m \u001b[1m10s\u001b[0m 21ms/step - accuracy: 0.9132 - loss: 0.2456 - val_accuracy: 0.9350 - val_loss: 0.2109 - learning_rate: 1.0000e-04\n",
      "Epoch 43/100\n",
      "\u001b[1m500/500\u001b[0m \u001b[32m━━━━━━━━━━━━━━━━━━━━\u001b[0m\u001b[37m\u001b[0m \u001b[1m0s\u001b[0m 21ms/step - accuracy: 0.9164 - loss: 0.2403\n",
      "Epoch 43: val_accuracy did not improve from 0.94600\n",
      "\u001b[1m500/500\u001b[0m \u001b[32m━━━━━━━━━━━━━━━━━━━━\u001b[0m\u001b[37m\u001b[0m \u001b[1m11s\u001b[0m 22ms/step - accuracy: 0.9164 - loss: 0.2403 - val_accuracy: 0.9325 - val_loss: 0.2089 - learning_rate: 1.0000e-04\n",
      "Epoch 44/100\n",
      "\u001b[1m498/500\u001b[0m \u001b[32m━━━━━━━━━━━━━━━━━━━\u001b[0m\u001b[37m━\u001b[0m \u001b[1m0s\u001b[0m 20ms/step - accuracy: 0.9132 - loss: 0.2478\n",
      "Epoch 44: val_accuracy improved from 0.94600 to 0.94625, saving model to best_model.h5\n"
     ]
    },
    {
     "name": "stderr",
     "output_type": "stream",
     "text": [
      "WARNING:absl:You are saving your model as an HDF5 file via `model.save()` or `keras.saving.save_model(model)`. This file format is considered legacy. We recommend using instead the native Keras format, e.g. `model.save('my_model.keras')` or `keras.saving.save_model(model, 'my_model.keras')`. \n"
     ]
    },
    {
     "name": "stdout",
     "output_type": "stream",
     "text": [
      "\u001b[1m500/500\u001b[0m \u001b[32m━━━━━━━━━━━━━━━━━━━━\u001b[0m\u001b[37m\u001b[0m \u001b[1m10s\u001b[0m 21ms/step - accuracy: 0.9132 - loss: 0.2478 - val_accuracy: 0.9463 - val_loss: 0.1928 - learning_rate: 1.0000e-04\n",
      "Epoch 45/100\n",
      "\u001b[1m499/500\u001b[0m \u001b[32m━━━━━━━━━━━━━━━━━━━\u001b[0m\u001b[37m━\u001b[0m \u001b[1m0s\u001b[0m 19ms/step - accuracy: 0.9158 - loss: 0.2389\n",
      "Epoch 45: val_accuracy did not improve from 0.94625\n",
      "\u001b[1m500/500\u001b[0m \u001b[32m━━━━━━━━━━━━━━━━━━━━\u001b[0m\u001b[37m\u001b[0m \u001b[1m10s\u001b[0m 20ms/step - accuracy: 0.9158 - loss: 0.2390 - val_accuracy: 0.9463 - val_loss: 0.1913 - learning_rate: 1.0000e-04\n",
      "Epoch 46/100\n",
      "\u001b[1m499/500\u001b[0m \u001b[32m━━━━━━━━━━━━━━━━━━━\u001b[0m\u001b[37m━\u001b[0m \u001b[1m0s\u001b[0m 19ms/step - accuracy: 0.9177 - loss: 0.2346\n",
      "Epoch 46: val_accuracy did not improve from 0.94625\n",
      "\u001b[1m500/500\u001b[0m \u001b[32m━━━━━━━━━━━━━━━━━━━━\u001b[0m\u001b[37m\u001b[0m \u001b[1m10s\u001b[0m 20ms/step - accuracy: 0.9177 - loss: 0.2346 - val_accuracy: 0.9395 - val_loss: 0.1986 - learning_rate: 1.0000e-04\n",
      "Epoch 47/100\n",
      "\u001b[1m499/500\u001b[0m \u001b[32m━━━━━━━━━━━━━━━━━━━\u001b[0m\u001b[37m━\u001b[0m \u001b[1m0s\u001b[0m 19ms/step - accuracy: 0.9180 - loss: 0.2355\n",
      "Epoch 47: val_accuracy improved from 0.94625 to 0.95125, saving model to best_model.h5\n"
     ]
    },
    {
     "name": "stderr",
     "output_type": "stream",
     "text": [
      "WARNING:absl:You are saving your model as an HDF5 file via `model.save()` or `keras.saving.save_model(model)`. This file format is considered legacy. We recommend using instead the native Keras format, e.g. `model.save('my_model.keras')` or `keras.saving.save_model(model, 'my_model.keras')`. \n"
     ]
    },
    {
     "name": "stdout",
     "output_type": "stream",
     "text": [
      "\u001b[1m500/500\u001b[0m \u001b[32m━━━━━━━━━━━━━━━━━━━━\u001b[0m\u001b[37m\u001b[0m \u001b[1m10s\u001b[0m 20ms/step - accuracy: 0.9180 - loss: 0.2356 - val_accuracy: 0.9513 - val_loss: 0.1850 - learning_rate: 1.0000e-04\n",
      "Epoch 48/100\n",
      "\u001b[1m499/500\u001b[0m \u001b[32m━━━━━━━━━━━━━━━━━━━\u001b[0m\u001b[37m━\u001b[0m \u001b[1m0s\u001b[0m 19ms/step - accuracy: 0.9133 - loss: 0.2422\n",
      "Epoch 48: val_accuracy did not improve from 0.95125\n",
      "\u001b[1m500/500\u001b[0m \u001b[32m━━━━━━━━━━━━━━━━━━━━\u001b[0m\u001b[37m\u001b[0m \u001b[1m10s\u001b[0m 20ms/step - accuracy: 0.9133 - loss: 0.2422 - val_accuracy: 0.9510 - val_loss: 0.1821 - learning_rate: 1.0000e-04\n",
      "Epoch 49/100\n",
      "\u001b[1m498/500\u001b[0m \u001b[32m━━━━━━━━━━━━━━━━━━━\u001b[0m\u001b[37m━\u001b[0m \u001b[1m0s\u001b[0m 19ms/step - accuracy: 0.9186 - loss: 0.2492\n",
      "Epoch 49: val_accuracy did not improve from 0.95125\n",
      "\u001b[1m500/500\u001b[0m \u001b[32m━━━━━━━━━━━━━━━━━━━━\u001b[0m\u001b[37m\u001b[0m \u001b[1m10s\u001b[0m 20ms/step - accuracy: 0.9186 - loss: 0.2491 - val_accuracy: 0.9258 - val_loss: 0.2228 - learning_rate: 1.0000e-04\n",
      "Epoch 50/100\n",
      "\u001b[1m498/500\u001b[0m \u001b[32m━━━━━━━━━━━━━━━━━━━\u001b[0m\u001b[37m━\u001b[0m \u001b[1m0s\u001b[0m 19ms/step - accuracy: 0.9215 - loss: 0.2408\n",
      "Epoch 50: val_accuracy did not improve from 0.95125\n",
      "\u001b[1m500/500\u001b[0m \u001b[32m━━━━━━━━━━━━━━━━━━━━\u001b[0m\u001b[37m\u001b[0m \u001b[1m10s\u001b[0m 20ms/step - accuracy: 0.9215 - loss: 0.2407 - val_accuracy: 0.9470 - val_loss: 0.1875 - learning_rate: 1.0000e-04\n",
      "Epoch 51/100\n",
      "\u001b[1m498/500\u001b[0m \u001b[32m━━━━━━━━━━━━━━━━━━━\u001b[0m\u001b[37m━\u001b[0m \u001b[1m0s\u001b[0m 19ms/step - accuracy: 0.9127 - loss: 0.2427\n",
      "Epoch 51: val_accuracy did not improve from 0.95125\n",
      "\u001b[1m500/500\u001b[0m \u001b[32m━━━━━━━━━━━━━━━━━━━━\u001b[0m\u001b[37m\u001b[0m \u001b[1m10s\u001b[0m 20ms/step - accuracy: 0.9127 - loss: 0.2426 - val_accuracy: 0.9425 - val_loss: 0.2000 - learning_rate: 1.0000e-04\n",
      "Epoch 52/100\n",
      "\u001b[1m500/500\u001b[0m \u001b[32m━━━━━━━━━━━━━━━━━━━━\u001b[0m\u001b[37m\u001b[0m \u001b[1m0s\u001b[0m 19ms/step - accuracy: 0.9153 - loss: 0.2481\n",
      "Epoch 52: val_accuracy did not improve from 0.95125\n",
      "\u001b[1m500/500\u001b[0m \u001b[32m━━━━━━━━━━━━━━━━━━━━\u001b[0m\u001b[37m\u001b[0m \u001b[1m10s\u001b[0m 21ms/step - accuracy: 0.9153 - loss: 0.2481 - val_accuracy: 0.9498 - val_loss: 0.1791 - learning_rate: 1.0000e-04\n",
      "Epoch 53/100\n",
      "\u001b[1m499/500\u001b[0m \u001b[32m━━━━━━━━━━━━━━━━━━━\u001b[0m\u001b[37m━\u001b[0m \u001b[1m0s\u001b[0m 20ms/step - accuracy: 0.9234 - loss: 0.2262\n",
      "Epoch 53: val_accuracy improved from 0.95125 to 0.95575, saving model to best_model.h5\n"
     ]
    },
    {
     "name": "stderr",
     "output_type": "stream",
     "text": [
      "WARNING:absl:You are saving your model as an HDF5 file via `model.save()` or `keras.saving.save_model(model)`. This file format is considered legacy. We recommend using instead the native Keras format, e.g. `model.save('my_model.keras')` or `keras.saving.save_model(model, 'my_model.keras')`. \n"
     ]
    },
    {
     "name": "stdout",
     "output_type": "stream",
     "text": [
      "\u001b[1m500/500\u001b[0m \u001b[32m━━━━━━━━━━━━━━━━━━━━\u001b[0m\u001b[37m\u001b[0m \u001b[1m10s\u001b[0m 21ms/step - accuracy: 0.9234 - loss: 0.2262 - val_accuracy: 0.9557 - val_loss: 0.1717 - learning_rate: 1.0000e-04\n",
      "Epoch 54/100\n",
      "\u001b[1m499/500\u001b[0m \u001b[32m━━━━━━━━━━━━━━━━━━━\u001b[0m\u001b[37m━\u001b[0m \u001b[1m0s\u001b[0m 19ms/step - accuracy: 0.9186 - loss: 0.2372\n",
      "Epoch 54: val_accuracy did not improve from 0.95575\n",
      "\u001b[1m500/500\u001b[0m \u001b[32m━━━━━━━━━━━━━━━━━━━━\u001b[0m\u001b[37m\u001b[0m \u001b[1m10s\u001b[0m 20ms/step - accuracy: 0.9186 - loss: 0.2372 - val_accuracy: 0.9390 - val_loss: 0.1901 - learning_rate: 1.0000e-04\n",
      "Epoch 55/100\n",
      "\u001b[1m500/500\u001b[0m \u001b[32m━━━━━━━━━━━━━━━━━━━━\u001b[0m\u001b[37m\u001b[0m \u001b[1m0s\u001b[0m 19ms/step - accuracy: 0.9193 - loss: 0.2343\n",
      "Epoch 55: val_accuracy did not improve from 0.95575\n",
      "\u001b[1m500/500\u001b[0m \u001b[32m━━━━━━━━━━━━━━━━━━━━\u001b[0m\u001b[37m\u001b[0m \u001b[1m10s\u001b[0m 20ms/step - accuracy: 0.9193 - loss: 0.2343 - val_accuracy: 0.9495 - val_loss: 0.1762 - learning_rate: 1.0000e-04\n",
      "Epoch 56/100\n",
      "\u001b[1m499/500\u001b[0m \u001b[32m━━━━━━━━━━━━━━━━━━━\u001b[0m\u001b[37m━\u001b[0m \u001b[1m0s\u001b[0m 19ms/step - accuracy: 0.9230 - loss: 0.2450\n",
      "Epoch 56: val_accuracy improved from 0.95575 to 0.95650, saving model to best_model.h5\n"
     ]
    },
    {
     "name": "stderr",
     "output_type": "stream",
     "text": [
      "WARNING:absl:You are saving your model as an HDF5 file via `model.save()` or `keras.saving.save_model(model)`. This file format is considered legacy. We recommend using instead the native Keras format, e.g. `model.save('my_model.keras')` or `keras.saving.save_model(model, 'my_model.keras')`. \n"
     ]
    },
    {
     "name": "stdout",
     "output_type": "stream",
     "text": [
      "\u001b[1m500/500\u001b[0m \u001b[32m━━━━━━━━━━━━━━━━━━━━\u001b[0m\u001b[37m\u001b[0m \u001b[1m10s\u001b[0m 20ms/step - accuracy: 0.9230 - loss: 0.2449 - val_accuracy: 0.9565 - val_loss: 0.1708 - learning_rate: 1.0000e-04\n",
      "Epoch 57/100\n",
      "\u001b[1m499/500\u001b[0m \u001b[32m━━━━━━━━━━━━━━━━━━━\u001b[0m\u001b[37m━\u001b[0m \u001b[1m0s\u001b[0m 19ms/step - accuracy: 0.9197 - loss: 0.2280\n",
      "Epoch 57: val_accuracy did not improve from 0.95650\n",
      "\u001b[1m500/500\u001b[0m \u001b[32m━━━━━━━━━━━━━━━━━━━━\u001b[0m\u001b[37m\u001b[0m \u001b[1m10s\u001b[0m 20ms/step - accuracy: 0.9197 - loss: 0.2280 - val_accuracy: 0.9550 - val_loss: 0.1661 - learning_rate: 1.0000e-04\n",
      "Epoch 58/100\n",
      "\u001b[1m498/500\u001b[0m \u001b[32m━━━━━━━━━━━━━━━━━━━\u001b[0m\u001b[37m━\u001b[0m \u001b[1m0s\u001b[0m 19ms/step - accuracy: 0.9236 - loss: 0.2322\n",
      "Epoch 58: val_accuracy did not improve from 0.95650\n",
      "\u001b[1m500/500\u001b[0m \u001b[32m━━━━━━━━━━━━━━━━━━━━\u001b[0m\u001b[37m\u001b[0m \u001b[1m10s\u001b[0m 20ms/step - accuracy: 0.9236 - loss: 0.2322 - val_accuracy: 0.9398 - val_loss: 0.1867 - learning_rate: 1.0000e-04\n",
      "Epoch 59/100\n",
      "\u001b[1m499/500\u001b[0m \u001b[32m━━━━━━━━━━━━━━━━━━━\u001b[0m\u001b[37m━\u001b[0m \u001b[1m0s\u001b[0m 19ms/step - accuracy: 0.9232 - loss: 0.2213\n",
      "Epoch 59: val_accuracy did not improve from 0.95650\n",
      "\u001b[1m500/500\u001b[0m \u001b[32m━━━━━━━━━━━━━━━━━━━━\u001b[0m\u001b[37m\u001b[0m \u001b[1m10s\u001b[0m 20ms/step - accuracy: 0.9232 - loss: 0.2213 - val_accuracy: 0.9467 - val_loss: 0.1956 - learning_rate: 1.0000e-04\n",
      "Epoch 60/100\n",
      "\u001b[1m498/500\u001b[0m \u001b[32m━━━━━━━━━━━━━━━━━━━\u001b[0m\u001b[37m━\u001b[0m \u001b[1m0s\u001b[0m 21ms/step - accuracy: 0.9249 - loss: 0.2245\n",
      "Epoch 60: val_accuracy did not improve from 0.95650\n",
      "\u001b[1m500/500\u001b[0m \u001b[32m━━━━━━━━━━━━━━━━━━━━\u001b[0m\u001b[37m\u001b[0m \u001b[1m11s\u001b[0m 22ms/step - accuracy: 0.9249 - loss: 0.2245 - val_accuracy: 0.9565 - val_loss: 0.1623 - learning_rate: 1.0000e-04\n",
      "Epoch 61/100\n",
      "\u001b[1m498/500\u001b[0m \u001b[32m━━━━━━━━━━━━━━━━━━━\u001b[0m\u001b[37m━\u001b[0m \u001b[1m0s\u001b[0m 19ms/step - accuracy: 0.9269 - loss: 0.2091\n",
      "Epoch 61: val_accuracy did not improve from 0.95650\n",
      "\u001b[1m500/500\u001b[0m \u001b[32m━━━━━━━━━━━━━━━━━━━━\u001b[0m\u001b[37m\u001b[0m \u001b[1m10s\u001b[0m 20ms/step - accuracy: 0.9269 - loss: 0.2091 - val_accuracy: 0.9408 - val_loss: 0.2030 - learning_rate: 1.0000e-04\n",
      "Epoch 62/100\n",
      "\u001b[1m499/500\u001b[0m \u001b[32m━━━━━━━━━━━━━━━━━━━\u001b[0m\u001b[37m━\u001b[0m \u001b[1m0s\u001b[0m 19ms/step - accuracy: 0.9261 - loss: 0.2247\n",
      "Epoch 62: val_accuracy did not improve from 0.95650\n",
      "\u001b[1m500/500\u001b[0m \u001b[32m━━━━━━━━━━━━━━━━━━━━\u001b[0m\u001b[37m\u001b[0m \u001b[1m10s\u001b[0m 20ms/step - accuracy: 0.9261 - loss: 0.2246 - val_accuracy: 0.9485 - val_loss: 0.1705 - learning_rate: 1.0000e-04\n",
      "Epoch 63/100\n",
      "\u001b[1m499/500\u001b[0m \u001b[32m━━━━━━━━━━━━━━━━━━━\u001b[0m\u001b[37m━\u001b[0m \u001b[1m0s\u001b[0m 19ms/step - accuracy: 0.9283 - loss: 0.2141\n",
      "Epoch 63: val_accuracy did not improve from 0.95650\n",
      "\u001b[1m500/500\u001b[0m \u001b[32m━━━━━━━━━━━━━━━━━━━━\u001b[0m\u001b[37m\u001b[0m \u001b[1m10s\u001b[0m 20ms/step - accuracy: 0.9283 - loss: 0.2141 - val_accuracy: 0.9532 - val_loss: 0.1633 - learning_rate: 1.0000e-04\n",
      "Epoch 64/100\n",
      "\u001b[1m498/500\u001b[0m \u001b[32m━━━━━━━━━━━━━━━━━━━\u001b[0m\u001b[37m━\u001b[0m \u001b[1m0s\u001b[0m 19ms/step - accuracy: 0.9283 - loss: 0.2070\n",
      "Epoch 64: val_accuracy did not improve from 0.95650\n",
      "\n",
      "Epoch 64: ReduceLROnPlateau reducing learning rate to 4.999999873689376e-05.\n",
      "\u001b[1m500/500\u001b[0m \u001b[32m━━━━━━━━━━━━━━━━━━━━\u001b[0m\u001b[37m\u001b[0m \u001b[1m10s\u001b[0m 20ms/step - accuracy: 0.9283 - loss: 0.2071 - val_accuracy: 0.9265 - val_loss: 0.2211 - learning_rate: 1.0000e-04\n",
      "Epoch 65/100\n",
      "\u001b[1m499/500\u001b[0m \u001b[32m━━━━━━━━━━━━━━━━━━━\u001b[0m\u001b[37m━\u001b[0m \u001b[1m0s\u001b[0m 19ms/step - accuracy: 0.9231 - loss: 0.2213\n",
      "Epoch 65: val_accuracy improved from 0.95650 to 0.95925, saving model to best_model.h5\n"
     ]
    },
    {
     "name": "stderr",
     "output_type": "stream",
     "text": [
      "WARNING:absl:You are saving your model as an HDF5 file via `model.save()` or `keras.saving.save_model(model)`. This file format is considered legacy. We recommend using instead the native Keras format, e.g. `model.save('my_model.keras')` or `keras.saving.save_model(model, 'my_model.keras')`. \n"
     ]
    },
    {
     "name": "stdout",
     "output_type": "stream",
     "text": [
      "\u001b[1m500/500\u001b[0m \u001b[32m━━━━━━━━━━━━━━━━━━━━\u001b[0m\u001b[37m\u001b[0m \u001b[1m10s\u001b[0m 20ms/step - accuracy: 0.9231 - loss: 0.2212 - val_accuracy: 0.9592 - val_loss: 0.1570 - learning_rate: 5.0000e-05\n",
      "Epoch 66/100\n",
      "\u001b[1m498/500\u001b[0m \u001b[32m━━━━━━━━━━━━━━━━━━━\u001b[0m\u001b[37m━\u001b[0m \u001b[1m0s\u001b[0m 19ms/step - accuracy: 0.9297 - loss: 0.2163\n",
      "Epoch 66: val_accuracy improved from 0.95925 to 0.96200, saving model to best_model.h5\n"
     ]
    },
    {
     "name": "stderr",
     "output_type": "stream",
     "text": [
      "WARNING:absl:You are saving your model as an HDF5 file via `model.save()` or `keras.saving.save_model(model)`. This file format is considered legacy. We recommend using instead the native Keras format, e.g. `model.save('my_model.keras')` or `keras.saving.save_model(model, 'my_model.keras')`. \n"
     ]
    },
    {
     "name": "stdout",
     "output_type": "stream",
     "text": [
      "\u001b[1m500/500\u001b[0m \u001b[32m━━━━━━━━━━━━━━━━━━━━\u001b[0m\u001b[37m\u001b[0m \u001b[1m10s\u001b[0m 20ms/step - accuracy: 0.9297 - loss: 0.2163 - val_accuracy: 0.9620 - val_loss: 0.1599 - learning_rate: 5.0000e-05\n",
      "Epoch 67/100\n",
      "\u001b[1m500/500\u001b[0m \u001b[32m━━━━━━━━━━━━━━━━━━━━\u001b[0m\u001b[37m\u001b[0m \u001b[1m0s\u001b[0m 19ms/step - accuracy: 0.9346 - loss: 0.1996\n",
      "Epoch 67: val_accuracy did not improve from 0.96200\n",
      "\u001b[1m500/500\u001b[0m \u001b[32m━━━━━━━━━━━━━━━━━━━━\u001b[0m\u001b[37m\u001b[0m \u001b[1m10s\u001b[0m 20ms/step - accuracy: 0.9346 - loss: 0.1996 - val_accuracy: 0.9588 - val_loss: 0.1521 - learning_rate: 5.0000e-05\n",
      "Epoch 68/100\n",
      "\u001b[1m498/500\u001b[0m \u001b[32m━━━━━━━━━━━━━━━━━━━\u001b[0m\u001b[37m━\u001b[0m \u001b[1m0s\u001b[0m 18ms/step - accuracy: 0.9361 - loss: 0.2005\n",
      "Epoch 68: val_accuracy did not improve from 0.96200\n",
      "\u001b[1m500/500\u001b[0m \u001b[32m━━━━━━━━━━━━━━━━━━━━\u001b[0m\u001b[37m\u001b[0m \u001b[1m9s\u001b[0m 19ms/step - accuracy: 0.9361 - loss: 0.2005 - val_accuracy: 0.9603 - val_loss: 0.1617 - learning_rate: 5.0000e-05\n",
      "Epoch 69/100\n",
      "\u001b[1m498/500\u001b[0m \u001b[32m━━━━━━━━━━━━━━━━━━━\u001b[0m\u001b[37m━\u001b[0m \u001b[1m0s\u001b[0m 17ms/step - accuracy: 0.9352 - loss: 0.1971\n",
      "Epoch 69: val_accuracy did not improve from 0.96200\n",
      "\u001b[1m500/500\u001b[0m \u001b[32m━━━━━━━━━━━━━━━━━━━━\u001b[0m\u001b[37m\u001b[0m \u001b[1m9s\u001b[0m 18ms/step - accuracy: 0.9352 - loss: 0.1972 - val_accuracy: 0.9557 - val_loss: 0.1761 - learning_rate: 5.0000e-05\n",
      "Epoch 70/100\n",
      "\u001b[1m500/500\u001b[0m \u001b[32m━━━━━━━━━━━━━━━━━━━━\u001b[0m\u001b[37m\u001b[0m \u001b[1m0s\u001b[0m 17ms/step - accuracy: 0.9387 - loss: 0.2078\n",
      "Epoch 70: val_accuracy did not improve from 0.96200\n",
      "\u001b[1m500/500\u001b[0m \u001b[32m━━━━━━━━━━━━━━━━━━━━\u001b[0m\u001b[37m\u001b[0m \u001b[1m9s\u001b[0m 18ms/step - accuracy: 0.9387 - loss: 0.2078 - val_accuracy: 0.9603 - val_loss: 0.1538 - learning_rate: 5.0000e-05\n",
      "Epoch 71/100\n",
      "\u001b[1m500/500\u001b[0m \u001b[32m━━━━━━━━━━━━━━━━━━━━\u001b[0m\u001b[37m\u001b[0m \u001b[1m0s\u001b[0m 17ms/step - accuracy: 0.9304 - loss: 0.2147\n",
      "Epoch 71: val_accuracy did not improve from 0.96200\n",
      "\n",
      "Epoch 71: ReduceLROnPlateau reducing learning rate to 2.499999936844688e-05.\n",
      "\u001b[1m500/500\u001b[0m \u001b[32m━━━━━━━━━━━━━━━━━━━━\u001b[0m\u001b[37m\u001b[0m \u001b[1m9s\u001b[0m 18ms/step - accuracy: 0.9304 - loss: 0.2146 - val_accuracy: 0.9567 - val_loss: 0.1705 - learning_rate: 5.0000e-05\n",
      "Epoch 72/100\n",
      "\u001b[1m500/500\u001b[0m \u001b[32m━━━━━━━━━━━━━━━━━━━━\u001b[0m\u001b[37m\u001b[0m \u001b[1m0s\u001b[0m 17ms/step - accuracy: 0.9307 - loss: 0.2140\n",
      "Epoch 72: val_accuracy improved from 0.96200 to 0.96250, saving model to best_model.h5\n"
     ]
    },
    {
     "name": "stderr",
     "output_type": "stream",
     "text": [
      "WARNING:absl:You are saving your model as an HDF5 file via `model.save()` or `keras.saving.save_model(model)`. This file format is considered legacy. We recommend using instead the native Keras format, e.g. `model.save('my_model.keras')` or `keras.saving.save_model(model, 'my_model.keras')`. \n"
     ]
    },
    {
     "name": "stdout",
     "output_type": "stream",
     "text": [
      "\u001b[1m500/500\u001b[0m \u001b[32m━━━━━━━━━━━━━━━━━━━━\u001b[0m\u001b[37m\u001b[0m \u001b[1m9s\u001b[0m 19ms/step - accuracy: 0.9307 - loss: 0.2140 - val_accuracy: 0.9625 - val_loss: 0.1536 - learning_rate: 2.5000e-05\n",
      "Epoch 73/100\n",
      "\u001b[1m499/500\u001b[0m \u001b[32m━━━━━━━━━━━━━━━━━━━\u001b[0m\u001b[37m━\u001b[0m \u001b[1m0s\u001b[0m 17ms/step - accuracy: 0.9366 - loss: 0.2093\n",
      "Epoch 73: val_accuracy improved from 0.96250 to 0.96400, saving model to best_model.h5\n"
     ]
    },
    {
     "name": "stderr",
     "output_type": "stream",
     "text": [
      "WARNING:absl:You are saving your model as an HDF5 file via `model.save()` or `keras.saving.save_model(model)`. This file format is considered legacy. We recommend using instead the native Keras format, e.g. `model.save('my_model.keras')` or `keras.saving.save_model(model, 'my_model.keras')`. \n"
     ]
    },
    {
     "name": "stdout",
     "output_type": "stream",
     "text": [
      "\u001b[1m500/500\u001b[0m \u001b[32m━━━━━━━━━━━━━━━━━━━━\u001b[0m\u001b[37m\u001b[0m \u001b[1m9s\u001b[0m 18ms/step - accuracy: 0.9366 - loss: 0.2092 - val_accuracy: 0.9640 - val_loss: 0.1560 - learning_rate: 2.5000e-05\n",
      "Epoch 74/100\n",
      "\u001b[1m499/500\u001b[0m \u001b[32m━━━━━━━━━━━━━━━━━━━\u001b[0m\u001b[37m━\u001b[0m \u001b[1m0s\u001b[0m 18ms/step - accuracy: 0.9366 - loss: 0.1982\n",
      "Epoch 74: val_accuracy did not improve from 0.96400\n",
      "\u001b[1m500/500\u001b[0m \u001b[32m━━━━━━━━━━━━━━━━━━━━\u001b[0m\u001b[37m\u001b[0m \u001b[1m10s\u001b[0m 19ms/step - accuracy: 0.9366 - loss: 0.1982 - val_accuracy: 0.9625 - val_loss: 0.1498 - learning_rate: 2.5000e-05\n",
      "Epoch 75/100\n",
      "\u001b[1m499/500\u001b[0m \u001b[32m━━━━━━━━━━━━━━━━━━━\u001b[0m\u001b[37m━\u001b[0m \u001b[1m0s\u001b[0m 19ms/step - accuracy: 0.9363 - loss: 0.2036\n",
      "Epoch 75: val_accuracy did not improve from 0.96400\n",
      "\u001b[1m500/500\u001b[0m \u001b[32m━━━━━━━━━━━━━━━━━━━━\u001b[0m\u001b[37m\u001b[0m \u001b[1m10s\u001b[0m 20ms/step - accuracy: 0.9363 - loss: 0.2036 - val_accuracy: 0.9585 - val_loss: 0.1546 - learning_rate: 2.5000e-05\n",
      "Epoch 76/100\n",
      "\u001b[1m499/500\u001b[0m \u001b[32m━━━━━━━━━━━━━━━━━━━\u001b[0m\u001b[37m━\u001b[0m \u001b[1m0s\u001b[0m 19ms/step - accuracy: 0.9337 - loss: 0.1983\n",
      "Epoch 76: val_accuracy did not improve from 0.96400\n",
      "\u001b[1m500/500\u001b[0m \u001b[32m━━━━━━━━━━━━━━━━━━━━\u001b[0m\u001b[37m\u001b[0m \u001b[1m10s\u001b[0m 20ms/step - accuracy: 0.9337 - loss: 0.1984 - val_accuracy: 0.9615 - val_loss: 0.1587 - learning_rate: 2.5000e-05\n",
      "Epoch 77/100\n",
      "\u001b[1m498/500\u001b[0m \u001b[32m━━━━━━━━━━━━━━━━━━━\u001b[0m\u001b[37m━\u001b[0m \u001b[1m0s\u001b[0m 19ms/step - accuracy: 0.9409 - loss: 0.1863\n",
      "Epoch 77: val_accuracy did not improve from 0.96400\n",
      "\u001b[1m500/500\u001b[0m \u001b[32m━━━━━━━━━━━━━━━━━━━━\u001b[0m\u001b[37m\u001b[0m \u001b[1m10s\u001b[0m 20ms/step - accuracy: 0.9409 - loss: 0.1863 - val_accuracy: 0.9628 - val_loss: 0.1559 - learning_rate: 2.5000e-05\n",
      "Epoch 78/100\n",
      "\u001b[1m500/500\u001b[0m \u001b[32m━━━━━━━━━━━━━━━━━━━━\u001b[0m\u001b[37m\u001b[0m \u001b[1m0s\u001b[0m 17ms/step - accuracy: 0.9372 - loss: 0.1886\n",
      "Epoch 78: val_accuracy did not improve from 0.96400\n",
      "\n",
      "Epoch 78: ReduceLROnPlateau reducing learning rate to 1.249999968422344e-05.\n",
      "\u001b[1m500/500\u001b[0m \u001b[32m━━━━━━━━━━━━━━━━━━━━\u001b[0m\u001b[37m\u001b[0m \u001b[1m9s\u001b[0m 18ms/step - accuracy: 0.9372 - loss: 0.1886 - val_accuracy: 0.9638 - val_loss: 0.1517 - learning_rate: 2.5000e-05\n",
      "Epoch 79/100\n",
      "\u001b[1m498/500\u001b[0m \u001b[32m━━━━━━━━━━━━━━━━━━━\u001b[0m\u001b[37m━\u001b[0m \u001b[1m0s\u001b[0m 17ms/step - accuracy: 0.9368 - loss: 0.2005\n",
      "Epoch 79: val_accuracy improved from 0.96400 to 0.96475, saving model to best_model.h5\n"
     ]
    },
    {
     "name": "stderr",
     "output_type": "stream",
     "text": [
      "WARNING:absl:You are saving your model as an HDF5 file via `model.save()` or `keras.saving.save_model(model)`. This file format is considered legacy. We recommend using instead the native Keras format, e.g. `model.save('my_model.keras')` or `keras.saving.save_model(model, 'my_model.keras')`. \n"
     ]
    },
    {
     "name": "stdout",
     "output_type": "stream",
     "text": [
      "\u001b[1m500/500\u001b[0m \u001b[32m━━━━━━━━━━━━━━━━━━━━\u001b[0m\u001b[37m\u001b[0m \u001b[1m9s\u001b[0m 19ms/step - accuracy: 0.9368 - loss: 0.2005 - val_accuracy: 0.9647 - val_loss: 0.1534 - learning_rate: 1.2500e-05\n",
      "Epoch 80/100\n",
      "\u001b[1m498/500\u001b[0m \u001b[32m━━━━━━━━━━━━━━━━━━━\u001b[0m\u001b[37m━\u001b[0m \u001b[1m0s\u001b[0m 17ms/step - accuracy: 0.9346 - loss: 0.2068\n",
      "Epoch 80: val_accuracy did not improve from 0.96475\n",
      "\u001b[1m500/500\u001b[0m \u001b[32m━━━━━━━━━━━━━━━━━━━━\u001b[0m\u001b[37m\u001b[0m \u001b[1m9s\u001b[0m 18ms/step - accuracy: 0.9346 - loss: 0.2068 - val_accuracy: 0.9647 - val_loss: 0.1530 - learning_rate: 1.2500e-05\n",
      "Epoch 81/100\n",
      "\u001b[1m498/500\u001b[0m \u001b[32m━━━━━━━━━━━━━━━━━━━\u001b[0m\u001b[37m━\u001b[0m \u001b[1m0s\u001b[0m 17ms/step - accuracy: 0.9353 - loss: 0.1977\n",
      "Epoch 81: val_accuracy did not improve from 0.96475\n",
      "\u001b[1m500/500\u001b[0m \u001b[32m━━━━━━━━━━━━━━━━━━━━\u001b[0m\u001b[37m\u001b[0m \u001b[1m9s\u001b[0m 18ms/step - accuracy: 0.9353 - loss: 0.1978 - val_accuracy: 0.9647 - val_loss: 0.1549 - learning_rate: 1.2500e-05\n",
      "Epoch 81: early stopping\n",
      "Restoring model weights from the end of the best epoch: 74.\n",
      "Training completed.\n",
      "\u001b[1m125/125\u001b[0m \u001b[32m━━━━━━━━━━━━━━━━━━━━\u001b[0m\u001b[37m\u001b[0m \u001b[1m1s\u001b[0m 4ms/step\n"
     ]
    },
    {
     "data": {
      "image/png": "[encoded data removed]",
      "text/plain": [
       "<Figure size 640x480 with 1 Axes>"
      ]
     },
     "metadata": {},
     "output_type": "display_data"
    },
    {
     "data": {
      "image/png": "[encoded data removed]",
      "text/plain": [
       "<Figure size 640x480 with 1 Axes>"
      ]
     },
     "metadata": {},
     "output_type": "display_data"
    },
    {
     "data": {
      "image/png": "[encoded data removed]",
      "text/plain": [
       "<Figure size 600x500 with 2 Axes>"
      ]
     },
     "metadata": {},
     "output_type": "display_data"
    },
    {
     "data": {
      "image/png": "[encoded data removed]",
      "text/plain": [
       "<Figure size 640x480 with 1 Axes>"
      ]
     },
     "metadata": {},
     "output_type": "display_data"
    },
    {
     "data": {
      "image/png": "[encoded data removed]",
      "text/plain": [
       "<Figure size 640x480 with 1 Axes>"
      ]
     },
     "metadata": {},
     "output_type": "display_data"
    },
    {
     "name": "stdout",
     "output_type": "stream",
     "text": [
      "Accuracy Score: 0.9625\n",
      "ROC AUC Score: 0.9875\n",
      "Recall Score: 0.9530\n",
      "Precision Score: 0.9715\n",
      "F1 Score: 0.9621\n",
      "PR AUC Score: 0.9835\n",
      "Classification Report:\n",
      "              precision    recall  f1-score   support\n",
      "\n",
      "           0       0.95      0.97      0.96      2000\n",
      "           1       0.97      0.95      0.96      2000\n",
      "\n",
      "    accuracy                           0.96      4000\n",
      "   macro avg       0.96      0.96      0.96      4000\n",
      "weighted avg       0.96      0.96      0.96      4000\n",
      "\n"
     ]
    }
   ],
   "source": [
    "# Train the Model\n",
    "train_model(spatial_model, temporal_model, x_train_seq, y_train, x_test_seq, y_test, epochs=100, batch_size=32)"
   ]
  }
 ],
 "metadata": {
  "kernelspec": {
   "display_name": "base",
   "language": "python",
   "name": "python3"
  },
  "language_info": {
   "codemirror_mode": {
    "name": "ipython",
    "version": 3
   },
   "file_extension": ".py",
   "mimetype": "text/x-python",
   "name": "python",
   "nbconvert_exporter": "python",
   "pygments_lexer": "ipython3",
   "version": "3.12.7"
  }
 },
 "nbformat": 4,
 "nbformat_minor": 2
}
