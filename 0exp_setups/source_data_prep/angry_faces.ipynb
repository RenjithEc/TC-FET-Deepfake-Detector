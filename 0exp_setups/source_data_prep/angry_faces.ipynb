{
 "cells": [
  {
   "cell_type": "code",
   "execution_count": 3,
   "metadata": {},
   "outputs": [
    {
     "name": "stdout",
     "output_type": "stream",
     "text": [
      "Requirement already satisfied: opencv-python in c:\\users\\g713qm-\\appdata\\local\\programs\\python\\python312\\lib\\site-packages (4.10.0.84)\n",
      "Requirement already satisfied: opencv-python-headless in c:\\users\\g713qm-\\appdata\\local\\programs\\python\\python312\\lib\\site-packages (4.10.0.84)\n",
      "Requirement already satisfied: opencv-contrib-python in c:\\users\\g713qm-\\appdata\\roaming\\python\\python312\\site-packages (4.10.0.84)\n",
      "Requirement already satisfied: numpy in c:\\users\\g713qm-\\appdata\\local\\programs\\python\\python312\\lib\\site-packages (1.26.3)\n",
      "Note: you may need to restart the kernel to use updated packages.\n"
     ]
    }
   ],
   "source": [
    "pip install opencv-python opencv-python-headless numpy"
   ]
  },
  {
   "cell_type": "code",
   "execution_count": 5,
   "metadata": {},
   "outputs": [
    {
     "name": "stdout",
     "output_type": "stream",
     "text": [
      "[ERROR] Not enough frames to compute optical flow.\n"
     ]
    }
   ],
   "source": [
    "import cv2\n",
    "import os\n",
    "\n",
    "# Input and output directories\n",
    "input_dir = \"E:/Research/real/Extracted_Frames_Angry\"  # Directory with extracted frames\n",
    "output_dir = \"E:/Research/real/Cropped_Faces\"  # Directory to save cropped faces\n",
    "\n",
    "# Haar Cascade path (pre-trained face detection model)\n",
    "face_cascade_path = cv2.data.haarcascades + \"haarcascade_frontalface_default.xml\"\n",
    "\n",
    "# Load the Haar Cascade for face detection\n",
    "face_cascade = cv2.CascadeClassifier(face_cascade_path)\n",
    "\n",
    "# Create the output directory if it doesn't exist\n",
    "os.makedirs(output_dir, exist_ok=True)\n",
    "\n",
    "# Function to resize an image to a fixed size (256x256)\n",
    "def resize_to_fixed_size(image, size=(256, 256)):\n",
    "    return cv2.resize(image, size, interpolation=cv2.INTER_AREA)\n",
    "\n",
    "# Function to detect and crop faces from a single frame\n",
    "def detect_and_crop_faces(frame_path, output_path):\n",
    "    # Read the image\n",
    "    image = cv2.imread(frame_path)\n",
    "    if image is None:\n",
    "        print(f\"[ERROR] Failed to load image: {frame_path}\")\n",
    "        return 0\n",
    "\n",
    "    # Convert to grayscale for face detection\n",
    "    gray = cv2.cvtColor(image, cv2.COLOR_BGR2GRAY)\n",
    "\n",
    "    # Detect faces\n",
    "    faces = face_cascade.detectMultiScale(gray, scaleFactor=1.1, minNeighbors=5, minSize=(30, 30))\n",
    "    face_count = len(faces)\n",
    "\n",
    "    # If no faces are detected, return 0\n",
    "    if face_count == 0:\n",
    "        print(f\"[INFO] No faces detected in {frame_path}\")\n",
    "        return 0\n",
    "\n",
    "    print(f\"[DEBUG] Detected {face_count} face(s) in {frame_path}\")\n",
    "\n",
    "    # Process each detected face\n",
    "    for i, (x, y, w, h) in enumerate(faces):\n",
    "        # Crop the face region\n",
    "        face = image[y:y+h, x:x+w]\n",
    "\n",
    "        # Resize the face to 256x256\n",
    "        resized_face = resize_to_fixed_size(face)\n",
    "\n",
    "        # Save the cropped and resized face\n",
    "        face_filename = f\"{os.path.splitext(os.path.basename(frame_path))[0]}_face_{i:02d}.jpg\"\n",
    "        face_output_path = os.path.join(output_path, face_filename)\n",
    "        cv2.imwrite(face_output_path, resized_face)\n",
    "\n",
    "    return face_count\n",
    "\n",
    "# Traverse the extracted frames directory and process images\n",
    "total_frames_processed = 0\n",
    "total_faces_detected = 0\n",
    "\n",
    "for root, dirs, files in os.walk(input_dir):\n",
    "    for file in files:\n",
    "        if file.endswith((\".jpg\", \".png\")):  # Add other image formats if necessary\n",
    "            frame_path = os.path.join(root, file)\n",
    "\n",
    "            # Create a corresponding output directory for cropped faces\n",
    "            relative_path = os.path.relpath(root, input_dir)\n",
    "            frame_output_dir = os.path.join(output_dir, relative_path)\n",
    "            os.makedirs(frame_output_dir, exist_ok=True)\n",
    "\n",
    "            # Detect and crop faces\n",
    "            faces_detected = detect_and_crop_faces(frame_path, frame_output_dir)\n",
    "\n",
    "            # Update counts\n",
    "            total_frames_processed += 1\n",
    "            total_faces_detected += faces_detected\n",
    "\n",
    "            # Debug message for each frame\n",
    "            print(f\"[DEBUG] Processed frame: {frame_path} | Faces detected: {faces_detected}\")\n",
    "\n",
    "# Final summary\n",
    "print(f\"[SUMMARY] Total frames processed: {total_frames_processed}\")\n",
    "print(f\"[SUMMARY] Total faces detected: {total_faces_detected}\")\n"
   ]
  }
 ],
 "metadata": {
  "kernelspec": {
   "display_name": "Python 3",
   "language": "python",
   "name": "python3"
  },
  "language_info": {
   "codemirror_mode": {
    "name": "ipython",
    "version": 3
   },
   "file_extension": ".py",
   "mimetype": "text/x-python",
   "name": "python",
   "nbconvert_exporter": "python",
   "pygments_lexer": "ipython3",
   "version": "3.12.1"
  }
 },
 "nbformat": 4,
 "nbformat_minor": 2
}
