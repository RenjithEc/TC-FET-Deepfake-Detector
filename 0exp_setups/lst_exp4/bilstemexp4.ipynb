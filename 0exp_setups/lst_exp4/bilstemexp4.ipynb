{
 "cells": [
  {
   "cell_type": "code",
   "execution_count": 1,
   "metadata": {},
   "outputs": [],
   "source": [
    "import os\n",
    "import cv2\n",
    "import numpy as np\n",
    "import tensorflow as tf\n",
    "import matplotlib.pyplot as plt\n",
    "from sklearn.metrics import confusion_matrix, roc_curve, auc, precision_recall_curve, classification_report\n",
    "from tensorflow.keras.applications import Xception\n",
    "from tensorflow.keras.layers import Input, LSTM, Dense, Dropout, Bidirectional, Flatten, TimeDistributed, GlobalAveragePooling2D, BatchNormalization\n",
    "from tensorflow.keras.models import Model\n",
    "from tensorflow.keras.optimizers import Adam\n",
    "from glob import glob\n",
    "from sklearn.metrics import accuracy_score, recall_score, precision_score, f1_score, auc\n",
    "import seaborn as sns\n",
    "from sklearn.model_selection import train_test_split\n",
    "from tqdm import tqdm\n",
    "from tensorflow.keras.callbacks import EarlyStopping, ReduceLROnPlateau, ModelCheckpoint\n",
    "from tensorflow.keras.regularizers import l2"
   ]
  },
  {
   "cell_type": "code",
   "execution_count": 2,
   "metadata": {},
   "outputs": [
    {
     "name": "stdout",
     "output_type": "stream",
     "text": [
      "WARNING:tensorflow:From C:\\Users\\G713QM-\\AppData\\Local\\Temp\\ipykernel_21024\\1191893959.py:7: is_gpu_available (from tensorflow.python.framework.test_util) is deprecated and will be removed in a future version.\n",
      "Instructions for updating:\n",
      "Use `tf.config.list_physical_devices('GPU')` instead.\n"
     ]
    },
    {
     "data": {
      "text/plain": [
       "False"
      ]
     },
     "execution_count": 2,
     "metadata": {},
     "output_type": "execute_result"
    }
   ],
   "source": [
    "from tensorflow.keras import mixed_precision\n",
    "mixed_precision.set_global_policy('mixed_float16')\n",
    "\n",
    "gpus = tf.config.experimental.list_physical_devices('GPU')\n",
    "for gpu in gpus:\n",
    "    tf.config.experimental.set_memory_growth(gpu, True)\n",
    "tf.test.is_gpu_available()"
   ]
  },
  {
   "cell_type": "code",
   "execution_count": 3,
   "metadata": {},
   "outputs": [],
   "source": [
    "def build_model(input_shape=(299, 299, 9)):\n",
    "    \"\"\"\n",
    "    Builds an improved Xception-based spatial feature extractor and a Bidirectional LSTM\n",
    "    for temporal analysis with pooling layers and batch normalization.\n",
    "    \"\"\"\n",
    "    print(\"Building improved model...\")\n",
    "\n",
    "    # Spatial Feature Extractor\n",
    "    base_model = Xception(include_top=False, weights=None, input_shape=input_shape)\n",
    "\n",
    "    # Use GlobalAveragePooling2D to aggregate the spatial features.\n",
    "    x = base_model.output\n",
    "    x = GlobalAveragePooling2D()(x)\n",
    "    x = Dense(1024, activation='relu', kernel_regularizer=l2(0.0001))(x)\n",
    "    x = BatchNormalization()(x)\n",
    "    x = Dropout(0.4)(x)\n",
    "    x = Dense(512, activation='relu', kernel_regularizer=l2(0.0001))(x)\n",
    "    x = BatchNormalization()(x)\n",
    "    spatial_model = Model(inputs=base_model.input, outputs=x, name=\"spatial_model\")\n",
    "\n",
    "    # Temporal Analysis with LSTM (Improved)\n",
    "    lstm_input = Input(shape=(None, 512), name=\"lstm_input\")\n",
    "\n",
    "    # Stack two Bidirectional LSTMs for better sequential feature extraction\n",
    "    lstm_out = Bidirectional(LSTM(256, return_sequences=True, dropout=0.4, recurrent_dropout=0.2))(lstm_input)\n",
    "    lstm_out = Bidirectional(LSTM(128, return_sequences=False, dropout=0.4))(lstm_out)\n",
    "    lstm_out = BatchNormalization()(lstm_out)\n",
    "\n",
    "    output = Dense(1, activation='sigmoid')(lstm_out)\n",
    "\n",
    "    temporal_model = Model(inputs=lstm_input, outputs=output, name=\"temporal_model\")\n",
    "\n",
    "    print(\"Improved model built successfully.\")\n",
    "    return spatial_model, temporal_model\n",
    "\n",
    "\n",
    "def train_model(spatial_model, temporal_model, x_train, y_train, x_test, y_test, epochs=100, batch_size=32):\n",
    "    \"\"\"Trains the model with improved training strategy.\"\"\"\n",
    "    print(\"Extracting features from Xception (Spatial Model)...\")\n",
    "\n",
    "    # Extract features from Xception\n",
    "    x_train_features = spatial_model.predict(x_train)\n",
    "    x_test_features = spatial_model.predict(x_test)\n",
    "\n",
    "    # Reshape for LSTM\n",
    "    x_train_features = np.expand_dims(x_train_features, axis=1)\n",
    "    x_test_features = np.expand_dims(x_test_features, axis=1)\n",
    "\n",
    "    # Compile the LSTM (Temporal Model)\n",
    "    temporal_model.compile(optimizer=Adam(learning_rate=0.0001), loss='binary_crossentropy', metrics=['accuracy'])\n",
    "\n",
    "    print(\"Training Improved Temporal Model (LSTM)...\")\n",
    "\n",
    "    # Callbacks\n",
    "    model_checkpoint = ModelCheckpoint(\n",
    "        filepath=\"best_model.h5\",\n",
    "        monitor=\"val_accuracy\",\n",
    "        save_best_only=True,\n",
    "        save_weights_only=False,\n",
    "        mode=\"max\",\n",
    "        verbose=1\n",
    "    )\n",
    "\n",
    "    early_stopping = EarlyStopping(monitor='val_loss', patience=7, restore_best_weights=True, verbose=1)\n",
    "\n",
    "    lr_reducer = ReduceLROnPlateau(monitor='val_loss', factor=0.5, patience=4, verbose=1)\n",
    "\n",
    "    # Train the LSTM Model\n",
    "    history = temporal_model.fit(\n",
    "        x_train_features, y_train,\n",
    "        epochs=epochs,\n",
    "        batch_size=batch_size,\n",
    "        validation_data=(x_test_features, y_test),\n",
    "        callbacks=[model_checkpoint, early_stopping, lr_reducer]\n",
    "    )\n",
    "\n",
    "    print(\"Training completed.\")\n",
    "\n",
    "    # Predict on test set\n",
    "    y_pred = temporal_model.predict(x_test_features)\n",
    "\n",
    "    # Evaluate model\n",
    "    plot_metrics(history, y_test, y_pred)\n",
    "\n",
    "\n",
    "def plot_metrics(history, y_test, y_pred):\n",
    "    \"\"\"Plots training metrics, evaluation metrics, ROC curve, and precision-recall curve.\"\"\"\n",
    "    # Training Loss and Accuracy\n",
    "    plt.figure()\n",
    "    plt.plot(history.history['accuracy'], label='Train Accuracy')\n",
    "    plt.plot(history.history['val_accuracy'], label='Validation Accuracy')\n",
    "    plt.legend()\n",
    "    plt.title('Training vs Validation Accuracy')\n",
    "    plt.show()\n",
    "    \n",
    "    plt.figure()\n",
    "    plt.plot(history.history['loss'], label='Train Loss')\n",
    "    plt.plot(history.history['val_loss'], label='Validation Loss')\n",
    "    plt.legend()\n",
    "    plt.title('Training vs Validation Loss')\n",
    "    plt.show()\n",
    "    \n",
    "    # Confusion Matrix\n",
    "    cm = confusion_matrix(y_test, (y_pred > 0.5).astype(int))\n",
    "    plt.figure(figsize=(6,5))\n",
    "    sns.heatmap(cm, annot=True, fmt='d', cmap='Blues', \n",
    "                xticklabels=['Real', 'Fake'], yticklabels=['Real', 'Fake'])\n",
    "    plt.xlabel('Predicted label')\n",
    "    plt.ylabel('True label')\n",
    "    plt.title('Confusion Matrix')\n",
    "    plt.show()\n",
    "\n",
    "    # Compute ROC Curve and AUC\n",
    "    fpr, tpr, _ = roc_curve(y_test, y_pred)\n",
    "    roc_auc = auc(fpr, tpr)\n",
    "    \n",
    "    # Plot ROC Curve\n",
    "    plt.figure()\n",
    "    plt.plot(fpr, tpr, label=f'ROC curve (AUC = {roc_auc:.4f})')\n",
    "    plt.plot([0, 1], [0, 1], linestyle='--', color='gray')\n",
    "    plt.xlabel('False Positive Rate')\n",
    "    plt.ylabel('True Positive Rate')\n",
    "    plt.title('Receiver Operating Characteristic (ROC) Curve')\n",
    "    plt.legend(loc=\"lower right\")\n",
    "    plt.show()\n",
    "    \n",
    "    # Compute Precision-Recall Curve and AUC\n",
    "    precision, recall, _ = precision_recall_curve(y_test, y_pred)\n",
    "    pr_auc = auc(recall, precision)\n",
    "    \n",
    "    # Plot Precision-Recall Curve\n",
    "    plt.figure()\n",
    "    plt.plot(recall, precision, label=f'PR curve (AUC = {pr_auc:.4f})')\n",
    "    plt.xlabel('Recall')\n",
    "    plt.ylabel('Precision')\n",
    "    plt.title('Precision-Recall Curve')\n",
    "    plt.legend(loc=\"lower left\")\n",
    "    plt.show()\n",
    "    \n",
    "    # Print evaluation metrics\n",
    "    y_pred_binary = (y_pred > 0.5).astype(int)\n",
    "    print(f'Accuracy Score: {accuracy_score(y_test, y_pred_binary):.4f}')\n",
    "    print(f'ROC AUC Score: {roc_auc:.4f}')\n",
    "    print(f'Recall Score: {recall_score(y_test, y_pred_binary):.4f}')\n",
    "    print(f'Precision Score: {precision_score(y_test, y_pred_binary):.4f}')\n",
    "    print(f'F1 Score: {f1_score(y_test, y_pred_binary):.4f}')\n",
    "    print(f'PR AUC Score: {pr_auc:.4f}')\n",
    "    \n",
    "    print(\"Classification Report:\")\n",
    "    print(classification_report(y_test, y_pred_binary))"
   ]
  },
  {
   "cell_type": "code",
   "execution_count": 4,
   "metadata": {},
   "outputs": [
    {
     "name": "stdout",
     "output_type": "stream",
     "text": [
      "🔄 Starting to load precomputed datasets...\n",
      "\n",
      "\n",
      "🔄 Loading data from: E:/dataset/real (Label: 0) - Filtering for ''\n"
     ]
    },
    {
     "name": "stderr",
     "output_type": "stream",
     "text": [
      "Processing E:/dataset/real [0/50000]: 100%|██████████| 1000/1000 [07:34<00:00,  2.20img/s]\n",
      "Processing E:/dataset/real [1000/50000]: 100%|██████████| 1000/1000 [07:08<00:00,  2.33img/s]\n",
      "Processing E:/dataset/real [2000/50000]: 100%|██████████| 1000/1000 [07:00<00:00,  2.38img/s]\n",
      "Processing E:/dataset/real [3000/50000]: 100%|██████████| 1000/1000 [06:59<00:00,  2.39img/s]\n",
      "Processing E:/dataset/real [4000/50000]: 100%|██████████| 1000/1000 [07:03<00:00,  2.36img/s]\n",
      "Processing E:/dataset/real [5000/50000]: 100%|██████████| 1000/1000 [07:07<00:00,  2.34img/s]\n",
      "Processing E:/dataset/real [6000/50000]: 100%|██████████| 1000/1000 [07:08<00:00,  2.34img/s]\n",
      "Processing E:/dataset/real [7000/50000]: 100%|██████████| 1000/1000 [07:06<00:00,  2.35img/s]\n",
      "Processing E:/dataset/real [8000/50000]: 100%|██████████| 1000/1000 [07:07<00:00,  2.34img/s]\n",
      "Processing E:/dataset/real [9000/50000]: 100%|██████████| 1000/1000 [07:06<00:00,  2.34img/s]\n",
      "Processing E:/dataset/real [10000/50000]: 100%|██████████| 1000/1000 [07:06<00:00,  2.34img/s]\n",
      "Processing E:/dataset/real [11000/50000]: 100%|██████████| 1000/1000 [07:09<00:00,  2.33img/s]\n",
      "Processing E:/dataset/real [12000/50000]: 100%|██████████| 1000/1000 [07:08<00:00,  2.33img/s]\n",
      "Processing E:/dataset/real [13000/50000]: 100%|██████████| 1000/1000 [07:08<00:00,  2.33img/s]\n",
      "Processing E:/dataset/real [14000/50000]: 100%|██████████| 1000/1000 [07:07<00:00,  2.34img/s]\n",
      "Processing E:/dataset/real [15000/50000]: 100%|██████████| 1000/1000 [07:10<00:00,  2.32img/s]\n",
      "Processing E:/dataset/real [16000/50000]: 100%|██████████| 1000/1000 [07:07<00:00,  2.34img/s]\n",
      "Processing E:/dataset/real [17000/50000]: 100%|██████████| 1000/1000 [07:04<00:00,  2.35img/s]\n",
      "Processing E:/dataset/real [18000/50000]: 100%|██████████| 1000/1000 [07:04<00:00,  2.36img/s]\n",
      "Processing E:/dataset/real [19000/50000]: 100%|██████████| 1000/1000 [07:05<00:00,  2.35img/s]\n",
      "Processing E:/dataset/real [20000/50000]: 100%|██████████| 1000/1000 [07:14<00:00,  2.30img/s]\n",
      "Processing E:/dataset/real [21000/50000]: 100%|██████████| 1000/1000 [07:12<00:00,  2.31img/s]\n",
      "Processing E:/dataset/real [22000/50000]: 100%|██████████| 1000/1000 [07:11<00:00,  2.32img/s]\n",
      "Processing E:/dataset/real [23000/50000]: 100%|██████████| 1000/1000 [07:09<00:00,  2.33img/s]\n",
      "Processing E:/dataset/real [24000/50000]: 100%|██████████| 1000/1000 [07:17<00:00,  2.29img/s]\n",
      "Processing E:/dataset/real [25000/50000]: 100%|██████████| 1000/1000 [07:13<00:00,  2.31img/s]\n",
      "Processing E:/dataset/real [26000/50000]: 100%|██████████| 1000/1000 [07:13<00:00,  2.31img/s]\n",
      "Processing E:/dataset/real [27000/50000]: 100%|██████████| 1000/1000 [07:12<00:00,  2.31img/s]\n",
      "Processing E:/dataset/real [28000/50000]: 100%|██████████| 1000/1000 [07:08<00:00,  2.33img/s]\n",
      "Processing E:/dataset/real [29000/50000]: 100%|██████████| 1000/1000 [07:10<00:00,  2.32img/s]\n",
      "Processing E:/dataset/real [30000/50000]: 100%|██████████| 1000/1000 [07:06<00:00,  2.35img/s]\n",
      "Processing E:/dataset/real [31000/50000]: 100%|██████████| 1000/1000 [07:14<00:00,  2.30img/s]\n",
      "Processing E:/dataset/real [32000/50000]: 100%|██████████| 1000/1000 [07:11<00:00,  2.32img/s]\n",
      "Processing E:/dataset/real [33000/50000]: 100%|██████████| 1000/1000 [07:13<00:00,  2.31img/s]\n",
      "Processing E:/dataset/real [34000/50000]: 100%|██████████| 1000/1000 [07:15<00:00,  2.30img/s]\n",
      "Processing E:/dataset/real [35000/50000]: 100%|██████████| 1000/1000 [07:10<00:00,  2.32img/s]\n",
      "Processing E:/dataset/real [36000/50000]: 100%|██████████| 1000/1000 [07:09<00:00,  2.33img/s]\n",
      "Processing E:/dataset/real [37000/50000]: 100%|██████████| 1000/1000 [07:05<00:00,  2.35img/s]\n",
      "Processing E:/dataset/real [38000/50000]: 100%|██████████| 1000/1000 [07:14<00:00,  2.30img/s]\n",
      "Processing E:/dataset/real [39000/50000]: 100%|██████████| 1000/1000 [07:08<00:00,  2.33img/s]\n",
      "Processing E:/dataset/real [40000/50000]: 100%|██████████| 1000/1000 [07:12<00:00,  2.31img/s]\n",
      "Processing E:/dataset/real [41000/50000]: 100%|██████████| 1000/1000 [07:10<00:00,  2.32img/s]\n",
      "Processing E:/dataset/real [42000/50000]: 100%|██████████| 1000/1000 [07:09<00:00,  2.33img/s]\n",
      "Processing E:/dataset/real [43000/50000]: 100%|██████████| 1000/1000 [07:10<00:00,  2.32img/s]\n",
      "Processing E:/dataset/real [44000/50000]: 100%|██████████| 1000/1000 [07:06<00:00,  2.34img/s]\n",
      "Processing E:/dataset/real [45000/50000]: 100%|██████████| 1000/1000 [07:07<00:00,  2.34img/s]\n",
      "Processing E:/dataset/real [46000/50000]: 100%|██████████| 1000/1000 [07:10<00:00,  2.32img/s]\n",
      "Processing E:/dataset/real [47000/50000]: 100%|██████████| 1000/1000 [07:11<00:00,  2.32img/s]\n",
      "Processing E:/dataset/real [48000/50000]: 100%|██████████| 1000/1000 [07:16<00:00,  2.29img/s]\n",
      "Processing E:/dataset/real [49000/50000]: 100%|██████████| 1000/1000 [07:12<00:00,  2.31img/s]\n"
     ]
    },
    {
     "name": "stdout",
     "output_type": "stream",
     "text": [
      "✅ Finished loading 4875 images from E:/dataset/real.\n",
      "\n",
      "\n",
      "🔄 Loading data from: E:/dataset/fake (Label: 1) - Filtering for ''\n"
     ]
    },
    {
     "name": "stderr",
     "output_type": "stream",
     "text": [
      "Processing E:/dataset/fake [0/50000]: 100%|██████████| 1000/1000 [06:59<00:00,  2.38img/s]\n",
      "Processing E:/dataset/fake [1000/50000]: 100%|██████████| 1000/1000 [06:56<00:00,  2.40img/s]\n",
      "Processing E:/dataset/fake [2000/50000]: 100%|██████████| 1000/1000 [06:58<00:00,  2.39img/s]\n",
      "Processing E:/dataset/fake [3000/50000]: 100%|██████████| 1000/1000 [06:52<00:00,  2.42img/s]\n",
      "Processing E:/dataset/fake [4000/50000]: 100%|██████████| 1000/1000 [06:59<00:00,  2.38img/s]\n",
      "Processing E:/dataset/fake [5000/50000]: 100%|██████████| 1000/1000 [06:56<00:00,  2.40img/s]\n",
      "Processing E:/dataset/fake [6000/50000]: 100%|██████████| 1000/1000 [06:49<00:00,  2.44img/s]\n",
      "Processing E:/dataset/fake [7000/50000]: 100%|██████████| 1000/1000 [06:59<00:00,  2.39img/s]\n",
      "Processing E:/dataset/fake [8000/50000]: 100%|██████████| 1000/1000 [06:48<00:00,  2.45img/s]\n",
      "Processing E:/dataset/fake [9000/50000]: 100%|██████████| 1000/1000 [06:57<00:00,  2.40img/s]\n",
      "Processing E:/dataset/fake [10000/50000]: 100%|██████████| 1000/1000 [06:53<00:00,  2.42img/s]\n",
      "Processing E:/dataset/fake [11000/50000]: 100%|██████████| 1000/1000 [06:54<00:00,  2.41img/s]\n",
      "Processing E:/dataset/fake [12000/50000]: 100%|██████████| 1000/1000 [06:49<00:00,  2.44img/s]\n",
      "Processing E:/dataset/fake [13000/50000]: 100%|██████████| 1000/1000 [06:59<00:00,  2.39img/s]\n",
      "Processing E:/dataset/fake [14000/50000]: 100%|██████████| 1000/1000 [06:57<00:00,  2.39img/s]\n",
      "Processing E:/dataset/fake [15000/50000]: 100%|██████████| 1000/1000 [06:48<00:00,  2.45img/s]\n",
      "Processing E:/dataset/fake [16000/50000]: 100%|██████████| 1000/1000 [06:53<00:00,  2.42img/s]\n",
      "Processing E:/dataset/fake [17000/50000]: 100%|██████████| 1000/1000 [06:53<00:00,  2.42img/s]\n",
      "Processing E:/dataset/fake [18000/50000]: 100%|██████████| 1000/1000 [06:53<00:00,  2.42img/s]\n",
      "Processing E:/dataset/fake [19000/50000]: 100%|██████████| 1000/1000 [06:50<00:00,  2.44img/s]\n",
      "Processing E:/dataset/fake [20000/50000]: 100%|██████████| 1000/1000 [06:55<00:00,  2.40img/s]\n",
      "Processing E:/dataset/fake [21000/50000]: 100%|██████████| 1000/1000 [06:56<00:00,  2.40img/s]\n",
      "Processing E:/dataset/fake [22000/50000]: 100%|██████████| 1000/1000 [06:50<00:00,  2.44img/s]\n",
      "Processing E:/dataset/fake [23000/50000]: 100%|██████████| 1000/1000 [06:49<00:00,  2.44img/s]\n",
      "Processing E:/dataset/fake [24000/50000]: 100%|██████████| 1000/1000 [06:59<00:00,  2.38img/s]\n",
      "Processing E:/dataset/fake [25000/50000]: 100%|██████████| 1000/1000 [06:55<00:00,  2.41img/s]\n",
      "Processing E:/dataset/fake [26000/50000]: 100%|██████████| 1000/1000 [06:52<00:00,  2.42img/s]\n",
      "Processing E:/dataset/fake [27000/50000]: 100%|██████████| 1000/1000 [06:53<00:00,  2.42img/s]\n",
      "Processing E:/dataset/fake [28000/50000]: 100%|██████████| 1000/1000 [06:49<00:00,  2.44img/s]\n",
      "Processing E:/dataset/fake [29000/50000]: 100%|██████████| 1000/1000 [06:49<00:00,  2.44img/s]\n",
      "Processing E:/dataset/fake [30000/50000]: 100%|██████████| 1000/1000 [06:49<00:00,  2.44img/s]\n",
      "Processing E:/dataset/fake [31000/50000]: 100%|██████████| 1000/1000 [06:53<00:00,  2.42img/s]\n",
      "Processing E:/dataset/fake [32000/50000]: 100%|██████████| 1000/1000 [06:51<00:00,  2.43img/s]\n",
      "Processing E:/dataset/fake [33000/50000]: 100%|██████████| 1000/1000 [06:57<00:00,  2.40img/s]\n",
      "Processing E:/dataset/fake [34000/50000]: 100%|██████████| 1000/1000 [06:48<00:00,  2.45img/s]\n",
      "Processing E:/dataset/fake [35000/50000]: 100%|██████████| 1000/1000 [06:47<00:00,  2.45img/s]\n",
      "Processing E:/dataset/fake [36000/50000]: 100%|██████████| 1000/1000 [06:49<00:00,  2.44img/s]\n",
      "Processing E:/dataset/fake [37000/50000]: 100%|██████████| 1000/1000 [06:49<00:00,  2.44img/s]\n",
      "Processing E:/dataset/fake [38000/50000]: 100%|██████████| 1000/1000 [06:46<00:00,  2.46img/s]\n",
      "Processing E:/dataset/fake [39000/50000]: 100%|██████████| 1000/1000 [06:49<00:00,  2.44img/s]\n",
      "Processing E:/dataset/fake [40000/50000]: 100%|██████████| 1000/1000 [06:50<00:00,  2.43img/s]\n",
      "Processing E:/dataset/fake [41000/50000]: 100%|██████████| 1000/1000 [06:47<00:00,  2.46img/s]\n",
      "Processing E:/dataset/fake [42000/50000]: 100%|██████████| 1000/1000 [06:51<00:00,  2.43img/s]\n",
      "Processing E:/dataset/fake [43000/50000]: 100%|██████████| 1000/1000 [06:46<00:00,  2.46img/s]\n",
      "Processing E:/dataset/fake [44000/50000]: 100%|██████████| 1000/1000 [06:49<00:00,  2.44img/s]\n",
      "Processing E:/dataset/fake [45000/50000]: 100%|██████████| 1000/1000 [06:42<00:00,  2.48img/s]\n",
      "Processing E:/dataset/fake [46000/50000]: 100%|██████████| 1000/1000 [06:45<00:00,  2.46img/s]\n",
      "Processing E:/dataset/fake [47000/50000]: 100%|██████████| 1000/1000 [06:45<00:00,  2.47img/s]\n",
      "Processing E:/dataset/fake [48000/50000]: 100%|██████████| 1000/1000 [06:50<00:00,  2.43img/s]\n",
      "Processing E:/dataset/fake [49000/50000]: 100%|██████████| 1000/1000 [06:46<00:00,  2.46img/s]\n"
     ]
    },
    {
     "name": "stdout",
     "output_type": "stream",
     "text": [
      "✅ Finished loading 4960 images from E:/dataset/fake.\n",
      "\n",
      "💾 Saving preprocessed data in chunks to avoid memory issues...\n",
      "✅ Data saved successfully!\n"
     ]
    }
   ],
   "source": [
    "import random\n",
    "\n",
    "def load_precomputed_data(face_dir, flow_dir, edge_dir, label, condition_string, max_samples=15000):\n",
    "    \"\"\"Loads images in smaller batches to avoid memory overload.\"\"\"\n",
    "    x_data = []\n",
    "    y_data = []\n",
    "    count = 0\n",
    "\n",
    "    print(f\"\\n🔄 Loading data from: {face_dir} (Label: {label}) - Filtering for '{condition_string}'\")\n",
    "    \n",
    "    # Get list of relevant files\n",
    "    face_files = [f for f in os.listdir(face_dir) if condition_string in f and f.endswith(\".jpg\")]\n",
    "\n",
    "    if not face_files:\n",
    "        print(f\"⚠️ No '{condition_string}' images found in {face_dir}! Check filenames.\")\n",
    "        return np.array([]), np.array([])\n",
    "\n",
    "    # Shuffle and limit to max_samples\n",
    "    random.shuffle(face_files)\n",
    "    face_files = face_files[:max_samples]\n",
    "\n",
    "    batch_size = 1000  # Process in smaller batches\n",
    "    for i in range(0, len(face_files), batch_size):\n",
    "        batch_files = face_files[i:i+batch_size]\n",
    "\n",
    "        batch_x = []\n",
    "        for face_file in tqdm(batch_files, desc=f\"Processing {face_dir} [{i}/{len(face_files)}]\", unit=\"img\"):\n",
    "            base_name = os.path.splitext(face_file)[0].replace(\"_face\", \"\")\n",
    "\n",
    "            face_path = os.path.join(face_dir, face_file)\n",
    "            flow_path = os.path.join(flow_dir, base_name + \"_flow.jpg\")\n",
    "            edge_path = os.path.join(edge_dir, base_name + \"_edges.jpg\")\n",
    "\n",
    "            if os.path.exists(face_path) and os.path.exists(flow_path) and os.path.exists(edge_path):\n",
    "                try:\n",
    "                    # Load images and resize\n",
    "                    face_img = cv2.resize(cv2.imread(face_path), (299, 299))\n",
    "                    flow_img = cv2.resize(cv2.imread(flow_path), (299, 299))\n",
    "                    edge_img = cv2.resize(cv2.imread(edge_path), (299, 299))\n",
    "\n",
    "                    # Normalize and convert to float32 to save memory\n",
    "                    face_img = face_img.astype(np.float32) / 255.0\n",
    "                    flow_img = flow_img.astype(np.float32) / 255.0\n",
    "                    edge_img = edge_img.astype(np.float32) / 255.0\n",
    "\n",
    "                    # Concatenate into a 9-channel image\n",
    "                    combined_input = np.concatenate((face_img, flow_img, edge_img), axis=-1)\n",
    "\n",
    "                    batch_x.append(combined_input)\n",
    "                    y_data.append(label)\n",
    "\n",
    "                except Exception as e:\n",
    "                    print(f\"⚠️ Error processing {face_file}: {e}\")\n",
    "\n",
    "        if batch_x:\n",
    "            x_data.extend(batch_x)\n",
    "        count += len(batch_x)\n",
    "\n",
    "    if count == 0:\n",
    "        print(f\"⚠️ No valid samples found in {face_dir}. Please check file names and paths!\\n\")\n",
    "\n",
    "    print(f\"✅ Finished loading {count} images from {face_dir}.\\n\")\n",
    "    return np.array(x_data, dtype=np.float32), np.array(y_data, dtype=np.int8)  # Convert to smaller dtype\n",
    "\n",
    "# Load in smaller batches\n",
    "print(\"🔄 Starting to load precomputed datasets...\\n\")\n",
    "real_x, real_y = load_precomputed_data(\"E:/dataset/real\", \"E:/dataset/optical_flow\", \"E:/dataset/edges\", label=0, condition_string=\"\", max_samples=50000)\n",
    "fake_x, fake_y = load_precomputed_data(\"E:/dataset/fake\", \"E:/dataset/optical_flow\", \"E:/dataset/edges\", label=1, condition_string=\"\", max_samples=50000)\n",
    "\n",
    "# Ensure we loaded data\n",
    "if real_x.size == 0 or fake_x.size == 0:\n",
    "    print(\"❌ ERROR: No valid images loaded! Fix errors before continuing.\")\n",
    "    exit()\n",
    "\n",
    "# **Use np.memmap to write data in chunks to avoid RAM overuse**\n",
    "save_path = \"E:/dataset/preprocessed_data_Exp4.npz\"\n",
    "print(\"💾 Saving preprocessed data in chunks to avoid memory issues...\")\n",
    "\n",
    "# Define shapes\n",
    "total_samples = real_x.shape[0] + fake_x.shape[0]\n",
    "image_shape = (299, 299, 9)\n",
    "\n",
    "# Create a memory-mapped file\n",
    "x_data_memmap = np.memmap(save_path.replace(\".npz\", \"_x.dat\"), dtype=np.float32, mode=\"w+\", shape=(total_samples, *image_shape))\n",
    "y_data_memmap = np.memmap(save_path.replace(\".npz\", \"_y.dat\"), dtype=np.int8, mode=\"w+\", shape=(total_samples,))\n",
    "\n",
    "# Write in chunks\n",
    "x_data_memmap[:real_x.shape[0]] = real_x\n",
    "x_data_memmap[real_x.shape[0]:] = fake_x\n",
    "y_data_memmap[:real_y.shape[0]] = real_y\n",
    "y_data_memmap[real_y.shape[0]:] = fake_y\n",
    "\n",
    "# Flush to disk\n",
    "del x_data_memmap, y_data_memmap  # Ensure it's saved before creating NPZ file\n",
    "\n",
    "# Save final NPZ file with memory-efficient data\n",
    "np.savez_compressed(save_path, x=np.memmap(save_path.replace(\".npz\", \"_x.dat\"), dtype=np.float32, mode=\"r\", shape=(total_samples, *image_shape)), \n",
    "                                  y=np.memmap(save_path.replace(\".npz\", \"_y.dat\"), dtype=np.int8, mode=\"r\", shape=(total_samples,)))\n",
    "\n",
    "print(\"✅ Data saved successfully!\")"
   ]
  },
  {
   "cell_type": "code",
   "execution_count": 4,
   "metadata": {},
   "outputs": [
    {
     "name": "stdout",
     "output_type": "stream",
     "text": [
      "📂 Loading precomputed dataset from E:/dataset/preprocessed_data_Exp4.npz...\n",
      "✅ Loaded dataset: 9835 samples.\n",
      "📊 Train/Test Split:\n",
      "  x_train: (7868, 299, 299, 9), y_train: (7868,)\n",
      "  x_test: (1967, 299, 299, 9), y_test: (1967,)\n"
     ]
    }
   ],
   "source": [
    "# Load precomputed dataset\n",
    "save_path = \"E:/dataset/preprocessed_data_Exp4.npz\"\n",
    "print(f\"📂 Loading precomputed dataset from {save_path}...\")\n",
    "data = np.load(save_path)\n",
    "\n",
    "# Extract x_data and y_data\n",
    "x_data, y_data = data[\"x\"], data[\"y\"]\n",
    "print(f\"✅ Loaded dataset: {x_data.shape[0]} samples.\")\n",
    "\n",
    "# Train-test split\n",
    "x_train, x_test, y_train, y_test = train_test_split(x_data, y_data, test_size=0.2, random_state=42, stratify=y_data)\n",
    "\n",
    "# Verify shapes\n",
    "print(f\"📊 Train/Test Split:\")\n",
    "print(f\"  x_train: {x_train.shape}, y_train: {y_train.shape}\")\n",
    "print(f\"  x_test: {x_test.shape}, y_test: {y_test.shape}\")"
   ]
  },
  {
   "cell_type": "code",
   "execution_count": 5,
   "metadata": {},
   "outputs": [
    {
     "name": "stdout",
     "output_type": "stream",
     "text": [
      "Building improved model...\n"
     ]
    },
    {
     "name": "stderr",
     "output_type": "stream",
     "text": [
      "c:\\Users\\G713QM-\\anaconda3\\Lib\\site-packages\\keras\\src\\applications\\xception.py:111: UserWarning: This model usually expects 1 or 3 input channels. However, it was passed an input_shape with 9 input channels.\n",
      "  input_shape = imagenet_utils.obtain_input_shape(\n"
     ]
    },
    {
     "name": "stdout",
     "output_type": "stream",
     "text": [
      "Improved model built successfully.\n"
     ]
    },
    {
     "data": {
      "text/html": [
       "<pre style=\"white-space:pre;overflow-x:auto;line-height:normal;font-family:Menlo,'DejaVu Sans Mono',consolas,'Courier New',monospace\"><span style=\"font-weight: bold\">Model: \"temporal_model\"</span>\n",
       "</pre>\n"
      ],
      "text/plain": [
       "\u001b[1mModel: \"temporal_model\"\u001b[0m\n"
      ]
     },
     "metadata": {},
     "output_type": "display_data"
    },
    {
     "data": {
      "text/html": [
       "<pre style=\"white-space:pre;overflow-x:auto;line-height:normal;font-family:Menlo,'DejaVu Sans Mono',consolas,'Courier New',monospace\">┏━━━━━━━━━━━━━━━━━━━━━━━━━━━━━━━━━┳━━━━━━━━━━━━━━━━━━━━━━━━┳━━━━━━━━━━━━━━━┓\n",
       "┃<span style=\"font-weight: bold\"> Layer (type)                    </span>┃<span style=\"font-weight: bold\"> Output Shape           </span>┃<span style=\"font-weight: bold\">       Param # </span>┃\n",
       "┡━━━━━━━━━━━━━━━━━━━━━━━━━━━━━━━━━╇━━━━━━━━━━━━━━━━━━━━━━━━╇━━━━━━━━━━━━━━━┩\n",
       "│ lstm_input (<span style=\"color: #0087ff; text-decoration-color: #0087ff\">InputLayer</span>)         │ (<span style=\"color: #00d7ff; text-decoration-color: #00d7ff\">None</span>, <span style=\"color: #00d7ff; text-decoration-color: #00d7ff\">None</span>, <span style=\"color: #00af00; text-decoration-color: #00af00\">512</span>)      │             <span style=\"color: #00af00; text-decoration-color: #00af00\">0</span> │\n",
       "├─────────────────────────────────┼────────────────────────┼───────────────┤\n",
       "│ cast_1 (<span style=\"color: #0087ff; text-decoration-color: #0087ff\">Cast</span>)                   │ (<span style=\"color: #00d7ff; text-decoration-color: #00d7ff\">None</span>, <span style=\"color: #00d7ff; text-decoration-color: #00d7ff\">None</span>, <span style=\"color: #00af00; text-decoration-color: #00af00\">512</span>)      │             <span style=\"color: #00af00; text-decoration-color: #00af00\">0</span> │\n",
       "├─────────────────────────────────┼────────────────────────┼───────────────┤\n",
       "│ bidirectional (<span style=\"color: #0087ff; text-decoration-color: #0087ff\">Bidirectional</span>)   │ (<span style=\"color: #00d7ff; text-decoration-color: #00d7ff\">None</span>, <span style=\"color: #00d7ff; text-decoration-color: #00d7ff\">None</span>, <span style=\"color: #00af00; text-decoration-color: #00af00\">512</span>)      │     <span style=\"color: #00af00; text-decoration-color: #00af00\">1,574,912</span> │\n",
       "├─────────────────────────────────┼────────────────────────┼───────────────┤\n",
       "│ bidirectional_1 (<span style=\"color: #0087ff; text-decoration-color: #0087ff\">Bidirectional</span>) │ (<span style=\"color: #00d7ff; text-decoration-color: #00d7ff\">None</span>, <span style=\"color: #00af00; text-decoration-color: #00af00\">256</span>)            │       <span style=\"color: #00af00; text-decoration-color: #00af00\">656,384</span> │\n",
       "├─────────────────────────────────┼────────────────────────┼───────────────┤\n",
       "│ batch_normalization_6           │ (<span style=\"color: #00d7ff; text-decoration-color: #00d7ff\">None</span>, <span style=\"color: #00af00; text-decoration-color: #00af00\">256</span>)            │         <span style=\"color: #00af00; text-decoration-color: #00af00\">1,024</span> │\n",
       "│ (<span style=\"color: #0087ff; text-decoration-color: #0087ff\">BatchNormalization</span>)            │                        │               │\n",
       "├─────────────────────────────────┼────────────────────────┼───────────────┤\n",
       "│ dense_2 (<span style=\"color: #0087ff; text-decoration-color: #0087ff\">Dense</span>)                 │ (<span style=\"color: #00d7ff; text-decoration-color: #00d7ff\">None</span>, <span style=\"color: #00af00; text-decoration-color: #00af00\">1</span>)              │           <span style=\"color: #00af00; text-decoration-color: #00af00\">257</span> │\n",
       "└─────────────────────────────────┴────────────────────────┴───────────────┘\n",
       "</pre>\n"
      ],
      "text/plain": [
       "┏━━━━━━━━━━━━━━━━━━━━━━━━━━━━━━━━━┳━━━━━━━━━━━━━━━━━━━━━━━━┳━━━━━━━━━━━━━━━┓\n",
       "┃\u001b[1m \u001b[0m\u001b[1mLayer (type)                   \u001b[0m\u001b[1m \u001b[0m┃\u001b[1m \u001b[0m\u001b[1mOutput Shape          \u001b[0m\u001b[1m \u001b[0m┃\u001b[1m \u001b[0m\u001b[1m      Param #\u001b[0m\u001b[1m \u001b[0m┃\n",
       "┡━━━━━━━━━━━━━━━━━━━━━━━━━━━━━━━━━╇━━━━━━━━━━━━━━━━━━━━━━━━╇━━━━━━━━━━━━━━━┩\n",
       "│ lstm_input (\u001b[38;5;33mInputLayer\u001b[0m)         │ (\u001b[38;5;45mNone\u001b[0m, \u001b[38;5;45mNone\u001b[0m, \u001b[38;5;34m512\u001b[0m)      │             \u001b[38;5;34m0\u001b[0m │\n",
       "├─────────────────────────────────┼────────────────────────┼───────────────┤\n",
       "│ cast_1 (\u001b[38;5;33mCast\u001b[0m)                   │ (\u001b[38;5;45mNone\u001b[0m, \u001b[38;5;45mNone\u001b[0m, \u001b[38;5;34m512\u001b[0m)      │             \u001b[38;5;34m0\u001b[0m │\n",
       "├─────────────────────────────────┼────────────────────────┼───────────────┤\n",
       "│ bidirectional (\u001b[38;5;33mBidirectional\u001b[0m)   │ (\u001b[38;5;45mNone\u001b[0m, \u001b[38;5;45mNone\u001b[0m, \u001b[38;5;34m512\u001b[0m)      │     \u001b[38;5;34m1,574,912\u001b[0m │\n",
       "├─────────────────────────────────┼────────────────────────┼───────────────┤\n",
       "│ bidirectional_1 (\u001b[38;5;33mBidirectional\u001b[0m) │ (\u001b[38;5;45mNone\u001b[0m, \u001b[38;5;34m256\u001b[0m)            │       \u001b[38;5;34m656,384\u001b[0m │\n",
       "├─────────────────────────────────┼────────────────────────┼───────────────┤\n",
       "│ batch_normalization_6           │ (\u001b[38;5;45mNone\u001b[0m, \u001b[38;5;34m256\u001b[0m)            │         \u001b[38;5;34m1,024\u001b[0m │\n",
       "│ (\u001b[38;5;33mBatchNormalization\u001b[0m)            │                        │               │\n",
       "├─────────────────────────────────┼────────────────────────┼───────────────┤\n",
       "│ dense_2 (\u001b[38;5;33mDense\u001b[0m)                 │ (\u001b[38;5;45mNone\u001b[0m, \u001b[38;5;34m1\u001b[0m)              │           \u001b[38;5;34m257\u001b[0m │\n",
       "└─────────────────────────────────┴────────────────────────┴───────────────┘\n"
      ]
     },
     "metadata": {},
     "output_type": "display_data"
    },
    {
     "data": {
      "text/html": [
       "<pre style=\"white-space:pre;overflow-x:auto;line-height:normal;font-family:Menlo,'DejaVu Sans Mono',consolas,'Courier New',monospace\"><span style=\"font-weight: bold\"> Total params: </span><span style=\"color: #00af00; text-decoration-color: #00af00\">2,232,577</span> (8.52 MB)\n",
       "</pre>\n"
      ],
      "text/plain": [
       "\u001b[1m Total params: \u001b[0m\u001b[38;5;34m2,232,577\u001b[0m (8.52 MB)\n"
      ]
     },
     "metadata": {},
     "output_type": "display_data"
    },
    {
     "data": {
      "text/html": [
       "<pre style=\"white-space:pre;overflow-x:auto;line-height:normal;font-family:Menlo,'DejaVu Sans Mono',consolas,'Courier New',monospace\"><span style=\"font-weight: bold\"> Trainable params: </span><span style=\"color: #00af00; text-decoration-color: #00af00\">2,232,065</span> (8.51 MB)\n",
       "</pre>\n"
      ],
      "text/plain": [
       "\u001b[1m Trainable params: \u001b[0m\u001b[38;5;34m2,232,065\u001b[0m (8.51 MB)\n"
      ]
     },
     "metadata": {},
     "output_type": "display_data"
    },
    {
     "data": {
      "text/html": [
       "<pre style=\"white-space:pre;overflow-x:auto;line-height:normal;font-family:Menlo,'DejaVu Sans Mono',consolas,'Courier New',monospace\"><span style=\"font-weight: bold\"> Non-trainable params: </span><span style=\"color: #00af00; text-decoration-color: #00af00\">512</span> (2.00 KB)\n",
       "</pre>\n"
      ],
      "text/plain": [
       "\u001b[1m Non-trainable params: \u001b[0m\u001b[38;5;34m512\u001b[0m (2.00 KB)\n"
      ]
     },
     "metadata": {},
     "output_type": "display_data"
    }
   ],
   "source": [
    "# if __name__ == \"__main__\":\n",
    "#     real_faces = \"E:/Research/real/Cropped_Faces\"\n",
    "#     fake_faces = \"E:/Research/fake/Cropped_Faces\"\n",
    "    # real_data, fake_data = prepare_data(real_faces, \"\", fake_faces, \"\")\n",
    "    \n",
    "    # Build the Spatial and Temporal Models\n",
    "spatial_model, temporal_model = build_model(input_shape=(299, 299, 9))\n",
    "\n",
    "# x_train = x_train.astype('float32')\n",
    "# x_test = x_test.astype('float32')\n",
    "# y_test = y_test.astype('float32')\n",
    "# y_test = y_test.astype('float32')\n",
    "\n",
    "# spatial_model.summary()\n",
    "temporal_model.summary()\n"
   ]
  },
  {
   "cell_type": "code",
   "execution_count": 6,
   "metadata": {},
   "outputs": [
    {
     "name": "stdout",
     "output_type": "stream",
     "text": [
      "Extracting features from Xception (Spatial Model)...\n",
      "\u001b[1m246/246\u001b[0m \u001b[32m━━━━━━━━━━━━━━━━━━━━\u001b[0m\u001b[37m\u001b[0m \u001b[1m931s\u001b[0m 4s/step\n",
      "\u001b[1m62/62\u001b[0m \u001b[32m━━━━━━━━━━━━━━━━━━━━\u001b[0m\u001b[37m\u001b[0m \u001b[1m226s\u001b[0m 4s/step\n",
      "Training Improved Temporal Model (LSTM)...\n",
      "Epoch 1/100\n",
      "\u001b[1m244/246\u001b[0m \u001b[32m━━━━━━━━━━━━━━━━━━━\u001b[0m\u001b[37m━\u001b[0m \u001b[1m0s\u001b[0m 16ms/step - accuracy: 0.5161 - loss: 0.6930\n",
      "Epoch 1: val_accuracy improved from -inf to 0.49568, saving model to best_model.h5\n"
     ]
    },
    {
     "name": "stderr",
     "output_type": "stream",
     "text": [
      "WARNING:absl:You are saving your model as an HDF5 file via `model.save()` or `keras.saving.save_model(model)`. This file format is considered legacy. We recommend using instead the native Keras format, e.g. `model.save('my_model.keras')` or `keras.saving.save_model(model, 'my_model.keras')`. \n"
     ]
    },
    {
     "name": "stdout",
     "output_type": "stream",
     "text": [
      "\u001b[1m246/246\u001b[0m \u001b[32m━━━━━━━━━━━━━━━━━━━━\u001b[0m\u001b[37m\u001b[0m \u001b[1m13s\u001b[0m 22ms/step - accuracy: 0.5161 - loss: 0.6930 - val_accuracy: 0.4957 - val_loss: 0.6932 - learning_rate: 1.0000e-04\n",
      "Epoch 2/100\n",
      "\u001b[1m244/246\u001b[0m \u001b[32m━━━━━━━━━━━━━━━━━━━\u001b[0m\u001b[37m━\u001b[0m \u001b[1m0s\u001b[0m 18ms/step - accuracy: 0.5465 - loss: 0.6922\n",
      "Epoch 2: val_accuracy improved from 0.49568 to 0.50432, saving model to best_model.h5\n"
     ]
    },
    {
     "name": "stderr",
     "output_type": "stream",
     "text": [
      "WARNING:absl:You are saving your model as an HDF5 file via `model.save()` or `keras.saving.save_model(model)`. This file format is considered legacy. We recommend using instead the native Keras format, e.g. `model.save('my_model.keras')` or `keras.saving.save_model(model, 'my_model.keras')`. \n"
     ]
    },
    {
     "name": "stdout",
     "output_type": "stream",
     "text": [
      "\u001b[1m246/246\u001b[0m \u001b[32m━━━━━━━━━━━━━━━━━━━━\u001b[0m\u001b[37m\u001b[0m \u001b[1m5s\u001b[0m 19ms/step - accuracy: 0.5466 - loss: 0.6922 - val_accuracy: 0.5043 - val_loss: 0.6918 - learning_rate: 1.0000e-04\n",
      "Epoch 3/100\n",
      "\u001b[1m244/246\u001b[0m \u001b[32m━━━━━━━━━━━━━━━━━━━\u001b[0m\u001b[37m━\u001b[0m \u001b[1m0s\u001b[0m 17ms/step - accuracy: 0.6271 - loss: 0.6885\n",
      "Epoch 3: val_accuracy improved from 0.50432 to 0.74123, saving model to best_model.h5\n"
     ]
    },
    {
     "name": "stderr",
     "output_type": "stream",
     "text": [
      "WARNING:absl:You are saving your model as an HDF5 file via `model.save()` or `keras.saving.save_model(model)`. This file format is considered legacy. We recommend using instead the native Keras format, e.g. `model.save('my_model.keras')` or `keras.saving.save_model(model, 'my_model.keras')`. \n"
     ]
    },
    {
     "name": "stdout",
     "output_type": "stream",
     "text": [
      "\u001b[1m246/246\u001b[0m \u001b[32m━━━━━━━━━━━━━━━━━━━━\u001b[0m\u001b[37m\u001b[0m \u001b[1m5s\u001b[0m 19ms/step - accuracy: 0.6275 - loss: 0.6884 - val_accuracy: 0.7412 - val_loss: 0.6807 - learning_rate: 1.0000e-04\n",
      "Epoch 4/100\n",
      "\u001b[1m244/246\u001b[0m \u001b[32m━━━━━━━━━━━━━━━━━━━\u001b[0m\u001b[37m━\u001b[0m \u001b[1m0s\u001b[0m 18ms/step - accuracy: 0.7455 - loss: 0.6709\n",
      "Epoch 4: val_accuracy improved from 0.74123 to 0.86172, saving model to best_model.h5\n"
     ]
    },
    {
     "name": "stderr",
     "output_type": "stream",
     "text": [
      "WARNING:absl:You are saving your model as an HDF5 file via `model.save()` or `keras.saving.save_model(model)`. This file format is considered legacy. We recommend using instead the native Keras format, e.g. `model.save('my_model.keras')` or `keras.saving.save_model(model, 'my_model.keras')`. \n"
     ]
    },
    {
     "name": "stdout",
     "output_type": "stream",
     "text": [
      "\u001b[1m246/246\u001b[0m \u001b[32m━━━━━━━━━━━━━━━━━━━━\u001b[0m\u001b[37m\u001b[0m \u001b[1m5s\u001b[0m 19ms/step - accuracy: 0.7456 - loss: 0.6708 - val_accuracy: 0.8617 - val_loss: 0.6306 - learning_rate: 1.0000e-04\n",
      "Epoch 5/100\n",
      "\u001b[1m244/246\u001b[0m \u001b[32m━━━━━━━━━━━━━━━━━━━\u001b[0m\u001b[37m━\u001b[0m \u001b[1m0s\u001b[0m 18ms/step - accuracy: 0.8005 - loss: 0.6138\n",
      "Epoch 5: val_accuracy did not improve from 0.86172\n",
      "\u001b[1m246/246\u001b[0m \u001b[32m━━━━━━━━━━━━━━━━━━━━\u001b[0m\u001b[37m\u001b[0m \u001b[1m5s\u001b[0m 19ms/step - accuracy: 0.8006 - loss: 0.6135 - val_accuracy: 0.5241 - val_loss: 0.5681 - learning_rate: 1.0000e-04\n",
      "Epoch 6/100\n",
      "\u001b[1m244/246\u001b[0m \u001b[32m━━━━━━━━━━━━━━━━━━━\u001b[0m\u001b[37m━\u001b[0m \u001b[1m0s\u001b[0m 17ms/step - accuracy: 0.8483 - loss: 0.4991\n",
      "Epoch 6: val_accuracy did not improve from 0.86172\n",
      "\u001b[1m246/246\u001b[0m \u001b[32m━━━━━━━━━━━━━━━━━━━━\u001b[0m\u001b[37m\u001b[0m \u001b[1m5s\u001b[0m 19ms/step - accuracy: 0.8484 - loss: 0.4987 - val_accuracy: 0.5653 - val_loss: 0.5418 - learning_rate: 1.0000e-04\n",
      "Epoch 7/100\n",
      "\u001b[1m246/246\u001b[0m \u001b[32m━━━━━━━━━━━━━━━━━━━━\u001b[0m\u001b[37m\u001b[0m \u001b[1m0s\u001b[0m 17ms/step - accuracy: 0.8716 - loss: 0.3833\n",
      "Epoch 7: val_accuracy improved from 0.86172 to 0.91357, saving model to best_model.h5\n"
     ]
    },
    {
     "name": "stderr",
     "output_type": "stream",
     "text": [
      "WARNING:absl:You are saving your model as an HDF5 file via `model.save()` or `keras.saving.save_model(model)`. This file format is considered legacy. We recommend using instead the native Keras format, e.g. `model.save('my_model.keras')` or `keras.saving.save_model(model, 'my_model.keras')`. \n"
     ]
    },
    {
     "name": "stdout",
     "output_type": "stream",
     "text": [
      "\u001b[1m246/246\u001b[0m \u001b[32m━━━━━━━━━━━━━━━━━━━━\u001b[0m\u001b[37m\u001b[0m \u001b[1m4s\u001b[0m 18ms/step - accuracy: 0.8717 - loss: 0.3832 - val_accuracy: 0.9136 - val_loss: 0.3072 - learning_rate: 1.0000e-04\n",
      "Epoch 8/100\n",
      "\u001b[1m246/246\u001b[0m \u001b[32m━━━━━━━━━━━━━━━━━━━━\u001b[0m\u001b[37m\u001b[0m \u001b[1m0s\u001b[0m 17ms/step - accuracy: 0.8763 - loss: 0.3199\n",
      "Epoch 8: val_accuracy did not improve from 0.91357\n",
      "\u001b[1m246/246\u001b[0m \u001b[32m━━━━━━━━━━━━━━━━━━━━\u001b[0m\u001b[37m\u001b[0m \u001b[1m4s\u001b[0m 18ms/step - accuracy: 0.8763 - loss: 0.3199 - val_accuracy: 0.8866 - val_loss: 0.2946 - learning_rate: 1.0000e-04\n",
      "Epoch 9/100\n",
      "\u001b[1m244/246\u001b[0m \u001b[32m━━━━━━━━━━━━━━━━━━━\u001b[0m\u001b[37m━\u001b[0m \u001b[1m0s\u001b[0m 17ms/step - accuracy: 0.8878 - loss: 0.2772\n",
      "Epoch 9: val_accuracy did not improve from 0.91357\n",
      "\u001b[1m246/246\u001b[0m \u001b[32m━━━━━━━━━━━━━━━━━━━━\u001b[0m\u001b[37m\u001b[0m \u001b[1m4s\u001b[0m 18ms/step - accuracy: 0.8878 - loss: 0.2772 - val_accuracy: 0.8958 - val_loss: 0.2598 - learning_rate: 1.0000e-04\n",
      "Epoch 10/100\n",
      "\u001b[1m244/246\u001b[0m \u001b[32m━━━━━━━━━━━━━━━━━━━\u001b[0m\u001b[37m━\u001b[0m \u001b[1m0s\u001b[0m 17ms/step - accuracy: 0.8947 - loss: 0.2624\n",
      "Epoch 10: val_accuracy improved from 0.91357 to 0.92120, saving model to best_model.h5\n"
     ]
    },
    {
     "name": "stderr",
     "output_type": "stream",
     "text": [
      "WARNING:absl:You are saving your model as an HDF5 file via `model.save()` or `keras.saving.save_model(model)`. This file format is considered legacy. We recommend using instead the native Keras format, e.g. `model.save('my_model.keras')` or `keras.saving.save_model(model, 'my_model.keras')`. \n"
     ]
    },
    {
     "name": "stdout",
     "output_type": "stream",
     "text": [
      "\u001b[1m246/246\u001b[0m \u001b[32m━━━━━━━━━━━━━━━━━━━━\u001b[0m\u001b[37m\u001b[0m \u001b[1m4s\u001b[0m 18ms/step - accuracy: 0.8946 - loss: 0.2624 - val_accuracy: 0.9212 - val_loss: 0.2190 - learning_rate: 1.0000e-04\n",
      "Epoch 11/100\n",
      "\u001b[1m244/246\u001b[0m \u001b[32m━━━━━━━━━━━━━━━━━━━\u001b[0m\u001b[37m━\u001b[0m \u001b[1m0s\u001b[0m 17ms/step - accuracy: 0.8920 - loss: 0.2615\n",
      "Epoch 11: val_accuracy improved from 0.92120 to 0.92476, saving model to best_model.h5\n"
     ]
    },
    {
     "name": "stderr",
     "output_type": "stream",
     "text": [
      "WARNING:absl:You are saving your model as an HDF5 file via `model.save()` or `keras.saving.save_model(model)`. This file format is considered legacy. We recommend using instead the native Keras format, e.g. `model.save('my_model.keras')` or `keras.saving.save_model(model, 'my_model.keras')`. \n"
     ]
    },
    {
     "name": "stdout",
     "output_type": "stream",
     "text": [
      "\u001b[1m246/246\u001b[0m \u001b[32m━━━━━━━━━━━━━━━━━━━━\u001b[0m\u001b[37m\u001b[0m \u001b[1m4s\u001b[0m 18ms/step - accuracy: 0.8920 - loss: 0.2614 - val_accuracy: 0.9248 - val_loss: 0.2049 - learning_rate: 1.0000e-04\n",
      "Epoch 12/100\n",
      "\u001b[1m246/246\u001b[0m \u001b[32m━━━━━━━━━━━━━━━━━━━━\u001b[0m\u001b[37m\u001b[0m \u001b[1m0s\u001b[0m 17ms/step - accuracy: 0.9011 - loss: 0.2380\n",
      "Epoch 12: val_accuracy improved from 0.92476 to 0.92679, saving model to best_model.h5\n"
     ]
    },
    {
     "name": "stderr",
     "output_type": "stream",
     "text": [
      "WARNING:absl:You are saving your model as an HDF5 file via `model.save()` or `keras.saving.save_model(model)`. This file format is considered legacy. We recommend using instead the native Keras format, e.g. `model.save('my_model.keras')` or `keras.saving.save_model(model, 'my_model.keras')`. \n"
     ]
    },
    {
     "name": "stdout",
     "output_type": "stream",
     "text": [
      "\u001b[1m246/246\u001b[0m \u001b[32m━━━━━━━━━━━━━━━━━━━━\u001b[0m\u001b[37m\u001b[0m \u001b[1m4s\u001b[0m 18ms/step - accuracy: 0.9011 - loss: 0.2380 - val_accuracy: 0.9268 - val_loss: 0.1953 - learning_rate: 1.0000e-04\n",
      "Epoch 13/100\n",
      "\u001b[1m246/246\u001b[0m \u001b[32m━━━━━━━━━━━━━━━━━━━━\u001b[0m\u001b[37m\u001b[0m \u001b[1m0s\u001b[0m 16ms/step - accuracy: 0.9015 - loss: 0.2325\n",
      "Epoch 13: val_accuracy improved from 0.92679 to 0.92832, saving model to best_model.h5\n"
     ]
    },
    {
     "name": "stderr",
     "output_type": "stream",
     "text": [
      "WARNING:absl:You are saving your model as an HDF5 file via `model.save()` or `keras.saving.save_model(model)`. This file format is considered legacy. We recommend using instead the native Keras format, e.g. `model.save('my_model.keras')` or `keras.saving.save_model(model, 'my_model.keras')`. \n"
     ]
    },
    {
     "name": "stdout",
     "output_type": "stream",
     "text": [
      "\u001b[1m246/246\u001b[0m \u001b[32m━━━━━━━━━━━━━━━━━━━━\u001b[0m\u001b[37m\u001b[0m \u001b[1m4s\u001b[0m 18ms/step - accuracy: 0.9015 - loss: 0.2325 - val_accuracy: 0.9283 - val_loss: 0.1917 - learning_rate: 1.0000e-04\n",
      "Epoch 14/100\n",
      "\u001b[1m246/246\u001b[0m \u001b[32m━━━━━━━━━━━━━━━━━━━━\u001b[0m\u001b[37m\u001b[0m \u001b[1m0s\u001b[0m 16ms/step - accuracy: 0.8959 - loss: 0.2419\n",
      "Epoch 14: val_accuracy did not improve from 0.92832\n",
      "\u001b[1m246/246\u001b[0m \u001b[32m━━━━━━━━━━━━━━━━━━━━\u001b[0m\u001b[37m\u001b[0m \u001b[1m4s\u001b[0m 18ms/step - accuracy: 0.8959 - loss: 0.2419 - val_accuracy: 0.9181 - val_loss: 0.1986 - learning_rate: 1.0000e-04\n",
      "Epoch 15/100\n",
      "\u001b[1m244/246\u001b[0m \u001b[32m━━━━━━━━━━━━━━━━━━━\u001b[0m\u001b[37m━\u001b[0m \u001b[1m0s\u001b[0m 16ms/step - accuracy: 0.8939 - loss: 0.2433\n",
      "Epoch 15: val_accuracy did not improve from 0.92832\n",
      "\u001b[1m246/246\u001b[0m \u001b[32m━━━━━━━━━━━━━━━━━━━━\u001b[0m\u001b[37m\u001b[0m \u001b[1m4s\u001b[0m 18ms/step - accuracy: 0.8939 - loss: 0.2432 - val_accuracy: 0.9243 - val_loss: 0.1933 - learning_rate: 1.0000e-04\n",
      "Epoch 16/100\n",
      "\u001b[1m246/246\u001b[0m \u001b[32m━━━━━━━━━━━━━━━━━━━━\u001b[0m\u001b[37m\u001b[0m \u001b[1m0s\u001b[0m 16ms/step - accuracy: 0.8965 - loss: 0.2399\n",
      "Epoch 16: val_accuracy improved from 0.92832 to 0.92883, saving model to best_model.h5\n"
     ]
    },
    {
     "name": "stderr",
     "output_type": "stream",
     "text": [
      "WARNING:absl:You are saving your model as an HDF5 file via `model.save()` or `keras.saving.save_model(model)`. This file format is considered legacy. We recommend using instead the native Keras format, e.g. `model.save('my_model.keras')` or `keras.saving.save_model(model, 'my_model.keras')`. \n"
     ]
    },
    {
     "name": "stdout",
     "output_type": "stream",
     "text": [
      "\u001b[1m246/246\u001b[0m \u001b[32m━━━━━━━━━━━━━━━━━━━━\u001b[0m\u001b[37m\u001b[0m \u001b[1m4s\u001b[0m 18ms/step - accuracy: 0.8965 - loss: 0.2399 - val_accuracy: 0.9288 - val_loss: 0.1870 - learning_rate: 1.0000e-04\n",
      "Epoch 17/100\n",
      "\u001b[1m245/246\u001b[0m \u001b[32m━━━━━━━━━━━━━━━━━━━\u001b[0m\u001b[37m━\u001b[0m \u001b[1m0s\u001b[0m 16ms/step - accuracy: 0.8990 - loss: 0.2391\n",
      "Epoch 17: val_accuracy did not improve from 0.92883\n",
      "\u001b[1m246/246\u001b[0m \u001b[32m━━━━━━━━━━━━━━━━━━━━\u001b[0m\u001b[37m\u001b[0m \u001b[1m4s\u001b[0m 18ms/step - accuracy: 0.8990 - loss: 0.2391 - val_accuracy: 0.9288 - val_loss: 0.1862 - learning_rate: 1.0000e-04\n",
      "Epoch 18/100\n",
      "\u001b[1m246/246\u001b[0m \u001b[32m━━━━━━━━━━━━━━━━━━━━\u001b[0m\u001b[37m\u001b[0m \u001b[1m0s\u001b[0m 16ms/step - accuracy: 0.8970 - loss: 0.2374\n",
      "Epoch 18: val_accuracy improved from 0.92883 to 0.93137, saving model to best_model.h5\n"
     ]
    },
    {
     "name": "stderr",
     "output_type": "stream",
     "text": [
      "WARNING:absl:You are saving your model as an HDF5 file via `model.save()` or `keras.saving.save_model(model)`. This file format is considered legacy. We recommend using instead the native Keras format, e.g. `model.save('my_model.keras')` or `keras.saving.save_model(model, 'my_model.keras')`. \n"
     ]
    },
    {
     "name": "stdout",
     "output_type": "stream",
     "text": [
      "\u001b[1m246/246\u001b[0m \u001b[32m━━━━━━━━━━━━━━━━━━━━\u001b[0m\u001b[37m\u001b[0m \u001b[1m4s\u001b[0m 18ms/step - accuracy: 0.8970 - loss: 0.2374 - val_accuracy: 0.9314 - val_loss: 0.1807 - learning_rate: 1.0000e-04\n",
      "Epoch 19/100\n",
      "\u001b[1m246/246\u001b[0m \u001b[32m━━━━━━━━━━━━━━━━━━━━\u001b[0m\u001b[37m\u001b[0m \u001b[1m0s\u001b[0m 16ms/step - accuracy: 0.8941 - loss: 0.2395\n",
      "Epoch 19: val_accuracy improved from 0.93137 to 0.93238, saving model to best_model.h5\n"
     ]
    },
    {
     "name": "stderr",
     "output_type": "stream",
     "text": [
      "WARNING:absl:You are saving your model as an HDF5 file via `model.save()` or `keras.saving.save_model(model)`. This file format is considered legacy. We recommend using instead the native Keras format, e.g. `model.save('my_model.keras')` or `keras.saving.save_model(model, 'my_model.keras')`. \n"
     ]
    },
    {
     "name": "stdout",
     "output_type": "stream",
     "text": [
      "\u001b[1m246/246\u001b[0m \u001b[32m━━━━━━━━━━━━━━━━━━━━\u001b[0m\u001b[37m\u001b[0m \u001b[1m4s\u001b[0m 18ms/step - accuracy: 0.8941 - loss: 0.2395 - val_accuracy: 0.9324 - val_loss: 0.1797 - learning_rate: 1.0000e-04\n",
      "Epoch 20/100\n",
      "\u001b[1m246/246\u001b[0m \u001b[32m━━━━━━━━━━━━━━━━━━━━\u001b[0m\u001b[37m\u001b[0m \u001b[1m0s\u001b[0m 16ms/step - accuracy: 0.8972 - loss: 0.2419\n",
      "Epoch 20: val_accuracy did not improve from 0.93238\n",
      "\u001b[1m246/246\u001b[0m \u001b[32m━━━━━━━━━━━━━━━━━━━━\u001b[0m\u001b[37m\u001b[0m \u001b[1m4s\u001b[0m 18ms/step - accuracy: 0.8972 - loss: 0.2419 - val_accuracy: 0.9293 - val_loss: 0.1814 - learning_rate: 1.0000e-04\n",
      "Epoch 21/100\n",
      "\u001b[1m245/246\u001b[0m \u001b[32m━━━━━━━━━━━━━━━━━━━\u001b[0m\u001b[37m━\u001b[0m \u001b[1m0s\u001b[0m 17ms/step - accuracy: 0.9017 - loss: 0.2343\n",
      "Epoch 21: val_accuracy did not improve from 0.93238\n",
      "\u001b[1m246/246\u001b[0m \u001b[32m━━━━━━━━━━━━━━━━━━━━\u001b[0m\u001b[37m\u001b[0m \u001b[1m4s\u001b[0m 18ms/step - accuracy: 0.9017 - loss: 0.2343 - val_accuracy: 0.9293 - val_loss: 0.1808 - learning_rate: 1.0000e-04\n",
      "Epoch 22/100\n",
      "\u001b[1m246/246\u001b[0m \u001b[32m━━━━━━━━━━━━━━━━━━━━\u001b[0m\u001b[37m\u001b[0m \u001b[1m0s\u001b[0m 17ms/step - accuracy: 0.9076 - loss: 0.2211\n",
      "Epoch 22: val_accuracy did not improve from 0.93238\n",
      "\u001b[1m246/246\u001b[0m \u001b[32m━━━━━━━━━━━━━━━━━━━━\u001b[0m\u001b[37m\u001b[0m \u001b[1m5s\u001b[0m 18ms/step - accuracy: 0.9076 - loss: 0.2212 - val_accuracy: 0.9283 - val_loss: 0.1847 - learning_rate: 1.0000e-04\n",
      "Epoch 23/100\n",
      "\u001b[1m246/246\u001b[0m \u001b[32m━━━━━━━━━━━━━━━━━━━━\u001b[0m\u001b[37m\u001b[0m \u001b[1m0s\u001b[0m 17ms/step - accuracy: 0.9004 - loss: 0.2355\n",
      "Epoch 23: val_accuracy did not improve from 0.93238\n",
      "\u001b[1m246/246\u001b[0m \u001b[32m━━━━━━━━━━━━━━━━━━━━\u001b[0m\u001b[37m\u001b[0m \u001b[1m4s\u001b[0m 18ms/step - accuracy: 0.9004 - loss: 0.2355 - val_accuracy: 0.9304 - val_loss: 0.1786 - learning_rate: 1.0000e-04\n",
      "Epoch 24/100\n",
      "\u001b[1m245/246\u001b[0m \u001b[32m━━━━━━━━━━━━━━━━━━━\u001b[0m\u001b[37m━\u001b[0m \u001b[1m0s\u001b[0m 17ms/step - accuracy: 0.9001 - loss: 0.2305\n",
      "Epoch 24: val_accuracy improved from 0.93238 to 0.93493, saving model to best_model.h5\n"
     ]
    },
    {
     "name": "stderr",
     "output_type": "stream",
     "text": [
      "WARNING:absl:You are saving your model as an HDF5 file via `model.save()` or `keras.saving.save_model(model)`. This file format is considered legacy. We recommend using instead the native Keras format, e.g. `model.save('my_model.keras')` or `keras.saving.save_model(model, 'my_model.keras')`. \n"
     ]
    },
    {
     "name": "stdout",
     "output_type": "stream",
     "text": [
      "\u001b[1m246/246\u001b[0m \u001b[32m━━━━━━━━━━━━━━━━━━━━\u001b[0m\u001b[37m\u001b[0m \u001b[1m5s\u001b[0m 18ms/step - accuracy: 0.9001 - loss: 0.2304 - val_accuracy: 0.9349 - val_loss: 0.1732 - learning_rate: 1.0000e-04\n",
      "Epoch 25/100\n",
      "\u001b[1m243/246\u001b[0m \u001b[32m━━━━━━━━━━━━━━━━━━━\u001b[0m\u001b[37m━\u001b[0m \u001b[1m0s\u001b[0m 17ms/step - accuracy: 0.8955 - loss: 0.2364\n",
      "Epoch 25: val_accuracy did not improve from 0.93493\n",
      "\u001b[1m246/246\u001b[0m \u001b[32m━━━━━━━━━━━━━━━━━━━━\u001b[0m\u001b[37m\u001b[0m \u001b[1m4s\u001b[0m 18ms/step - accuracy: 0.8955 - loss: 0.2364 - val_accuracy: 0.9197 - val_loss: 0.1905 - learning_rate: 1.0000e-04\n",
      "Epoch 26/100\n",
      "\u001b[1m245/246\u001b[0m \u001b[32m━━━━━━━━━━━━━━━━━━━\u001b[0m\u001b[37m━\u001b[0m \u001b[1m0s\u001b[0m 17ms/step - accuracy: 0.9043 - loss: 0.2243\n",
      "Epoch 26: val_accuracy improved from 0.93493 to 0.93543, saving model to best_model.h5\n"
     ]
    },
    {
     "name": "stderr",
     "output_type": "stream",
     "text": [
      "WARNING:absl:You are saving your model as an HDF5 file via `model.save()` or `keras.saving.save_model(model)`. This file format is considered legacy. We recommend using instead the native Keras format, e.g. `model.save('my_model.keras')` or `keras.saving.save_model(model, 'my_model.keras')`. \n"
     ]
    },
    {
     "name": "stdout",
     "output_type": "stream",
     "text": [
      "\u001b[1m246/246\u001b[0m \u001b[32m━━━━━━━━━━━━━━━━━━━━\u001b[0m\u001b[37m\u001b[0m \u001b[1m4s\u001b[0m 18ms/step - accuracy: 0.9043 - loss: 0.2243 - val_accuracy: 0.9354 - val_loss: 0.1716 - learning_rate: 1.0000e-04\n",
      "Epoch 27/100\n",
      "\u001b[1m246/246\u001b[0m \u001b[32m━━━━━━━━━━━━━━━━━━━━\u001b[0m\u001b[37m\u001b[0m \u001b[1m0s\u001b[0m 17ms/step - accuracy: 0.9012 - loss: 0.2222\n",
      "Epoch 27: val_accuracy did not improve from 0.93543\n",
      "\u001b[1m246/246\u001b[0m \u001b[32m━━━━━━━━━━━━━━━━━━━━\u001b[0m\u001b[37m\u001b[0m \u001b[1m4s\u001b[0m 18ms/step - accuracy: 0.9013 - loss: 0.2222 - val_accuracy: 0.9354 - val_loss: 0.1696 - learning_rate: 1.0000e-04\n",
      "Epoch 28/100\n",
      "\u001b[1m244/246\u001b[0m \u001b[32m━━━━━━━━━━━━━━━━━━━\u001b[0m\u001b[37m━\u001b[0m \u001b[1m0s\u001b[0m 16ms/step - accuracy: 0.9116 - loss: 0.2114\n",
      "Epoch 28: val_accuracy improved from 0.93543 to 0.93645, saving model to best_model.h5\n"
     ]
    },
    {
     "name": "stderr",
     "output_type": "stream",
     "text": [
      "WARNING:absl:You are saving your model as an HDF5 file via `model.save()` or `keras.saving.save_model(model)`. This file format is considered legacy. We recommend using instead the native Keras format, e.g. `model.save('my_model.keras')` or `keras.saving.save_model(model, 'my_model.keras')`. \n"
     ]
    },
    {
     "name": "stdout",
     "output_type": "stream",
     "text": [
      "\u001b[1m246/246\u001b[0m \u001b[32m━━━━━━━━━━━━━━━━━━━━\u001b[0m\u001b[37m\u001b[0m \u001b[1m4s\u001b[0m 18ms/step - accuracy: 0.9116 - loss: 0.2115 - val_accuracy: 0.9365 - val_loss: 0.1690 - learning_rate: 1.0000e-04\n",
      "Epoch 29/100\n",
      "\u001b[1m246/246\u001b[0m \u001b[32m━━━━━━━━━━━━━━━━━━━━\u001b[0m\u001b[37m\u001b[0m \u001b[1m0s\u001b[0m 16ms/step - accuracy: 0.9076 - loss: 0.2191\n",
      "Epoch 29: val_accuracy did not improve from 0.93645\n",
      "\u001b[1m246/246\u001b[0m \u001b[32m━━━━━━━━━━━━━━━━━━━━\u001b[0m\u001b[37m\u001b[0m \u001b[1m4s\u001b[0m 17ms/step - accuracy: 0.9076 - loss: 0.2191 - val_accuracy: 0.9359 - val_loss: 0.1669 - learning_rate: 1.0000e-04\n",
      "Epoch 30/100\n",
      "\u001b[1m246/246\u001b[0m \u001b[32m━━━━━━━━━━━━━━━━━━━━\u001b[0m\u001b[37m\u001b[0m \u001b[1m0s\u001b[0m 16ms/step - accuracy: 0.9064 - loss: 0.2207\n",
      "Epoch 30: val_accuracy improved from 0.93645 to 0.93696, saving model to best_model.h5\n"
     ]
    },
    {
     "name": "stderr",
     "output_type": "stream",
     "text": [
      "WARNING:absl:You are saving your model as an HDF5 file via `model.save()` or `keras.saving.save_model(model)`. This file format is considered legacy. We recommend using instead the native Keras format, e.g. `model.save('my_model.keras')` or `keras.saving.save_model(model, 'my_model.keras')`. \n"
     ]
    },
    {
     "name": "stdout",
     "output_type": "stream",
     "text": [
      "\u001b[1m246/246\u001b[0m \u001b[32m━━━━━━━━━━━━━━━━━━━━\u001b[0m\u001b[37m\u001b[0m \u001b[1m4s\u001b[0m 18ms/step - accuracy: 0.9064 - loss: 0.2207 - val_accuracy: 0.9370 - val_loss: 0.1675 - learning_rate: 1.0000e-04\n",
      "Epoch 31/100\n",
      "\u001b[1m245/246\u001b[0m \u001b[32m━━━━━━━━━━━━━━━━━━━\u001b[0m\u001b[37m━\u001b[0m \u001b[1m0s\u001b[0m 16ms/step - accuracy: 0.9010 - loss: 0.2273\n",
      "Epoch 31: val_accuracy improved from 0.93696 to 0.93849, saving model to best_model.h5\n"
     ]
    },
    {
     "name": "stderr",
     "output_type": "stream",
     "text": [
      "WARNING:absl:You are saving your model as an HDF5 file via `model.save()` or `keras.saving.save_model(model)`. This file format is considered legacy. We recommend using instead the native Keras format, e.g. `model.save('my_model.keras')` or `keras.saving.save_model(model, 'my_model.keras')`. \n"
     ]
    },
    {
     "name": "stdout",
     "output_type": "stream",
     "text": [
      "\u001b[1m246/246\u001b[0m \u001b[32m━━━━━━━━━━━━━━━━━━━━\u001b[0m\u001b[37m\u001b[0m \u001b[1m4s\u001b[0m 18ms/step - accuracy: 0.9011 - loss: 0.2273 - val_accuracy: 0.9385 - val_loss: 0.1652 - learning_rate: 1.0000e-04\n",
      "Epoch 32/100\n",
      "\u001b[1m246/246\u001b[0m \u001b[32m━━━━━━━━━━━━━━━━━━━━\u001b[0m\u001b[37m\u001b[0m \u001b[1m0s\u001b[0m 17ms/step - accuracy: 0.9042 - loss: 0.2186\n",
      "Epoch 32: val_accuracy did not improve from 0.93849\n",
      "\u001b[1m246/246\u001b[0m \u001b[32m━━━━━━━━━━━━━━━━━━━━\u001b[0m\u001b[37m\u001b[0m \u001b[1m4s\u001b[0m 18ms/step - accuracy: 0.9043 - loss: 0.2186 - val_accuracy: 0.9283 - val_loss: 0.1731 - learning_rate: 1.0000e-04\n",
      "Epoch 33/100\n",
      "\u001b[1m246/246\u001b[0m \u001b[32m━━━━━━━━━━━━━━━━━━━━\u001b[0m\u001b[37m\u001b[0m \u001b[1m0s\u001b[0m 16ms/step - accuracy: 0.8991 - loss: 0.2264\n",
      "Epoch 33: val_accuracy did not improve from 0.93849\n",
      "\u001b[1m246/246\u001b[0m \u001b[32m━━━━━━━━━━━━━━━━━━━━\u001b[0m\u001b[37m\u001b[0m \u001b[1m4s\u001b[0m 17ms/step - accuracy: 0.8991 - loss: 0.2263 - val_accuracy: 0.9365 - val_loss: 0.1651 - learning_rate: 1.0000e-04\n",
      "Epoch 34/100\n",
      "\u001b[1m245/246\u001b[0m \u001b[32m━━━━━━━━━━━━━━━━━━━\u001b[0m\u001b[37m━\u001b[0m \u001b[1m0s\u001b[0m 16ms/step - accuracy: 0.9012 - loss: 0.2282\n",
      "Epoch 34: val_accuracy did not improve from 0.93849\n",
      "\u001b[1m246/246\u001b[0m \u001b[32m━━━━━━━━━━━━━━━━━━━━\u001b[0m\u001b[37m\u001b[0m \u001b[1m4s\u001b[0m 18ms/step - accuracy: 0.9012 - loss: 0.2281 - val_accuracy: 0.9309 - val_loss: 0.1680 - learning_rate: 1.0000e-04\n",
      "Epoch 35/100\n",
      "\u001b[1m243/246\u001b[0m \u001b[32m━━━━━━━━━━━━━━━━━━━\u001b[0m\u001b[37m━\u001b[0m \u001b[1m0s\u001b[0m 16ms/step - accuracy: 0.9174 - loss: 0.2075\n",
      "Epoch 35: val_accuracy improved from 0.93849 to 0.94001, saving model to best_model.h5\n"
     ]
    },
    {
     "name": "stderr",
     "output_type": "stream",
     "text": [
      "WARNING:absl:You are saving your model as an HDF5 file via `model.save()` or `keras.saving.save_model(model)`. This file format is considered legacy. We recommend using instead the native Keras format, e.g. `model.save('my_model.keras')` or `keras.saving.save_model(model, 'my_model.keras')`. \n"
     ]
    },
    {
     "name": "stdout",
     "output_type": "stream",
     "text": [
      "\u001b[1m246/246\u001b[0m \u001b[32m━━━━━━━━━━━━━━━━━━━━\u001b[0m\u001b[37m\u001b[0m \u001b[1m4s\u001b[0m 18ms/step - accuracy: 0.9174 - loss: 0.2075 - val_accuracy: 0.9400 - val_loss: 0.1601 - learning_rate: 1.0000e-04\n",
      "Epoch 36/100\n",
      "\u001b[1m244/246\u001b[0m \u001b[32m━━━━━━━━━━━━━━━━━━━\u001b[0m\u001b[37m━\u001b[0m \u001b[1m0s\u001b[0m 16ms/step - accuracy: 0.9148 - loss: 0.2027\n",
      "Epoch 36: val_accuracy improved from 0.94001 to 0.94052, saving model to best_model.h5\n"
     ]
    },
    {
     "name": "stderr",
     "output_type": "stream",
     "text": [
      "WARNING:absl:You are saving your model as an HDF5 file via `model.save()` or `keras.saving.save_model(model)`. This file format is considered legacy. We recommend using instead the native Keras format, e.g. `model.save('my_model.keras')` or `keras.saving.save_model(model, 'my_model.keras')`. \n"
     ]
    },
    {
     "name": "stdout",
     "output_type": "stream",
     "text": [
      "\u001b[1m246/246\u001b[0m \u001b[32m━━━━━━━━━━━━━━━━━━━━\u001b[0m\u001b[37m\u001b[0m \u001b[1m4s\u001b[0m 18ms/step - accuracy: 0.9147 - loss: 0.2028 - val_accuracy: 0.9405 - val_loss: 0.1591 - learning_rate: 1.0000e-04\n",
      "Epoch 37/100\n",
      "\u001b[1m244/246\u001b[0m \u001b[32m━━━━━━━━━━━━━━━━━━━\u001b[0m\u001b[37m━\u001b[0m \u001b[1m0s\u001b[0m 16ms/step - accuracy: 0.9154 - loss: 0.2149\n",
      "Epoch 37: val_accuracy improved from 0.94052 to 0.94103, saving model to best_model.h5\n"
     ]
    },
    {
     "name": "stderr",
     "output_type": "stream",
     "text": [
      "WARNING:absl:You are saving your model as an HDF5 file via `model.save()` or `keras.saving.save_model(model)`. This file format is considered legacy. We recommend using instead the native Keras format, e.g. `model.save('my_model.keras')` or `keras.saving.save_model(model, 'my_model.keras')`. \n"
     ]
    },
    {
     "name": "stdout",
     "output_type": "stream",
     "text": [
      "\u001b[1m246/246\u001b[0m \u001b[32m━━━━━━━━━━━━━━━━━━━━\u001b[0m\u001b[37m\u001b[0m \u001b[1m4s\u001b[0m 18ms/step - accuracy: 0.9154 - loss: 0.2149 - val_accuracy: 0.9410 - val_loss: 0.1580 - learning_rate: 1.0000e-04\n",
      "Epoch 38/100\n",
      "\u001b[1m246/246\u001b[0m \u001b[32m━━━━━━━━━━━━━━━━━━━━\u001b[0m\u001b[37m\u001b[0m \u001b[1m0s\u001b[0m 16ms/step - accuracy: 0.9104 - loss: 0.2054\n",
      "Epoch 38: val_accuracy did not improve from 0.94103\n",
      "\u001b[1m246/246\u001b[0m \u001b[32m━━━━━━━━━━━━━━━━━━━━\u001b[0m\u001b[37m\u001b[0m \u001b[1m4s\u001b[0m 18ms/step - accuracy: 0.9104 - loss: 0.2055 - val_accuracy: 0.9217 - val_loss: 0.1896 - learning_rate: 1.0000e-04\n",
      "Epoch 39/100\n",
      "\u001b[1m245/246\u001b[0m \u001b[32m━━━━━━━━━━━━━━━━━━━\u001b[0m\u001b[37m━\u001b[0m \u001b[1m0s\u001b[0m 16ms/step - accuracy: 0.9158 - loss: 0.1989\n",
      "Epoch 39: val_accuracy did not improve from 0.94103\n",
      "\u001b[1m246/246\u001b[0m \u001b[32m━━━━━━━━━━━━━━━━━━━━\u001b[0m\u001b[37m\u001b[0m \u001b[1m4s\u001b[0m 17ms/step - accuracy: 0.9157 - loss: 0.1990 - val_accuracy: 0.9365 - val_loss: 0.1647 - learning_rate: 1.0000e-04\n",
      "Epoch 40/100\n",
      "\u001b[1m244/246\u001b[0m \u001b[32m━━━━━━━━━━━━━━━━━━━\u001b[0m\u001b[37m━\u001b[0m \u001b[1m0s\u001b[0m 16ms/step - accuracy: 0.9170 - loss: 0.2035\n",
      "Epoch 40: val_accuracy improved from 0.94103 to 0.94154, saving model to best_model.h5\n"
     ]
    },
    {
     "name": "stderr",
     "output_type": "stream",
     "text": [
      "WARNING:absl:You are saving your model as an HDF5 file via `model.save()` or `keras.saving.save_model(model)`. This file format is considered legacy. We recommend using instead the native Keras format, e.g. `model.save('my_model.keras')` or `keras.saving.save_model(model, 'my_model.keras')`. \n"
     ]
    },
    {
     "name": "stdout",
     "output_type": "stream",
     "text": [
      "\u001b[1m246/246\u001b[0m \u001b[32m━━━━━━━━━━━━━━━━━━━━\u001b[0m\u001b[37m\u001b[0m \u001b[1m4s\u001b[0m 18ms/step - accuracy: 0.9169 - loss: 0.2035 - val_accuracy: 0.9415 - val_loss: 0.1548 - learning_rate: 1.0000e-04\n",
      "Epoch 41/100\n",
      "\u001b[1m243/246\u001b[0m \u001b[32m━━━━━━━━━━━━━━━━━━━\u001b[0m\u001b[37m━\u001b[0m \u001b[1m0s\u001b[0m 16ms/step - accuracy: 0.9117 - loss: 0.2039\n",
      "Epoch 41: val_accuracy did not improve from 0.94154\n",
      "\u001b[1m246/246\u001b[0m \u001b[32m━━━━━━━━━━━━━━━━━━━━\u001b[0m\u001b[37m\u001b[0m \u001b[1m4s\u001b[0m 17ms/step - accuracy: 0.9116 - loss: 0.2039 - val_accuracy: 0.9354 - val_loss: 0.1595 - learning_rate: 1.0000e-04\n",
      "Epoch 42/100\n",
      "\u001b[1m243/246\u001b[0m \u001b[32m━━━━━━━━━━━━━━━━━━━\u001b[0m\u001b[37m━\u001b[0m \u001b[1m0s\u001b[0m 16ms/step - accuracy: 0.9135 - loss: 0.2066\n",
      "Epoch 42: val_accuracy did not improve from 0.94154\n",
      "\u001b[1m246/246\u001b[0m \u001b[32m━━━━━━━━━━━━━━━━━━━━\u001b[0m\u001b[37m\u001b[0m \u001b[1m4s\u001b[0m 17ms/step - accuracy: 0.9136 - loss: 0.2066 - val_accuracy: 0.9395 - val_loss: 0.1550 - learning_rate: 1.0000e-04\n",
      "Epoch 43/100\n",
      "\u001b[1m243/246\u001b[0m \u001b[32m━━━━━━━━━━━━━━━━━━━\u001b[0m\u001b[37m━\u001b[0m \u001b[1m0s\u001b[0m 16ms/step - accuracy: 0.9122 - loss: 0.2149\n",
      "Epoch 43: val_accuracy improved from 0.94154 to 0.94357, saving model to best_model.h5\n"
     ]
    },
    {
     "name": "stderr",
     "output_type": "stream",
     "text": [
      "WARNING:absl:You are saving your model as an HDF5 file via `model.save()` or `keras.saving.save_model(model)`. This file format is considered legacy. We recommend using instead the native Keras format, e.g. `model.save('my_model.keras')` or `keras.saving.save_model(model, 'my_model.keras')`. \n"
     ]
    },
    {
     "name": "stdout",
     "output_type": "stream",
     "text": [
      "\u001b[1m246/246\u001b[0m \u001b[32m━━━━━━━━━━━━━━━━━━━━\u001b[0m\u001b[37m\u001b[0m \u001b[1m4s\u001b[0m 18ms/step - accuracy: 0.9123 - loss: 0.2148 - val_accuracy: 0.9436 - val_loss: 0.1528 - learning_rate: 1.0000e-04\n",
      "Epoch 44/100\n",
      "\u001b[1m244/246\u001b[0m \u001b[32m━━━━━━━━━━━━━━━━━━━\u001b[0m\u001b[37m━\u001b[0m \u001b[1m0s\u001b[0m 16ms/step - accuracy: 0.9122 - loss: 0.2139\n",
      "Epoch 44: val_accuracy did not improve from 0.94357\n",
      "\u001b[1m246/246\u001b[0m \u001b[32m━━━━━━━━━━━━━━━━━━━━\u001b[0m\u001b[37m\u001b[0m \u001b[1m4s\u001b[0m 17ms/step - accuracy: 0.9122 - loss: 0.2138 - val_accuracy: 0.9395 - val_loss: 0.1553 - learning_rate: 1.0000e-04\n",
      "Epoch 45/100\n",
      "\u001b[1m244/246\u001b[0m \u001b[32m━━━━━━━━━━━━━━━━━━━\u001b[0m\u001b[37m━\u001b[0m \u001b[1m0s\u001b[0m 17ms/step - accuracy: 0.9201 - loss: 0.1986\n",
      "Epoch 45: val_accuracy did not improve from 0.94357\n",
      "\u001b[1m246/246\u001b[0m \u001b[32m━━━━━━━━━━━━━━━━━━━━\u001b[0m\u001b[37m\u001b[0m \u001b[1m5s\u001b[0m 19ms/step - accuracy: 0.9200 - loss: 0.1986 - val_accuracy: 0.9420 - val_loss: 0.1510 - learning_rate: 1.0000e-04\n",
      "Epoch 46/100\n",
      "\u001b[1m246/246\u001b[0m \u001b[32m━━━━━━━━━━━━━━━━━━━━\u001b[0m\u001b[37m\u001b[0m \u001b[1m0s\u001b[0m 17ms/step - accuracy: 0.9186 - loss: 0.2016\n",
      "Epoch 46: val_accuracy improved from 0.94357 to 0.94560, saving model to best_model.h5\n"
     ]
    },
    {
     "name": "stderr",
     "output_type": "stream",
     "text": [
      "WARNING:absl:You are saving your model as an HDF5 file via `model.save()` or `keras.saving.save_model(model)`. This file format is considered legacy. We recommend using instead the native Keras format, e.g. `model.save('my_model.keras')` or `keras.saving.save_model(model, 'my_model.keras')`. \n"
     ]
    },
    {
     "name": "stdout",
     "output_type": "stream",
     "text": [
      "\u001b[1m246/246\u001b[0m \u001b[32m━━━━━━━━━━━━━━━━━━━━\u001b[0m\u001b[37m\u001b[0m \u001b[1m5s\u001b[0m 18ms/step - accuracy: 0.9186 - loss: 0.2016 - val_accuracy: 0.9456 - val_loss: 0.1486 - learning_rate: 1.0000e-04\n",
      "Epoch 47/100\n",
      "\u001b[1m244/246\u001b[0m \u001b[32m━━━━━━━━━━━━━━━━━━━\u001b[0m\u001b[37m━\u001b[0m \u001b[1m0s\u001b[0m 17ms/step - accuracy: 0.9165 - loss: 0.1972\n",
      "Epoch 47: val_accuracy did not improve from 0.94560\n",
      "\u001b[1m246/246\u001b[0m \u001b[32m━━━━━━━━━━━━━━━━━━━━\u001b[0m\u001b[37m\u001b[0m \u001b[1m4s\u001b[0m 18ms/step - accuracy: 0.9166 - loss: 0.1972 - val_accuracy: 0.9431 - val_loss: 0.1537 - learning_rate: 1.0000e-04\n",
      "Epoch 48/100\n",
      "\u001b[1m246/246\u001b[0m \u001b[32m━━━━━━━━━━━━━━━━━━━━\u001b[0m\u001b[37m\u001b[0m \u001b[1m0s\u001b[0m 16ms/step - accuracy: 0.9188 - loss: 0.1966\n",
      "Epoch 48: val_accuracy did not improve from 0.94560\n",
      "\u001b[1m246/246\u001b[0m \u001b[32m━━━━━━━━━━━━━━━━━━━━\u001b[0m\u001b[37m\u001b[0m \u001b[1m4s\u001b[0m 17ms/step - accuracy: 0.9188 - loss: 0.1966 - val_accuracy: 0.9451 - val_loss: 0.1456 - learning_rate: 1.0000e-04\n",
      "Epoch 49/100\n",
      "\u001b[1m246/246\u001b[0m \u001b[32m━━━━━━━━━━━━━━━━━━━━\u001b[0m\u001b[37m\u001b[0m \u001b[1m0s\u001b[0m 16ms/step - accuracy: 0.9123 - loss: 0.2044\n",
      "Epoch 49: val_accuracy improved from 0.94560 to 0.94662, saving model to best_model.h5\n"
     ]
    },
    {
     "name": "stderr",
     "output_type": "stream",
     "text": [
      "WARNING:absl:You are saving your model as an HDF5 file via `model.save()` or `keras.saving.save_model(model)`. This file format is considered legacy. We recommend using instead the native Keras format, e.g. `model.save('my_model.keras')` or `keras.saving.save_model(model, 'my_model.keras')`. \n"
     ]
    },
    {
     "name": "stdout",
     "output_type": "stream",
     "text": [
      "\u001b[1m246/246\u001b[0m \u001b[32m━━━━━━━━━━━━━━━━━━━━\u001b[0m\u001b[37m\u001b[0m \u001b[1m4s\u001b[0m 18ms/step - accuracy: 0.9123 - loss: 0.2044 - val_accuracy: 0.9466 - val_loss: 0.1435 - learning_rate: 1.0000e-04\n",
      "Epoch 50/100\n",
      "\u001b[1m245/246\u001b[0m \u001b[32m━━━━━━━━━━━━━━━━━━━\u001b[0m\u001b[37m━\u001b[0m \u001b[1m0s\u001b[0m 16ms/step - accuracy: 0.9151 - loss: 0.2024\n",
      "Epoch 50: val_accuracy improved from 0.94662 to 0.94814, saving model to best_model.h5\n"
     ]
    },
    {
     "name": "stderr",
     "output_type": "stream",
     "text": [
      "WARNING:absl:You are saving your model as an HDF5 file via `model.save()` or `keras.saving.save_model(model)`. This file format is considered legacy. We recommend using instead the native Keras format, e.g. `model.save('my_model.keras')` or `keras.saving.save_model(model, 'my_model.keras')`. \n"
     ]
    },
    {
     "name": "stdout",
     "output_type": "stream",
     "text": [
      "\u001b[1m246/246\u001b[0m \u001b[32m━━━━━━━━━━━━━━━━━━━━\u001b[0m\u001b[37m\u001b[0m \u001b[1m4s\u001b[0m 18ms/step - accuracy: 0.9151 - loss: 0.2024 - val_accuracy: 0.9481 - val_loss: 0.1428 - learning_rate: 1.0000e-04\n",
      "Epoch 51/100\n",
      "\u001b[1m244/246\u001b[0m \u001b[32m━━━━━━━━━━━━━━━━━━━\u001b[0m\u001b[37m━\u001b[0m \u001b[1m0s\u001b[0m 16ms/step - accuracy: 0.9209 - loss: 0.1959\n",
      "Epoch 51: val_accuracy improved from 0.94814 to 0.94967, saving model to best_model.h5\n"
     ]
    },
    {
     "name": "stderr",
     "output_type": "stream",
     "text": [
      "WARNING:absl:You are saving your model as an HDF5 file via `model.save()` or `keras.saving.save_model(model)`. This file format is considered legacy. We recommend using instead the native Keras format, e.g. `model.save('my_model.keras')` or `keras.saving.save_model(model, 'my_model.keras')`. \n"
     ]
    },
    {
     "name": "stdout",
     "output_type": "stream",
     "text": [
      "\u001b[1m246/246\u001b[0m \u001b[32m━━━━━━━━━━━━━━━━━━━━\u001b[0m\u001b[37m\u001b[0m \u001b[1m4s\u001b[0m 18ms/step - accuracy: 0.9209 - loss: 0.1959 - val_accuracy: 0.9497 - val_loss: 0.1422 - learning_rate: 1.0000e-04\n",
      "Epoch 52/100\n",
      "\u001b[1m244/246\u001b[0m \u001b[32m━━━━━━━━━━━━━━━━━━━\u001b[0m\u001b[37m━\u001b[0m \u001b[1m0s\u001b[0m 16ms/step - accuracy: 0.9175 - loss: 0.2004\n",
      "Epoch 52: val_accuracy did not improve from 0.94967\n",
      "\u001b[1m246/246\u001b[0m \u001b[32m━━━━━━━━━━━━━━━━━━━━\u001b[0m\u001b[37m\u001b[0m \u001b[1m4s\u001b[0m 17ms/step - accuracy: 0.9176 - loss: 0.2004 - val_accuracy: 0.9476 - val_loss: 0.1408 - learning_rate: 1.0000e-04\n",
      "Epoch 53/100\n",
      "\u001b[1m243/246\u001b[0m \u001b[32m━━━━━━━━━━━━━━━━━━━\u001b[0m\u001b[37m━\u001b[0m \u001b[1m0s\u001b[0m 16ms/step - accuracy: 0.9225 - loss: 0.1870\n",
      "Epoch 53: val_accuracy improved from 0.94967 to 0.95119, saving model to best_model.h5\n"
     ]
    },
    {
     "name": "stderr",
     "output_type": "stream",
     "text": [
      "WARNING:absl:You are saving your model as an HDF5 file via `model.save()` or `keras.saving.save_model(model)`. This file format is considered legacy. We recommend using instead the native Keras format, e.g. `model.save('my_model.keras')` or `keras.saving.save_model(model, 'my_model.keras')`. \n"
     ]
    },
    {
     "name": "stdout",
     "output_type": "stream",
     "text": [
      "\u001b[1m246/246\u001b[0m \u001b[32m━━━━━━━━━━━━━━━━━━━━\u001b[0m\u001b[37m\u001b[0m \u001b[1m4s\u001b[0m 18ms/step - accuracy: 0.9224 - loss: 0.1872 - val_accuracy: 0.9512 - val_loss: 0.1404 - learning_rate: 1.0000e-04\n",
      "Epoch 54/100\n",
      "\u001b[1m243/246\u001b[0m \u001b[32m━━━━━━━━━━━━━━━━━━━\u001b[0m\u001b[37m━\u001b[0m \u001b[1m0s\u001b[0m 16ms/step - accuracy: 0.9227 - loss: 0.1842\n",
      "Epoch 54: val_accuracy did not improve from 0.95119\n",
      "\u001b[1m246/246\u001b[0m \u001b[32m━━━━━━━━━━━━━━━━━━━━\u001b[0m\u001b[37m\u001b[0m \u001b[1m4s\u001b[0m 18ms/step - accuracy: 0.9226 - loss: 0.1842 - val_accuracy: 0.9456 - val_loss: 0.1408 - learning_rate: 1.0000e-04\n",
      "Epoch 55/100\n",
      "\u001b[1m244/246\u001b[0m \u001b[32m━━━━━━━━━━━━━━━━━━━\u001b[0m\u001b[37m━\u001b[0m \u001b[1m0s\u001b[0m 17ms/step - accuracy: 0.9241 - loss: 0.1787\n",
      "Epoch 55: val_accuracy did not improve from 0.95119\n",
      "\u001b[1m246/246\u001b[0m \u001b[32m━━━━━━━━━━━━━━━━━━━━\u001b[0m\u001b[37m\u001b[0m \u001b[1m5s\u001b[0m 18ms/step - accuracy: 0.9240 - loss: 0.1788 - val_accuracy: 0.9451 - val_loss: 0.1402 - learning_rate: 1.0000e-04\n",
      "Epoch 56/100\n",
      "\u001b[1m245/246\u001b[0m \u001b[32m━━━━━━━━━━━━━━━━━━━\u001b[0m\u001b[37m━\u001b[0m \u001b[1m0s\u001b[0m 17ms/step - accuracy: 0.9244 - loss: 0.1829\n",
      "Epoch 56: val_accuracy improved from 0.95119 to 0.95425, saving model to best_model.h5\n"
     ]
    },
    {
     "name": "stderr",
     "output_type": "stream",
     "text": [
      "WARNING:absl:You are saving your model as an HDF5 file via `model.save()` or `keras.saving.save_model(model)`. This file format is considered legacy. We recommend using instead the native Keras format, e.g. `model.save('my_model.keras')` or `keras.saving.save_model(model, 'my_model.keras')`. \n"
     ]
    },
    {
     "name": "stdout",
     "output_type": "stream",
     "text": [
      "\u001b[1m246/246\u001b[0m \u001b[32m━━━━━━━━━━━━━━━━━━━━\u001b[0m\u001b[37m\u001b[0m \u001b[1m5s\u001b[0m 18ms/step - accuracy: 0.9244 - loss: 0.1829 - val_accuracy: 0.9542 - val_loss: 0.1365 - learning_rate: 1.0000e-04\n",
      "Epoch 57/100\n",
      "\u001b[1m245/246\u001b[0m \u001b[32m━━━━━━━━━━━━━━━━━━━\u001b[0m\u001b[37m━\u001b[0m \u001b[1m0s\u001b[0m 17ms/step - accuracy: 0.9153 - loss: 0.1969\n",
      "Epoch 57: val_accuracy did not improve from 0.95425\n",
      "\u001b[1m246/246\u001b[0m \u001b[32m━━━━━━━━━━━━━━━━━━━━\u001b[0m\u001b[37m\u001b[0m \u001b[1m4s\u001b[0m 18ms/step - accuracy: 0.9153 - loss: 0.1969 - val_accuracy: 0.9517 - val_loss: 0.1363 - learning_rate: 1.0000e-04\n",
      "Epoch 58/100\n",
      "\u001b[1m246/246\u001b[0m \u001b[32m━━━━━━━━━━━━━━━━━━━━\u001b[0m\u001b[37m\u001b[0m \u001b[1m0s\u001b[0m 17ms/step - accuracy: 0.9185 - loss: 0.1964\n",
      "Epoch 58: val_accuracy did not improve from 0.95425\n",
      "\u001b[1m246/246\u001b[0m \u001b[32m━━━━━━━━━━━━━━━━━━━━\u001b[0m\u001b[37m\u001b[0m \u001b[1m4s\u001b[0m 18ms/step - accuracy: 0.9185 - loss: 0.1964 - val_accuracy: 0.9502 - val_loss: 0.1350 - learning_rate: 1.0000e-04\n",
      "Epoch 59/100\n",
      "\u001b[1m246/246\u001b[0m \u001b[32m━━━━━━━━━━━━━━━━━━━━\u001b[0m\u001b[37m\u001b[0m \u001b[1m0s\u001b[0m 17ms/step - accuracy: 0.9310 - loss: 0.1837\n",
      "Epoch 59: val_accuracy did not improve from 0.95425\n",
      "\u001b[1m246/246\u001b[0m \u001b[32m━━━━━━━━━━━━━━━━━━━━\u001b[0m\u001b[37m\u001b[0m \u001b[1m4s\u001b[0m 18ms/step - accuracy: 0.9309 - loss: 0.1837 - val_accuracy: 0.9441 - val_loss: 0.1385 - learning_rate: 1.0000e-04\n",
      "Epoch 60/100\n",
      "\u001b[1m244/246\u001b[0m \u001b[32m━━━━━━━━━━━━━━━━━━━\u001b[0m\u001b[37m━\u001b[0m \u001b[1m0s\u001b[0m 17ms/step - accuracy: 0.9255 - loss: 0.1815\n",
      "Epoch 60: val_accuracy did not improve from 0.95425\n",
      "\u001b[1m246/246\u001b[0m \u001b[32m━━━━━━━━━━━━━━━━━━━━\u001b[0m\u001b[37m\u001b[0m \u001b[1m4s\u001b[0m 18ms/step - accuracy: 0.9255 - loss: 0.1815 - val_accuracy: 0.9426 - val_loss: 0.1460 - learning_rate: 1.0000e-04\n",
      "Epoch 61/100\n",
      "\u001b[1m246/246\u001b[0m \u001b[32m━━━━━━━━━━━━━━━━━━━━\u001b[0m\u001b[37m\u001b[0m \u001b[1m0s\u001b[0m 17ms/step - accuracy: 0.9275 - loss: 0.1856\n",
      "Epoch 61: val_accuracy did not improve from 0.95425\n",
      "\u001b[1m246/246\u001b[0m \u001b[32m━━━━━━━━━━━━━━━━━━━━\u001b[0m\u001b[37m\u001b[0m \u001b[1m4s\u001b[0m 18ms/step - accuracy: 0.9274 - loss: 0.1856 - val_accuracy: 0.9527 - val_loss: 0.1308 - learning_rate: 1.0000e-04\n",
      "Epoch 62/100\n",
      "\u001b[1m244/246\u001b[0m \u001b[32m━━━━━━━━━━━━━━━━━━━\u001b[0m\u001b[37m━\u001b[0m \u001b[1m0s\u001b[0m 16ms/step - accuracy: 0.9198 - loss: 0.1826\n",
      "Epoch 62: val_accuracy did not improve from 0.95425\n",
      "\u001b[1m246/246\u001b[0m \u001b[32m━━━━━━━━━━━━━━━━━━━━\u001b[0m\u001b[37m\u001b[0m \u001b[1m4s\u001b[0m 18ms/step - accuracy: 0.9199 - loss: 0.1826 - val_accuracy: 0.9431 - val_loss: 0.1400 - learning_rate: 1.0000e-04\n",
      "Epoch 63/100\n",
      "\u001b[1m245/246\u001b[0m \u001b[32m━━━━━━━━━━━━━━━━━━━\u001b[0m\u001b[37m━\u001b[0m \u001b[1m0s\u001b[0m 17ms/step - accuracy: 0.9267 - loss: 0.1806\n",
      "Epoch 63: val_accuracy improved from 0.95425 to 0.95628, saving model to best_model.h5\n"
     ]
    },
    {
     "name": "stderr",
     "output_type": "stream",
     "text": [
      "WARNING:absl:You are saving your model as an HDF5 file via `model.save()` or `keras.saving.save_model(model)`. This file format is considered legacy. We recommend using instead the native Keras format, e.g. `model.save('my_model.keras')` or `keras.saving.save_model(model, 'my_model.keras')`. \n"
     ]
    },
    {
     "name": "stdout",
     "output_type": "stream",
     "text": [
      "\u001b[1m246/246\u001b[0m \u001b[32m━━━━━━━━━━━━━━━━━━━━\u001b[0m\u001b[37m\u001b[0m \u001b[1m4s\u001b[0m 18ms/step - accuracy: 0.9267 - loss: 0.1806 - val_accuracy: 0.9563 - val_loss: 0.1284 - learning_rate: 1.0000e-04\n",
      "Epoch 64/100\n",
      "\u001b[1m246/246\u001b[0m \u001b[32m━━━━━━━━━━━━━━━━━━━━\u001b[0m\u001b[37m\u001b[0m \u001b[1m0s\u001b[0m 17ms/step - accuracy: 0.9221 - loss: 0.1852\n",
      "Epoch 64: val_accuracy did not improve from 0.95628\n",
      "\u001b[1m246/246\u001b[0m \u001b[32m━━━━━━━━━━━━━━━━━━━━\u001b[0m\u001b[37m\u001b[0m \u001b[1m4s\u001b[0m 18ms/step - accuracy: 0.9221 - loss: 0.1852 - val_accuracy: 0.9532 - val_loss: 0.1291 - learning_rate: 1.0000e-04\n",
      "Epoch 65/100\n",
      "\u001b[1m244/246\u001b[0m \u001b[32m━━━━━━━━━━━━━━━━━━━\u001b[0m\u001b[37m━\u001b[0m \u001b[1m0s\u001b[0m 16ms/step - accuracy: 0.9246 - loss: 0.1789\n",
      "Epoch 65: val_accuracy did not improve from 0.95628\n",
      "\u001b[1m246/246\u001b[0m \u001b[32m━━━━━━━━━━━━━━━━━━━━\u001b[0m\u001b[37m\u001b[0m \u001b[1m4s\u001b[0m 18ms/step - accuracy: 0.9246 - loss: 0.1788 - val_accuracy: 0.9558 - val_loss: 0.1260 - learning_rate: 1.0000e-04\n",
      "Epoch 66/100\n",
      "\u001b[1m246/246\u001b[0m \u001b[32m━━━━━━━━━━━━━━━━━━━━\u001b[0m\u001b[37m\u001b[0m \u001b[1m0s\u001b[0m 16ms/step - accuracy: 0.9226 - loss: 0.1815\n",
      "Epoch 66: val_accuracy did not improve from 0.95628\n",
      "\u001b[1m246/246\u001b[0m \u001b[32m━━━━━━━━━━━━━━━━━━━━\u001b[0m\u001b[37m\u001b[0m \u001b[1m4s\u001b[0m 17ms/step - accuracy: 0.9226 - loss: 0.1815 - val_accuracy: 0.9563 - val_loss: 0.1246 - learning_rate: 1.0000e-04\n",
      "Epoch 67/100\n",
      "\u001b[1m246/246\u001b[0m \u001b[32m━━━━━━━━━━━━━━━━━━━━\u001b[0m\u001b[37m\u001b[0m \u001b[1m0s\u001b[0m 16ms/step - accuracy: 0.9261 - loss: 0.1840\n",
      "Epoch 67: val_accuracy did not improve from 0.95628\n",
      "\u001b[1m246/246\u001b[0m \u001b[32m━━━━━━━━━━━━━━━━━━━━\u001b[0m\u001b[37m\u001b[0m \u001b[1m4s\u001b[0m 17ms/step - accuracy: 0.9261 - loss: 0.1840 - val_accuracy: 0.9481 - val_loss: 0.1315 - learning_rate: 1.0000e-04\n",
      "Epoch 68/100\n",
      "\u001b[1m245/246\u001b[0m \u001b[32m━━━━━━━━━━━━━━━━━━━\u001b[0m\u001b[37m━\u001b[0m \u001b[1m0s\u001b[0m 16ms/step - accuracy: 0.9307 - loss: 0.1660\n",
      "Epoch 68: val_accuracy improved from 0.95628 to 0.95780, saving model to best_model.h5\n"
     ]
    },
    {
     "name": "stderr",
     "output_type": "stream",
     "text": [
      "WARNING:absl:You are saving your model as an HDF5 file via `model.save()` or `keras.saving.save_model(model)`. This file format is considered legacy. We recommend using instead the native Keras format, e.g. `model.save('my_model.keras')` or `keras.saving.save_model(model, 'my_model.keras')`. \n"
     ]
    },
    {
     "name": "stdout",
     "output_type": "stream",
     "text": [
      "\u001b[1m246/246\u001b[0m \u001b[32m━━━━━━━━━━━━━━━━━━━━\u001b[0m\u001b[37m\u001b[0m \u001b[1m4s\u001b[0m 18ms/step - accuracy: 0.9307 - loss: 0.1660 - val_accuracy: 0.9578 - val_loss: 0.1224 - learning_rate: 1.0000e-04\n",
      "Epoch 69/100\n",
      "\u001b[1m243/246\u001b[0m \u001b[32m━━━━━━━━━━━━━━━━━━━\u001b[0m\u001b[37m━\u001b[0m \u001b[1m0s\u001b[0m 16ms/step - accuracy: 0.9286 - loss: 0.1763\n",
      "Epoch 69: val_accuracy did not improve from 0.95780\n",
      "\u001b[1m246/246\u001b[0m \u001b[32m━━━━━━━━━━━━━━━━━━━━\u001b[0m\u001b[37m\u001b[0m \u001b[1m4s\u001b[0m 17ms/step - accuracy: 0.9286 - loss: 0.1763 - val_accuracy: 0.9532 - val_loss: 0.1264 - learning_rate: 1.0000e-04\n",
      "Epoch 70/100\n",
      "\u001b[1m243/246\u001b[0m \u001b[32m━━━━━━━━━━━━━━━━━━━\u001b[0m\u001b[37m━\u001b[0m \u001b[1m0s\u001b[0m 16ms/step - accuracy: 0.9295 - loss: 0.1719\n",
      "Epoch 70: val_accuracy did not improve from 0.95780\n",
      "\u001b[1m246/246\u001b[0m \u001b[32m━━━━━━━━━━━━━━━━━━━━\u001b[0m\u001b[37m\u001b[0m \u001b[1m4s\u001b[0m 17ms/step - accuracy: 0.9295 - loss: 0.1718 - val_accuracy: 0.9532 - val_loss: 0.1245 - learning_rate: 1.0000e-04\n",
      "Epoch 71/100\n",
      "\u001b[1m243/246\u001b[0m \u001b[32m━━━━━━━━━━━━━━━━━━━\u001b[0m\u001b[37m━\u001b[0m \u001b[1m0s\u001b[0m 16ms/step - accuracy: 0.9315 - loss: 0.1697\n",
      "Epoch 71: val_accuracy did not improve from 0.95780\n",
      "\u001b[1m246/246\u001b[0m \u001b[32m━━━━━━━━━━━━━━━━━━━━\u001b[0m\u001b[37m\u001b[0m \u001b[1m4s\u001b[0m 17ms/step - accuracy: 0.9314 - loss: 0.1698 - val_accuracy: 0.9578 - val_loss: 0.1193 - learning_rate: 1.0000e-04\n",
      "Epoch 72/100\n",
      "\u001b[1m245/246\u001b[0m \u001b[32m━━━━━━━━━━━━━━━━━━━\u001b[0m\u001b[37m━\u001b[0m \u001b[1m0s\u001b[0m 16ms/step - accuracy: 0.9321 - loss: 0.1626\n",
      "Epoch 72: val_accuracy improved from 0.95780 to 0.96035, saving model to best_model.h5\n"
     ]
    },
    {
     "name": "stderr",
     "output_type": "stream",
     "text": [
      "WARNING:absl:You are saving your model as an HDF5 file via `model.save()` or `keras.saving.save_model(model)`. This file format is considered legacy. We recommend using instead the native Keras format, e.g. `model.save('my_model.keras')` or `keras.saving.save_model(model, 'my_model.keras')`. \n"
     ]
    },
    {
     "name": "stdout",
     "output_type": "stream",
     "text": [
      "\u001b[1m246/246\u001b[0m \u001b[32m━━━━━━━━━━━━━━━━━━━━\u001b[0m\u001b[37m\u001b[0m \u001b[1m4s\u001b[0m 18ms/step - accuracy: 0.9321 - loss: 0.1627 - val_accuracy: 0.9603 - val_loss: 0.1169 - learning_rate: 1.0000e-04\n",
      "Epoch 73/100\n",
      "\u001b[1m244/246\u001b[0m \u001b[32m━━━━━━━━━━━━━━━━━━━\u001b[0m\u001b[37m━\u001b[0m \u001b[1m0s\u001b[0m 17ms/step - accuracy: 0.9270 - loss: 0.1731\n",
      "Epoch 73: val_accuracy did not improve from 0.96035\n",
      "\u001b[1m246/246\u001b[0m \u001b[32m━━━━━━━━━━━━━━━━━━━━\u001b[0m\u001b[37m\u001b[0m \u001b[1m4s\u001b[0m 18ms/step - accuracy: 0.9270 - loss: 0.1730 - val_accuracy: 0.9461 - val_loss: 0.1375 - learning_rate: 1.0000e-04\n",
      "Epoch 74/100\n",
      "\u001b[1m243/246\u001b[0m \u001b[32m━━━━━━━━━━━━━━━━━━━\u001b[0m\u001b[37m━\u001b[0m \u001b[1m0s\u001b[0m 17ms/step - accuracy: 0.9269 - loss: 0.1759\n",
      "Epoch 74: val_accuracy did not improve from 0.96035\n",
      "\u001b[1m246/246\u001b[0m \u001b[32m━━━━━━━━━━━━━━━━━━━━\u001b[0m\u001b[37m\u001b[0m \u001b[1m4s\u001b[0m 18ms/step - accuracy: 0.9270 - loss: 0.1759 - val_accuracy: 0.9548 - val_loss: 0.1212 - learning_rate: 1.0000e-04\n",
      "Epoch 75/100\n",
      "\u001b[1m246/246\u001b[0m \u001b[32m━━━━━━━━━━━━━━━━━━━━\u001b[0m\u001b[37m\u001b[0m \u001b[1m0s\u001b[0m 17ms/step - accuracy: 0.9330 - loss: 0.1609\n",
      "Epoch 75: val_accuracy did not improve from 0.96035\n",
      "\u001b[1m246/246\u001b[0m \u001b[32m━━━━━━━━━━━━━━━━━━━━\u001b[0m\u001b[37m\u001b[0m \u001b[1m4s\u001b[0m 18ms/step - accuracy: 0.9330 - loss: 0.1609 - val_accuracy: 0.9558 - val_loss: 0.1184 - learning_rate: 1.0000e-04\n",
      "Epoch 76/100\n",
      "\u001b[1m246/246\u001b[0m \u001b[32m━━━━━━━━━━━━━━━━━━━━\u001b[0m\u001b[37m\u001b[0m \u001b[1m0s\u001b[0m 17ms/step - accuracy: 0.9304 - loss: 0.1702\n",
      "Epoch 76: val_accuracy did not improve from 0.96035\n",
      "\n",
      "Epoch 76: ReduceLROnPlateau reducing learning rate to 4.999999873689376e-05.\n",
      "\u001b[1m246/246\u001b[0m \u001b[32m━━━━━━━━━━━━━━━━━━━━\u001b[0m\u001b[37m\u001b[0m \u001b[1m4s\u001b[0m 18ms/step - accuracy: 0.9304 - loss: 0.1702 - val_accuracy: 0.9497 - val_loss: 0.1272 - learning_rate: 1.0000e-04\n",
      "Epoch 77/100\n",
      "\u001b[1m244/246\u001b[0m \u001b[32m━━━━━━━━━━━━━━━━━━━\u001b[0m\u001b[37m━\u001b[0m \u001b[1m0s\u001b[0m 17ms/step - accuracy: 0.9327 - loss: 0.1669\n",
      "Epoch 77: val_accuracy did not improve from 0.96035\n",
      "\u001b[1m246/246\u001b[0m \u001b[32m━━━━━━━━━━━━━━━━━━━━\u001b[0m\u001b[37m\u001b[0m \u001b[1m4s\u001b[0m 18ms/step - accuracy: 0.9327 - loss: 0.1668 - val_accuracy: 0.9517 - val_loss: 0.1241 - learning_rate: 5.0000e-05\n",
      "Epoch 78/100\n",
      "\u001b[1m245/246\u001b[0m \u001b[32m━━━━━━━━━━━━━━━━━━━\u001b[0m\u001b[37m━\u001b[0m \u001b[1m0s\u001b[0m 17ms/step - accuracy: 0.9330 - loss: 0.1708\n",
      "Epoch 78: val_accuracy improved from 0.96035 to 0.96085, saving model to best_model.h5\n"
     ]
    },
    {
     "name": "stderr",
     "output_type": "stream",
     "text": [
      "WARNING:absl:You are saving your model as an HDF5 file via `model.save()` or `keras.saving.save_model(model)`. This file format is considered legacy. We recommend using instead the native Keras format, e.g. `model.save('my_model.keras')` or `keras.saving.save_model(model, 'my_model.keras')`. \n"
     ]
    },
    {
     "name": "stdout",
     "output_type": "stream",
     "text": [
      "\u001b[1m246/246\u001b[0m \u001b[32m━━━━━━━━━━━━━━━━━━━━\u001b[0m\u001b[37m\u001b[0m \u001b[1m4s\u001b[0m 18ms/step - accuracy: 0.9330 - loss: 0.1707 - val_accuracy: 0.9609 - val_loss: 0.1120 - learning_rate: 5.0000e-05\n",
      "Epoch 79/100\n",
      "\u001b[1m244/246\u001b[0m \u001b[32m━━━━━━━━━━━━━━━━━━━\u001b[0m\u001b[37m━\u001b[0m \u001b[1m0s\u001b[0m 17ms/step - accuracy: 0.9325 - loss: 0.1639\n",
      "Epoch 79: val_accuracy did not improve from 0.96085\n",
      "\u001b[1m246/246\u001b[0m \u001b[32m━━━━━━━━━━━━━━━━━━━━\u001b[0m\u001b[37m\u001b[0m \u001b[1m4s\u001b[0m 18ms/step - accuracy: 0.9325 - loss: 0.1639 - val_accuracy: 0.9568 - val_loss: 0.1136 - learning_rate: 5.0000e-05\n",
      "Epoch 80/100\n",
      "\u001b[1m245/246\u001b[0m \u001b[32m━━━━━━━━━━━━━━━━━━━\u001b[0m\u001b[37m━\u001b[0m \u001b[1m0s\u001b[0m 17ms/step - accuracy: 0.9321 - loss: 0.1666\n",
      "Epoch 80: val_accuracy improved from 0.96085 to 0.96187, saving model to best_model.h5\n"
     ]
    },
    {
     "name": "stderr",
     "output_type": "stream",
     "text": [
      "WARNING:absl:You are saving your model as an HDF5 file via `model.save()` or `keras.saving.save_model(model)`. This file format is considered legacy. We recommend using instead the native Keras format, e.g. `model.save('my_model.keras')` or `keras.saving.save_model(model, 'my_model.keras')`. \n"
     ]
    },
    {
     "name": "stdout",
     "output_type": "stream",
     "text": [
      "\u001b[1m246/246\u001b[0m \u001b[32m━━━━━━━━━━━━━━━━━━━━\u001b[0m\u001b[37m\u001b[0m \u001b[1m4s\u001b[0m 18ms/step - accuracy: 0.9322 - loss: 0.1666 - val_accuracy: 0.9619 - val_loss: 0.1102 - learning_rate: 5.0000e-05\n",
      "Epoch 81/100\n",
      "\u001b[1m245/246\u001b[0m \u001b[32m━━━━━━━━━━━━━━━━━━━\u001b[0m\u001b[37m━\u001b[0m \u001b[1m0s\u001b[0m 17ms/step - accuracy: 0.9334 - loss: 0.1630\n",
      "Epoch 81: val_accuracy did not improve from 0.96187\n",
      "\u001b[1m246/246\u001b[0m \u001b[32m━━━━━━━━━━━━━━━━━━━━\u001b[0m\u001b[37m\u001b[0m \u001b[1m4s\u001b[0m 18ms/step - accuracy: 0.9334 - loss: 0.1629 - val_accuracy: 0.9609 - val_loss: 0.1090 - learning_rate: 5.0000e-05\n",
      "Epoch 82/100\n",
      "\u001b[1m245/246\u001b[0m \u001b[32m━━━━━━━━━━━━━━━━━━━\u001b[0m\u001b[37m━\u001b[0m \u001b[1m0s\u001b[0m 16ms/step - accuracy: 0.9301 - loss: 0.1616\n",
      "Epoch 82: val_accuracy did not improve from 0.96187\n",
      "\u001b[1m246/246\u001b[0m \u001b[32m━━━━━━━━━━━━━━━━━━━━\u001b[0m\u001b[37m\u001b[0m \u001b[1m4s\u001b[0m 17ms/step - accuracy: 0.9301 - loss: 0.1616 - val_accuracy: 0.9619 - val_loss: 0.1093 - learning_rate: 5.0000e-05\n",
      "Epoch 83/100\n",
      "\u001b[1m246/246\u001b[0m \u001b[32m━━━━━━━━━━━━━━━━━━━━\u001b[0m\u001b[37m\u001b[0m \u001b[1m0s\u001b[0m 16ms/step - accuracy: 0.9335 - loss: 0.1649\n",
      "Epoch 83: val_accuracy did not improve from 0.96187\n",
      "\u001b[1m246/246\u001b[0m \u001b[32m━━━━━━━━━━━━━━━━━━━━\u001b[0m\u001b[37m\u001b[0m \u001b[1m4s\u001b[0m 17ms/step - accuracy: 0.9335 - loss: 0.1649 - val_accuracy: 0.9568 - val_loss: 0.1108 - learning_rate: 5.0000e-05\n",
      "Epoch 84/100\n",
      "\u001b[1m246/246\u001b[0m \u001b[32m━━━━━━━━━━━━━━━━━━━━\u001b[0m\u001b[37m\u001b[0m \u001b[1m0s\u001b[0m 17ms/step - accuracy: 0.9384 - loss: 0.1444\n",
      "Epoch 84: val_accuracy improved from 0.96187 to 0.96289, saving model to best_model.h5\n"
     ]
    },
    {
     "name": "stderr",
     "output_type": "stream",
     "text": [
      "WARNING:absl:You are saving your model as an HDF5 file via `model.save()` or `keras.saving.save_model(model)`. This file format is considered legacy. We recommend using instead the native Keras format, e.g. `model.save('my_model.keras')` or `keras.saving.save_model(model, 'my_model.keras')`. \n"
     ]
    },
    {
     "name": "stdout",
     "output_type": "stream",
     "text": [
      "\u001b[1m246/246\u001b[0m \u001b[32m━━━━━━━━━━━━━━━━━━━━\u001b[0m\u001b[37m\u001b[0m \u001b[1m4s\u001b[0m 18ms/step - accuracy: 0.9384 - loss: 0.1444 - val_accuracy: 0.9629 - val_loss: 0.1069 - learning_rate: 5.0000e-05\n",
      "Epoch 85/100\n",
      "\u001b[1m243/246\u001b[0m \u001b[32m━━━━━━━━━━━━━━━━━━━\u001b[0m\u001b[37m━\u001b[0m \u001b[1m0s\u001b[0m 17ms/step - accuracy: 0.9416 - loss: 0.1538\n",
      "Epoch 85: val_accuracy did not improve from 0.96289\n",
      "\u001b[1m246/246\u001b[0m \u001b[32m━━━━━━━━━━━━━━━━━━━━\u001b[0m\u001b[37m\u001b[0m \u001b[1m4s\u001b[0m 18ms/step - accuracy: 0.9416 - loss: 0.1538 - val_accuracy: 0.9619 - val_loss: 0.1068 - learning_rate: 5.0000e-05\n",
      "Epoch 86/100\n",
      "\u001b[1m246/246\u001b[0m \u001b[32m━━━━━━━━━━━━━━━━━━━━\u001b[0m\u001b[37m\u001b[0m \u001b[1m0s\u001b[0m 16ms/step - accuracy: 0.9401 - loss: 0.1519\n",
      "Epoch 86: val_accuracy did not improve from 0.96289\n",
      "\u001b[1m246/246\u001b[0m \u001b[32m━━━━━━━━━━━━━━━━━━━━\u001b[0m\u001b[37m\u001b[0m \u001b[1m4s\u001b[0m 18ms/step - accuracy: 0.9401 - loss: 0.1519 - val_accuracy: 0.9624 - val_loss: 0.1072 - learning_rate: 5.0000e-05\n",
      "Epoch 87/100\n",
      "\u001b[1m246/246\u001b[0m \u001b[32m━━━━━━━━━━━━━━━━━━━━\u001b[0m\u001b[37m\u001b[0m \u001b[1m0s\u001b[0m 17ms/step - accuracy: 0.9370 - loss: 0.1615\n",
      "Epoch 87: val_accuracy did not improve from 0.96289\n",
      "\u001b[1m246/246\u001b[0m \u001b[32m━━━━━━━━━━━━━━━━━━━━\u001b[0m\u001b[37m\u001b[0m \u001b[1m4s\u001b[0m 18ms/step - accuracy: 0.9370 - loss: 0.1615 - val_accuracy: 0.9578 - val_loss: 0.1086 - learning_rate: 5.0000e-05\n",
      "Epoch 88/100\n",
      "\u001b[1m246/246\u001b[0m \u001b[32m━━━━━━━━━━━━━━━━━━━━\u001b[0m\u001b[37m\u001b[0m \u001b[1m0s\u001b[0m 16ms/step - accuracy: 0.9369 - loss: 0.1550\n",
      "Epoch 88: val_accuracy did not improve from 0.96289\n",
      "\u001b[1m246/246\u001b[0m \u001b[32m━━━━━━━━━━━━━━━━━━━━\u001b[0m\u001b[37m\u001b[0m \u001b[1m4s\u001b[0m 18ms/step - accuracy: 0.9369 - loss: 0.1550 - val_accuracy: 0.9593 - val_loss: 0.1058 - learning_rate: 5.0000e-05\n",
      "Epoch 89/100\n",
      "\u001b[1m243/246\u001b[0m \u001b[32m━━━━━━━━━━━━━━━━━━━\u001b[0m\u001b[37m━\u001b[0m \u001b[1m0s\u001b[0m 16ms/step - accuracy: 0.9485 - loss: 0.1337\n",
      "Epoch 89: val_accuracy improved from 0.96289 to 0.96340, saving model to best_model.h5\n"
     ]
    },
    {
     "name": "stderr",
     "output_type": "stream",
     "text": [
      "WARNING:absl:You are saving your model as an HDF5 file via `model.save()` or `keras.saving.save_model(model)`. This file format is considered legacy. We recommend using instead the native Keras format, e.g. `model.save('my_model.keras')` or `keras.saving.save_model(model, 'my_model.keras')`. \n"
     ]
    },
    {
     "name": "stdout",
     "output_type": "stream",
     "text": [
      "\u001b[1m246/246\u001b[0m \u001b[32m━━━━━━━━━━━━━━━━━━━━\u001b[0m\u001b[37m\u001b[0m \u001b[1m4s\u001b[0m 18ms/step - accuracy: 0.9484 - loss: 0.1339 - val_accuracy: 0.9634 - val_loss: 0.1030 - learning_rate: 5.0000e-05\n",
      "Epoch 90/100\n",
      "\u001b[1m246/246\u001b[0m \u001b[32m━━━━━━━━━━━━━━━━━━━━\u001b[0m\u001b[37m\u001b[0m \u001b[1m0s\u001b[0m 17ms/step - accuracy: 0.9376 - loss: 0.1537\n",
      "Epoch 90: val_accuracy did not improve from 0.96340\n",
      "\u001b[1m246/246\u001b[0m \u001b[32m━━━━━━━━━━━━━━━━━━━━\u001b[0m\u001b[37m\u001b[0m \u001b[1m4s\u001b[0m 18ms/step - accuracy: 0.9376 - loss: 0.1537 - val_accuracy: 0.9609 - val_loss: 0.1047 - learning_rate: 5.0000e-05\n",
      "Epoch 91/100\n",
      "\u001b[1m244/246\u001b[0m \u001b[32m━━━━━━━━━━━━━━━━━━━\u001b[0m\u001b[37m━\u001b[0m \u001b[1m0s\u001b[0m 17ms/step - accuracy: 0.9401 - loss: 0.1452\n",
      "Epoch 91: val_accuracy improved from 0.96340 to 0.96441, saving model to best_model.h5\n"
     ]
    },
    {
     "name": "stderr",
     "output_type": "stream",
     "text": [
      "WARNING:absl:You are saving your model as an HDF5 file via `model.save()` or `keras.saving.save_model(model)`. This file format is considered legacy. We recommend using instead the native Keras format, e.g. `model.save('my_model.keras')` or `keras.saving.save_model(model, 'my_model.keras')`. \n"
     ]
    },
    {
     "name": "stdout",
     "output_type": "stream",
     "text": [
      "\u001b[1m246/246\u001b[0m \u001b[32m━━━━━━━━━━━━━━━━━━━━\u001b[0m\u001b[37m\u001b[0m \u001b[1m5s\u001b[0m 18ms/step - accuracy: 0.9401 - loss: 0.1453 - val_accuracy: 0.9644 - val_loss: 0.1017 - learning_rate: 5.0000e-05\n",
      "Epoch 92/100\n",
      "\u001b[1m243/246\u001b[0m \u001b[32m━━━━━━━━━━━━━━━━━━━\u001b[0m\u001b[37m━\u001b[0m \u001b[1m0s\u001b[0m 17ms/step - accuracy: 0.9326 - loss: 0.1545\n",
      "Epoch 92: val_accuracy improved from 0.96441 to 0.96543, saving model to best_model.h5\n"
     ]
    },
    {
     "name": "stderr",
     "output_type": "stream",
     "text": [
      "WARNING:absl:You are saving your model as an HDF5 file via `model.save()` or `keras.saving.save_model(model)`. This file format is considered legacy. We recommend using instead the native Keras format, e.g. `model.save('my_model.keras')` or `keras.saving.save_model(model, 'my_model.keras')`. \n"
     ]
    },
    {
     "name": "stdout",
     "output_type": "stream",
     "text": [
      "\u001b[1m246/246\u001b[0m \u001b[32m━━━━━━━━━━━━━━━━━━━━\u001b[0m\u001b[37m\u001b[0m \u001b[1m4s\u001b[0m 18ms/step - accuracy: 0.9326 - loss: 0.1544 - val_accuracy: 0.9654 - val_loss: 0.1009 - learning_rate: 5.0000e-05\n",
      "Epoch 93/100\n",
      "\u001b[1m243/246\u001b[0m \u001b[32m━━━━━━━━━━━━━━━━━━━\u001b[0m\u001b[37m━\u001b[0m \u001b[1m0s\u001b[0m 17ms/step - accuracy: 0.9386 - loss: 0.1523\n",
      "Epoch 93: val_accuracy did not improve from 0.96543\n",
      "\u001b[1m246/246\u001b[0m \u001b[32m━━━━━━━━━━━━━━━━━━━━\u001b[0m\u001b[37m\u001b[0m \u001b[1m4s\u001b[0m 18ms/step - accuracy: 0.9386 - loss: 0.1523 - val_accuracy: 0.9614 - val_loss: 0.1026 - learning_rate: 5.0000e-05\n",
      "Epoch 94/100\n",
      "\u001b[1m244/246\u001b[0m \u001b[32m━━━━━━━━━━━━━━━━━━━\u001b[0m\u001b[37m━\u001b[0m \u001b[1m0s\u001b[0m 16ms/step - accuracy: 0.9384 - loss: 0.1448\n",
      "Epoch 94: val_accuracy improved from 0.96543 to 0.96594, saving model to best_model.h5\n"
     ]
    },
    {
     "name": "stderr",
     "output_type": "stream",
     "text": [
      "WARNING:absl:You are saving your model as an HDF5 file via `model.save()` or `keras.saving.save_model(model)`. This file format is considered legacy. We recommend using instead the native Keras format, e.g. `model.save('my_model.keras')` or `keras.saving.save_model(model, 'my_model.keras')`. \n"
     ]
    },
    {
     "name": "stdout",
     "output_type": "stream",
     "text": [
      "\u001b[1m246/246\u001b[0m \u001b[32m━━━━━━━━━━━━━━━━━━━━\u001b[0m\u001b[37m\u001b[0m \u001b[1m4s\u001b[0m 18ms/step - accuracy: 0.9384 - loss: 0.1448 - val_accuracy: 0.9659 - val_loss: 0.0995 - learning_rate: 5.0000e-05\n",
      "Epoch 95/100\n",
      "\u001b[1m244/246\u001b[0m \u001b[32m━━━━━━━━━━━━━━━━━━━\u001b[0m\u001b[37m━\u001b[0m \u001b[1m0s\u001b[0m 17ms/step - accuracy: 0.9403 - loss: 0.1437\n",
      "Epoch 95: val_accuracy did not improve from 0.96594\n",
      "\u001b[1m246/246\u001b[0m \u001b[32m━━━━━━━━━━━━━━━━━━━━\u001b[0m\u001b[37m\u001b[0m \u001b[1m4s\u001b[0m 18ms/step - accuracy: 0.9403 - loss: 0.1436 - val_accuracy: 0.9598 - val_loss: 0.1027 - learning_rate: 5.0000e-05\n",
      "Epoch 96/100\n",
      "\u001b[1m243/246\u001b[0m \u001b[32m━━━━━━━━━━━━━━━━━━━\u001b[0m\u001b[37m━\u001b[0m \u001b[1m0s\u001b[0m 16ms/step - accuracy: 0.9393 - loss: 0.1505\n",
      "Epoch 96: val_accuracy did not improve from 0.96594\n",
      "\u001b[1m246/246\u001b[0m \u001b[32m━━━━━━━━━━━━━━━━━━━━\u001b[0m\u001b[37m\u001b[0m \u001b[1m4s\u001b[0m 18ms/step - accuracy: 0.9393 - loss: 0.1503 - val_accuracy: 0.9634 - val_loss: 0.0992 - learning_rate: 5.0000e-05\n",
      "Epoch 97/100\n",
      "\u001b[1m244/246\u001b[0m \u001b[32m━━━━━━━━━━━━━━━━━━━\u001b[0m\u001b[37m━\u001b[0m \u001b[1m0s\u001b[0m 17ms/step - accuracy: 0.9443 - loss: 0.1385\n",
      "Epoch 97: val_accuracy did not improve from 0.96594\n",
      "\u001b[1m246/246\u001b[0m \u001b[32m━━━━━━━━━━━━━━━━━━━━\u001b[0m\u001b[37m\u001b[0m \u001b[1m4s\u001b[0m 18ms/step - accuracy: 0.9443 - loss: 0.1385 - val_accuracy: 0.9573 - val_loss: 0.1033 - learning_rate: 5.0000e-05\n",
      "Epoch 98/100\n",
      "\u001b[1m243/246\u001b[0m \u001b[32m━━━━━━━━━━━━━━━━━━━\u001b[0m\u001b[37m━\u001b[0m \u001b[1m0s\u001b[0m 17ms/step - accuracy: 0.9456 - loss: 0.1382\n",
      "Epoch 98: val_accuracy did not improve from 0.96594\n",
      "\u001b[1m246/246\u001b[0m \u001b[32m━━━━━━━━━━━━━━━━━━━━\u001b[0m\u001b[37m\u001b[0m \u001b[1m4s\u001b[0m 18ms/step - accuracy: 0.9455 - loss: 0.1383 - val_accuracy: 0.9654 - val_loss: 0.0965 - learning_rate: 5.0000e-05\n",
      "Epoch 99/100\n",
      "\u001b[1m243/246\u001b[0m \u001b[32m━━━━━━━━━━━━━━━━━━━\u001b[0m\u001b[37m━\u001b[0m \u001b[1m0s\u001b[0m 17ms/step - accuracy: 0.9379 - loss: 0.1473\n",
      "Epoch 99: val_accuracy did not improve from 0.96594\n",
      "\u001b[1m246/246\u001b[0m \u001b[32m━━━━━━━━━━━━━━━━━━━━\u001b[0m\u001b[37m\u001b[0m \u001b[1m4s\u001b[0m 18ms/step - accuracy: 0.9379 - loss: 0.1474 - val_accuracy: 0.9659 - val_loss: 0.0960 - learning_rate: 5.0000e-05\n",
      "Epoch 100/100\n",
      "\u001b[1m245/246\u001b[0m \u001b[32m━━━━━━━━━━━━━━━━━━━\u001b[0m\u001b[37m━\u001b[0m \u001b[1m0s\u001b[0m 17ms/step - accuracy: 0.9426 - loss: 0.1411\n",
      "Epoch 100: val_accuracy did not improve from 0.96594\n",
      "\u001b[1m246/246\u001b[0m \u001b[32m━━━━━━━━━━━━━━━━━━━━\u001b[0m\u001b[37m\u001b[0m \u001b[1m4s\u001b[0m 18ms/step - accuracy: 0.9425 - loss: 0.1412 - val_accuracy: 0.9593 - val_loss: 0.1016 - learning_rate: 5.0000e-05\n",
      "Restoring model weights from the end of the best epoch: 99.\n",
      "Training completed.\n",
      "\u001b[1m62/62\u001b[0m \u001b[32m━━━━━━━━━━━━━━━━━━━━\u001b[0m\u001b[37m\u001b[0m \u001b[1m2s\u001b[0m 17ms/step\n"
     ]
    },
    {
     "data": {
      "image/png": "[encoded data removed]",
      "text/plain": [
       "<Figure size 640x480 with 1 Axes>"
      ]
     },
     "metadata": {},
     "output_type": "display_data"
    },
    {
     "data": {
      "image/png": "[encoded data removed]",
      "text/plain": [
       "<Figure size 640x480 with 1 Axes>"
      ]
     },
     "metadata": {},
     "output_type": "display_data"
    },
    {
     "data": {
      "image/png": "[encoded data removed]",
      "text/plain": [
       "<Figure size 600x500 with 2 Axes>"
      ]
     },
     "metadata": {},
     "output_type": "display_data"
    },
    {
     "data": {
      "image/png": "[encoded data removed]",
      "text/plain": [
       "<Figure size 640x480 with 1 Axes>"
      ]
     },
     "metadata": {},
     "output_type": "display_data"
    },
    {
     "data": {
      "image/png": "[encoded data removed]",
      "text/plain": [
       "<Figure size 640x480 with 1 Axes>"
      ]
     },
     "metadata": {},
     "output_type": "display_data"
    },
    {
     "name": "stdout",
     "output_type": "stream",
     "text": [
      "Accuracy Score: 0.9659\n",
      "ROC AUC Score: 0.9948\n",
      "Recall Score: 0.9546\n",
      "Precision Score: 0.9773\n",
      "F1 Score: 0.9658\n",
      "PR AUC Score: 0.9954\n",
      "Classification Report:\n",
      "              precision    recall  f1-score   support\n",
      "\n",
      "           0       0.95      0.98      0.97       975\n",
      "           1       0.98      0.95      0.97       992\n",
      "\n",
      "    accuracy                           0.97      1967\n",
      "   macro avg       0.97      0.97      0.97      1967\n",
      "weighted avg       0.97      0.97      0.97      1967\n",
      "\n"
     ]
    }
   ],
   "source": [
    "# Train the Model\n",
    "train_model(spatial_model, temporal_model, x_train, y_train, x_test, y_test, epochs=100, batch_size=32)"
   ]
  }
 ],
 "metadata": {
  "kernelspec": {
   "display_name": "base",
   "language": "python",
   "name": "python3"
  },
  "language_info": {
   "codemirror_mode": {
    "name": "ipython",
    "version": 3
   },
   "file_extension": ".py",
   "mimetype": "text/x-python",
   "name": "python",
   "nbconvert_exporter": "python",
   "pygments_lexer": "ipython3",
   "version": "3.12.7"
  }
 },
 "nbformat": 4,
 "nbformat_minor": 2
}
