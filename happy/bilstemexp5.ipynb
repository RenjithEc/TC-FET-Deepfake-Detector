{
 "cells": [
  {
   "cell_type": "code",
   "execution_count": 3,
   "metadata": {},
   "outputs": [],
   "source": [
    "import os\n",
    "import cv2\n",
    "import numpy as np\n",
    "import tensorflow as tf\n",
    "import matplotlib.pyplot as plt\n",
    "from sklearn.metrics import confusion_matrix, roc_curve, auc, precision_recall_curve, classification_report\n",
    "from tensorflow.keras.applications import Xception\n",
    "from tensorflow.keras.layers import Input, LSTM, Dense, Dropout, Bidirectional, Flatten, TimeDistributed, GlobalAveragePooling2D, BatchNormalization\n",
    "from tensorflow.keras.models import Model\n",
    "from tensorflow.keras.optimizers import Adam\n",
    "from glob import glob\n",
    "from sklearn.metrics import accuracy_score, recall_score, precision_score, f1_score, auc\n",
    "import seaborn as sns\n",
    "from sklearn.model_selection import train_test_split\n",
    "from tqdm import tqdm\n",
    "from tensorflow.keras.callbacks import EarlyStopping, ReduceLROnPlateau, ModelCheckpoint\n",
    "from tensorflow.keras.regularizers import l2\n",
    "from tensorflow.keras.layers import Lambda\n",
    "from tensorflow.keras.layers import Activation, Multiply\n",
    "from tensorflow.keras import backend as K\n",
    "from sklearn.model_selection import StratifiedShuffleSplit\n",
    "from tensorflow.keras.utils import Sequence"
   ]
  },
  {
   "cell_type": "code",
   "execution_count": 4,
   "metadata": {},
   "outputs": [
    {
     "name": "stdout",
     "output_type": "stream",
     "text": [
      "WARNING:tensorflow:From C:\\Users\\G713QM-\\AppData\\Local\\Temp\\ipykernel_4440\\1191893959.py:7: is_gpu_available (from tensorflow.python.framework.test_util) is deprecated and will be removed in a future version.\n",
      "Instructions for updating:\n",
      "Use `tf.config.list_physical_devices('GPU')` instead.\n"
     ]
    },
    {
     "data": {
      "text/plain": [
       "False"
      ]
     },
     "execution_count": 4,
     "metadata": {},
     "output_type": "execute_result"
    }
   ],
   "source": [
    "from tensorflow.keras import mixed_precision\n",
    "mixed_precision.set_global_policy('mixed_float16')\n",
    "\n",
    "gpus = tf.config.experimental.list_physical_devices('GPU')\n",
    "for gpu in gpus:\n",
    "    tf.config.experimental.set_memory_growth(gpu, True)\n",
    "tf.test.is_gpu_available()"
   ]
  },
  {
   "cell_type": "code",
   "execution_count": 15,
   "metadata": {},
   "outputs": [],
   "source": [
    "from tensorflow.keras.layers import Layer, Dense, Activation, Multiply, Lambda\n",
    "import tensorflow.keras.backend as K\n",
    "\n",
    "class AttentionLayer(Layer):\n",
    "    def __init__(self, **kwargs):\n",
    "        super(AttentionLayer, self).__init__(**kwargs)\n",
    "\n",
    "    def build(self, input_shape):\n",
    "        # input_shape: (batch_size, timesteps, features)\n",
    "        self.W = self.add_weight(name='att_weight', \n",
    "                                 shape=(input_shape[-1], input_shape[-1]),\n",
    "                                 initializer='glorot_uniform',\n",
    "                                 trainable=True)\n",
    "        self.b = self.add_weight(name='att_bias', \n",
    "                                 shape=(input_shape[-1],),\n",
    "                                 initializer='zeros',\n",
    "                                 trainable=True)\n",
    "        self.V = self.add_weight(name='att_var', \n",
    "                                 shape=(input_shape[-1], 1),\n",
    "                                 initializer='glorot_uniform',\n",
    "                                 trainable=True)\n",
    "        super(AttentionLayer, self).build(input_shape)\n",
    "\n",
    "    def call(self, inputs):\n",
    "        # inputs: (batch_size, timesteps, features)\n",
    "        # Score calculation for each time step\n",
    "        score = K.tanh(K.dot(inputs, self.W) + self.b)  # (batch_size, timesteps, features)\n",
    "        score = K.dot(score, self.V)  # (batch_size, timesteps, 1)\n",
    "        attention_weights = K.softmax(score, axis=1)  # (batch_size, timesteps, 1)\n",
    "        \n",
    "        # Multiply each time step by its attention weight\n",
    "        context_vector = inputs * attention_weights  # (batch_size, timesteps, features)\n",
    "        context_vector = K.sum(context_vector, axis=1)   # (batch_size, features)\n",
    "        return context_vector\n",
    "\n",
    "# Convenience function to use the layer\n",
    "def attention_layer(inputs):\n",
    "    return AttentionLayer()(inputs)\n"
   ]
  },
  {
   "cell_type": "code",
   "execution_count": 13,
   "metadata": {},
   "outputs": [],
   "source": [
    "def build_model(input_shape=(299, 299, 9)):\n",
    "    \"\"\"\n",
    "    Builds an improved Xception-based spatial feature extractor and a Bidirectional LSTM\n",
    "    for temporal analysis with pooling layers and batch normalization.\n",
    "    \"\"\"\n",
    "    print(\"Building improved model...\")\n",
    "\n",
    "    # Spatial Feature Extractor\n",
    "    base_model = Xception(include_top=False, weights=None, input_shape=input_shape)\n",
    "\n",
    "    # Use GlobalAveragePooling2D to aggregate the spatial features.\n",
    "    x = base_model.output\n",
    "    x = GlobalAveragePooling2D()(x)\n",
    "    x = Dense(1024, activation='relu', kernel_regularizer=l2(0.0001))(x)\n",
    "    x = BatchNormalization()(x)\n",
    "    x = Dropout(0.4)(x)\n",
    "    x = Dense(512, activation='relu', kernel_regularizer=l2(0.0001))(x)\n",
    "    x = BatchNormalization()(x)\n",
    "    spatial_model = Model(inputs=base_model.input, outputs=x, name=\"spatial_model\")\n",
    "\n",
    "    # Temporal Analysis with LSTM (Improved)\n",
    "    lstm_input = Input(shape=(None, 512), name=\"lstm_input\")\n",
    "\n",
    "    # First LSTM remains the same:\n",
    "    lstm_out = Bidirectional(LSTM(256, return_sequences=True, dropout=0.4, recurrent_dropout=0.2))(lstm_input)\n",
    "    # Change the second LSTM to output sequences (i.e., 3D tensor)\n",
    "    lstm_out = Bidirectional(LSTM(128, return_sequences=True, dropout=0.4))(lstm_out)\n",
    "\n",
    "    # Now attention_layer receives a 3D tensor as expected\n",
    "    attn_out = attention_layer(lstm_out)\n",
    "    attn_out = BatchNormalization()(attn_out)\n",
    "\n",
    "    output = Dense(1, activation='sigmoid')(attn_out)\n",
    "    temporal_model = Model(inputs=lstm_input, outputs=output, name=\"temporal_model\")\n",
    "\n",
    "    print(\"Improved model built successfully.\")\n",
    "    return spatial_model, temporal_model\n",
    "\n",
    "\n",
    "def train_model(spatial_model, temporal_model, x_train, y_train, x_test, y_test, epochs=100, batch_size=32):\n",
    "    \"\"\"Trains the model with improved training strategy.\"\"\"\n",
    "    print(\"Extracting features from Xception (Spatial Model)...\")\n",
    "\n",
    "    # Extract features from Xception\n",
    "    x_train_features = spatial_model.predict(x_train)\n",
    "    x_test_features = spatial_model.predict(x_test)\n",
    "\n",
    "    # Reshape for LSTM\n",
    "    x_train_features = np.expand_dims(x_train_features, axis=1)\n",
    "    x_test_features = np.expand_dims(x_test_features, axis=1)\n",
    "\n",
    "    # Compile the LSTM (Temporal Model)\n",
    "    temporal_model.compile(optimizer=Adam(learning_rate=0.0001), loss='binary_crossentropy', metrics=['accuracy'])\n",
    "\n",
    "    print(\"Training Improved Temporal Model (LSTM)...\")\n",
    "\n",
    "    # Callbacks\n",
    "    model_checkpoint = ModelCheckpoint(\n",
    "        filepath=\"best_model.h5\",\n",
    "        monitor=\"val_accuracy\",\n",
    "        save_best_only=True,\n",
    "        save_weights_only=False,\n",
    "        mode=\"max\",\n",
    "        verbose=1\n",
    "    )\n",
    "\n",
    "    early_stopping = EarlyStopping(monitor='val_loss', patience=7, restore_best_weights=True, verbose=1)\n",
    "\n",
    "    lr_reducer = ReduceLROnPlateau(monitor='val_loss', factor=0.5, patience=4, verbose=1)\n",
    "\n",
    "    # Train the LSTM Model\n",
    "    history = temporal_model.fit(\n",
    "        x_train_features, y_train,\n",
    "        epochs=epochs,\n",
    "        batch_size=batch_size,\n",
    "        validation_data=(x_test_features, y_test),\n",
    "        callbacks=[model_checkpoint, early_stopping, lr_reducer]\n",
    "    )\n",
    "\n",
    "    print(\"Training completed.\")\n",
    "\n",
    "    # Predict on test set\n",
    "    y_pred = temporal_model.predict(x_test_features)\n",
    "\n",
    "    # Evaluate model\n",
    "    plot_metrics(history, y_test, y_pred)\n",
    "\n",
    "\n",
    "def plot_metrics(history, y_test, y_pred):\n",
    "    \"\"\"Plots training metrics, evaluation metrics, ROC curve, and precision-recall curve.\"\"\"\n",
    "    # Training Loss and Accuracy\n",
    "    plt.figure()\n",
    "    plt.plot(history.history['accuracy'], label='Train Accuracy')\n",
    "    plt.plot(history.history['val_accuracy'], label='Validation Accuracy')\n",
    "    plt.legend()\n",
    "    plt.title('Training vs Validation Accuracy')\n",
    "    plt.show()\n",
    "    \n",
    "    plt.figure()\n",
    "    plt.plot(history.history['loss'], label='Train Loss')\n",
    "    plt.plot(history.history['val_loss'], label='Validation Loss')\n",
    "    plt.legend()\n",
    "    plt.title('Training vs Validation Loss')\n",
    "    plt.show()\n",
    "    \n",
    "    # Confusion Matrix\n",
    "    cm = confusion_matrix(y_test, (y_pred > 0.5).astype(int))\n",
    "    plt.figure(figsize=(6,5))\n",
    "    sns.heatmap(cm, annot=True, fmt='d', cmap='Blues', \n",
    "                xticklabels=['Real', 'Fake'], yticklabels=['Real', 'Fake'])\n",
    "    plt.xlabel('Predicted label')\n",
    "    plt.ylabel('True label')\n",
    "    plt.title('Confusion Matrix')\n",
    "    plt.show()\n",
    "\n",
    "    # Compute ROC Curve and AUC\n",
    "    fpr, tpr, _ = roc_curve(y_test, y_pred)\n",
    "    roc_auc = auc(fpr, tpr)\n",
    "    \n",
    "    # Plot ROC Curve\n",
    "    plt.figure()\n",
    "    plt.plot(fpr, tpr, label=f'ROC curve (AUC = {roc_auc:.4f})')\n",
    "    plt.plot([0, 1], [0, 1], linestyle='--', color='gray')\n",
    "    plt.xlabel('False Positive Rate')\n",
    "    plt.ylabel('True Positive Rate')\n",
    "    plt.title('Receiver Operating Characteristic (ROC) Curve')\n",
    "    plt.legend(loc=\"lower right\")\n",
    "    plt.show()\n",
    "    \n",
    "    # Compute Precision-Recall Curve and AUC\n",
    "    precision, recall, _ = precision_recall_curve(y_test, y_pred)\n",
    "    pr_auc = auc(recall, precision)\n",
    "    \n",
    "    # Plot Precision-Recall Curve\n",
    "    plt.figure()\n",
    "    plt.plot(recall, precision, label=f'PR curve (AUC = {pr_auc:.4f})')\n",
    "    plt.xlabel('Recall')\n",
    "    plt.ylabel('Precision')\n",
    "    plt.title('Precision-Recall Curve')\n",
    "    plt.legend(loc=\"lower left\")\n",
    "    plt.show()\n",
    "    \n",
    "    # Print evaluation metrics\n",
    "    y_pred_binary = (y_pred > 0.5).astype(int)\n",
    "    print(f'Accuracy Score: {accuracy_score(y_test, y_pred_binary):.4f}')\n",
    "    print(f'ROC AUC Score: {roc_auc:.4f}')\n",
    "    print(f'Recall Score: {recall_score(y_test, y_pred_binary):.4f}')\n",
    "    print(f'Precision Score: {precision_score(y_test, y_pred_binary):.4f}')\n",
    "    print(f'F1 Score: {f1_score(y_test, y_pred_binary):.4f}')\n",
    "    print(f'PR AUC Score: {pr_auc:.4f}')\n",
    "    \n",
    "    print(\"Classification Report:\")\n",
    "    print(classification_report(y_test, y_pred_binary))"
   ]
  },
  {
   "cell_type": "code",
   "execution_count": 7,
   "metadata": {},
   "outputs": [],
   "source": [
    "# # Load precomputed dataset\n",
    "# save_path = \"E:/dataset_1/preprocessed_happy.npz\"\n",
    "# print(f\"📂 Loading precomputed dataset from {save_path}...\")\n",
    "# data = np.load(save_path)\n",
    "\n",
    "# # Extract x_data and y_data\n",
    "# x_data, y_data = data[\"x\"], data[\"y\"]\n",
    "# print(f\"✅ Loaded dataset: {x_data.shape[0]} samples.\")\n",
    "\n",
    "# # Train-test split\n",
    "# x_train, x_test, y_train, y_test = train_test_split(x_data, y_data, test_size=0.2, random_state=42, stratify=y_data)\n",
    "\n",
    "# # Verify shapes\n",
    "# print(f\"📊 Train/Test Split:\")\n",
    "# print(f\"  x_train: {x_train.shape}, y_train: {y_train.shape}\")\n",
    "# print(f\"  x_test: {x_test.shape}, y_test: {y_test.shape}\")"
   ]
  },
  {
   "cell_type": "code",
   "execution_count": 8,
   "metadata": {},
   "outputs": [
    {
     "name": "stdout",
     "output_type": "stream",
     "text": [
      "📂 Loading precomputed dataset from E:/dataset_1/preprocessed_happy.npz...\n",
      "✅ Loaded dataset: 20000 samples.\n",
      "📊 Train/Test Split:\n",
      "  x_train_seq: 500 batches (batch_size=32), y_train: (16000,)\n",
      "  x_test_seq: 125 batches (batch_size=32), y_test: (4000,)\n"
     ]
    }
   ],
   "source": [
    "\n",
    "\n",
    "\n",
    "# Create a Sequence wrapper to load batches from the memmap on demand.\n",
    "class MemmapSequence(Sequence):\n",
    "    def __init__(self, memmap_array, indices, batch_size=32):\n",
    "        self.memmap_array = memmap_array\n",
    "        self.indices = indices\n",
    "        self.batch_size = batch_size\n",
    "        \n",
    "    def __len__(self):\n",
    "        return int(np.ceil(len(self.indices) / self.batch_size))\n",
    "    \n",
    "    def __getitem__(self, idx):\n",
    "        batch_idx = self.indices[idx * self.batch_size:(idx + 1) * self.batch_size]\n",
    "        # When using fancy indexing on a memmap, a copy is made only for this batch.\n",
    "        return self.memmap_array[batch_idx]\n",
    "\n",
    "# --- Data Loading Without Loading Entire Dataset Into RAM ---\n",
    "\n",
    "# Load the dataset with memory mapping so that the full array isn’t loaded into RAM immediately.\n",
    "save_path = \"E:/dataset_1/preprocessed_happy.npz\"\n",
    "print(f\"📂 Loading precomputed dataset from {save_path}...\")\n",
    "data = np.load(save_path, mmap_mode='r')  # memmap; data remains on disk until accessed\n",
    "x_data, y_data = data[\"x\"], data[\"y\"]\n",
    "print(f\"✅ Loaded dataset: {x_data.shape[0]} samples.\")\n",
    "\n",
    "# Use StratifiedShuffleSplit to get train/test indices without forcing a full copy.\n",
    "sss = StratifiedShuffleSplit(n_splits=1, test_size=0.2, random_state=42)\n",
    "train_idx, test_idx = next(sss.split(x_data, y_data))\n",
    "\n",
    "# Sorting indices can help get more contiguous slices.\n",
    "train_idx = np.sort(train_idx)\n",
    "test_idx = np.sort(test_idx)\n",
    "\n",
    "# Instead of slicing x_data (which would copy a 12GB block into memory),\n",
    "# create Sequences that load data in batches.\n",
    "batch_size = 32\n",
    "x_train_seq = MemmapSequence(x_data, train_idx, batch_size=batch_size)\n",
    "x_test_seq = MemmapSequence(x_data, test_idx, batch_size=batch_size)\n",
    "\n",
    "# y_data is small so we load it normally.\n",
    "y_train = y_data[train_idx]\n",
    "y_test = y_data[test_idx]\n",
    "\n",
    "print(\"📊 Train/Test Split:\")\n",
    "print(f\"  x_train_seq: {len(x_train_seq)} batches (batch_size={batch_size}), y_train: {y_train.shape}\")\n",
    "print(f\"  x_test_seq: {len(x_test_seq)} batches (batch_size={batch_size}), y_test: {y_test.shape}\")\n",
    "\n",
    "# --- Training the Model ---\n",
    "# Now call your train_model function as before—but pass the Sequence objects instead of full numpy arrays.\n",
    "# For example:\n",
    "#\n",
    "# spatial_model, temporal_model = build_model(input_shape=(299, 299, 9))\n",
    "# train_model(spatial_model, temporal_model, x_train_seq, y_train, x_test_seq, y_test)\n",
    "#\n",
    "# Keras model.predict (and model.fit, if needed) supports Sequence objects, so your existing\n",
    "# build_model() and train_model() functions remain unchanged.\n"
   ]
  },
  {
   "cell_type": "code",
   "execution_count": 16,
   "metadata": {},
   "outputs": [
    {
     "name": "stdout",
     "output_type": "stream",
     "text": [
      "Building improved model...\n",
      "WARNING:tensorflow:From c:\\Users\\G713QM-\\anaconda3\\Lib\\site-packages\\keras\\src\\backend\\tensorflow\\core.py:216: The name tf.placeholder is deprecated. Please use tf.compat.v1.placeholder instead.\n",
      "\n",
      "Improved model built successfully.\n"
     ]
    },
    {
     "data": {
      "text/html": [
       "<pre style=\"white-space:pre;overflow-x:auto;line-height:normal;font-family:Menlo,'DejaVu Sans Mono',consolas,'Courier New',monospace\"><span style=\"font-weight: bold\">Model: \"temporal_model\"</span>\n",
       "</pre>\n"
      ],
      "text/plain": [
       "\u001b[1mModel: \"temporal_model\"\u001b[0m\n"
      ]
     },
     "metadata": {},
     "output_type": "display_data"
    },
    {
     "data": {
      "text/html": [
       "<pre style=\"white-space:pre;overflow-x:auto;line-height:normal;font-family:Menlo,'DejaVu Sans Mono',consolas,'Courier New',monospace\">┏━━━━━━━━━━━━━━━━━━━━━━━━━━━━━━━━━┳━━━━━━━━━━━━━━━━━━━━━━━━┳━━━━━━━━━━━━━━━┓\n",
       "┃<span style=\"font-weight: bold\"> Layer (type)                    </span>┃<span style=\"font-weight: bold\"> Output Shape           </span>┃<span style=\"font-weight: bold\">       Param # </span>┃\n",
       "┡━━━━━━━━━━━━━━━━━━━━━━━━━━━━━━━━━╇━━━━━━━━━━━━━━━━━━━━━━━━╇━━━━━━━━━━━━━━━┩\n",
       "│ lstm_input (<span style=\"color: #0087ff; text-decoration-color: #0087ff\">InputLayer</span>)         │ (<span style=\"color: #00d7ff; text-decoration-color: #00d7ff\">None</span>, <span style=\"color: #00d7ff; text-decoration-color: #00d7ff\">None</span>, <span style=\"color: #00af00; text-decoration-color: #00af00\">512</span>)      │             <span style=\"color: #00af00; text-decoration-color: #00af00\">0</span> │\n",
       "├─────────────────────────────────┼────────────────────────┼───────────────┤\n",
       "│ cast_9 (<span style=\"color: #0087ff; text-decoration-color: #0087ff\">Cast</span>)                   │ (<span style=\"color: #00d7ff; text-decoration-color: #00d7ff\">None</span>, <span style=\"color: #00d7ff; text-decoration-color: #00d7ff\">None</span>, <span style=\"color: #00af00; text-decoration-color: #00af00\">512</span>)      │             <span style=\"color: #00af00; text-decoration-color: #00af00\">0</span> │\n",
       "├─────────────────────────────────┼────────────────────────┼───────────────┤\n",
       "│ bidirectional_8 (<span style=\"color: #0087ff; text-decoration-color: #0087ff\">Bidirectional</span>) │ (<span style=\"color: #00d7ff; text-decoration-color: #00d7ff\">None</span>, <span style=\"color: #00d7ff; text-decoration-color: #00d7ff\">None</span>, <span style=\"color: #00af00; text-decoration-color: #00af00\">512</span>)      │     <span style=\"color: #00af00; text-decoration-color: #00af00\">1,574,912</span> │\n",
       "├─────────────────────────────────┼────────────────────────┼───────────────┤\n",
       "│ bidirectional_9 (<span style=\"color: #0087ff; text-decoration-color: #0087ff\">Bidirectional</span>) │ (<span style=\"color: #00d7ff; text-decoration-color: #00d7ff\">None</span>, <span style=\"color: #00d7ff; text-decoration-color: #00d7ff\">None</span>, <span style=\"color: #00af00; text-decoration-color: #00af00\">256</span>)      │       <span style=\"color: #00af00; text-decoration-color: #00af00\">656,384</span> │\n",
       "├─────────────────────────────────┼────────────────────────┼───────────────┤\n",
       "│ attention_layer                 │ (<span style=\"color: #00d7ff; text-decoration-color: #00d7ff\">None</span>, <span style=\"color: #00af00; text-decoration-color: #00af00\">256</span>)            │        <span style=\"color: #00af00; text-decoration-color: #00af00\">66,048</span> │\n",
       "│ (<span style=\"color: #0087ff; text-decoration-color: #0087ff\">AttentionLayer</span>)                │                        │               │\n",
       "├─────────────────────────────────┼────────────────────────┼───────────────┤\n",
       "│ batch_normalization_30          │ (<span style=\"color: #00d7ff; text-decoration-color: #00d7ff\">None</span>, <span style=\"color: #00af00; text-decoration-color: #00af00\">256</span>)            │         <span style=\"color: #00af00; text-decoration-color: #00af00\">1,024</span> │\n",
       "│ (<span style=\"color: #0087ff; text-decoration-color: #0087ff\">BatchNormalization</span>)            │                        │               │\n",
       "├─────────────────────────────────┼────────────────────────┼───────────────┤\n",
       "│ dense_14 (<span style=\"color: #0087ff; text-decoration-color: #0087ff\">Dense</span>)                │ (<span style=\"color: #00d7ff; text-decoration-color: #00d7ff\">None</span>, <span style=\"color: #00af00; text-decoration-color: #00af00\">1</span>)              │           <span style=\"color: #00af00; text-decoration-color: #00af00\">257</span> │\n",
       "└─────────────────────────────────┴────────────────────────┴───────────────┘\n",
       "</pre>\n"
      ],
      "text/plain": [
       "┏━━━━━━━━━━━━━━━━━━━━━━━━━━━━━━━━━┳━━━━━━━━━━━━━━━━━━━━━━━━┳━━━━━━━━━━━━━━━┓\n",
       "┃\u001b[1m \u001b[0m\u001b[1mLayer (type)                   \u001b[0m\u001b[1m \u001b[0m┃\u001b[1m \u001b[0m\u001b[1mOutput Shape          \u001b[0m\u001b[1m \u001b[0m┃\u001b[1m \u001b[0m\u001b[1m      Param #\u001b[0m\u001b[1m \u001b[0m┃\n",
       "┡━━━━━━━━━━━━━━━━━━━━━━━━━━━━━━━━━╇━━━━━━━━━━━━━━━━━━━━━━━━╇━━━━━━━━━━━━━━━┩\n",
       "│ lstm_input (\u001b[38;5;33mInputLayer\u001b[0m)         │ (\u001b[38;5;45mNone\u001b[0m, \u001b[38;5;45mNone\u001b[0m, \u001b[38;5;34m512\u001b[0m)      │             \u001b[38;5;34m0\u001b[0m │\n",
       "├─────────────────────────────────┼────────────────────────┼───────────────┤\n",
       "│ cast_9 (\u001b[38;5;33mCast\u001b[0m)                   │ (\u001b[38;5;45mNone\u001b[0m, \u001b[38;5;45mNone\u001b[0m, \u001b[38;5;34m512\u001b[0m)      │             \u001b[38;5;34m0\u001b[0m │\n",
       "├─────────────────────────────────┼────────────────────────┼───────────────┤\n",
       "│ bidirectional_8 (\u001b[38;5;33mBidirectional\u001b[0m) │ (\u001b[38;5;45mNone\u001b[0m, \u001b[38;5;45mNone\u001b[0m, \u001b[38;5;34m512\u001b[0m)      │     \u001b[38;5;34m1,574,912\u001b[0m │\n",
       "├─────────────────────────────────┼────────────────────────┼───────────────┤\n",
       "│ bidirectional_9 (\u001b[38;5;33mBidirectional\u001b[0m) │ (\u001b[38;5;45mNone\u001b[0m, \u001b[38;5;45mNone\u001b[0m, \u001b[38;5;34m256\u001b[0m)      │       \u001b[38;5;34m656,384\u001b[0m │\n",
       "├─────────────────────────────────┼────────────────────────┼───────────────┤\n",
       "│ attention_layer                 │ (\u001b[38;5;45mNone\u001b[0m, \u001b[38;5;34m256\u001b[0m)            │        \u001b[38;5;34m66,048\u001b[0m │\n",
       "│ (\u001b[38;5;33mAttentionLayer\u001b[0m)                │                        │               │\n",
       "├─────────────────────────────────┼────────────────────────┼───────────────┤\n",
       "│ batch_normalization_30          │ (\u001b[38;5;45mNone\u001b[0m, \u001b[38;5;34m256\u001b[0m)            │         \u001b[38;5;34m1,024\u001b[0m │\n",
       "│ (\u001b[38;5;33mBatchNormalization\u001b[0m)            │                        │               │\n",
       "├─────────────────────────────────┼────────────────────────┼───────────────┤\n",
       "│ dense_14 (\u001b[38;5;33mDense\u001b[0m)                │ (\u001b[38;5;45mNone\u001b[0m, \u001b[38;5;34m1\u001b[0m)              │           \u001b[38;5;34m257\u001b[0m │\n",
       "└─────────────────────────────────┴────────────────────────┴───────────────┘\n"
      ]
     },
     "metadata": {},
     "output_type": "display_data"
    },
    {
     "data": {
      "text/html": [
       "<pre style=\"white-space:pre;overflow-x:auto;line-height:normal;font-family:Menlo,'DejaVu Sans Mono',consolas,'Courier New',monospace\"><span style=\"font-weight: bold\"> Total params: </span><span style=\"color: #00af00; text-decoration-color: #00af00\">2,298,625</span> (8.77 MB)\n",
       "</pre>\n"
      ],
      "text/plain": [
       "\u001b[1m Total params: \u001b[0m\u001b[38;5;34m2,298,625\u001b[0m (8.77 MB)\n"
      ]
     },
     "metadata": {},
     "output_type": "display_data"
    },
    {
     "data": {
      "text/html": [
       "<pre style=\"white-space:pre;overflow-x:auto;line-height:normal;font-family:Menlo,'DejaVu Sans Mono',consolas,'Courier New',monospace\"><span style=\"font-weight: bold\"> Trainable params: </span><span style=\"color: #00af00; text-decoration-color: #00af00\">2,298,113</span> (8.77 MB)\n",
       "</pre>\n"
      ],
      "text/plain": [
       "\u001b[1m Trainable params: \u001b[0m\u001b[38;5;34m2,298,113\u001b[0m (8.77 MB)\n"
      ]
     },
     "metadata": {},
     "output_type": "display_data"
    },
    {
     "data": {
      "text/html": [
       "<pre style=\"white-space:pre;overflow-x:auto;line-height:normal;font-family:Menlo,'DejaVu Sans Mono',consolas,'Courier New',monospace\"><span style=\"font-weight: bold\"> Non-trainable params: </span><span style=\"color: #00af00; text-decoration-color: #00af00\">512</span> (2.00 KB)\n",
       "</pre>\n"
      ],
      "text/plain": [
       "\u001b[1m Non-trainable params: \u001b[0m\u001b[38;5;34m512\u001b[0m (2.00 KB)\n"
      ]
     },
     "metadata": {},
     "output_type": "display_data"
    }
   ],
   "source": [
    "# if __name__ == \"__main__\":\n",
    "#     real_faces = \"E:/Research/real/Cropped_Faces\"\n",
    "#     fake_faces = \"E:/Research/fake/Cropped_Faces\"\n",
    "    # real_data, fake_data = prepare_data(real_faces, \"\", fake_faces, \"\")\n",
    "    \n",
    "    # Build the Spatial and Temporal Models\n",
    "spatial_model, temporal_model = build_model(input_shape=(299, 299, 9))\n",
    "\n",
    "# x_train = x_train.astype('float32')\n",
    "# x_test = x_test.astype('float32')\n",
    "# y_test = y_test.astype('float32')\n",
    "# y_test = y_test.astype('float32')\n",
    "\n",
    "# spatial_model.summary()\n",
    "temporal_model.summary()\n"
   ]
  },
  {
   "cell_type": "code",
   "execution_count": 17,
   "metadata": {},
   "outputs": [
    {
     "name": "stdout",
     "output_type": "stream",
     "text": [
      "Extracting features from Xception (Spatial Model)...\n"
     ]
    },
    {
     "name": "stderr",
     "output_type": "stream",
     "text": [
      "c:\\Users\\G713QM-\\anaconda3\\Lib\\site-packages\\keras\\src\\trainers\\data_adapters\\py_dataset_adapter.py:121: UserWarning: Your `PyDataset` class should call `super().__init__(**kwargs)` in its constructor. `**kwargs` can include `workers`, `use_multiprocessing`, `max_queue_size`. Do not pass these arguments to `fit()`, as they will be ignored.\n",
      "  self._warn_if_super_not_called()\n"
     ]
    },
    {
     "name": "stdout",
     "output_type": "stream",
     "text": [
      "\u001b[1m500/500\u001b[0m \u001b[32m━━━━━━━━━━━━━━━━━━━━\u001b[0m\u001b[37m\u001b[0m \u001b[1m2209s\u001b[0m 4s/step\n",
      "\u001b[1m125/125\u001b[0m \u001b[32m━━━━━━━━━━━━━━━━━━━━\u001b[0m\u001b[37m\u001b[0m \u001b[1m550s\u001b[0m 4s/step\n",
      "Training Improved Temporal Model (LSTM)...\n",
      "Epoch 1/100\n",
      "\u001b[1m498/500\u001b[0m \u001b[32m━━━━━━━━━━━━━━━━━━━\u001b[0m\u001b[37m━\u001b[0m \u001b[1m0s\u001b[0m 23ms/step - accuracy: 0.5100 - loss: 0.6930\n",
      "Epoch 1: val_accuracy improved from -inf to 0.50175, saving model to best_model.h5\n"
     ]
    },
    {
     "name": "stderr",
     "output_type": "stream",
     "text": [
      "WARNING:absl:You are saving your model as an HDF5 file via `model.save()` or `keras.saving.save_model(model)`. This file format is considered legacy. We recommend using instead the native Keras format, e.g. `model.save('my_model.keras')` or `keras.saving.save_model(model, 'my_model.keras')`. \n"
     ]
    },
    {
     "name": "stdout",
     "output_type": "stream",
     "text": [
      "\u001b[1m500/500\u001b[0m \u001b[32m━━━━━━━━━━━━━━━━━━━━\u001b[0m\u001b[37m\u001b[0m \u001b[1m22s\u001b[0m 27ms/step - accuracy: 0.5100 - loss: 0.6930 - val_accuracy: 0.5017 - val_loss: 0.6928 - learning_rate: 1.0000e-04\n",
      "Epoch 2/100\n",
      "\u001b[1m499/500\u001b[0m \u001b[32m━━━━━━━━━━━━━━━━━━━\u001b[0m\u001b[37m━\u001b[0m \u001b[1m0s\u001b[0m 22ms/step - accuracy: 0.5733 - loss: 0.6913\n",
      "Epoch 2: val_accuracy improved from 0.50175 to 0.67525, saving model to best_model.h5\n"
     ]
    },
    {
     "name": "stderr",
     "output_type": "stream",
     "text": [
      "WARNING:absl:You are saving your model as an HDF5 file via `model.save()` or `keras.saving.save_model(model)`. This file format is considered legacy. We recommend using instead the native Keras format, e.g. `model.save('my_model.keras')` or `keras.saving.save_model(model, 'my_model.keras')`. \n"
     ]
    },
    {
     "name": "stdout",
     "output_type": "stream",
     "text": [
      "\u001b[1m500/500\u001b[0m \u001b[32m━━━━━━━━━━━━━━━━━━━━\u001b[0m\u001b[37m\u001b[0m \u001b[1m12s\u001b[0m 24ms/step - accuracy: 0.5733 - loss: 0.6913 - val_accuracy: 0.6752 - val_loss: 0.6841 - learning_rate: 1.0000e-04\n",
      "Epoch 3/100\n",
      "\u001b[1m499/500\u001b[0m \u001b[32m━━━━━━━━━━━━━━━━━━━\u001b[0m\u001b[37m━\u001b[0m \u001b[1m0s\u001b[0m 22ms/step - accuracy: 0.6666 - loss: 0.6775\n",
      "Epoch 3: val_accuracy did not improve from 0.67525\n",
      "\u001b[1m500/500\u001b[0m \u001b[32m━━━━━━━━━━━━━━━━━━━━\u001b[0m\u001b[37m\u001b[0m \u001b[1m12s\u001b[0m 23ms/step - accuracy: 0.6667 - loss: 0.6775 - val_accuracy: 0.6133 - val_loss: 0.6341 - learning_rate: 1.0000e-04\n",
      "Epoch 4/100\n",
      "\u001b[1m500/500\u001b[0m \u001b[32m━━━━━━━━━━━━━━━━━━━━\u001b[0m\u001b[37m\u001b[0m \u001b[1m0s\u001b[0m 22ms/step - accuracy: 0.7673 - loss: 0.6008\n",
      "Epoch 4: val_accuracy improved from 0.67525 to 0.70525, saving model to best_model.h5\n"
     ]
    },
    {
     "name": "stderr",
     "output_type": "stream",
     "text": [
      "WARNING:absl:You are saving your model as an HDF5 file via `model.save()` or `keras.saving.save_model(model)`. This file format is considered legacy. We recommend using instead the native Keras format, e.g. `model.save('my_model.keras')` or `keras.saving.save_model(model, 'my_model.keras')`. \n"
     ]
    },
    {
     "name": "stdout",
     "output_type": "stream",
     "text": [
      "\u001b[1m500/500\u001b[0m \u001b[32m━━━━━━━━━━━━━━━━━━━━\u001b[0m\u001b[37m\u001b[0m \u001b[1m12s\u001b[0m 24ms/step - accuracy: 0.7674 - loss: 0.6007 - val_accuracy: 0.7053 - val_loss: 0.5067 - learning_rate: 1.0000e-04\n",
      "Epoch 5/100\n",
      "\u001b[1m500/500\u001b[0m \u001b[32m━━━━━━━━━━━━━━━━━━━━\u001b[0m\u001b[37m\u001b[0m \u001b[1m0s\u001b[0m 23ms/step - accuracy: 0.8618 - loss: 0.4229\n",
      "Epoch 5: val_accuracy improved from 0.70525 to 0.77250, saving model to best_model.h5\n"
     ]
    },
    {
     "name": "stderr",
     "output_type": "stream",
     "text": [
      "WARNING:absl:You are saving your model as an HDF5 file via `model.save()` or `keras.saving.save_model(model)`. This file format is considered legacy. We recommend using instead the native Keras format, e.g. `model.save('my_model.keras')` or `keras.saving.save_model(model, 'my_model.keras')`. \n"
     ]
    },
    {
     "name": "stdout",
     "output_type": "stream",
     "text": [
      "\u001b[1m500/500\u001b[0m \u001b[32m━━━━━━━━━━━━━━━━━━━━\u001b[0m\u001b[37m\u001b[0m \u001b[1m12s\u001b[0m 25ms/step - accuracy: 0.8618 - loss: 0.4229 - val_accuracy: 0.7725 - val_loss: 0.4447 - learning_rate: 1.0000e-04\n",
      "Epoch 6/100\n",
      "\u001b[1m500/500\u001b[0m \u001b[32m━━━━━━━━━━━━━━━━━━━━\u001b[0m\u001b[37m\u001b[0m \u001b[1m0s\u001b[0m 23ms/step - accuracy: 0.8839 - loss: 0.3089\n",
      "Epoch 6: val_accuracy improved from 0.77250 to 0.91275, saving model to best_model.h5\n"
     ]
    },
    {
     "name": "stderr",
     "output_type": "stream",
     "text": [
      "WARNING:absl:You are saving your model as an HDF5 file via `model.save()` or `keras.saving.save_model(model)`. This file format is considered legacy. We recommend using instead the native Keras format, e.g. `model.save('my_model.keras')` or `keras.saving.save_model(model, 'my_model.keras')`. \n"
     ]
    },
    {
     "name": "stdout",
     "output_type": "stream",
     "text": [
      "\u001b[1m500/500\u001b[0m \u001b[32m━━━━━━━━━━━━━━━━━━━━\u001b[0m\u001b[37m\u001b[0m \u001b[1m12s\u001b[0m 24ms/step - accuracy: 0.8839 - loss: 0.3089 - val_accuracy: 0.9128 - val_loss: 0.2403 - learning_rate: 1.0000e-04\n",
      "Epoch 7/100\n",
      "\u001b[1m499/500\u001b[0m \u001b[32m━━━━━━━━━━━━━━━━━━━\u001b[0m\u001b[37m━\u001b[0m \u001b[1m0s\u001b[0m 22ms/step - accuracy: 0.8911 - loss: 0.2716\n",
      "Epoch 7: val_accuracy improved from 0.91275 to 0.91525, saving model to best_model.h5\n"
     ]
    },
    {
     "name": "stderr",
     "output_type": "stream",
     "text": [
      "WARNING:absl:You are saving your model as an HDF5 file via `model.save()` or `keras.saving.save_model(model)`. This file format is considered legacy. We recommend using instead the native Keras format, e.g. `model.save('my_model.keras')` or `keras.saving.save_model(model, 'my_model.keras')`. \n"
     ]
    },
    {
     "name": "stdout",
     "output_type": "stream",
     "text": [
      "\u001b[1m500/500\u001b[0m \u001b[32m━━━━━━━━━━━━━━━━━━━━\u001b[0m\u001b[37m\u001b[0m \u001b[1m12s\u001b[0m 23ms/step - accuracy: 0.8911 - loss: 0.2716 - val_accuracy: 0.9153 - val_loss: 0.2288 - learning_rate: 1.0000e-04\n",
      "Epoch 8/100\n",
      "\u001b[1m499/500\u001b[0m \u001b[32m━━━━━━━━━━━━━━━━━━━\u001b[0m\u001b[37m━\u001b[0m \u001b[1m0s\u001b[0m 22ms/step - accuracy: 0.8903 - loss: 0.2616\n",
      "Epoch 8: val_accuracy did not improve from 0.91525\n",
      "\u001b[1m500/500\u001b[0m \u001b[32m━━━━━━━━━━━━━━━━━━━━\u001b[0m\u001b[37m\u001b[0m \u001b[1m12s\u001b[0m 23ms/step - accuracy: 0.8903 - loss: 0.2616 - val_accuracy: 0.9105 - val_loss: 0.2275 - learning_rate: 1.0000e-04\n",
      "Epoch 9/100\n",
      "\u001b[1m498/500\u001b[0m \u001b[32m━━━━━━━━━━━━━━━━━━━\u001b[0m\u001b[37m━\u001b[0m \u001b[1m0s\u001b[0m 25ms/step - accuracy: 0.8996 - loss: 0.2568\n",
      "Epoch 9: val_accuracy did not improve from 0.91525\n",
      "\u001b[1m500/500\u001b[0m \u001b[32m━━━━━━━━━━━━━━━━━━━━\u001b[0m\u001b[37m\u001b[0m \u001b[1m13s\u001b[0m 26ms/step - accuracy: 0.8996 - loss: 0.2568 - val_accuracy: 0.9100 - val_loss: 0.2239 - learning_rate: 1.0000e-04\n",
      "Epoch 10/100\n",
      "\u001b[1m499/500\u001b[0m \u001b[32m━━━━━━━━━━━━━━━━━━━\u001b[0m\u001b[37m━\u001b[0m \u001b[1m0s\u001b[0m 22ms/step - accuracy: 0.8951 - loss: 0.2544\n",
      "Epoch 10: val_accuracy improved from 0.91525 to 0.92450, saving model to best_model.h5\n"
     ]
    },
    {
     "name": "stderr",
     "output_type": "stream",
     "text": [
      "WARNING:absl:You are saving your model as an HDF5 file via `model.save()` or `keras.saving.save_model(model)`. This file format is considered legacy. We recommend using instead the native Keras format, e.g. `model.save('my_model.keras')` or `keras.saving.save_model(model, 'my_model.keras')`. \n"
     ]
    },
    {
     "name": "stdout",
     "output_type": "stream",
     "text": [
      "\u001b[1m500/500\u001b[0m \u001b[32m━━━━━━━━━━━━━━━━━━━━\u001b[0m\u001b[37m\u001b[0m \u001b[1m12s\u001b[0m 24ms/step - accuracy: 0.8951 - loss: 0.2544 - val_accuracy: 0.9245 - val_loss: 0.2061 - learning_rate: 1.0000e-04\n",
      "Epoch 11/100\n",
      "\u001b[1m500/500\u001b[0m \u001b[32m━━━━━━━━━━━━━━━━━━━━\u001b[0m\u001b[37m\u001b[0m \u001b[1m0s\u001b[0m 22ms/step - accuracy: 0.9017 - loss: 0.2497\n",
      "Epoch 11: val_accuracy did not improve from 0.92450\n",
      "\u001b[1m500/500\u001b[0m \u001b[32m━━━━━━━━━━━━━━━━━━━━\u001b[0m\u001b[37m\u001b[0m \u001b[1m11s\u001b[0m 23ms/step - accuracy: 0.9017 - loss: 0.2497 - val_accuracy: 0.9245 - val_loss: 0.2034 - learning_rate: 1.0000e-04\n",
      "Epoch 12/100\n",
      "\u001b[1m498/500\u001b[0m \u001b[32m━━━━━━━━━━━━━━━━━━━\u001b[0m\u001b[37m━\u001b[0m \u001b[1m0s\u001b[0m 21ms/step - accuracy: 0.9055 - loss: 0.2387\n",
      "Epoch 12: val_accuracy improved from 0.92450 to 0.92700, saving model to best_model.h5\n"
     ]
    },
    {
     "name": "stderr",
     "output_type": "stream",
     "text": [
      "WARNING:absl:You are saving your model as an HDF5 file via `model.save()` or `keras.saving.save_model(model)`. This file format is considered legacy. We recommend using instead the native Keras format, e.g. `model.save('my_model.keras')` or `keras.saving.save_model(model, 'my_model.keras')`. \n"
     ]
    },
    {
     "name": "stdout",
     "output_type": "stream",
     "text": [
      "\u001b[1m500/500\u001b[0m \u001b[32m━━━━━━━━━━━━━━━━━━━━\u001b[0m\u001b[37m\u001b[0m \u001b[1m11s\u001b[0m 23ms/step - accuracy: 0.9054 - loss: 0.2387 - val_accuracy: 0.9270 - val_loss: 0.2005 - learning_rate: 1.0000e-04\n",
      "Epoch 13/100\n",
      "\u001b[1m499/500\u001b[0m \u001b[32m━━━━━━━━━━━━━━━━━━━\u001b[0m\u001b[37m━\u001b[0m \u001b[1m0s\u001b[0m 22ms/step - accuracy: 0.9054 - loss: 0.2420\n",
      "Epoch 13: val_accuracy did not improve from 0.92700\n",
      "\u001b[1m500/500\u001b[0m \u001b[32m━━━━━━━━━━━━━━━━━━━━\u001b[0m\u001b[37m\u001b[0m \u001b[1m11s\u001b[0m 23ms/step - accuracy: 0.9054 - loss: 0.2420 - val_accuracy: 0.9262 - val_loss: 0.2061 - learning_rate: 1.0000e-04\n",
      "Epoch 14/100\n",
      "\u001b[1m499/500\u001b[0m \u001b[32m━━━━━━━━━━━━━━━━━━━\u001b[0m\u001b[37m━\u001b[0m \u001b[1m0s\u001b[0m 22ms/step - accuracy: 0.8954 - loss: 0.2519\n",
      "Epoch 14: val_accuracy did not improve from 0.92700\n",
      "\u001b[1m500/500\u001b[0m \u001b[32m━━━━━━━━━━━━━━━━━━━━\u001b[0m\u001b[37m\u001b[0m \u001b[1m11s\u001b[0m 23ms/step - accuracy: 0.8954 - loss: 0.2519 - val_accuracy: 0.9180 - val_loss: 0.2089 - learning_rate: 1.0000e-04\n",
      "Epoch 15/100\n",
      "\u001b[1m498/500\u001b[0m \u001b[32m━━━━━━━━━━━━━━━━━━━\u001b[0m\u001b[37m━\u001b[0m \u001b[1m0s\u001b[0m 22ms/step - accuracy: 0.9059 - loss: 0.2340\n",
      "Epoch 15: val_accuracy did not improve from 0.92700\n",
      "\u001b[1m500/500\u001b[0m \u001b[32m━━━━━━━━━━━━━━━━━━━━\u001b[0m\u001b[37m\u001b[0m \u001b[1m11s\u001b[0m 23ms/step - accuracy: 0.9059 - loss: 0.2340 - val_accuracy: 0.8988 - val_loss: 0.2354 - learning_rate: 1.0000e-04\n",
      "Epoch 16/100\n",
      "\u001b[1m498/500\u001b[0m \u001b[32m━━━━━━━━━━━━━━━━━━━\u001b[0m\u001b[37m━\u001b[0m \u001b[1m0s\u001b[0m 22ms/step - accuracy: 0.8993 - loss: 0.2416\n",
      "Epoch 16: val_accuracy improved from 0.92700 to 0.92950, saving model to best_model.h5\n"
     ]
    },
    {
     "name": "stderr",
     "output_type": "stream",
     "text": [
      "WARNING:absl:You are saving your model as an HDF5 file via `model.save()` or `keras.saving.save_model(model)`. This file format is considered legacy. We recommend using instead the native Keras format, e.g. `model.save('my_model.keras')` or `keras.saving.save_model(model, 'my_model.keras')`. \n"
     ]
    },
    {
     "name": "stdout",
     "output_type": "stream",
     "text": [
      "\u001b[1m500/500\u001b[0m \u001b[32m━━━━━━━━━━━━━━━━━━━━\u001b[0m\u001b[37m\u001b[0m \u001b[1m12s\u001b[0m 23ms/step - accuracy: 0.8994 - loss: 0.2416 - val_accuracy: 0.9295 - val_loss: 0.1911 - learning_rate: 1.0000e-04\n",
      "Epoch 17/100\n",
      "\u001b[1m498/500\u001b[0m \u001b[32m━━━━━━━━━━━━━━━━━━━\u001b[0m\u001b[37m━\u001b[0m \u001b[1m0s\u001b[0m 22ms/step - accuracy: 0.9041 - loss: 0.2340\n",
      "Epoch 17: val_accuracy improved from 0.92950 to 0.93225, saving model to best_model.h5\n"
     ]
    },
    {
     "name": "stderr",
     "output_type": "stream",
     "text": [
      "WARNING:absl:You are saving your model as an HDF5 file via `model.save()` or `keras.saving.save_model(model)`. This file format is considered legacy. We recommend using instead the native Keras format, e.g. `model.save('my_model.keras')` or `keras.saving.save_model(model, 'my_model.keras')`. \n"
     ]
    },
    {
     "name": "stdout",
     "output_type": "stream",
     "text": [
      "\u001b[1m500/500\u001b[0m \u001b[32m━━━━━━━━━━━━━━━━━━━━\u001b[0m\u001b[37m\u001b[0m \u001b[1m12s\u001b[0m 23ms/step - accuracy: 0.9041 - loss: 0.2340 - val_accuracy: 0.9323 - val_loss: 0.1888 - learning_rate: 1.0000e-04\n",
      "Epoch 18/100\n",
      "\u001b[1m500/500\u001b[0m \u001b[32m━━━━━━━━━━━━━━━━━━━━\u001b[0m\u001b[37m\u001b[0m \u001b[1m0s\u001b[0m 22ms/step - accuracy: 0.9069 - loss: 0.2415\n",
      "Epoch 18: val_accuracy did not improve from 0.93225\n",
      "\u001b[1m500/500\u001b[0m \u001b[32m━━━━━━━━━━━━━━━━━━━━\u001b[0m\u001b[37m\u001b[0m \u001b[1m12s\u001b[0m 23ms/step - accuracy: 0.9069 - loss: 0.2415 - val_accuracy: 0.9247 - val_loss: 0.1946 - learning_rate: 1.0000e-04\n",
      "Epoch 19/100\n",
      "\u001b[1m498/500\u001b[0m \u001b[32m━━━━━━━━━━━━━━━━━━━\u001b[0m\u001b[37m━\u001b[0m \u001b[1m0s\u001b[0m 22ms/step - accuracy: 0.9099 - loss: 0.2274\n",
      "Epoch 19: val_accuracy improved from 0.93225 to 0.93325, saving model to best_model.h5\n"
     ]
    },
    {
     "name": "stderr",
     "output_type": "stream",
     "text": [
      "WARNING:absl:You are saving your model as an HDF5 file via `model.save()` or `keras.saving.save_model(model)`. This file format is considered legacy. We recommend using instead the native Keras format, e.g. `model.save('my_model.keras')` or `keras.saving.save_model(model, 'my_model.keras')`. \n"
     ]
    },
    {
     "name": "stdout",
     "output_type": "stream",
     "text": [
      "\u001b[1m500/500\u001b[0m \u001b[32m━━━━━━━━━━━━━━━━━━━━\u001b[0m\u001b[37m\u001b[0m \u001b[1m12s\u001b[0m 23ms/step - accuracy: 0.9099 - loss: 0.2274 - val_accuracy: 0.9333 - val_loss: 0.1868 - learning_rate: 1.0000e-04\n",
      "Epoch 20/100\n",
      "\u001b[1m500/500\u001b[0m \u001b[32m━━━━━━━━━━━━━━━━━━━━\u001b[0m\u001b[37m\u001b[0m \u001b[1m0s\u001b[0m 22ms/step - accuracy: 0.9116 - loss: 0.2251\n",
      "Epoch 20: val_accuracy did not improve from 0.93325\n",
      "\u001b[1m500/500\u001b[0m \u001b[32m━━━━━━━━━━━━━━━━━━━━\u001b[0m\u001b[37m\u001b[0m \u001b[1m12s\u001b[0m 23ms/step - accuracy: 0.9116 - loss: 0.2251 - val_accuracy: 0.9323 - val_loss: 0.1938 - learning_rate: 1.0000e-04\n",
      "Epoch 21/100\n",
      "\u001b[1m498/500\u001b[0m \u001b[32m━━━━━━━━━━━━━━━━━━━\u001b[0m\u001b[37m━\u001b[0m \u001b[1m0s\u001b[0m 21ms/step - accuracy: 0.9079 - loss: 0.2308\n",
      "Epoch 21: val_accuracy improved from 0.93325 to 0.93650, saving model to best_model.h5\n"
     ]
    },
    {
     "name": "stderr",
     "output_type": "stream",
     "text": [
      "WARNING:absl:You are saving your model as an HDF5 file via `model.save()` or `keras.saving.save_model(model)`. This file format is considered legacy. We recommend using instead the native Keras format, e.g. `model.save('my_model.keras')` or `keras.saving.save_model(model, 'my_model.keras')`. \n"
     ]
    },
    {
     "name": "stdout",
     "output_type": "stream",
     "text": [
      "\u001b[1m500/500\u001b[0m \u001b[32m━━━━━━━━━━━━━━━━━━━━\u001b[0m\u001b[37m\u001b[0m \u001b[1m11s\u001b[0m 23ms/step - accuracy: 0.9079 - loss: 0.2307 - val_accuracy: 0.9365 - val_loss: 0.1809 - learning_rate: 1.0000e-04\n",
      "Epoch 22/100\n",
      "\u001b[1m499/500\u001b[0m \u001b[32m━━━━━━━━━━━━━━━━━━━\u001b[0m\u001b[37m━\u001b[0m \u001b[1m0s\u001b[0m 22ms/step - accuracy: 0.9084 - loss: 0.2232\n",
      "Epoch 22: val_accuracy did not improve from 0.93650\n",
      "\u001b[1m500/500\u001b[0m \u001b[32m━━━━━━━━━━━━━━━━━━━━\u001b[0m\u001b[37m\u001b[0m \u001b[1m11s\u001b[0m 23ms/step - accuracy: 0.9084 - loss: 0.2232 - val_accuracy: 0.9365 - val_loss: 0.1773 - learning_rate: 1.0000e-04\n",
      "Epoch 23/100\n",
      "\u001b[1m500/500\u001b[0m \u001b[32m━━━━━━━━━━━━━━━━━━━━\u001b[0m\u001b[37m\u001b[0m \u001b[1m0s\u001b[0m 22ms/step - accuracy: 0.9132 - loss: 0.2209\n",
      "Epoch 23: val_accuracy did not improve from 0.93650\n",
      "\u001b[1m500/500\u001b[0m \u001b[32m━━━━━━━━━━━━━━━━━━━━\u001b[0m\u001b[37m\u001b[0m \u001b[1m12s\u001b[0m 23ms/step - accuracy: 0.9132 - loss: 0.2210 - val_accuracy: 0.9233 - val_loss: 0.1936 - learning_rate: 1.0000e-04\n",
      "Epoch 24/100\n",
      "\u001b[1m499/500\u001b[0m \u001b[32m━━━━━━━━━━━━━━━━━━━\u001b[0m\u001b[37m━\u001b[0m \u001b[1m0s\u001b[0m 22ms/step - accuracy: 0.9131 - loss: 0.2180\n",
      "Epoch 24: val_accuracy did not improve from 0.93650\n",
      "\u001b[1m500/500\u001b[0m \u001b[32m━━━━━━━━━━━━━━━━━━━━\u001b[0m\u001b[37m\u001b[0m \u001b[1m12s\u001b[0m 23ms/step - accuracy: 0.9131 - loss: 0.2180 - val_accuracy: 0.9337 - val_loss: 0.1751 - learning_rate: 1.0000e-04\n",
      "Epoch 25/100\n",
      "\u001b[1m498/500\u001b[0m \u001b[32m━━━━━━━━━━━━━━━━━━━\u001b[0m\u001b[37m━\u001b[0m \u001b[1m0s\u001b[0m 22ms/step - accuracy: 0.9140 - loss: 0.2210\n",
      "Epoch 25: val_accuracy did not improve from 0.93650\n",
      "\u001b[1m500/500\u001b[0m \u001b[32m━━━━━━━━━━━━━━━━━━━━\u001b[0m\u001b[37m\u001b[0m \u001b[1m12s\u001b[0m 23ms/step - accuracy: 0.9140 - loss: 0.2209 - val_accuracy: 0.9095 - val_loss: 0.2165 - learning_rate: 1.0000e-04\n",
      "Epoch 26/100\n",
      "\u001b[1m500/500\u001b[0m \u001b[32m━━━━━━━━━━━━━━━━━━━━\u001b[0m\u001b[37m\u001b[0m \u001b[1m0s\u001b[0m 22ms/step - accuracy: 0.9160 - loss: 0.2109\n",
      "Epoch 26: val_accuracy did not improve from 0.93650\n",
      "\u001b[1m500/500\u001b[0m \u001b[32m━━━━━━━━━━━━━━━━━━━━\u001b[0m\u001b[37m\u001b[0m \u001b[1m12s\u001b[0m 23ms/step - accuracy: 0.9160 - loss: 0.2109 - val_accuracy: 0.9350 - val_loss: 0.1723 - learning_rate: 1.0000e-04\n",
      "Epoch 27/100\n",
      "\u001b[1m500/500\u001b[0m \u001b[32m━━━━━━━━━━━━━━━━━━━━\u001b[0m\u001b[37m\u001b[0m \u001b[1m0s\u001b[0m 22ms/step - accuracy: 0.9153 - loss: 0.2201\n",
      "Epoch 27: val_accuracy did not improve from 0.93650\n",
      "\u001b[1m500/500\u001b[0m \u001b[32m━━━━━━━━━━━━━━━━━━━━\u001b[0m\u001b[37m\u001b[0m \u001b[1m12s\u001b[0m 23ms/step - accuracy: 0.9153 - loss: 0.2201 - val_accuracy: 0.9365 - val_loss: 0.1685 - learning_rate: 1.0000e-04\n",
      "Epoch 28/100\n",
      "\u001b[1m498/500\u001b[0m \u001b[32m━━━━━━━━━━━━━━━━━━━\u001b[0m\u001b[37m━\u001b[0m \u001b[1m0s\u001b[0m 22ms/step - accuracy: 0.9171 - loss: 0.2145\n",
      "Epoch 28: val_accuracy improved from 0.93650 to 0.94275, saving model to best_model.h5\n"
     ]
    },
    {
     "name": "stderr",
     "output_type": "stream",
     "text": [
      "WARNING:absl:You are saving your model as an HDF5 file via `model.save()` or `keras.saving.save_model(model)`. This file format is considered legacy. We recommend using instead the native Keras format, e.g. `model.save('my_model.keras')` or `keras.saving.save_model(model, 'my_model.keras')`. \n"
     ]
    },
    {
     "name": "stdout",
     "output_type": "stream",
     "text": [
      "\u001b[1m500/500\u001b[0m \u001b[32m━━━━━━━━━━━━━━━━━━━━\u001b[0m\u001b[37m\u001b[0m \u001b[1m12s\u001b[0m 23ms/step - accuracy: 0.9171 - loss: 0.2145 - val_accuracy: 0.9427 - val_loss: 0.1687 - learning_rate: 1.0000e-04\n",
      "Epoch 29/100\n",
      "\u001b[1m498/500\u001b[0m \u001b[32m━━━━━━━━━━━━━━━━━━━\u001b[0m\u001b[37m━\u001b[0m \u001b[1m0s\u001b[0m 21ms/step - accuracy: 0.9171 - loss: 0.2126\n",
      "Epoch 29: val_accuracy did not improve from 0.94275\n",
      "\u001b[1m500/500\u001b[0m \u001b[32m━━━━━━━━━━━━━━━━━━━━\u001b[0m\u001b[37m\u001b[0m \u001b[1m11s\u001b[0m 23ms/step - accuracy: 0.9171 - loss: 0.2126 - val_accuracy: 0.9190 - val_loss: 0.1985 - learning_rate: 1.0000e-04\n",
      "Epoch 30/100\n",
      "\u001b[1m498/500\u001b[0m \u001b[32m━━━━━━━━━━━━━━━━━━━\u001b[0m\u001b[37m━\u001b[0m \u001b[1m0s\u001b[0m 21ms/step - accuracy: 0.9152 - loss: 0.2124\n",
      "Epoch 30: val_accuracy did not improve from 0.94275\n",
      "\u001b[1m500/500\u001b[0m \u001b[32m━━━━━━━━━━━━━━━━━━━━\u001b[0m\u001b[37m\u001b[0m \u001b[1m11s\u001b[0m 23ms/step - accuracy: 0.9153 - loss: 0.2124 - val_accuracy: 0.9427 - val_loss: 0.1598 - learning_rate: 1.0000e-04\n",
      "Epoch 31/100\n",
      "\u001b[1m500/500\u001b[0m \u001b[32m━━━━━━━━━━━━━━━━━━━━\u001b[0m\u001b[37m\u001b[0m \u001b[1m0s\u001b[0m 21ms/step - accuracy: 0.9144 - loss: 0.2082\n",
      "Epoch 31: val_accuracy did not improve from 0.94275\n",
      "\u001b[1m500/500\u001b[0m \u001b[32m━━━━━━━━━━━━━━━━━━━━\u001b[0m\u001b[37m\u001b[0m \u001b[1m11s\u001b[0m 22ms/step - accuracy: 0.9144 - loss: 0.2082 - val_accuracy: 0.9323 - val_loss: 0.1707 - learning_rate: 1.0000e-04\n",
      "Epoch 32/100\n",
      "\u001b[1m498/500\u001b[0m \u001b[32m━━━━━━━━━━━━━━━━━━━\u001b[0m\u001b[37m━\u001b[0m \u001b[1m0s\u001b[0m 22ms/step - accuracy: 0.9189 - loss: 0.2044\n",
      "Epoch 32: val_accuracy improved from 0.94275 to 0.94675, saving model to best_model.h5\n"
     ]
    },
    {
     "name": "stderr",
     "output_type": "stream",
     "text": [
      "WARNING:absl:You are saving your model as an HDF5 file via `model.save()` or `keras.saving.save_model(model)`. This file format is considered legacy. We recommend using instead the native Keras format, e.g. `model.save('my_model.keras')` or `keras.saving.save_model(model, 'my_model.keras')`. \n"
     ]
    },
    {
     "name": "stdout",
     "output_type": "stream",
     "text": [
      "\u001b[1m500/500\u001b[0m \u001b[32m━━━━━━━━━━━━━━━━━━━━\u001b[0m\u001b[37m\u001b[0m \u001b[1m11s\u001b[0m 23ms/step - accuracy: 0.9189 - loss: 0.2044 - val_accuracy: 0.9467 - val_loss: 0.1564 - learning_rate: 1.0000e-04\n",
      "Epoch 33/100\n",
      "\u001b[1m499/500\u001b[0m \u001b[32m━━━━━━━━━━━━━━━━━━━\u001b[0m\u001b[37m━\u001b[0m \u001b[1m0s\u001b[0m 22ms/step - accuracy: 0.9184 - loss: 0.2055\n",
      "Epoch 33: val_accuracy did not improve from 0.94675\n",
      "\u001b[1m500/500\u001b[0m \u001b[32m━━━━━━━━━━━━━━━━━━━━\u001b[0m\u001b[37m\u001b[0m \u001b[1m12s\u001b[0m 24ms/step - accuracy: 0.9184 - loss: 0.2055 - val_accuracy: 0.9445 - val_loss: 0.1538 - learning_rate: 1.0000e-04\n",
      "Epoch 34/100\n",
      "\u001b[1m498/500\u001b[0m \u001b[32m━━━━━━━━━━━━━━━━━━━\u001b[0m\u001b[37m━\u001b[0m \u001b[1m0s\u001b[0m 23ms/step - accuracy: 0.9276 - loss: 0.1906\n",
      "Epoch 34: val_accuracy improved from 0.94675 to 0.95000, saving model to best_model.h5\n"
     ]
    },
    {
     "name": "stderr",
     "output_type": "stream",
     "text": [
      "WARNING:absl:You are saving your model as an HDF5 file via `model.save()` or `keras.saving.save_model(model)`. This file format is considered legacy. We recommend using instead the native Keras format, e.g. `model.save('my_model.keras')` or `keras.saving.save_model(model, 'my_model.keras')`. \n"
     ]
    },
    {
     "name": "stdout",
     "output_type": "stream",
     "text": [
      "\u001b[1m500/500\u001b[0m \u001b[32m━━━━━━━━━━━━━━━━━━━━\u001b[0m\u001b[37m\u001b[0m \u001b[1m12s\u001b[0m 24ms/step - accuracy: 0.9276 - loss: 0.1907 - val_accuracy: 0.9500 - val_loss: 0.1524 - learning_rate: 1.0000e-04\n",
      "Epoch 35/100\n",
      "\u001b[1m499/500\u001b[0m \u001b[32m━━━━━━━━━━━━━━━━━━━\u001b[0m\u001b[37m━\u001b[0m \u001b[1m0s\u001b[0m 22ms/step - accuracy: 0.9223 - loss: 0.1978\n",
      "Epoch 35: val_accuracy did not improve from 0.95000\n",
      "\u001b[1m500/500\u001b[0m \u001b[32m━━━━━━━━━━━━━━━━━━━━\u001b[0m\u001b[37m\u001b[0m \u001b[1m12s\u001b[0m 23ms/step - accuracy: 0.9223 - loss: 0.1977 - val_accuracy: 0.9470 - val_loss: 0.1477 - learning_rate: 1.0000e-04\n",
      "Epoch 36/100\n",
      "\u001b[1m500/500\u001b[0m \u001b[32m━━━━━━━━━━━━━━━━━━━━\u001b[0m\u001b[37m\u001b[0m \u001b[1m0s\u001b[0m 22ms/step - accuracy: 0.9227 - loss: 0.1911\n",
      "Epoch 36: val_accuracy did not improve from 0.95000\n",
      "\u001b[1m500/500\u001b[0m \u001b[32m━━━━━━━━━━━━━━━━━━━━\u001b[0m\u001b[37m\u001b[0m \u001b[1m12s\u001b[0m 23ms/step - accuracy: 0.9227 - loss: 0.1911 - val_accuracy: 0.9477 - val_loss: 0.1456 - learning_rate: 1.0000e-04\n",
      "Epoch 37/100\n",
      "\u001b[1m499/500\u001b[0m \u001b[32m━━━━━━━━━━━━━━━━━━━\u001b[0m\u001b[37m━\u001b[0m \u001b[1m0s\u001b[0m 22ms/step - accuracy: 0.9274 - loss: 0.1910\n",
      "Epoch 37: val_accuracy did not improve from 0.95000\n",
      "\u001b[1m500/500\u001b[0m \u001b[32m━━━━━━━━━━━━━━━━━━━━\u001b[0m\u001b[37m\u001b[0m \u001b[1m11s\u001b[0m 23ms/step - accuracy: 0.9274 - loss: 0.1910 - val_accuracy: 0.9492 - val_loss: 0.1435 - learning_rate: 1.0000e-04\n",
      "Epoch 38/100\n",
      "\u001b[1m498/500\u001b[0m \u001b[32m━━━━━━━━━━━━━━━━━━━\u001b[0m\u001b[37m━\u001b[0m \u001b[1m0s\u001b[0m 22ms/step - accuracy: 0.9266 - loss: 0.1908\n",
      "Epoch 38: val_accuracy did not improve from 0.95000\n",
      "\u001b[1m500/500\u001b[0m \u001b[32m━━━━━━━━━━━━━━━━━━━━\u001b[0m\u001b[37m\u001b[0m \u001b[1m12s\u001b[0m 23ms/step - accuracy: 0.9266 - loss: 0.1908 - val_accuracy: 0.9430 - val_loss: 0.1518 - learning_rate: 1.0000e-04\n",
      "Epoch 39/100\n",
      "\u001b[1m499/500\u001b[0m \u001b[32m━━━━━━━━━━━━━━━━━━━\u001b[0m\u001b[37m━\u001b[0m \u001b[1m0s\u001b[0m 22ms/step - accuracy: 0.9320 - loss: 0.1849\n",
      "Epoch 39: val_accuracy did not improve from 0.95000\n",
      "\u001b[1m500/500\u001b[0m \u001b[32m━━━━━━━━━━━━━━━━━━━━\u001b[0m\u001b[37m\u001b[0m \u001b[1m12s\u001b[0m 23ms/step - accuracy: 0.9320 - loss: 0.1849 - val_accuracy: 0.9455 - val_loss: 0.1478 - learning_rate: 1.0000e-04\n",
      "Epoch 40/100\n",
      "\u001b[1m499/500\u001b[0m \u001b[32m━━━━━━━━━━━━━━━━━━━\u001b[0m\u001b[37m━\u001b[0m \u001b[1m0s\u001b[0m 22ms/step - accuracy: 0.9303 - loss: 0.1810\n",
      "Epoch 40: val_accuracy improved from 0.95000 to 0.95475, saving model to best_model.h5\n"
     ]
    },
    {
     "name": "stderr",
     "output_type": "stream",
     "text": [
      "WARNING:absl:You are saving your model as an HDF5 file via `model.save()` or `keras.saving.save_model(model)`. This file format is considered legacy. We recommend using instead the native Keras format, e.g. `model.save('my_model.keras')` or `keras.saving.save_model(model, 'my_model.keras')`. \n"
     ]
    },
    {
     "name": "stdout",
     "output_type": "stream",
     "text": [
      "\u001b[1m500/500\u001b[0m \u001b[32m━━━━━━━━━━━━━━━━━━━━\u001b[0m\u001b[37m\u001b[0m \u001b[1m12s\u001b[0m 23ms/step - accuracy: 0.9303 - loss: 0.1810 - val_accuracy: 0.9548 - val_loss: 0.1427 - learning_rate: 1.0000e-04\n",
      "Epoch 41/100\n",
      "\u001b[1m500/500\u001b[0m \u001b[32m━━━━━━━━━━━━━━━━━━━━\u001b[0m\u001b[37m\u001b[0m \u001b[1m0s\u001b[0m 21ms/step - accuracy: 0.9258 - loss: 0.1902\n",
      "Epoch 41: val_accuracy did not improve from 0.95475\n",
      "\u001b[1m500/500\u001b[0m \u001b[32m━━━━━━━━━━━━━━━━━━━━\u001b[0m\u001b[37m\u001b[0m \u001b[1m11s\u001b[0m 23ms/step - accuracy: 0.9258 - loss: 0.1902 - val_accuracy: 0.9247 - val_loss: 0.1906 - learning_rate: 1.0000e-04\n",
      "Epoch 42/100\n",
      "\u001b[1m499/500\u001b[0m \u001b[32m━━━━━━━━━━━━━━━━━━━\u001b[0m\u001b[37m━\u001b[0m \u001b[1m0s\u001b[0m 22ms/step - accuracy: 0.9345 - loss: 0.1781\n",
      "Epoch 42: val_accuracy did not improve from 0.95475\n",
      "\u001b[1m500/500\u001b[0m \u001b[32m━━━━━━━━━━━━━━━━━━━━\u001b[0m\u001b[37m\u001b[0m \u001b[1m12s\u001b[0m 24ms/step - accuracy: 0.9345 - loss: 0.1781 - val_accuracy: 0.9438 - val_loss: 0.1646 - learning_rate: 1.0000e-04\n",
      "Epoch 43/100\n",
      "\u001b[1m500/500\u001b[0m \u001b[32m━━━━━━━━━━━━━━━━━━━━\u001b[0m\u001b[37m\u001b[0m \u001b[1m0s\u001b[0m 23ms/step - accuracy: 0.9318 - loss: 0.1796\n",
      "Epoch 43: val_accuracy did not improve from 0.95475\n",
      "\u001b[1m500/500\u001b[0m \u001b[32m━━━━━━━━━━━━━━━━━━━━\u001b[0m\u001b[37m\u001b[0m \u001b[1m12s\u001b[0m 24ms/step - accuracy: 0.9318 - loss: 0.1797 - val_accuracy: 0.9517 - val_loss: 0.1381 - learning_rate: 1.0000e-04\n",
      "Epoch 44/100\n",
      "\u001b[1m498/500\u001b[0m \u001b[32m━━━━━━━━━━━━━━━━━━━\u001b[0m\u001b[37m━\u001b[0m \u001b[1m0s\u001b[0m 23ms/step - accuracy: 0.9320 - loss: 0.1803\n",
      "Epoch 44: val_accuracy did not improve from 0.95475\n",
      "\u001b[1m500/500\u001b[0m \u001b[32m━━━━━━━━━━━━━━━━━━━━\u001b[0m\u001b[37m\u001b[0m \u001b[1m12s\u001b[0m 24ms/step - accuracy: 0.9320 - loss: 0.1803 - val_accuracy: 0.9525 - val_loss: 0.1358 - learning_rate: 1.0000e-04\n",
      "Epoch 45/100\n",
      "\u001b[1m500/500\u001b[0m \u001b[32m━━━━━━━━━━━━━━━━━━━━\u001b[0m\u001b[37m\u001b[0m \u001b[1m0s\u001b[0m 24ms/step - accuracy: 0.9379 - loss: 0.1643\n",
      "Epoch 45: val_accuracy did not improve from 0.95475\n",
      "\u001b[1m500/500\u001b[0m \u001b[32m━━━━━━━━━━━━━━━━━━━━\u001b[0m\u001b[37m\u001b[0m \u001b[1m13s\u001b[0m 25ms/step - accuracy: 0.9379 - loss: 0.1643 - val_accuracy: 0.9492 - val_loss: 0.1437 - learning_rate: 1.0000e-04\n",
      "Epoch 46/100\n",
      "\u001b[1m500/500\u001b[0m \u001b[32m━━━━━━━━━━━━━━━━━━━━\u001b[0m\u001b[37m\u001b[0m \u001b[1m0s\u001b[0m 24ms/step - accuracy: 0.9348 - loss: 0.1751\n",
      "Epoch 46: val_accuracy improved from 0.95475 to 0.95775, saving model to best_model.h5\n"
     ]
    },
    {
     "name": "stderr",
     "output_type": "stream",
     "text": [
      "WARNING:absl:You are saving your model as an HDF5 file via `model.save()` or `keras.saving.save_model(model)`. This file format is considered legacy. We recommend using instead the native Keras format, e.g. `model.save('my_model.keras')` or `keras.saving.save_model(model, 'my_model.keras')`. \n"
     ]
    },
    {
     "name": "stdout",
     "output_type": "stream",
     "text": [
      "\u001b[1m500/500\u001b[0m \u001b[32m━━━━━━━━━━━━━━━━━━━━\u001b[0m\u001b[37m\u001b[0m \u001b[1m13s\u001b[0m 26ms/step - accuracy: 0.9348 - loss: 0.1751 - val_accuracy: 0.9578 - val_loss: 0.1212 - learning_rate: 1.0000e-04\n",
      "Epoch 47/100\n",
      "\u001b[1m498/500\u001b[0m \u001b[32m━━━━━━━━━━━━━━━━━━━\u001b[0m\u001b[37m━\u001b[0m \u001b[1m0s\u001b[0m 26ms/step - accuracy: 0.9321 - loss: 0.1764\n",
      "Epoch 47: val_accuracy improved from 0.95775 to 0.96050, saving model to best_model.h5\n"
     ]
    },
    {
     "name": "stderr",
     "output_type": "stream",
     "text": [
      "WARNING:absl:You are saving your model as an HDF5 file via `model.save()` or `keras.saving.save_model(model)`. This file format is considered legacy. We recommend using instead the native Keras format, e.g. `model.save('my_model.keras')` or `keras.saving.save_model(model, 'my_model.keras')`. \n"
     ]
    },
    {
     "name": "stdout",
     "output_type": "stream",
     "text": [
      "\u001b[1m500/500\u001b[0m \u001b[32m━━━━━━━━━━━━━━━━━━━━\u001b[0m\u001b[37m\u001b[0m \u001b[1m14s\u001b[0m 27ms/step - accuracy: 0.9322 - loss: 0.1764 - val_accuracy: 0.9605 - val_loss: 0.1239 - learning_rate: 1.0000e-04\n",
      "Epoch 48/100\n",
      "\u001b[1m499/500\u001b[0m \u001b[32m━━━━━━━━━━━━━━━━━━━\u001b[0m\u001b[37m━\u001b[0m \u001b[1m0s\u001b[0m 23ms/step - accuracy: 0.9394 - loss: 0.1627\n",
      "Epoch 48: val_accuracy did not improve from 0.96050\n",
      "\u001b[1m500/500\u001b[0m \u001b[32m━━━━━━━━━━━━━━━━━━━━\u001b[0m\u001b[37m\u001b[0m \u001b[1m12s\u001b[0m 24ms/step - accuracy: 0.9394 - loss: 0.1627 - val_accuracy: 0.9582 - val_loss: 0.1314 - learning_rate: 1.0000e-04\n",
      "Epoch 49/100\n",
      "\u001b[1m498/500\u001b[0m \u001b[32m━━━━━━━━━━━━━━━━━━━\u001b[0m\u001b[37m━\u001b[0m \u001b[1m0s\u001b[0m 23ms/step - accuracy: 0.9394 - loss: 0.1583\n",
      "Epoch 49: val_accuracy did not improve from 0.96050\n",
      "\u001b[1m500/500\u001b[0m \u001b[32m━━━━━━━━━━━━━━━━━━━━\u001b[0m\u001b[37m\u001b[0m \u001b[1m12s\u001b[0m 25ms/step - accuracy: 0.9394 - loss: 0.1583 - val_accuracy: 0.9595 - val_loss: 0.1142 - learning_rate: 1.0000e-04\n",
      "Epoch 50/100\n",
      "\u001b[1m499/500\u001b[0m \u001b[32m━━━━━━━━━━━━━━━━━━━\u001b[0m\u001b[37m━\u001b[0m \u001b[1m0s\u001b[0m 23ms/step - accuracy: 0.9393 - loss: 0.1552\n",
      "Epoch 50: val_accuracy improved from 0.96050 to 0.96125, saving model to best_model.h5\n"
     ]
    },
    {
     "name": "stderr",
     "output_type": "stream",
     "text": [
      "WARNING:absl:You are saving your model as an HDF5 file via `model.save()` or `keras.saving.save_model(model)`. This file format is considered legacy. We recommend using instead the native Keras format, e.g. `model.save('my_model.keras')` or `keras.saving.save_model(model, 'my_model.keras')`. \n"
     ]
    },
    {
     "name": "stdout",
     "output_type": "stream",
     "text": [
      "\u001b[1m500/500\u001b[0m \u001b[32m━━━━━━━━━━━━━━━━━━━━\u001b[0m\u001b[37m\u001b[0m \u001b[1m12s\u001b[0m 25ms/step - accuracy: 0.9393 - loss: 0.1552 - val_accuracy: 0.9613 - val_loss: 0.1121 - learning_rate: 1.0000e-04\n",
      "Epoch 51/100\n",
      "\u001b[1m500/500\u001b[0m \u001b[32m━━━━━━━━━━━━━━━━━━━━\u001b[0m\u001b[37m\u001b[0m \u001b[1m0s\u001b[0m 23ms/step - accuracy: 0.9380 - loss: 0.1604\n",
      "Epoch 51: val_accuracy did not improve from 0.96125\n",
      "\u001b[1m500/500\u001b[0m \u001b[32m━━━━━━━━━━━━━━━━━━━━\u001b[0m\u001b[37m\u001b[0m \u001b[1m12s\u001b[0m 24ms/step - accuracy: 0.9380 - loss: 0.1604 - val_accuracy: 0.9580 - val_loss: 0.1264 - learning_rate: 1.0000e-04\n",
      "Epoch 52/100\n",
      "\u001b[1m499/500\u001b[0m \u001b[32m━━━━━━━━━━━━━━━━━━━\u001b[0m\u001b[37m━\u001b[0m \u001b[1m0s\u001b[0m 23ms/step - accuracy: 0.9370 - loss: 0.1708\n",
      "Epoch 52: val_accuracy improved from 0.96125 to 0.96350, saving model to best_model.h5\n"
     ]
    },
    {
     "name": "stderr",
     "output_type": "stream",
     "text": [
      "WARNING:absl:You are saving your model as an HDF5 file via `model.save()` or `keras.saving.save_model(model)`. This file format is considered legacy. We recommend using instead the native Keras format, e.g. `model.save('my_model.keras')` or `keras.saving.save_model(model, 'my_model.keras')`. \n"
     ]
    },
    {
     "name": "stdout",
     "output_type": "stream",
     "text": [
      "\u001b[1m500/500\u001b[0m \u001b[32m━━━━━━━━━━━━━━━━━━━━\u001b[0m\u001b[37m\u001b[0m \u001b[1m12s\u001b[0m 24ms/step - accuracy: 0.9370 - loss: 0.1707 - val_accuracy: 0.9635 - val_loss: 0.1082 - learning_rate: 1.0000e-04\n",
      "Epoch 53/100\n",
      "\u001b[1m499/500\u001b[0m \u001b[32m━━━━━━━━━━━━━━━━━━━\u001b[0m\u001b[37m━\u001b[0m \u001b[1m0s\u001b[0m 24ms/step - accuracy: 0.9397 - loss: 0.1606\n",
      "Epoch 53: val_accuracy improved from 0.96350 to 0.96450, saving model to best_model.h5\n"
     ]
    },
    {
     "name": "stderr",
     "output_type": "stream",
     "text": [
      "WARNING:absl:You are saving your model as an HDF5 file via `model.save()` or `keras.saving.save_model(model)`. This file format is considered legacy. We recommend using instead the native Keras format, e.g. `model.save('my_model.keras')` or `keras.saving.save_model(model, 'my_model.keras')`. \n"
     ]
    },
    {
     "name": "stdout",
     "output_type": "stream",
     "text": [
      "\u001b[1m500/500\u001b[0m \u001b[32m━━━━━━━━━━━━━━━━━━━━\u001b[0m\u001b[37m\u001b[0m \u001b[1m13s\u001b[0m 25ms/step - accuracy: 0.9397 - loss: 0.1606 - val_accuracy: 0.9645 - val_loss: 0.1074 - learning_rate: 1.0000e-04\n",
      "Epoch 54/100\n",
      "\u001b[1m500/500\u001b[0m \u001b[32m━━━━━━━━━━━━━━━━━━━━\u001b[0m\u001b[37m\u001b[0m \u001b[1m0s\u001b[0m 23ms/step - accuracy: 0.9421 - loss: 0.1526\n",
      "Epoch 54: val_accuracy did not improve from 0.96450\n",
      "\u001b[1m500/500\u001b[0m \u001b[32m━━━━━━━━━━━━━━━━━━━━\u001b[0m\u001b[37m\u001b[0m \u001b[1m12s\u001b[0m 24ms/step - accuracy: 0.9421 - loss: 0.1527 - val_accuracy: 0.9560 - val_loss: 0.1284 - learning_rate: 1.0000e-04\n",
      "Epoch 55/100\n",
      "\u001b[1m499/500\u001b[0m \u001b[32m━━━━━━━━━━━━━━━━━━━\u001b[0m\u001b[37m━\u001b[0m \u001b[1m0s\u001b[0m 22ms/step - accuracy: 0.9411 - loss: 0.1611\n",
      "Epoch 55: val_accuracy did not improve from 0.96450\n",
      "\u001b[1m500/500\u001b[0m \u001b[32m━━━━━━━━━━━━━━━━━━━━\u001b[0m\u001b[37m\u001b[0m \u001b[1m12s\u001b[0m 23ms/step - accuracy: 0.9411 - loss: 0.1611 - val_accuracy: 0.9645 - val_loss: 0.1071 - learning_rate: 1.0000e-04\n",
      "Epoch 56/100\n",
      "\u001b[1m500/500\u001b[0m \u001b[32m━━━━━━━━━━━━━━━━━━━━\u001b[0m\u001b[37m\u001b[0m \u001b[1m0s\u001b[0m 22ms/step - accuracy: 0.9443 - loss: 0.1454\n",
      "Epoch 56: val_accuracy improved from 0.96450 to 0.96575, saving model to best_model.h5\n"
     ]
    },
    {
     "name": "stderr",
     "output_type": "stream",
     "text": [
      "WARNING:absl:You are saving your model as an HDF5 file via `model.save()` or `keras.saving.save_model(model)`. This file format is considered legacy. We recommend using instead the native Keras format, e.g. `model.save('my_model.keras')` or `keras.saving.save_model(model, 'my_model.keras')`. \n"
     ]
    },
    {
     "name": "stdout",
     "output_type": "stream",
     "text": [
      "\u001b[1m500/500\u001b[0m \u001b[32m━━━━━━━━━━━━━━━━━━━━\u001b[0m\u001b[37m\u001b[0m \u001b[1m12s\u001b[0m 23ms/step - accuracy: 0.9443 - loss: 0.1454 - val_accuracy: 0.9657 - val_loss: 0.1038 - learning_rate: 1.0000e-04\n",
      "Epoch 57/100\n",
      "\u001b[1m499/500\u001b[0m \u001b[32m━━━━━━━━━━━━━━━━━━━\u001b[0m\u001b[37m━\u001b[0m \u001b[1m0s\u001b[0m 22ms/step - accuracy: 0.9411 - loss: 0.1602\n",
      "Epoch 57: val_accuracy did not improve from 0.96575\n",
      "\u001b[1m500/500\u001b[0m \u001b[32m━━━━━━━━━━━━━━━━━━━━\u001b[0m\u001b[37m\u001b[0m \u001b[1m12s\u001b[0m 23ms/step - accuracy: 0.9411 - loss: 0.1602 - val_accuracy: 0.9592 - val_loss: 0.1227 - learning_rate: 1.0000e-04\n",
      "Epoch 58/100\n",
      "\u001b[1m500/500\u001b[0m \u001b[32m━━━━━━━━━━━━━━━━━━━━\u001b[0m\u001b[37m\u001b[0m \u001b[1m0s\u001b[0m 22ms/step - accuracy: 0.9413 - loss: 0.1587\n",
      "Epoch 58: val_accuracy improved from 0.96575 to 0.96675, saving model to best_model.h5\n"
     ]
    },
    {
     "name": "stderr",
     "output_type": "stream",
     "text": [
      "WARNING:absl:You are saving your model as an HDF5 file via `model.save()` or `keras.saving.save_model(model)`. This file format is considered legacy. We recommend using instead the native Keras format, e.g. `model.save('my_model.keras')` or `keras.saving.save_model(model, 'my_model.keras')`. \n"
     ]
    },
    {
     "name": "stdout",
     "output_type": "stream",
     "text": [
      "\u001b[1m500/500\u001b[0m \u001b[32m━━━━━━━━━━━━━━━━━━━━\u001b[0m\u001b[37m\u001b[0m \u001b[1m12s\u001b[0m 24ms/step - accuracy: 0.9413 - loss: 0.1587 - val_accuracy: 0.9668 - val_loss: 0.1030 - learning_rate: 1.0000e-04\n",
      "Epoch 59/100\n",
      "\u001b[1m498/500\u001b[0m \u001b[32m━━━━━━━━━━━━━━━━━━━\u001b[0m\u001b[37m━\u001b[0m \u001b[1m0s\u001b[0m 22ms/step - accuracy: 0.9474 - loss: 0.1410\n",
      "Epoch 59: val_accuracy improved from 0.96675 to 0.96975, saving model to best_model.h5\n"
     ]
    },
    {
     "name": "stderr",
     "output_type": "stream",
     "text": [
      "WARNING:absl:You are saving your model as an HDF5 file via `model.save()` or `keras.saving.save_model(model)`. This file format is considered legacy. We recommend using instead the native Keras format, e.g. `model.save('my_model.keras')` or `keras.saving.save_model(model, 'my_model.keras')`. \n"
     ]
    },
    {
     "name": "stdout",
     "output_type": "stream",
     "text": [
      "\u001b[1m500/500\u001b[0m \u001b[32m━━━━━━━━━━━━━━━━━━━━\u001b[0m\u001b[37m\u001b[0m \u001b[1m12s\u001b[0m 24ms/step - accuracy: 0.9474 - loss: 0.1410 - val_accuracy: 0.9697 - val_loss: 0.0946 - learning_rate: 1.0000e-04\n",
      "Epoch 60/100\n",
      "\u001b[1m499/500\u001b[0m \u001b[32m━━━━━━━━━━━━━━━━━━━\u001b[0m\u001b[37m━\u001b[0m \u001b[1m0s\u001b[0m 22ms/step - accuracy: 0.9408 - loss: 0.1536\n",
      "Epoch 60: val_accuracy improved from 0.96975 to 0.97050, saving model to best_model.h5\n"
     ]
    },
    {
     "name": "stderr",
     "output_type": "stream",
     "text": [
      "WARNING:absl:You are saving your model as an HDF5 file via `model.save()` or `keras.saving.save_model(model)`. This file format is considered legacy. We recommend using instead the native Keras format, e.g. `model.save('my_model.keras')` or `keras.saving.save_model(model, 'my_model.keras')`. \n"
     ]
    },
    {
     "name": "stdout",
     "output_type": "stream",
     "text": [
      "\u001b[1m500/500\u001b[0m \u001b[32m━━━━━━━━━━━━━━━━━━━━\u001b[0m\u001b[37m\u001b[0m \u001b[1m13s\u001b[0m 25ms/step - accuracy: 0.9408 - loss: 0.1536 - val_accuracy: 0.9705 - val_loss: 0.0941 - learning_rate: 1.0000e-04\n",
      "Epoch 61/100\n",
      "\u001b[1m500/500\u001b[0m \u001b[32m━━━━━━━━━━━━━━━━━━━━\u001b[0m\u001b[37m\u001b[0m \u001b[1m0s\u001b[0m 22ms/step - accuracy: 0.9473 - loss: 0.1418\n",
      "Epoch 61: val_accuracy improved from 0.97050 to 0.97125, saving model to best_model.h5\n"
     ]
    },
    {
     "name": "stderr",
     "output_type": "stream",
     "text": [
      "WARNING:absl:You are saving your model as an HDF5 file via `model.save()` or `keras.saving.save_model(model)`. This file format is considered legacy. We recommend using instead the native Keras format, e.g. `model.save('my_model.keras')` or `keras.saving.save_model(model, 'my_model.keras')`. \n"
     ]
    },
    {
     "name": "stdout",
     "output_type": "stream",
     "text": [
      "\u001b[1m500/500\u001b[0m \u001b[32m━━━━━━━━━━━━━━━━━━━━\u001b[0m\u001b[37m\u001b[0m \u001b[1m12s\u001b[0m 23ms/step - accuracy: 0.9473 - loss: 0.1418 - val_accuracy: 0.9712 - val_loss: 0.0916 - learning_rate: 1.0000e-04\n",
      "Epoch 62/100\n",
      "\u001b[1m499/500\u001b[0m \u001b[32m━━━━━━━━━━━━━━━━━━━\u001b[0m\u001b[37m━\u001b[0m \u001b[1m0s\u001b[0m 22ms/step - accuracy: 0.9471 - loss: 0.1417\n",
      "Epoch 62: val_accuracy did not improve from 0.97125\n",
      "\u001b[1m500/500\u001b[0m \u001b[32m━━━━━━━━━━━━━━━━━━━━\u001b[0m\u001b[37m\u001b[0m \u001b[1m12s\u001b[0m 23ms/step - accuracy: 0.9471 - loss: 0.1417 - val_accuracy: 0.9712 - val_loss: 0.0906 - learning_rate: 1.0000e-04\n",
      "Epoch 63/100\n",
      "\u001b[1m498/500\u001b[0m \u001b[32m━━━━━━━━━━━━━━━━━━━\u001b[0m\u001b[37m━\u001b[0m \u001b[1m0s\u001b[0m 22ms/step - accuracy: 0.9460 - loss: 0.1430\n",
      "Epoch 63: val_accuracy improved from 0.97125 to 0.97250, saving model to best_model.h5\n"
     ]
    },
    {
     "name": "stderr",
     "output_type": "stream",
     "text": [
      "WARNING:absl:You are saving your model as an HDF5 file via `model.save()` or `keras.saving.save_model(model)`. This file format is considered legacy. We recommend using instead the native Keras format, e.g. `model.save('my_model.keras')` or `keras.saving.save_model(model, 'my_model.keras')`. \n"
     ]
    },
    {
     "name": "stdout",
     "output_type": "stream",
     "text": [
      "\u001b[1m500/500\u001b[0m \u001b[32m━━━━━━━━━━━━━━━━━━━━\u001b[0m\u001b[37m\u001b[0m \u001b[1m12s\u001b[0m 23ms/step - accuracy: 0.9460 - loss: 0.1429 - val_accuracy: 0.9725 - val_loss: 0.0893 - learning_rate: 1.0000e-04\n",
      "Epoch 64/100\n",
      "\u001b[1m498/500\u001b[0m \u001b[32m━━━━━━━━━━━━━━━━━━━\u001b[0m\u001b[37m━\u001b[0m \u001b[1m0s\u001b[0m 22ms/step - accuracy: 0.9518 - loss: 0.1297\n",
      "Epoch 64: val_accuracy did not improve from 0.97250\n",
      "\u001b[1m500/500\u001b[0m \u001b[32m━━━━━━━━━━━━━━━━━━━━\u001b[0m\u001b[37m\u001b[0m \u001b[1m11s\u001b[0m 23ms/step - accuracy: 0.9518 - loss: 0.1297 - val_accuracy: 0.9655 - val_loss: 0.0995 - learning_rate: 1.0000e-04\n",
      "Epoch 65/100\n",
      "\u001b[1m499/500\u001b[0m \u001b[32m━━━━━━━━━━━━━━━━━━━\u001b[0m\u001b[37m━\u001b[0m \u001b[1m0s\u001b[0m 22ms/step - accuracy: 0.9477 - loss: 0.1409\n",
      "Epoch 65: val_accuracy did not improve from 0.97250\n",
      "\u001b[1m500/500\u001b[0m \u001b[32m━━━━━━━━━━━━━━━━━━━━\u001b[0m\u001b[37m\u001b[0m \u001b[1m12s\u001b[0m 23ms/step - accuracy: 0.9477 - loss: 0.1409 - val_accuracy: 0.9650 - val_loss: 0.1119 - learning_rate: 1.0000e-04\n",
      "Epoch 66/100\n",
      "\u001b[1m498/500\u001b[0m \u001b[32m━━━━━━━━━━━━━━━━━━━\u001b[0m\u001b[37m━\u001b[0m \u001b[1m0s\u001b[0m 22ms/step - accuracy: 0.9423 - loss: 0.1471\n",
      "Epoch 66: val_accuracy improved from 0.97250 to 0.97375, saving model to best_model.h5\n"
     ]
    },
    {
     "name": "stderr",
     "output_type": "stream",
     "text": [
      "WARNING:absl:You are saving your model as an HDF5 file via `model.save()` or `keras.saving.save_model(model)`. This file format is considered legacy. We recommend using instead the native Keras format, e.g. `model.save('my_model.keras')` or `keras.saving.save_model(model, 'my_model.keras')`. \n"
     ]
    },
    {
     "name": "stdout",
     "output_type": "stream",
     "text": [
      "\u001b[1m500/500\u001b[0m \u001b[32m━━━━━━━━━━━━━━━━━━━━\u001b[0m\u001b[37m\u001b[0m \u001b[1m12s\u001b[0m 24ms/step - accuracy: 0.9423 - loss: 0.1471 - val_accuracy: 0.9737 - val_loss: 0.0849 - learning_rate: 1.0000e-04\n",
      "Epoch 67/100\n",
      "\u001b[1m500/500\u001b[0m \u001b[32m━━━━━━━━━━━━━━━━━━━━\u001b[0m\u001b[37m\u001b[0m \u001b[1m0s\u001b[0m 22ms/step - accuracy: 0.9511 - loss: 0.1351\n",
      "Epoch 67: val_accuracy did not improve from 0.97375\n",
      "\u001b[1m500/500\u001b[0m \u001b[32m━━━━━━━━━━━━━━━━━━━━\u001b[0m\u001b[37m\u001b[0m \u001b[1m12s\u001b[0m 23ms/step - accuracy: 0.9511 - loss: 0.1351 - val_accuracy: 0.9640 - val_loss: 0.1049 - learning_rate: 1.0000e-04\n",
      "Epoch 68/100\n",
      "\u001b[1m500/500\u001b[0m \u001b[32m━━━━━━━━━━━━━━━━━━━━\u001b[0m\u001b[37m\u001b[0m \u001b[1m0s\u001b[0m 22ms/step - accuracy: 0.9535 - loss: 0.1239\n",
      "Epoch 68: val_accuracy improved from 0.97375 to 0.97500, saving model to best_model.h5\n"
     ]
    },
    {
     "name": "stderr",
     "output_type": "stream",
     "text": [
      "WARNING:absl:You are saving your model as an HDF5 file via `model.save()` or `keras.saving.save_model(model)`. This file format is considered legacy. We recommend using instead the native Keras format, e.g. `model.save('my_model.keras')` or `keras.saving.save_model(model, 'my_model.keras')`. \n"
     ]
    },
    {
     "name": "stdout",
     "output_type": "stream",
     "text": [
      "\u001b[1m500/500\u001b[0m \u001b[32m━━━━━━━━━━━━━━━━━━━━\u001b[0m\u001b[37m\u001b[0m \u001b[1m12s\u001b[0m 23ms/step - accuracy: 0.9535 - loss: 0.1240 - val_accuracy: 0.9750 - val_loss: 0.0886 - learning_rate: 1.0000e-04\n",
      "Epoch 69/100\n",
      "\u001b[1m499/500\u001b[0m \u001b[32m━━━━━━━━━━━━━━━━━━━\u001b[0m\u001b[37m━\u001b[0m \u001b[1m0s\u001b[0m 22ms/step - accuracy: 0.9472 - loss: 0.1389\n",
      "Epoch 69: val_accuracy did not improve from 0.97500\n",
      "\u001b[1m500/500\u001b[0m \u001b[32m━━━━━━━━━━━━━━━━━━━━\u001b[0m\u001b[37m\u001b[0m \u001b[1m12s\u001b[0m 23ms/step - accuracy: 0.9472 - loss: 0.1389 - val_accuracy: 0.9672 - val_loss: 0.0939 - learning_rate: 1.0000e-04\n",
      "Epoch 70/100\n",
      "\u001b[1m499/500\u001b[0m \u001b[32m━━━━━━━━━━━━━━━━━━━\u001b[0m\u001b[37m━\u001b[0m \u001b[1m0s\u001b[0m 22ms/step - accuracy: 0.9508 - loss: 0.1370\n",
      "Epoch 70: val_accuracy did not improve from 0.97500\n",
      "\n",
      "Epoch 70: ReduceLROnPlateau reducing learning rate to 4.999999873689376e-05.\n",
      "\u001b[1m500/500\u001b[0m \u001b[32m━━━━━━━━━━━━━━━━━━━━\u001b[0m\u001b[37m\u001b[0m \u001b[1m12s\u001b[0m 23ms/step - accuracy: 0.9508 - loss: 0.1370 - val_accuracy: 0.9707 - val_loss: 0.0866 - learning_rate: 1.0000e-04\n",
      "Epoch 71/100\n",
      "\u001b[1m499/500\u001b[0m \u001b[32m━━━━━━━━━━━━━━━━━━━\u001b[0m\u001b[37m━\u001b[0m \u001b[1m0s\u001b[0m 23ms/step - accuracy: 0.9551 - loss: 0.1242\n",
      "Epoch 71: val_accuracy improved from 0.97500 to 0.97600, saving model to best_model.h5\n"
     ]
    },
    {
     "name": "stderr",
     "output_type": "stream",
     "text": [
      "WARNING:absl:You are saving your model as an HDF5 file via `model.save()` or `keras.saving.save_model(model)`. This file format is considered legacy. We recommend using instead the native Keras format, e.g. `model.save('my_model.keras')` or `keras.saving.save_model(model, 'my_model.keras')`. \n"
     ]
    },
    {
     "name": "stdout",
     "output_type": "stream",
     "text": [
      "\u001b[1m500/500\u001b[0m \u001b[32m━━━━━━━━━━━━━━━━━━━━\u001b[0m\u001b[37m\u001b[0m \u001b[1m12s\u001b[0m 25ms/step - accuracy: 0.9551 - loss: 0.1242 - val_accuracy: 0.9760 - val_loss: 0.0809 - learning_rate: 5.0000e-05\n",
      "Epoch 72/100\n",
      "\u001b[1m500/500\u001b[0m \u001b[32m━━━━━━━━━━━━━━━━━━━━\u001b[0m\u001b[37m\u001b[0m \u001b[1m0s\u001b[0m 23ms/step - accuracy: 0.9545 - loss: 0.1277\n",
      "Epoch 72: val_accuracy did not improve from 0.97600\n",
      "\u001b[1m500/500\u001b[0m \u001b[32m━━━━━━━━━━━━━━━━━━━━\u001b[0m\u001b[37m\u001b[0m \u001b[1m12s\u001b[0m 24ms/step - accuracy: 0.9545 - loss: 0.1277 - val_accuracy: 0.9737 - val_loss: 0.0810 - learning_rate: 5.0000e-05\n",
      "Epoch 73/100\n",
      "\u001b[1m498/500\u001b[0m \u001b[32m━━━━━━━━━━━━━━━━━━━\u001b[0m\u001b[37m━\u001b[0m \u001b[1m0s\u001b[0m 23ms/step - accuracy: 0.9550 - loss: 0.1201\n",
      "Epoch 73: val_accuracy did not improve from 0.97600\n",
      "\u001b[1m500/500\u001b[0m \u001b[32m━━━━━━━━━━━━━━━━━━━━\u001b[0m\u001b[37m\u001b[0m \u001b[1m12s\u001b[0m 24ms/step - accuracy: 0.9550 - loss: 0.1201 - val_accuracy: 0.9705 - val_loss: 0.0864 - learning_rate: 5.0000e-05\n",
      "Epoch 74/100\n",
      "\u001b[1m498/500\u001b[0m \u001b[32m━━━━━━━━━━━━━━━━━━━\u001b[0m\u001b[37m━\u001b[0m \u001b[1m0s\u001b[0m 22ms/step - accuracy: 0.9525 - loss: 0.1325\n",
      "Epoch 74: val_accuracy improved from 0.97600 to 0.97625, saving model to best_model.h5\n"
     ]
    },
    {
     "name": "stderr",
     "output_type": "stream",
     "text": [
      "WARNING:absl:You are saving your model as an HDF5 file via `model.save()` or `keras.saving.save_model(model)`. This file format is considered legacy. We recommend using instead the native Keras format, e.g. `model.save('my_model.keras')` or `keras.saving.save_model(model, 'my_model.keras')`. \n"
     ]
    },
    {
     "name": "stdout",
     "output_type": "stream",
     "text": [
      "\u001b[1m500/500\u001b[0m \u001b[32m━━━━━━━━━━━━━━━━━━━━\u001b[0m\u001b[37m\u001b[0m \u001b[1m12s\u001b[0m 23ms/step - accuracy: 0.9525 - loss: 0.1324 - val_accuracy: 0.9762 - val_loss: 0.0830 - learning_rate: 5.0000e-05\n",
      "Epoch 75/100\n",
      "\u001b[1m498/500\u001b[0m \u001b[32m━━━━━━━━━━━━━━━━━━━\u001b[0m\u001b[37m━\u001b[0m \u001b[1m0s\u001b[0m 21ms/step - accuracy: 0.9570 - loss: 0.1192\n",
      "Epoch 75: val_accuracy did not improve from 0.97625\n",
      "\n",
      "Epoch 75: ReduceLROnPlateau reducing learning rate to 2.499999936844688e-05.\n",
      "\u001b[1m500/500\u001b[0m \u001b[32m━━━━━━━━━━━━━━━━━━━━\u001b[0m\u001b[37m\u001b[0m \u001b[1m11s\u001b[0m 23ms/step - accuracy: 0.9570 - loss: 0.1192 - val_accuracy: 0.9710 - val_loss: 0.0852 - learning_rate: 5.0000e-05\n",
      "Epoch 76/100\n",
      "\u001b[1m498/500\u001b[0m \u001b[32m━━━━━━━━━━━━━━━━━━━\u001b[0m\u001b[37m━\u001b[0m \u001b[1m0s\u001b[0m 22ms/step - accuracy: 0.9512 - loss: 0.1259\n",
      "Epoch 76: val_accuracy improved from 0.97625 to 0.97825, saving model to best_model.h5\n"
     ]
    },
    {
     "name": "stderr",
     "output_type": "stream",
     "text": [
      "WARNING:absl:You are saving your model as an HDF5 file via `model.save()` or `keras.saving.save_model(model)`. This file format is considered legacy. We recommend using instead the native Keras format, e.g. `model.save('my_model.keras')` or `keras.saving.save_model(model, 'my_model.keras')`. \n"
     ]
    },
    {
     "name": "stdout",
     "output_type": "stream",
     "text": [
      "\u001b[1m500/500\u001b[0m \u001b[32m━━━━━━━━━━━━━━━━━━━━\u001b[0m\u001b[37m\u001b[0m \u001b[1m12s\u001b[0m 23ms/step - accuracy: 0.9513 - loss: 0.1258 - val_accuracy: 0.9783 - val_loss: 0.0794 - learning_rate: 2.5000e-05\n",
      "Epoch 77/100\n",
      "\u001b[1m500/500\u001b[0m \u001b[32m━━━━━━━━━━━━━━━━━━━━\u001b[0m\u001b[37m\u001b[0m \u001b[1m0s\u001b[0m 22ms/step - accuracy: 0.9563 - loss: 0.1218\n",
      "Epoch 77: val_accuracy did not improve from 0.97825\n",
      "\u001b[1m500/500\u001b[0m \u001b[32m━━━━━━━━━━━━━━━━━━━━\u001b[0m\u001b[37m\u001b[0m \u001b[1m11s\u001b[0m 23ms/step - accuracy: 0.9563 - loss: 0.1218 - val_accuracy: 0.9682 - val_loss: 0.0903 - learning_rate: 2.5000e-05\n",
      "Epoch 78/100\n",
      "\u001b[1m498/500\u001b[0m \u001b[32m━━━━━━━━━━━━━━━━━━━\u001b[0m\u001b[37m━\u001b[0m \u001b[1m0s\u001b[0m 22ms/step - accuracy: 0.9571 - loss: 0.1221\n",
      "Epoch 78: val_accuracy did not improve from 0.97825\n",
      "\u001b[1m500/500\u001b[0m \u001b[32m━━━━━━━━━━━━━━━━━━━━\u001b[0m\u001b[37m\u001b[0m \u001b[1m11s\u001b[0m 23ms/step - accuracy: 0.9571 - loss: 0.1221 - val_accuracy: 0.9770 - val_loss: 0.0769 - learning_rate: 2.5000e-05\n",
      "Epoch 79/100\n",
      "\u001b[1m498/500\u001b[0m \u001b[32m━━━━━━━━━━━━━━━━━━━\u001b[0m\u001b[37m━\u001b[0m \u001b[1m0s\u001b[0m 21ms/step - accuracy: 0.9605 - loss: 0.1104\n",
      "Epoch 79: val_accuracy did not improve from 0.97825\n",
      "\u001b[1m500/500\u001b[0m \u001b[32m━━━━━━━━━━━━━━━━━━━━\u001b[0m\u001b[37m\u001b[0m \u001b[1m11s\u001b[0m 23ms/step - accuracy: 0.9605 - loss: 0.1104 - val_accuracy: 0.9780 - val_loss: 0.0759 - learning_rate: 2.5000e-05\n",
      "Epoch 80/100\n",
      "\u001b[1m499/500\u001b[0m \u001b[32m━━━━━━━━━━━━━━━━━━━\u001b[0m\u001b[37m━\u001b[0m \u001b[1m0s\u001b[0m 22ms/step - accuracy: 0.9568 - loss: 0.1154\n",
      "Epoch 80: val_accuracy did not improve from 0.97825\n",
      "\u001b[1m500/500\u001b[0m \u001b[32m━━━━━━━━━━━━━━━━━━━━\u001b[0m\u001b[37m\u001b[0m \u001b[1m11s\u001b[0m 23ms/step - accuracy: 0.9568 - loss: 0.1154 - val_accuracy: 0.9780 - val_loss: 0.0757 - learning_rate: 2.5000e-05\n",
      "Epoch 81/100\n",
      "\u001b[1m499/500\u001b[0m \u001b[32m━━━━━━━━━━━━━━━━━━━\u001b[0m\u001b[37m━\u001b[0m \u001b[1m0s\u001b[0m 22ms/step - accuracy: 0.9588 - loss: 0.1168\n",
      "Epoch 81: val_accuracy improved from 0.97825 to 0.97950, saving model to best_model.h5\n"
     ]
    },
    {
     "name": "stderr",
     "output_type": "stream",
     "text": [
      "WARNING:absl:You are saving your model as an HDF5 file via `model.save()` or `keras.saving.save_model(model)`. This file format is considered legacy. We recommend using instead the native Keras format, e.g. `model.save('my_model.keras')` or `keras.saving.save_model(model, 'my_model.keras')`. \n"
     ]
    },
    {
     "name": "stdout",
     "output_type": "stream",
     "text": [
      "\u001b[1m500/500\u001b[0m \u001b[32m━━━━━━━━━━━━━━━━━━━━\u001b[0m\u001b[37m\u001b[0m \u001b[1m12s\u001b[0m 23ms/step - accuracy: 0.9588 - loss: 0.1168 - val_accuracy: 0.9795 - val_loss: 0.0764 - learning_rate: 2.5000e-05\n",
      "Epoch 82/100\n",
      "\u001b[1m499/500\u001b[0m \u001b[32m━━━━━━━━━━━━━━━━━━━\u001b[0m\u001b[37m━\u001b[0m \u001b[1m0s\u001b[0m 22ms/step - accuracy: 0.9595 - loss: 0.1145\n",
      "Epoch 82: val_accuracy did not improve from 0.97950\n",
      "\u001b[1m500/500\u001b[0m \u001b[32m━━━━━━━━━━━━━━━━━━━━\u001b[0m\u001b[37m\u001b[0m \u001b[1m12s\u001b[0m 23ms/step - accuracy: 0.9595 - loss: 0.1145 - val_accuracy: 0.9787 - val_loss: 0.0755 - learning_rate: 2.5000e-05\n",
      "Epoch 83/100\n",
      "\u001b[1m499/500\u001b[0m \u001b[32m━━━━━━━━━━━━━━━━━━━\u001b[0m\u001b[37m━\u001b[0m \u001b[1m0s\u001b[0m 22ms/step - accuracy: 0.9556 - loss: 0.1198\n",
      "Epoch 83: val_accuracy did not improve from 0.97950\n",
      "\u001b[1m500/500\u001b[0m \u001b[32m━━━━━━━━━━━━━━━━━━━━\u001b[0m\u001b[37m\u001b[0m \u001b[1m12s\u001b[0m 23ms/step - accuracy: 0.9556 - loss: 0.1198 - val_accuracy: 0.9772 - val_loss: 0.0753 - learning_rate: 2.5000e-05\n",
      "Epoch 84/100\n",
      "\u001b[1m500/500\u001b[0m \u001b[32m━━━━━━━━━━━━━━━━━━━━\u001b[0m\u001b[37m\u001b[0m \u001b[1m0s\u001b[0m 22ms/step - accuracy: 0.9613 - loss: 0.1145\n",
      "Epoch 84: val_accuracy did not improve from 0.97950\n",
      "\u001b[1m500/500\u001b[0m \u001b[32m━━━━━━━━━━━━━━━━━━━━\u001b[0m\u001b[37m\u001b[0m \u001b[1m12s\u001b[0m 24ms/step - accuracy: 0.9613 - loss: 0.1145 - val_accuracy: 0.9762 - val_loss: 0.0755 - learning_rate: 2.5000e-05\n",
      "Epoch 85/100\n",
      "\u001b[1m500/500\u001b[0m \u001b[32m━━━━━━━━━━━━━━━━━━━━\u001b[0m\u001b[37m\u001b[0m \u001b[1m0s\u001b[0m 22ms/step - accuracy: 0.9560 - loss: 0.1236\n",
      "Epoch 85: val_accuracy did not improve from 0.97950\n",
      "\u001b[1m500/500\u001b[0m \u001b[32m━━━━━━━━━━━━━━━━━━━━\u001b[0m\u001b[37m\u001b[0m \u001b[1m11s\u001b[0m 23ms/step - accuracy: 0.9560 - loss: 0.1236 - val_accuracy: 0.9780 - val_loss: 0.0742 - learning_rate: 2.5000e-05\n",
      "Epoch 86/100\n",
      "\u001b[1m500/500\u001b[0m \u001b[32m━━━━━━━━━━━━━━━━━━━━\u001b[0m\u001b[37m\u001b[0m \u001b[1m0s\u001b[0m 21ms/step - accuracy: 0.9584 - loss: 0.1171\n",
      "Epoch 86: val_accuracy did not improve from 0.97950\n",
      "\u001b[1m500/500\u001b[0m \u001b[32m━━━━━━━━━━━━━━━━━━━━\u001b[0m\u001b[37m\u001b[0m \u001b[1m11s\u001b[0m 23ms/step - accuracy: 0.9584 - loss: 0.1171 - val_accuracy: 0.9778 - val_loss: 0.0744 - learning_rate: 2.5000e-05\n",
      "Epoch 87/100\n",
      "\u001b[1m499/500\u001b[0m \u001b[32m━━━━━━━━━━━━━━━━━━━\u001b[0m\u001b[37m━\u001b[0m \u001b[1m0s\u001b[0m 21ms/step - accuracy: 0.9574 - loss: 0.1191\n",
      "Epoch 87: val_accuracy did not improve from 0.97950\n",
      "\u001b[1m500/500\u001b[0m \u001b[32m━━━━━━━━━━━━━━━━━━━━\u001b[0m\u001b[37m\u001b[0m \u001b[1m11s\u001b[0m 23ms/step - accuracy: 0.9574 - loss: 0.1191 - val_accuracy: 0.9737 - val_loss: 0.0785 - learning_rate: 2.5000e-05\n",
      "Epoch 88/100\n",
      "\u001b[1m498/500\u001b[0m \u001b[32m━━━━━━━━━━━━━━━━━━━\u001b[0m\u001b[37m━\u001b[0m \u001b[1m0s\u001b[0m 21ms/step - accuracy: 0.9614 - loss: 0.1047\n",
      "Epoch 88: val_accuracy did not improve from 0.97950\n",
      "\u001b[1m500/500\u001b[0m \u001b[32m━━━━━━━━━━━━━━━━━━━━\u001b[0m\u001b[37m\u001b[0m \u001b[1m11s\u001b[0m 23ms/step - accuracy: 0.9614 - loss: 0.1047 - val_accuracy: 0.9750 - val_loss: 0.0760 - learning_rate: 2.5000e-05\n",
      "Epoch 89/100\n",
      "\u001b[1m500/500\u001b[0m \u001b[32m━━━━━━━━━━━━━━━━━━━━\u001b[0m\u001b[37m\u001b[0m \u001b[1m0s\u001b[0m 22ms/step - accuracy: 0.9585 - loss: 0.1133\n",
      "Epoch 89: val_accuracy did not improve from 0.97950\n",
      "\n",
      "Epoch 89: ReduceLROnPlateau reducing learning rate to 1.249999968422344e-05.\n",
      "\u001b[1m500/500\u001b[0m \u001b[32m━━━━━━━━━━━━━━━━━━━━\u001b[0m\u001b[37m\u001b[0m \u001b[1m12s\u001b[0m 23ms/step - accuracy: 0.9585 - loss: 0.1133 - val_accuracy: 0.9783 - val_loss: 0.0790 - learning_rate: 2.5000e-05\n",
      "Epoch 90/100\n",
      "\u001b[1m498/500\u001b[0m \u001b[32m━━━━━━━━━━━━━━━━━━━\u001b[0m\u001b[37m━\u001b[0m \u001b[1m0s\u001b[0m 22ms/step - accuracy: 0.9578 - loss: 0.1157\n",
      "Epoch 90: val_accuracy did not improve from 0.97950\n",
      "\u001b[1m500/500\u001b[0m \u001b[32m━━━━━━━━━━━━━━━━━━━━\u001b[0m\u001b[37m\u001b[0m \u001b[1m12s\u001b[0m 23ms/step - accuracy: 0.9578 - loss: 0.1157 - val_accuracy: 0.9758 - val_loss: 0.0747 - learning_rate: 1.2500e-05\n",
      "Epoch 91/100\n",
      "\u001b[1m499/500\u001b[0m \u001b[32m━━━━━━━━━━━━━━━━━━━\u001b[0m\u001b[37m━\u001b[0m \u001b[1m0s\u001b[0m 22ms/step - accuracy: 0.9565 - loss: 0.1203\n",
      "Epoch 91: val_accuracy did not improve from 0.97950\n",
      "\u001b[1m500/500\u001b[0m \u001b[32m━━━━━━━━━━━━━━━━━━━━\u001b[0m\u001b[37m\u001b[0m \u001b[1m11s\u001b[0m 23ms/step - accuracy: 0.9565 - loss: 0.1203 - val_accuracy: 0.9785 - val_loss: 0.0727 - learning_rate: 1.2500e-05\n",
      "Epoch 92/100\n",
      "\u001b[1m500/500\u001b[0m \u001b[32m━━━━━━━━━━━━━━━━━━━━\u001b[0m\u001b[37m\u001b[0m \u001b[1m0s\u001b[0m 22ms/step - accuracy: 0.9603 - loss: 0.1122\n",
      "Epoch 92: val_accuracy did not improve from 0.97950\n",
      "\u001b[1m500/500\u001b[0m \u001b[32m━━━━━━━━━━━━━━━━━━━━\u001b[0m\u001b[37m\u001b[0m \u001b[1m11s\u001b[0m 23ms/step - accuracy: 0.9603 - loss: 0.1122 - val_accuracy: 0.9770 - val_loss: 0.0739 - learning_rate: 1.2500e-05\n",
      "Epoch 93/100\n",
      "\u001b[1m499/500\u001b[0m \u001b[32m━━━━━━━━━━━━━━━━━━━\u001b[0m\u001b[37m━\u001b[0m \u001b[1m0s\u001b[0m 22ms/step - accuracy: 0.9602 - loss: 0.1096\n",
      "Epoch 93: val_accuracy did not improve from 0.97950\n",
      "\u001b[1m500/500\u001b[0m \u001b[32m━━━━━━━━━━━━━━━━━━━━\u001b[0m\u001b[37m\u001b[0m \u001b[1m11s\u001b[0m 23ms/step - accuracy: 0.9602 - loss: 0.1096 - val_accuracy: 0.9768 - val_loss: 0.0742 - learning_rate: 1.2500e-05\n",
      "Epoch 94/100\n",
      "\u001b[1m499/500\u001b[0m \u001b[32m━━━━━━━━━━━━━━━━━━━\u001b[0m\u001b[37m━\u001b[0m \u001b[1m0s\u001b[0m 22ms/step - accuracy: 0.9558 - loss: 0.1265\n",
      "Epoch 94: val_accuracy did not improve from 0.97950\n",
      "\u001b[1m500/500\u001b[0m \u001b[32m━━━━━━━━━━━━━━━━━━━━\u001b[0m\u001b[37m\u001b[0m \u001b[1m11s\u001b[0m 23ms/step - accuracy: 0.9558 - loss: 0.1264 - val_accuracy: 0.9768 - val_loss: 0.0738 - learning_rate: 1.2500e-05\n",
      "Epoch 95/100\n",
      "\u001b[1m500/500\u001b[0m \u001b[32m━━━━━━━━━━━━━━━━━━━━\u001b[0m\u001b[37m\u001b[0m \u001b[1m0s\u001b[0m 22ms/step - accuracy: 0.9617 - loss: 0.1042\n",
      "Epoch 95: val_accuracy did not improve from 0.97950\n",
      "\u001b[1m500/500\u001b[0m \u001b[32m━━━━━━━━━━━━━━━━━━━━\u001b[0m\u001b[37m\u001b[0m \u001b[1m12s\u001b[0m 23ms/step - accuracy: 0.9617 - loss: 0.1043 - val_accuracy: 0.9783 - val_loss: 0.0723 - learning_rate: 1.2500e-05\n",
      "Epoch 96/100\n",
      "\u001b[1m499/500\u001b[0m \u001b[32m━━━━━━━━━━━━━━━━━━━\u001b[0m\u001b[37m━\u001b[0m \u001b[1m0s\u001b[0m 23ms/step - accuracy: 0.9606 - loss: 0.1076\n",
      "Epoch 96: val_accuracy did not improve from 0.97950\n",
      "\u001b[1m500/500\u001b[0m \u001b[32m━━━━━━━━━━━━━━━━━━━━\u001b[0m\u001b[37m\u001b[0m \u001b[1m12s\u001b[0m 24ms/step - accuracy: 0.9606 - loss: 0.1076 - val_accuracy: 0.9750 - val_loss: 0.0748 - learning_rate: 1.2500e-05\n",
      "Epoch 97/100\n",
      "\u001b[1m498/500\u001b[0m \u001b[32m━━━━━━━━━━━━━━━━━━━\u001b[0m\u001b[37m━\u001b[0m \u001b[1m0s\u001b[0m 22ms/step - accuracy: 0.9549 - loss: 0.1227\n",
      "Epoch 97: val_accuracy improved from 0.97950 to 0.97975, saving model to best_model.h5\n"
     ]
    },
    {
     "name": "stderr",
     "output_type": "stream",
     "text": [
      "WARNING:absl:You are saving your model as an HDF5 file via `model.save()` or `keras.saving.save_model(model)`. This file format is considered legacy. We recommend using instead the native Keras format, e.g. `model.save('my_model.keras')` or `keras.saving.save_model(model, 'my_model.keras')`. \n"
     ]
    },
    {
     "name": "stdout",
     "output_type": "stream",
     "text": [
      "\u001b[1m500/500\u001b[0m \u001b[32m━━━━━━━━━━━━━━━━━━━━\u001b[0m\u001b[37m\u001b[0m \u001b[1m12s\u001b[0m 24ms/step - accuracy: 0.9549 - loss: 0.1226 - val_accuracy: 0.9797 - val_loss: 0.0717 - learning_rate: 1.2500e-05\n",
      "Epoch 98/100\n",
      "\u001b[1m498/500\u001b[0m \u001b[32m━━━━━━━━━━━━━━━━━━━\u001b[0m\u001b[37m━\u001b[0m \u001b[1m0s\u001b[0m 22ms/step - accuracy: 0.9587 - loss: 0.1122\n",
      "Epoch 98: val_accuracy did not improve from 0.97975\n",
      "\u001b[1m500/500\u001b[0m \u001b[32m━━━━━━━━━━━━━━━━━━━━\u001b[0m\u001b[37m\u001b[0m \u001b[1m12s\u001b[0m 23ms/step - accuracy: 0.9587 - loss: 0.1122 - val_accuracy: 0.9753 - val_loss: 0.0740 - learning_rate: 1.2500e-05\n",
      "Epoch 99/100\n",
      "\u001b[1m499/500\u001b[0m \u001b[32m━━━━━━━━━━━━━━━━━━━\u001b[0m\u001b[37m━\u001b[0m \u001b[1m0s\u001b[0m 22ms/step - accuracy: 0.9595 - loss: 0.1142\n",
      "Epoch 99: val_accuracy did not improve from 0.97975\n",
      "\u001b[1m500/500\u001b[0m \u001b[32m━━━━━━━━━━━━━━━━━━━━\u001b[0m\u001b[37m\u001b[0m \u001b[1m12s\u001b[0m 23ms/step - accuracy: 0.9595 - loss: 0.1142 - val_accuracy: 0.9775 - val_loss: 0.0730 - learning_rate: 1.2500e-05\n",
      "Epoch 100/100\n",
      "\u001b[1m498/500\u001b[0m \u001b[32m━━━━━━━━━━━━━━━━━━━\u001b[0m\u001b[37m━\u001b[0m \u001b[1m0s\u001b[0m 22ms/step - accuracy: 0.9572 - loss: 0.1147\n",
      "Epoch 100: val_accuracy did not improve from 0.97975\n",
      "\u001b[1m500/500\u001b[0m \u001b[32m━━━━━━━━━━━━━━━━━━━━\u001b[0m\u001b[37m\u001b[0m \u001b[1m12s\u001b[0m 23ms/step - accuracy: 0.9572 - loss: 0.1147 - val_accuracy: 0.9772 - val_loss: 0.0726 - learning_rate: 1.2500e-05\n",
      "Restoring model weights from the end of the best epoch: 97.\n",
      "Training completed.\n",
      "\u001b[1m125/125\u001b[0m \u001b[32m━━━━━━━━━━━━━━━━━━━━\u001b[0m\u001b[37m\u001b[0m \u001b[1m2s\u001b[0m 5ms/step\n"
     ]
    },
    {
     "data": {
      "image/png": "[encoded data removed]",
      "text/plain": [
       "<Figure size 640x480 with 1 Axes>"
      ]
     },
     "metadata": {},
     "output_type": "display_data"
    },
    {
     "data": {
      "image/png": "[encoded data removed]",
      "text/plain": [
       "<Figure size 640x480 with 1 Axes>"
      ]
     },
     "metadata": {},
     "output_type": "display_data"
    },
    {
     "data": {
      "image/png": "[encoded data removed]",
      "text/plain": [
       "<Figure size 600x500 with 2 Axes>"
      ]
     },
     "metadata": {},
     "output_type": "display_data"
    },
    {
     "data": {
      "image/png": "[encoded data removed]",
      "text/plain": [
       "<Figure size 640x480 with 1 Axes>"
      ]
     },
     "metadata": {},
     "output_type": "display_data"
    },
    {
     "data": {
      "image/png": "[encoded data removed]",
      "text/plain": [
       "<Figure size 640x480 with 1 Axes>"
      ]
     },
     "metadata": {},
     "output_type": "display_data"
    },
    {
     "name": "stdout",
     "output_type": "stream",
     "text": [
      "Accuracy Score: 0.9798\n",
      "ROC AUC Score: 0.9959\n",
      "Recall Score: 0.9690\n",
      "Precision Score: 0.9903\n",
      "F1 Score: 0.9795\n",
      "PR AUC Score: 0.9963\n",
      "Classification Report:\n",
      "              precision    recall  f1-score   support\n",
      "\n",
      "           0       0.97      0.99      0.98      2000\n",
      "           1       0.99      0.97      0.98      2000\n",
      "\n",
      "    accuracy                           0.98      4000\n",
      "   macro avg       0.98      0.98      0.98      4000\n",
      "weighted avg       0.98      0.98      0.98      4000\n",
      "\n"
     ]
    }
   ],
   "source": [
    "# Train the Model\n",
    "train_model(spatial_model, temporal_model, x_train_seq, y_train, x_test_seq, y_test, epochs=100, batch_size=32)"
   ]
  }
 ],
 "metadata": {
  "kernelspec": {
   "display_name": "base",
   "language": "python",
   "name": "python3"
  },
  "language_info": {
   "codemirror_mode": {
    "name": "ipython",
    "version": 3
   },
   "file_extension": ".py",
   "mimetype": "text/x-python",
   "name": "python",
   "nbconvert_exporter": "python",
   "pygments_lexer": "ipython3",
   "version": "3.12.7"
  }
 },
 "nbformat": 4,
 "nbformat_minor": 2
}
